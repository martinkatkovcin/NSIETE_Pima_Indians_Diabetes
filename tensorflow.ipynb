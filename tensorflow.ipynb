{
  "cells": [
    {
      "cell_type": "code",
      "execution_count": 1,
      "metadata": {
        "id": "uRUoY7msh-gX"
      },
      "outputs": [
        {
          "name": "stdout",
          "output_type": "stream",
          "text": [
            "2.9.2\n",
            "[PhysicalDevice(name='/physical_device:GPU:0', device_type='GPU')]\n"
          ]
        },
        {
          "name": "stderr",
          "output_type": "stream",
          "text": [
            "Failed to detect the name of this notebook, you can set it manually with the WANDB_NOTEBOOK_NAME environment variable to enable code saving.\n",
            "\u001b[34m\u001b[1mwandb\u001b[0m: Currently logged in as: \u001b[33mmato-katkovcin\u001b[0m (\u001b[33mnsiete-hrnciar-katkovcin\u001b[0m). Use \u001b[1m`wandb login --relogin`\u001b[0m to force relogin\n"
          ]
        },
        {
          "data": {
            "text/html": [
              "wandb version 0.14.0 is available!  To upgrade, please run:\n",
              " $ pip install wandb --upgrade"
            ],
            "text/plain": [
              "<IPython.core.display.HTML object>"
            ]
          },
          "metadata": {},
          "output_type": "display_data"
        },
        {
          "data": {
            "text/html": [
              "Tracking run with wandb version 0.13.10"
            ],
            "text/plain": [
              "<IPython.core.display.HTML object>"
            ]
          },
          "metadata": {},
          "output_type": "display_data"
        },
        {
          "data": {
            "text/html": [
              "Run data is saved locally in <code>/Users/martinkatkovcin/Documents/School/NSIETE/Zadanie1/wandb/run-20230329_113305-lr-scheduler-adam-bce-cos-deeper</code>"
            ],
            "text/plain": [
              "<IPython.core.display.HTML object>"
            ]
          },
          "metadata": {},
          "output_type": "display_data"
        },
        {
          "data": {
            "text/html": [
              "Syncing run <strong><a href='https://wandb.ai/nsiete-hrnciar-katkovcin/basic-nn-tensorflow/runs/lr-scheduler-adam-bce-cos-deeper' target=\"_blank\">lr-scheduler-adam-bce-cos-deeper</a></strong> to <a href='https://wandb.ai/nsiete-hrnciar-katkovcin/basic-nn-tensorflow' target=\"_blank\">Weights & Biases</a> (<a href='https://wandb.me/run' target=\"_blank\">docs</a>)<br/>"
            ],
            "text/plain": [
              "<IPython.core.display.HTML object>"
            ]
          },
          "metadata": {},
          "output_type": "display_data"
        },
        {
          "data": {
            "text/html": [
              " View project at <a href='https://wandb.ai/nsiete-hrnciar-katkovcin/basic-nn-tensorflow' target=\"_blank\">https://wandb.ai/nsiete-hrnciar-katkovcin/basic-nn-tensorflow</a>"
            ],
            "text/plain": [
              "<IPython.core.display.HTML object>"
            ]
          },
          "metadata": {},
          "output_type": "display_data"
        },
        {
          "data": {
            "text/html": [
              " View run at <a href='https://wandb.ai/nsiete-hrnciar-katkovcin/basic-nn-tensorflow/runs/lr-scheduler-adam-bce-cos-deeper' target=\"_blank\">https://wandb.ai/nsiete-hrnciar-katkovcin/basic-nn-tensorflow/runs/lr-scheduler-adam-bce-cos-deeper</a>"
            ],
            "text/plain": [
              "<IPython.core.display.HTML object>"
            ]
          },
          "metadata": {},
          "output_type": "display_data"
        }
      ],
      "source": [
        "import pandas as pd\n",
        "from sklearn.model_selection import train_test_split\n",
        "from sklearn.metrics import accuracy_score, f1_score\n",
        "\n",
        "import tensorflow as tf\n",
        "from tensorflow.keras.callbacks import LearningRateScheduler\n",
        "from tensorflow import squeeze\n",
        "\n",
        "import numpy as np\n",
        "\n",
        "print(tf.__version__)\n",
        "print(tf.config.list_physical_devices('GPU'))\n",
        "\n",
        "import configparser\n",
        "config = configparser.ConfigParser()\n",
        "config.read('config.ini')\n",
        "\n",
        "import wandb\n",
        "from wandb.keras import WandbCallback\n",
        "wandb.login()\n",
        "\n",
        "run = wandb.init(project=\"basic-nn-tensorflow\", id=\"lr-scheduler-adam-bce-cos-deeper\")\n",
        "wandb.config.update(config)\n",
        "\n"
      ]
    },
    {
      "attachments": {},
      "cell_type": "markdown",
      "metadata": {},
      "source": [
        "Initial load of config file, where we have hyperparameters we are training our model"
      ]
    },
    {
      "cell_type": "code",
      "execution_count": 2,
      "metadata": {},
      "outputs": [
        {
          "data": {
            "text/plain": [
              "(0.001, 0.01, 500, 1, 'cos')"
            ]
          },
          "execution_count": 2,
          "metadata": {},
          "output_type": "execute_result"
        }
      ],
      "source": [
        "start_lr = config['tensorflow'].getfloat('start_lr')\n",
        "max_lr = config['tensorflow'].getfloat('max_lr')\n",
        "epochs = config['default'].getint('epochs')\n",
        "steps_per_epoch = config['tensorflow'].getint('steps_per_epoch')\n",
        "anneal_strategy = config['tensorflow']['strategy']\n",
        "\n",
        "start_lr, max_lr, epochs, steps_per_epoch, anneal_strategy"
      ]
    },
    {
      "attachments": {},
      "cell_type": "markdown",
      "metadata": {},
      "source": [
        "## Data loading and train-test split\n",
        "\n",
        "Initially, we imported the processed data and formed two collections of information: predictors (X) and labels (y). We then divided these sets into two parts, one for training (80%) and another for testing (20%). To maintain consistency in the split, we also specified a random state seed."
      ]
    },
    {
      "cell_type": "code",
      "execution_count": 3,
      "metadata": {
        "colab": {
          "base_uri": "https://localhost:8080/",
          "height": 419
        },
        "id": "BZTZ7Y9DiLvD",
        "outputId": "6815640b-da99-4e35-dbac-f04bc66646cd"
      },
      "outputs": [
        {
          "data": {
            "text/html": [
              "<div>\n",
              "<style scoped>\n",
              "    .dataframe tbody tr th:only-of-type {\n",
              "        vertical-align: middle;\n",
              "    }\n",
              "\n",
              "    .dataframe tbody tr th {\n",
              "        vertical-align: top;\n",
              "    }\n",
              "\n",
              "    .dataframe thead th {\n",
              "        text-align: right;\n",
              "    }\n",
              "</style>\n",
              "<table border=\"1\" class=\"dataframe\">\n",
              "  <thead>\n",
              "    <tr style=\"text-align: right;\">\n",
              "      <th></th>\n",
              "      <th>Pregnancies</th>\n",
              "      <th>Glucose</th>\n",
              "      <th>BloodPressure</th>\n",
              "      <th>SkinThickness</th>\n",
              "      <th>Insulin</th>\n",
              "      <th>BMI</th>\n",
              "      <th>DiabetesPedigreeFunction</th>\n",
              "      <th>Age</th>\n",
              "      <th>Outcome</th>\n",
              "    </tr>\n",
              "  </thead>\n",
              "  <tbody>\n",
              "    <tr>\n",
              "      <th>0</th>\n",
              "      <td>0.352941</td>\n",
              "      <td>0.670968</td>\n",
              "      <td>0.489796</td>\n",
              "      <td>0.304348</td>\n",
              "      <td>0.186899</td>\n",
              "      <td>0.314928</td>\n",
              "      <td>0.234415</td>\n",
              "      <td>0.483333</td>\n",
              "      <td>1</td>\n",
              "    </tr>\n",
              "    <tr>\n",
              "      <th>1</th>\n",
              "      <td>0.058824</td>\n",
              "      <td>0.264516</td>\n",
              "      <td>0.428571</td>\n",
              "      <td>0.239130</td>\n",
              "      <td>0.106370</td>\n",
              "      <td>0.171779</td>\n",
              "      <td>0.116567</td>\n",
              "      <td>0.166667</td>\n",
              "      <td>0</td>\n",
              "    </tr>\n",
              "    <tr>\n",
              "      <th>2</th>\n",
              "      <td>0.470588</td>\n",
              "      <td>0.896774</td>\n",
              "      <td>0.408163</td>\n",
              "      <td>0.271739</td>\n",
              "      <td>0.186899</td>\n",
              "      <td>0.104294</td>\n",
              "      <td>0.253629</td>\n",
              "      <td>0.183333</td>\n",
              "      <td>1</td>\n",
              "    </tr>\n",
              "    <tr>\n",
              "      <th>3</th>\n",
              "      <td>0.058824</td>\n",
              "      <td>0.290323</td>\n",
              "      <td>0.428571</td>\n",
              "      <td>0.173913</td>\n",
              "      <td>0.096154</td>\n",
              "      <td>0.202454</td>\n",
              "      <td>0.038002</td>\n",
              "      <td>0.000000</td>\n",
              "      <td>0</td>\n",
              "    </tr>\n",
              "    <tr>\n",
              "      <th>4</th>\n",
              "      <td>0.000000</td>\n",
              "      <td>0.600000</td>\n",
              "      <td>0.163265</td>\n",
              "      <td>0.304348</td>\n",
              "      <td>0.185096</td>\n",
              "      <td>0.509202</td>\n",
              "      <td>0.943638</td>\n",
              "      <td>0.200000</td>\n",
              "      <td>1</td>\n",
              "    </tr>\n",
              "    <tr>\n",
              "      <th>...</th>\n",
              "      <td>...</td>\n",
              "      <td>...</td>\n",
              "      <td>...</td>\n",
              "      <td>...</td>\n",
              "      <td>...</td>\n",
              "      <td>...</td>\n",
              "      <td>...</td>\n",
              "      <td>...</td>\n",
              "      <td>...</td>\n",
              "    </tr>\n",
              "    <tr>\n",
              "      <th>763</th>\n",
              "      <td>0.588235</td>\n",
              "      <td>0.367742</td>\n",
              "      <td>0.530612</td>\n",
              "      <td>0.445652</td>\n",
              "      <td>0.199519</td>\n",
              "      <td>0.300613</td>\n",
              "      <td>0.039710</td>\n",
              "      <td>0.700000</td>\n",
              "      <td>0</td>\n",
              "    </tr>\n",
              "    <tr>\n",
              "      <th>764</th>\n",
              "      <td>0.117647</td>\n",
              "      <td>0.503226</td>\n",
              "      <td>0.469388</td>\n",
              "      <td>0.217391</td>\n",
              "      <td>0.106370</td>\n",
              "      <td>0.380368</td>\n",
              "      <td>0.111870</td>\n",
              "      <td>0.100000</td>\n",
              "      <td>0</td>\n",
              "    </tr>\n",
              "    <tr>\n",
              "      <th>765</th>\n",
              "      <td>0.294118</td>\n",
              "      <td>0.496774</td>\n",
              "      <td>0.489796</td>\n",
              "      <td>0.173913</td>\n",
              "      <td>0.117788</td>\n",
              "      <td>0.163599</td>\n",
              "      <td>0.071307</td>\n",
              "      <td>0.150000</td>\n",
              "      <td>0</td>\n",
              "    </tr>\n",
              "    <tr>\n",
              "      <th>766</th>\n",
              "      <td>0.058824</td>\n",
              "      <td>0.529032</td>\n",
              "      <td>0.367347</td>\n",
              "      <td>0.271739</td>\n",
              "      <td>0.186899</td>\n",
              "      <td>0.243354</td>\n",
              "      <td>0.115713</td>\n",
              "      <td>0.433333</td>\n",
              "      <td>1</td>\n",
              "    </tr>\n",
              "    <tr>\n",
              "      <th>767</th>\n",
              "      <td>0.058824</td>\n",
              "      <td>0.316129</td>\n",
              "      <td>0.469388</td>\n",
              "      <td>0.260870</td>\n",
              "      <td>0.106370</td>\n",
              "      <td>0.249489</td>\n",
              "      <td>0.101196</td>\n",
              "      <td>0.033333</td>\n",
              "      <td>0</td>\n",
              "    </tr>\n",
              "  </tbody>\n",
              "</table>\n",
              "<p>768 rows × 9 columns</p>\n",
              "</div>"
            ],
            "text/plain": [
              "     Pregnancies   Glucose  BloodPressure  SkinThickness   Insulin       BMI  \\\n",
              "0       0.352941  0.670968       0.489796       0.304348  0.186899  0.314928   \n",
              "1       0.058824  0.264516       0.428571       0.239130  0.106370  0.171779   \n",
              "2       0.470588  0.896774       0.408163       0.271739  0.186899  0.104294   \n",
              "3       0.058824  0.290323       0.428571       0.173913  0.096154  0.202454   \n",
              "4       0.000000  0.600000       0.163265       0.304348  0.185096  0.509202   \n",
              "..           ...       ...            ...            ...       ...       ...   \n",
              "763     0.588235  0.367742       0.530612       0.445652  0.199519  0.300613   \n",
              "764     0.117647  0.503226       0.469388       0.217391  0.106370  0.380368   \n",
              "765     0.294118  0.496774       0.489796       0.173913  0.117788  0.163599   \n",
              "766     0.058824  0.529032       0.367347       0.271739  0.186899  0.243354   \n",
              "767     0.058824  0.316129       0.469388       0.260870  0.106370  0.249489   \n",
              "\n",
              "     DiabetesPedigreeFunction       Age  Outcome  \n",
              "0                    0.234415  0.483333        1  \n",
              "1                    0.116567  0.166667        0  \n",
              "2                    0.253629  0.183333        1  \n",
              "3                    0.038002  0.000000        0  \n",
              "4                    0.943638  0.200000        1  \n",
              "..                        ...       ...      ...  \n",
              "763                  0.039710  0.700000        0  \n",
              "764                  0.111870  0.100000        0  \n",
              "765                  0.071307  0.150000        0  \n",
              "766                  0.115713  0.433333        1  \n",
              "767                  0.101196  0.033333        0  \n",
              "\n",
              "[768 rows x 9 columns]"
            ]
          },
          "execution_count": 3,
          "metadata": {},
          "output_type": "execute_result"
        }
      ],
      "source": [
        "df = pd.read_csv('Data/cleaned.csv', index_col=0)\n",
        "df"
      ]
    },
    {
      "cell_type": "code",
      "execution_count": 4,
      "metadata": {},
      "outputs": [
        {
          "name": "stdout",
          "output_type": "stream",
          "text": [
            "Metal device set to: Apple M1\n",
            "\n",
            "systemMemory: 16.00 GB\n",
            "maxCacheSize: 5.33 GB\n",
            "\n"
          ]
        },
        {
          "name": "stderr",
          "output_type": "stream",
          "text": [
            "2023-03-29 11:33:10.041799: I tensorflow/core/common_runtime/pluggable_device/pluggable_device_factory.cc:305] Could not identify NUMA node of platform GPU ID 0, defaulting to 0. Your kernel may not have been built with NUMA support.\n",
            "2023-03-29 11:33:10.043446: I tensorflow/core/common_runtime/pluggable_device/pluggable_device_factory.cc:271] Created TensorFlow device (/job:localhost/replica:0/task:0/device:GPU:0 with 0 MB memory) -> physical PluggableDevice (device: 0, name: METAL, pci bus id: <undefined>)\n"
          ]
        }
      ],
      "source": [
        "X, y = df.drop('Outcome', axis=1).values, df.Outcome.values\n",
        "\n",
        "X_train, X_test, y_train, y_test = train_test_split(X, y, train_size=0.8, shuffle=True, random_state=42)\n",
        "\n",
        "X_train = tf.cast(tf.constant(X_train), tf.float32)\n",
        "X_test = tf.cast(tf.constant(X_test), tf.float32)\n",
        "y_train = tf.cast(tf.expand_dims(y_train, axis=1), tf.float32)\n",
        "y_test = tf.cast(tf.expand_dims(y_test, axis=1), tf.float32)"
      ]
    },
    {
      "attachments": {},
      "cell_type": "markdown",
      "metadata": {},
      "source": [
        "## Neural network\n",
        "\n",
        "Our neural network is composed of three layers: an input layer, a hidden layer, and an output layer. The activation function used in all layers except the output layer is ReLU, while the output layer uses the Sigmoid activation function, which ensures the output is within the range of 0 to 1. To perform binary classification, we utilized binary cross entropy loss (BCELoss) and Adam optimizer.\n",
        "Furthermore, we incorporated a learning rate scheduler to adjust the learning rate, making it higher at the start of training and gradually decreasing as we approach the minimum.\n",
        "\n",
        "### Parameters\n",
        "\n",
        "- epochs = 500\n",
        "- base learning rate = 0.001\n",
        "- max learning rate = 0.01\n",
        "- annealing strategy = linear\n",
        "- steps per epoch = 1\n",
        "\n",
        "### Experiments\n",
        "\n",
        "Link to wandb report: https://api.wandb.ai/links/nsiete-hrnciar-katkovcin/9v9fld5d\n",
        "\n",
        "1. **Bigger net, LearningRateScheduler with cos annealing strategy** `lr-scheduler-adam-bce-cos-deeper)` - This refers to a neural network with four layers: an input layer with 8 neurons, two hidden layers with 16 and 8 neurons, respectively, and an output layer with 1 neuron. The ReLU activation function is used on all layers except for the output layer, which uses the Sigmoid activation function. The BCELoss loss function is used with the Adam optimizer and the LearningRateScheduler scheduler with a cosinus annealing strategy. However, this neural network suffers from overfitting, which is indicated by the validation loss diverging from the training loss. This means that while the training loss is decreasing and the training accuracy is increasing, the validation loss is increasing and the validation accuracy is decreasing.\n",
        "\n",
        "\n",
        "2. **LearningRateScheduler scheduler with _cos_ annealing strategy** `(lr-scheduler-adam-bce)` - This describes a neural network with three layers: an input layer with 8 neurons, a hidden layer with 4 neurons, and an output layer with 1 neuron. The activation function, loss function, and optimizer are the same as the previous network. The scheduler is also the same (LEatningRateScheduler) with cos annealing strategy. Despite being smaller in size, this neural network did not suffer from overfitting. However, its training accuracy was lower at 87% and validation accuracy 84% and its loss was higher compared to the previous network.\n",
        "\n",
        "3. **LearningRateScheduler scheduler with _linear_ annealing strategy** `(lr-scheduler-adam-bce-linear)` - The network utilized the LearningRateScheduler scheduler with a linear annealing strategy, and it produced slightly improved results compared to using the cos strategy. The training accuracy was 88% and validation accuracy was 86%, and it did not suffer from overfitting, but the loss was higher than in the previous experiment.\n",
        "\n",
        "4. **No scheduler with learning rate 0.01 with cos annealing strategy** `(lr-0.01-adam-bce)` - The same network was used without the scheduler, resulting in higher loss and the training accuracy was 89% and validation accuracy 80%. This mean there was an overfitting. This could be due to a small learning rate and step, which significantly increased the training time, and the network may have been stuck in a local minimum. Alternatively, it may not have had enough time or epochs to converge to a good enough result.\n",
        "\n",
        "5. **No scheduler with learning rate 0.001 with cos annealing strategy** `(lr-0.001-adam-bce-cos2)` - The parameters used were the same as in the previous experiment, except for a higher learning rate. The network was able to converge to a better result in this case, with a validation accuracy of 84% and training accuracy at 87%. However, this resulted in overfitting, as indicated by the diverging losses.\n"
      ]
    },
    {
      "cell_type": "code",
      "execution_count": 5,
      "metadata": {},
      "outputs": [],
      "source": [
        "def schedule(epoch):\n",
        "    cycle = 0\n",
        "    if epoch < (epochs // 2):\n",
        "        cycle = 1 + (epoch * steps_per_epoch) // (epochs // 2)\n",
        "        factor = float(cycle * max_lr) / float(epochs)\n",
        "    else:\n",
        "        cycle = 1 + ((epochs - epoch) * steps_per_epoch) // (epochs // 2)\n",
        "        factor = float(cycle * max_lr) / float(epochs)\n",
        "        factor = max_lr - factor\n",
        "\n",
        "    if anneal_strategy == 'cos':\n",
        "        lr = factor * (1 + tf.math.cos(tf.constant(np.pi) * (epoch % (epochs // 2)) / (epochs // 2))) / 2\n",
        "    elif anneal_strategy == 'linear':\n",
        "        lr = factor * (epochs - epoch) / epochs\n",
        "    else:\n",
        "        raise ValueError('Invalid anneal strategy')\n",
        "\n",
        "    return lr"
      ]
    },
    {
      "cell_type": "code",
      "execution_count": 6,
      "metadata": {},
      "outputs": [],
      "source": [
        "def NeuralNetworkModel():\n",
        "    model = tf.keras.Sequential([\n",
        "    tf.keras.layers.Dense(8, activation='relu', input_shape=[len(df.keys()) - 1]),\n",
        "    tf.keras.layers.Dense(16, activation='relu'),\n",
        "    tf.keras.layers.Dense(8, activation='relu'),\n",
        "    tf.keras.layers.Dense(1, activation='sigmoid')\n",
        "  ])\n",
        "    return model\n",
        "\n",
        "model = NeuralNetworkModel()\n",
        "\n",
        "loss_fn = tf.keras.losses.BinaryCrossentropy(from_logits=True)\n",
        "optimizer = tf.keras.optimizers.Adam(learning_rate=0.001)\n",
        "lr_scheduler = LearningRateScheduler(schedule=schedule, verbose=True)\n",
        "\n",
        "model.compile(loss=loss_fn, optimizer=optimizer, metrics=['accuracy'])"
      ]
    },
    {
      "cell_type": "code",
      "execution_count": 7,
      "metadata": {},
      "outputs": [
        {
          "name": "stdout",
          "output_type": "stream",
          "text": [
            "Model: \"sequential\"\n",
            "_________________________________________________________________\n",
            " Layer (type)                Output Shape              Param #   \n",
            "=================================================================\n",
            " dense (Dense)               (None, 8)                 72        \n",
            "                                                                 \n",
            " dense_1 (Dense)             (None, 16)                144       \n",
            "                                                                 \n",
            " dense_2 (Dense)             (None, 8)                 136       \n",
            "                                                                 \n",
            " dense_3 (Dense)             (None, 1)                 9         \n",
            "                                                                 \n",
            "=================================================================\n",
            "Total params: 361\n",
            "Trainable params: 361\n",
            "Non-trainable params: 0\n",
            "_________________________________________________________________\n"
          ]
        }
      ],
      "source": [
        "model.summary()"
      ]
    },
    {
      "attachments": {},
      "cell_type": "markdown",
      "metadata": {},
      "source": [
        "During the training process, we measure the loss and accuracy while the scheduler adjusts the learning rate. When testing, we measure the testing loss,  and accuracy and all these metrics are recorded and stored in wandb."
      ]
    },
    {
      "cell_type": "code",
      "execution_count": 8,
      "metadata": {},
      "outputs": [
        {
          "name": "stderr",
          "output_type": "stream",
          "text": [
            "\u001b[34m\u001b[1mwandb\u001b[0m: \u001b[33mWARNING\u001b[0m The save_model argument by default saves the model in the HDF5 format that cannot save custom objects like subclassed models and custom layers. This behavior will be deprecated in a future release in favor of the SavedModel format. Meanwhile, the HDF5 model is saved as W&B files and the SavedModel as W&B Artifacts.\n"
          ]
        },
        {
          "name": "stdout",
          "output_type": "stream",
          "text": [
            "Epoch 1/500\n"
          ]
        },
        {
          "name": "stderr",
          "output_type": "stream",
          "text": [
            "2023-03-29 11:33:10.587793: W tensorflow/core/platform/profile_utils/cpu_utils.cc:128] Failed to get CPU frequency: 0 Hz\n",
            "/opt/homebrew/Caskroom/miniconda/base/envs/nsietetensor/lib/python3.8/site-packages/tensorflow/python/util/dispatch.py:1082: UserWarning: \"`binary_crossentropy` received `from_logits=True`, but the `output` argument was produced by a sigmoid or softmax activation and thus does not represent logits. Was this intended?\"\n",
            "  return dispatch_target(*args, **kwargs)\n",
            "2023-03-29 11:33:10.867651: I tensorflow/core/grappler/optimizers/custom_graph_optimizer_registry.cc:113] Plugin optimizer for device_type GPU is enabled.\n",
            "2023-03-29 11:33:11.782559: I tensorflow/core/grappler/optimizers/custom_graph_optimizer_registry.cc:113] Plugin optimizer for device_type GPU is enabled.\n"
          ]
        },
        {
          "name": "stdout",
          "output_type": "stream",
          "text": [
            "INFO:tensorflow:Assets written to: /Users/martinkatkovcin/Documents/School/NSIETE/Zadanie1/wandb/run-20230329_113305-lr-scheduler-adam-bce-cos-deeper/files/model-best/assets\n"
          ]
        },
        {
          "name": "stderr",
          "output_type": "stream",
          "text": [
            "\u001b[34m\u001b[1mwandb\u001b[0m: Adding directory to artifact (/Users/martinkatkovcin/Documents/School/NSIETE/Zadanie1/wandb/run-20230329_113305-lr-scheduler-adam-bce-cos-deeper/files/model-best)... Done. 0.0s\n"
          ]
        },
        {
          "name": "stdout",
          "output_type": "stream",
          "text": [
            "20/20 - 2s - loss: 0.6909 - accuracy: 0.4951 - val_loss: 0.6806 - val_accuracy: 0.6558 - 2s/epoch - 98ms/step\n",
            "Epoch 2/500\n",
            "INFO:tensorflow:Assets written to: /Users/martinkatkovcin/Documents/School/NSIETE/Zadanie1/wandb/run-20230329_113305-lr-scheduler-adam-bce-cos-deeper/files/model-best/assets\n"
          ]
        },
        {
          "name": "stderr",
          "output_type": "stream",
          "text": [
            "\u001b[34m\u001b[1mwandb\u001b[0m: Adding directory to artifact (/Users/martinkatkovcin/Documents/School/NSIETE/Zadanie1/wandb/run-20230329_113305-lr-scheduler-adam-bce-cos-deeper/files/model-best)... Done. 0.0s\n"
          ]
        },
        {
          "name": "stdout",
          "output_type": "stream",
          "text": [
            "20/20 - 1s - loss: 0.6674 - accuracy: 0.6889 - val_loss: 0.6654 - val_accuracy: 0.6494 - 614ms/epoch - 31ms/step\n",
            "Epoch 3/500\n",
            "INFO:tensorflow:Assets written to: /Users/martinkatkovcin/Documents/School/NSIETE/Zadanie1/wandb/run-20230329_113305-lr-scheduler-adam-bce-cos-deeper/files/model-best/assets\n"
          ]
        },
        {
          "name": "stderr",
          "output_type": "stream",
          "text": [
            "\u001b[34m\u001b[1mwandb\u001b[0m: Adding directory to artifact (/Users/martinkatkovcin/Documents/School/NSIETE/Zadanie1/wandb/run-20230329_113305-lr-scheduler-adam-bce-cos-deeper/files/model-best)... Done. 0.0s\n"
          ]
        },
        {
          "name": "stdout",
          "output_type": "stream",
          "text": [
            "20/20 - 1s - loss: 0.6541 - accuracy: 0.6564 - val_loss: 0.6526 - val_accuracy: 0.6429 - 606ms/epoch - 30ms/step\n",
            "Epoch 4/500\n",
            "INFO:tensorflow:Assets written to: /Users/martinkatkovcin/Documents/School/NSIETE/Zadanie1/wandb/run-20230329_113305-lr-scheduler-adam-bce-cos-deeper/files/model-best/assets\n"
          ]
        },
        {
          "name": "stderr",
          "output_type": "stream",
          "text": [
            "\u001b[34m\u001b[1mwandb\u001b[0m: Adding directory to artifact (/Users/martinkatkovcin/Documents/School/NSIETE/Zadanie1/wandb/run-20230329_113305-lr-scheduler-adam-bce-cos-deeper/files/model-best)... Done. 0.0s\n"
          ]
        },
        {
          "name": "stdout",
          "output_type": "stream",
          "text": [
            "20/20 - 1s - loss: 0.6366 - accuracy: 0.6678 - val_loss: 0.6401 - val_accuracy: 0.6494 - 598ms/epoch - 30ms/step\n",
            "Epoch 5/500\n",
            "INFO:tensorflow:Assets written to: /Users/martinkatkovcin/Documents/School/NSIETE/Zadanie1/wandb/run-20230329_113305-lr-scheduler-adam-bce-cos-deeper/files/model-best/assets\n"
          ]
        },
        {
          "name": "stderr",
          "output_type": "stream",
          "text": [
            "\u001b[34m\u001b[1mwandb\u001b[0m: Adding directory to artifact (/Users/martinkatkovcin/Documents/School/NSIETE/Zadanie1/wandb/run-20230329_113305-lr-scheduler-adam-bce-cos-deeper/files/model-best)... Done. 0.0s\n"
          ]
        },
        {
          "name": "stdout",
          "output_type": "stream",
          "text": [
            "20/20 - 1s - loss: 0.6188 - accuracy: 0.7101 - val_loss: 0.6249 - val_accuracy: 0.7078 - 585ms/epoch - 29ms/step\n",
            "Epoch 6/500\n",
            "INFO:tensorflow:Assets written to: /Users/martinkatkovcin/Documents/School/NSIETE/Zadanie1/wandb/run-20230329_113305-lr-scheduler-adam-bce-cos-deeper/files/model-best/assets\n"
          ]
        },
        {
          "name": "stderr",
          "output_type": "stream",
          "text": [
            "\u001b[34m\u001b[1mwandb\u001b[0m: Adding directory to artifact (/Users/martinkatkovcin/Documents/School/NSIETE/Zadanie1/wandb/run-20230329_113305-lr-scheduler-adam-bce-cos-deeper/files/model-best)... Done. 0.0s\n"
          ]
        },
        {
          "name": "stdout",
          "output_type": "stream",
          "text": [
            "20/20 - 1s - loss: 0.5964 - accuracy: 0.7215 - val_loss: 0.6066 - val_accuracy: 0.7078 - 592ms/epoch - 30ms/step\n",
            "Epoch 7/500\n",
            "INFO:tensorflow:Assets written to: /Users/martinkatkovcin/Documents/School/NSIETE/Zadanie1/wandb/run-20230329_113305-lr-scheduler-adam-bce-cos-deeper/files/model-best/assets\n"
          ]
        },
        {
          "name": "stderr",
          "output_type": "stream",
          "text": [
            "\u001b[34m\u001b[1mwandb\u001b[0m: Adding directory to artifact (/Users/martinkatkovcin/Documents/School/NSIETE/Zadanie1/wandb/run-20230329_113305-lr-scheduler-adam-bce-cos-deeper/files/model-best)... Done. 0.0s\n"
          ]
        },
        {
          "name": "stdout",
          "output_type": "stream",
          "text": [
            "20/20 - 1s - loss: 0.5781 - accuracy: 0.7182 - val_loss: 0.5912 - val_accuracy: 0.7013 - 620ms/epoch - 31ms/step\n",
            "Epoch 8/500\n",
            "INFO:tensorflow:Assets written to: /Users/martinkatkovcin/Documents/School/NSIETE/Zadanie1/wandb/run-20230329_113305-lr-scheduler-adam-bce-cos-deeper/files/model-best/assets\n"
          ]
        },
        {
          "name": "stderr",
          "output_type": "stream",
          "text": [
            "\u001b[34m\u001b[1mwandb\u001b[0m: Adding directory to artifact (/Users/martinkatkovcin/Documents/School/NSIETE/Zadanie1/wandb/run-20230329_113305-lr-scheduler-adam-bce-cos-deeper/files/model-best)... Done. 0.0s\n"
          ]
        },
        {
          "name": "stdout",
          "output_type": "stream",
          "text": [
            "20/20 - 1s - loss: 0.5588 - accuracy: 0.7557 - val_loss: 0.5761 - val_accuracy: 0.7078 - 744ms/epoch - 37ms/step\n",
            "Epoch 9/500\n",
            "INFO:tensorflow:Assets written to: /Users/martinkatkovcin/Documents/School/NSIETE/Zadanie1/wandb/run-20230329_113305-lr-scheduler-adam-bce-cos-deeper/files/model-best/assets\n"
          ]
        },
        {
          "name": "stderr",
          "output_type": "stream",
          "text": [
            "\u001b[34m\u001b[1mwandb\u001b[0m: Adding directory to artifact (/Users/martinkatkovcin/Documents/School/NSIETE/Zadanie1/wandb/run-20230329_113305-lr-scheduler-adam-bce-cos-deeper/files/model-best)... Done. 0.0s\n"
          ]
        },
        {
          "name": "stdout",
          "output_type": "stream",
          "text": [
            "20/20 - 1s - loss: 0.5354 - accuracy: 0.7541 - val_loss: 0.5628 - val_accuracy: 0.7273 - 588ms/epoch - 29ms/step\n",
            "Epoch 10/500\n",
            "INFO:tensorflow:Assets written to: /Users/martinkatkovcin/Documents/School/NSIETE/Zadanie1/wandb/run-20230329_113305-lr-scheduler-adam-bce-cos-deeper/files/model-best/assets\n"
          ]
        },
        {
          "name": "stderr",
          "output_type": "stream",
          "text": [
            "\u001b[34m\u001b[1mwandb\u001b[0m: Adding directory to artifact (/Users/martinkatkovcin/Documents/School/NSIETE/Zadanie1/wandb/run-20230329_113305-lr-scheduler-adam-bce-cos-deeper/files/model-best)... Done. 0.0s\n"
          ]
        },
        {
          "name": "stdout",
          "output_type": "stream",
          "text": [
            "20/20 - 1s - loss: 0.5182 - accuracy: 0.7785 - val_loss: 0.5496 - val_accuracy: 0.7403 - 603ms/epoch - 30ms/step\n",
            "Epoch 11/500\n",
            "INFO:tensorflow:Assets written to: /Users/martinkatkovcin/Documents/School/NSIETE/Zadanie1/wandb/run-20230329_113305-lr-scheduler-adam-bce-cos-deeper/files/model-best/assets\n"
          ]
        },
        {
          "name": "stderr",
          "output_type": "stream",
          "text": [
            "\u001b[34m\u001b[1mwandb\u001b[0m: Adding directory to artifact (/Users/martinkatkovcin/Documents/School/NSIETE/Zadanie1/wandb/run-20230329_113305-lr-scheduler-adam-bce-cos-deeper/files/model-best)... Done. 0.0s\n"
          ]
        },
        {
          "name": "stdout",
          "output_type": "stream",
          "text": [
            "20/20 - 1s - loss: 0.5052 - accuracy: 0.7720 - val_loss: 0.5402 - val_accuracy: 0.7532 - 633ms/epoch - 32ms/step\n",
            "Epoch 12/500\n",
            "INFO:tensorflow:Assets written to: /Users/martinkatkovcin/Documents/School/NSIETE/Zadanie1/wandb/run-20230329_113305-lr-scheduler-adam-bce-cos-deeper/files/model-best/assets\n"
          ]
        },
        {
          "name": "stderr",
          "output_type": "stream",
          "text": [
            "\u001b[34m\u001b[1mwandb\u001b[0m: Adding directory to artifact (/Users/martinkatkovcin/Documents/School/NSIETE/Zadanie1/wandb/run-20230329_113305-lr-scheduler-adam-bce-cos-deeper/files/model-best)... Done. 0.0s\n"
          ]
        },
        {
          "name": "stdout",
          "output_type": "stream",
          "text": [
            "20/20 - 1s - loss: 0.4894 - accuracy: 0.7785 - val_loss: 0.5316 - val_accuracy: 0.7662 - 585ms/epoch - 29ms/step\n",
            "Epoch 13/500\n",
            "INFO:tensorflow:Assets written to: /Users/martinkatkovcin/Documents/School/NSIETE/Zadanie1/wandb/run-20230329_113305-lr-scheduler-adam-bce-cos-deeper/files/model-best/assets\n"
          ]
        },
        {
          "name": "stderr",
          "output_type": "stream",
          "text": [
            "\u001b[34m\u001b[1mwandb\u001b[0m: Adding directory to artifact (/Users/martinkatkovcin/Documents/School/NSIETE/Zadanie1/wandb/run-20230329_113305-lr-scheduler-adam-bce-cos-deeper/files/model-best)... Done. 0.0s\n"
          ]
        },
        {
          "name": "stdout",
          "output_type": "stream",
          "text": [
            "20/20 - 1s - loss: 0.4786 - accuracy: 0.7785 - val_loss: 0.5213 - val_accuracy: 0.7727 - 601ms/epoch - 30ms/step\n",
            "Epoch 14/500\n",
            "INFO:tensorflow:Assets written to: /Users/martinkatkovcin/Documents/School/NSIETE/Zadanie1/wandb/run-20230329_113305-lr-scheduler-adam-bce-cos-deeper/files/model-best/assets\n"
          ]
        },
        {
          "name": "stderr",
          "output_type": "stream",
          "text": [
            "\u001b[34m\u001b[1mwandb\u001b[0m: Adding directory to artifact (/Users/martinkatkovcin/Documents/School/NSIETE/Zadanie1/wandb/run-20230329_113305-lr-scheduler-adam-bce-cos-deeper/files/model-best)... Done. 0.0s\n"
          ]
        },
        {
          "name": "stdout",
          "output_type": "stream",
          "text": [
            "20/20 - 1s - loss: 0.4702 - accuracy: 0.7818 - val_loss: 0.5132 - val_accuracy: 0.7532 - 586ms/epoch - 29ms/step\n",
            "Epoch 15/500\n",
            "INFO:tensorflow:Assets written to: /Users/martinkatkovcin/Documents/School/NSIETE/Zadanie1/wandb/run-20230329_113305-lr-scheduler-adam-bce-cos-deeper/files/model-best/assets\n"
          ]
        },
        {
          "name": "stderr",
          "output_type": "stream",
          "text": [
            "\u001b[34m\u001b[1mwandb\u001b[0m: Adding directory to artifact (/Users/martinkatkovcin/Documents/School/NSIETE/Zadanie1/wandb/run-20230329_113305-lr-scheduler-adam-bce-cos-deeper/files/model-best)... Done. 0.0s\n"
          ]
        },
        {
          "name": "stdout",
          "output_type": "stream",
          "text": [
            "20/20 - 1s - loss: 0.4606 - accuracy: 0.7883 - val_loss: 0.5087 - val_accuracy: 0.7792 - 608ms/epoch - 30ms/step\n",
            "Epoch 16/500\n",
            "20/20 - 0s - loss: 0.4538 - accuracy: 0.7915 - val_loss: 0.5090 - val_accuracy: 0.7403 - 166ms/epoch - 8ms/step\n",
            "Epoch 17/500\n",
            "INFO:tensorflow:Assets written to: /Users/martinkatkovcin/Documents/School/NSIETE/Zadanie1/wandb/run-20230329_113305-lr-scheduler-adam-bce-cos-deeper/files/model-best/assets\n"
          ]
        },
        {
          "name": "stderr",
          "output_type": "stream",
          "text": [
            "\u001b[34m\u001b[1mwandb\u001b[0m: Adding directory to artifact (/Users/martinkatkovcin/Documents/School/NSIETE/Zadanie1/wandb/run-20230329_113305-lr-scheduler-adam-bce-cos-deeper/files/model-best)... Done. 0.0s\n"
          ]
        },
        {
          "name": "stdout",
          "output_type": "stream",
          "text": [
            "20/20 - 1s - loss: 0.4561 - accuracy: 0.7801 - val_loss: 0.5004 - val_accuracy: 0.7857 - 573ms/epoch - 29ms/step\n",
            "Epoch 18/500\n",
            "INFO:tensorflow:Assets written to: /Users/martinkatkovcin/Documents/School/NSIETE/Zadanie1/wandb/run-20230329_113305-lr-scheduler-adam-bce-cos-deeper/files/model-best/assets\n"
          ]
        },
        {
          "name": "stderr",
          "output_type": "stream",
          "text": [
            "\u001b[34m\u001b[1mwandb\u001b[0m: Adding directory to artifact (/Users/martinkatkovcin/Documents/School/NSIETE/Zadanie1/wandb/run-20230329_113305-lr-scheduler-adam-bce-cos-deeper/files/model-best)... Done. 0.0s\n"
          ]
        },
        {
          "name": "stdout",
          "output_type": "stream",
          "text": [
            "20/20 - 1s - loss: 0.4483 - accuracy: 0.7720 - val_loss: 0.4937 - val_accuracy: 0.7597 - 732ms/epoch - 37ms/step\n",
            "Epoch 19/500\n",
            "INFO:tensorflow:Assets written to: /Users/martinkatkovcin/Documents/School/NSIETE/Zadanie1/wandb/run-20230329_113305-lr-scheduler-adam-bce-cos-deeper/files/model-best/assets\n"
          ]
        },
        {
          "name": "stderr",
          "output_type": "stream",
          "text": [
            "\u001b[34m\u001b[1mwandb\u001b[0m: Adding directory to artifact (/Users/martinkatkovcin/Documents/School/NSIETE/Zadanie1/wandb/run-20230329_113305-lr-scheduler-adam-bce-cos-deeper/files/model-best)... Done. 0.0s\n"
          ]
        },
        {
          "name": "stdout",
          "output_type": "stream",
          "text": [
            "20/20 - 1s - loss: 0.4406 - accuracy: 0.7834 - val_loss: 0.4935 - val_accuracy: 0.7597 - 613ms/epoch - 31ms/step\n",
            "Epoch 20/500\n",
            "INFO:tensorflow:Assets written to: /Users/martinkatkovcin/Documents/School/NSIETE/Zadanie1/wandb/run-20230329_113305-lr-scheduler-adam-bce-cos-deeper/files/model-best/assets\n"
          ]
        },
        {
          "name": "stderr",
          "output_type": "stream",
          "text": [
            "\u001b[34m\u001b[1mwandb\u001b[0m: Adding directory to artifact (/Users/martinkatkovcin/Documents/School/NSIETE/Zadanie1/wandb/run-20230329_113305-lr-scheduler-adam-bce-cos-deeper/files/model-best)... Done. 0.0s\n"
          ]
        },
        {
          "name": "stdout",
          "output_type": "stream",
          "text": [
            "20/20 - 1s - loss: 0.4423 - accuracy: 0.7834 - val_loss: 0.4823 - val_accuracy: 0.7857 - 1s/epoch - 72ms/step\n",
            "Epoch 21/500\n",
            "INFO:tensorflow:Assets written to: /Users/martinkatkovcin/Documents/School/NSIETE/Zadanie1/wandb/run-20230329_113305-lr-scheduler-adam-bce-cos-deeper/files/model-best/assets\n"
          ]
        },
        {
          "name": "stderr",
          "output_type": "stream",
          "text": [
            "\u001b[34m\u001b[1mwandb\u001b[0m: Adding directory to artifact (/Users/martinkatkovcin/Documents/School/NSIETE/Zadanie1/wandb/run-20230329_113305-lr-scheduler-adam-bce-cos-deeper/files/model-best)... Done. 0.0s\n"
          ]
        },
        {
          "name": "stdout",
          "output_type": "stream",
          "text": [
            "20/20 - 1s - loss: 0.4314 - accuracy: 0.7932 - val_loss: 0.4805 - val_accuracy: 0.7727 - 847ms/epoch - 42ms/step\n",
            "Epoch 22/500\n",
            "20/20 - 0s - loss: 0.4283 - accuracy: 0.7899 - val_loss: 0.4816 - val_accuracy: 0.7662 - 160ms/epoch - 8ms/step\n",
            "Epoch 23/500\n",
            "20/20 - 0s - loss: 0.4271 - accuracy: 0.7915 - val_loss: 0.4828 - val_accuracy: 0.7597 - 165ms/epoch - 8ms/step\n",
            "Epoch 24/500\n",
            "INFO:tensorflow:Assets written to: /Users/martinkatkovcin/Documents/School/NSIETE/Zadanie1/wandb/run-20230329_113305-lr-scheduler-adam-bce-cos-deeper/files/model-best/assets\n"
          ]
        },
        {
          "name": "stderr",
          "output_type": "stream",
          "text": [
            "\u001b[34m\u001b[1mwandb\u001b[0m: Adding directory to artifact (/Users/martinkatkovcin/Documents/School/NSIETE/Zadanie1/wandb/run-20230329_113305-lr-scheduler-adam-bce-cos-deeper/files/model-best)... Done. 0.0s\n"
          ]
        },
        {
          "name": "stdout",
          "output_type": "stream",
          "text": [
            "20/20 - 1s - loss: 0.4228 - accuracy: 0.7866 - val_loss: 0.4793 - val_accuracy: 0.7597 - 712ms/epoch - 36ms/step\n",
            "Epoch 25/500\n",
            "INFO:tensorflow:Assets written to: /Users/martinkatkovcin/Documents/School/NSIETE/Zadanie1/wandb/run-20230329_113305-lr-scheduler-adam-bce-cos-deeper/files/model-best/assets\n"
          ]
        },
        {
          "name": "stderr",
          "output_type": "stream",
          "text": [
            "\u001b[34m\u001b[1mwandb\u001b[0m: Adding directory to artifact (/Users/martinkatkovcin/Documents/School/NSIETE/Zadanie1/wandb/run-20230329_113305-lr-scheduler-adam-bce-cos-deeper/files/model-best)... Done. 0.0s\n"
          ]
        },
        {
          "name": "stdout",
          "output_type": "stream",
          "text": [
            "20/20 - 1s - loss: 0.4259 - accuracy: 0.7883 - val_loss: 0.4761 - val_accuracy: 0.7727 - 740ms/epoch - 37ms/step\n",
            "Epoch 26/500\n",
            "INFO:tensorflow:Assets written to: /Users/martinkatkovcin/Documents/School/NSIETE/Zadanie1/wandb/run-20230329_113305-lr-scheduler-adam-bce-cos-deeper/files/model-best/assets\n"
          ]
        },
        {
          "name": "stderr",
          "output_type": "stream",
          "text": [
            "\u001b[34m\u001b[1mwandb\u001b[0m: Adding directory to artifact (/Users/martinkatkovcin/Documents/School/NSIETE/Zadanie1/wandb/run-20230329_113305-lr-scheduler-adam-bce-cos-deeper/files/model-best)... Done. 0.0s\n"
          ]
        },
        {
          "name": "stdout",
          "output_type": "stream",
          "text": [
            "20/20 - 1s - loss: 0.4196 - accuracy: 0.7997 - val_loss: 0.4755 - val_accuracy: 0.7532 - 830ms/epoch - 42ms/step\n",
            "Epoch 27/500\n",
            "INFO:tensorflow:Assets written to: /Users/martinkatkovcin/Documents/School/NSIETE/Zadanie1/wandb/run-20230329_113305-lr-scheduler-adam-bce-cos-deeper/files/model-best/assets\n"
          ]
        },
        {
          "name": "stderr",
          "output_type": "stream",
          "text": [
            "\u001b[34m\u001b[1mwandb\u001b[0m: Adding directory to artifact (/Users/martinkatkovcin/Documents/School/NSIETE/Zadanie1/wandb/run-20230329_113305-lr-scheduler-adam-bce-cos-deeper/files/model-best)... Done. 0.0s\n"
          ]
        },
        {
          "name": "stdout",
          "output_type": "stream",
          "text": [
            "20/20 - 1s - loss: 0.4157 - accuracy: 0.7899 - val_loss: 0.4709 - val_accuracy: 0.7727 - 706ms/epoch - 35ms/step\n",
            "Epoch 28/500\n",
            "INFO:tensorflow:Assets written to: /Users/martinkatkovcin/Documents/School/NSIETE/Zadanie1/wandb/run-20230329_113305-lr-scheduler-adam-bce-cos-deeper/files/model-best/assets\n"
          ]
        },
        {
          "name": "stderr",
          "output_type": "stream",
          "text": [
            "\u001b[34m\u001b[1mwandb\u001b[0m: Adding directory to artifact (/Users/martinkatkovcin/Documents/School/NSIETE/Zadanie1/wandb/run-20230329_113305-lr-scheduler-adam-bce-cos-deeper/files/model-best)... Done. 0.0s\n"
          ]
        },
        {
          "name": "stdout",
          "output_type": "stream",
          "text": [
            "20/20 - 1s - loss: 0.4142 - accuracy: 0.7948 - val_loss: 0.4662 - val_accuracy: 0.7727 - 664ms/epoch - 33ms/step\n",
            "Epoch 29/500\n",
            "INFO:tensorflow:Assets written to: /Users/martinkatkovcin/Documents/School/NSIETE/Zadanie1/wandb/run-20230329_113305-lr-scheduler-adam-bce-cos-deeper/files/model-best/assets\n"
          ]
        },
        {
          "name": "stderr",
          "output_type": "stream",
          "text": [
            "\u001b[34m\u001b[1mwandb\u001b[0m: Adding directory to artifact (/Users/martinkatkovcin/Documents/School/NSIETE/Zadanie1/wandb/run-20230329_113305-lr-scheduler-adam-bce-cos-deeper/files/model-best)... Done. 0.0s\n"
          ]
        },
        {
          "name": "stdout",
          "output_type": "stream",
          "text": [
            "20/20 - 1s - loss: 0.4143 - accuracy: 0.7948 - val_loss: 0.4634 - val_accuracy: 0.7597 - 940ms/epoch - 47ms/step\n",
            "Epoch 30/500\n",
            "INFO:tensorflow:Assets written to: /Users/martinkatkovcin/Documents/School/NSIETE/Zadanie1/wandb/run-20230329_113305-lr-scheduler-adam-bce-cos-deeper/files/model-best/assets\n"
          ]
        },
        {
          "name": "stderr",
          "output_type": "stream",
          "text": [
            "\u001b[34m\u001b[1mwandb\u001b[0m: Adding directory to artifact (/Users/martinkatkovcin/Documents/School/NSIETE/Zadanie1/wandb/run-20230329_113305-lr-scheduler-adam-bce-cos-deeper/files/model-best)... Done. 0.0s\n"
          ]
        },
        {
          "name": "stdout",
          "output_type": "stream",
          "text": [
            "20/20 - 1s - loss: 0.4155 - accuracy: 0.7932 - val_loss: 0.4617 - val_accuracy: 0.7792 - 657ms/epoch - 33ms/step\n",
            "Epoch 31/500\n",
            "INFO:tensorflow:Assets written to: /Users/martinkatkovcin/Documents/School/NSIETE/Zadanie1/wandb/run-20230329_113305-lr-scheduler-adam-bce-cos-deeper/files/model-best/assets\n"
          ]
        },
        {
          "name": "stderr",
          "output_type": "stream",
          "text": [
            "\u001b[34m\u001b[1mwandb\u001b[0m: Adding directory to artifact (/Users/martinkatkovcin/Documents/School/NSIETE/Zadanie1/wandb/run-20230329_113305-lr-scheduler-adam-bce-cos-deeper/files/model-best)... Done. 0.0s\n"
          ]
        },
        {
          "name": "stdout",
          "output_type": "stream",
          "text": [
            "20/20 - 1s - loss: 0.4095 - accuracy: 0.8078 - val_loss: 0.4542 - val_accuracy: 0.8052 - 691ms/epoch - 35ms/step\n",
            "Epoch 32/500\n",
            "20/20 - 0s - loss: 0.4057 - accuracy: 0.8094 - val_loss: 0.4549 - val_accuracy: 0.7987 - 172ms/epoch - 9ms/step\n",
            "Epoch 33/500\n",
            "20/20 - 0s - loss: 0.4052 - accuracy: 0.7964 - val_loss: 0.4580 - val_accuracy: 0.7922 - 167ms/epoch - 8ms/step\n",
            "Epoch 34/500\n",
            "20/20 - 0s - loss: 0.4024 - accuracy: 0.8127 - val_loss: 0.4568 - val_accuracy: 0.7857 - 223ms/epoch - 11ms/step\n",
            "Epoch 35/500\n",
            "20/20 - 0s - loss: 0.4014 - accuracy: 0.8029 - val_loss: 0.4543 - val_accuracy: 0.7857 - 177ms/epoch - 9ms/step\n",
            "Epoch 36/500\n",
            "INFO:tensorflow:Assets written to: /Users/martinkatkovcin/Documents/School/NSIETE/Zadanie1/wandb/run-20230329_113305-lr-scheduler-adam-bce-cos-deeper/files/model-best/assets\n"
          ]
        },
        {
          "name": "stderr",
          "output_type": "stream",
          "text": [
            "\u001b[34m\u001b[1mwandb\u001b[0m: Adding directory to artifact (/Users/martinkatkovcin/Documents/School/NSIETE/Zadanie1/wandb/run-20230329_113305-lr-scheduler-adam-bce-cos-deeper/files/model-best)... Done. 0.0s\n"
          ]
        },
        {
          "name": "stdout",
          "output_type": "stream",
          "text": [
            "20/20 - 1s - loss: 0.3986 - accuracy: 0.8078 - val_loss: 0.4505 - val_accuracy: 0.7857 - 631ms/epoch - 32ms/step\n",
            "Epoch 37/500\n",
            "20/20 - 0s - loss: 0.3981 - accuracy: 0.8127 - val_loss: 0.4524 - val_accuracy: 0.7792 - 192ms/epoch - 10ms/step\n",
            "Epoch 38/500\n",
            "INFO:tensorflow:Assets written to: /Users/martinkatkovcin/Documents/School/NSIETE/Zadanie1/wandb/run-20230329_113305-lr-scheduler-adam-bce-cos-deeper/files/model-best/assets\n"
          ]
        },
        {
          "name": "stderr",
          "output_type": "stream",
          "text": [
            "\u001b[34m\u001b[1mwandb\u001b[0m: Adding directory to artifact (/Users/martinkatkovcin/Documents/School/NSIETE/Zadanie1/wandb/run-20230329_113305-lr-scheduler-adam-bce-cos-deeper/files/model-best)... Done. 0.0s\n"
          ]
        },
        {
          "name": "stdout",
          "output_type": "stream",
          "text": [
            "20/20 - 1s - loss: 0.3961 - accuracy: 0.8208 - val_loss: 0.4445 - val_accuracy: 0.7922 - 694ms/epoch - 35ms/step\n",
            "Epoch 39/500\n",
            "INFO:tensorflow:Assets written to: /Users/martinkatkovcin/Documents/School/NSIETE/Zadanie1/wandb/run-20230329_113305-lr-scheduler-adam-bce-cos-deeper/files/model-best/assets\n"
          ]
        },
        {
          "name": "stderr",
          "output_type": "stream",
          "text": [
            "\u001b[34m\u001b[1mwandb\u001b[0m: Adding directory to artifact (/Users/martinkatkovcin/Documents/School/NSIETE/Zadanie1/wandb/run-20230329_113305-lr-scheduler-adam-bce-cos-deeper/files/model-best)... Done. 0.0s\n"
          ]
        },
        {
          "name": "stdout",
          "output_type": "stream",
          "text": [
            "20/20 - 1s - loss: 0.3956 - accuracy: 0.8046 - val_loss: 0.4423 - val_accuracy: 0.7857 - 675ms/epoch - 34ms/step\n",
            "Epoch 40/500\n",
            "20/20 - 0s - loss: 0.3910 - accuracy: 0.8078 - val_loss: 0.4467 - val_accuracy: 0.7792 - 173ms/epoch - 9ms/step\n",
            "Epoch 41/500\n",
            "20/20 - 0s - loss: 0.3927 - accuracy: 0.8111 - val_loss: 0.4568 - val_accuracy: 0.7727 - 161ms/epoch - 8ms/step\n",
            "Epoch 42/500\n",
            "20/20 - 0s - loss: 0.3920 - accuracy: 0.8290 - val_loss: 0.4428 - val_accuracy: 0.7857 - 168ms/epoch - 8ms/step\n",
            "Epoch 43/500\n",
            "20/20 - 0s - loss: 0.3855 - accuracy: 0.8127 - val_loss: 0.4498 - val_accuracy: 0.7922 - 167ms/epoch - 8ms/step\n",
            "Epoch 44/500\n",
            "INFO:tensorflow:Assets written to: /Users/martinkatkovcin/Documents/School/NSIETE/Zadanie1/wandb/run-20230329_113305-lr-scheduler-adam-bce-cos-deeper/files/model-best/assets\n"
          ]
        },
        {
          "name": "stderr",
          "output_type": "stream",
          "text": [
            "\u001b[34m\u001b[1mwandb\u001b[0m: Adding directory to artifact (/Users/martinkatkovcin/Documents/School/NSIETE/Zadanie1/wandb/run-20230329_113305-lr-scheduler-adam-bce-cos-deeper/files/model-best)... Done. 0.0s\n"
          ]
        },
        {
          "name": "stdout",
          "output_type": "stream",
          "text": [
            "20/20 - 1s - loss: 0.3838 - accuracy: 0.8127 - val_loss: 0.4390 - val_accuracy: 0.7922 - 634ms/epoch - 32ms/step\n",
            "Epoch 45/500\n",
            "INFO:tensorflow:Assets written to: /Users/martinkatkovcin/Documents/School/NSIETE/Zadanie1/wandb/run-20230329_113305-lr-scheduler-adam-bce-cos-deeper/files/model-best/assets\n"
          ]
        },
        {
          "name": "stderr",
          "output_type": "stream",
          "text": [
            "\u001b[34m\u001b[1mwandb\u001b[0m: Adding directory to artifact (/Users/martinkatkovcin/Documents/School/NSIETE/Zadanie1/wandb/run-20230329_113305-lr-scheduler-adam-bce-cos-deeper/files/model-best)... Done. 0.0s\n"
          ]
        },
        {
          "name": "stdout",
          "output_type": "stream",
          "text": [
            "20/20 - 1s - loss: 0.3817 - accuracy: 0.8143 - val_loss: 0.4370 - val_accuracy: 0.7922 - 626ms/epoch - 31ms/step\n",
            "Epoch 46/500\n",
            "20/20 - 0s - loss: 0.3809 - accuracy: 0.8160 - val_loss: 0.4415 - val_accuracy: 0.7857 - 175ms/epoch - 9ms/step\n",
            "Epoch 47/500\n",
            "20/20 - 0s - loss: 0.3793 - accuracy: 0.8208 - val_loss: 0.4403 - val_accuracy: 0.7987 - 163ms/epoch - 8ms/step\n",
            "Epoch 48/500\n",
            "INFO:tensorflow:Assets written to: /Users/martinkatkovcin/Documents/School/NSIETE/Zadanie1/wandb/run-20230329_113305-lr-scheduler-adam-bce-cos-deeper/files/model-best/assets\n"
          ]
        },
        {
          "name": "stderr",
          "output_type": "stream",
          "text": [
            "\u001b[34m\u001b[1mwandb\u001b[0m: Adding directory to artifact (/Users/martinkatkovcin/Documents/School/NSIETE/Zadanie1/wandb/run-20230329_113305-lr-scheduler-adam-bce-cos-deeper/files/model-best)... Done. 0.0s\n"
          ]
        },
        {
          "name": "stdout",
          "output_type": "stream",
          "text": [
            "20/20 - 1s - loss: 0.3786 - accuracy: 0.8225 - val_loss: 0.4342 - val_accuracy: 0.8052 - 622ms/epoch - 31ms/step\n",
            "Epoch 49/500\n",
            "20/20 - 0s - loss: 0.3771 - accuracy: 0.8192 - val_loss: 0.4405 - val_accuracy: 0.7987 - 173ms/epoch - 9ms/step\n",
            "Epoch 50/500\n",
            "20/20 - 0s - loss: 0.3750 - accuracy: 0.8176 - val_loss: 0.4414 - val_accuracy: 0.7857 - 175ms/epoch - 9ms/step\n",
            "Epoch 51/500\n",
            "20/20 - 0s - loss: 0.3743 - accuracy: 0.8160 - val_loss: 0.4455 - val_accuracy: 0.7922 - 228ms/epoch - 11ms/step\n",
            "Epoch 52/500\n",
            "20/20 - 0s - loss: 0.3706 - accuracy: 0.8208 - val_loss: 0.4424 - val_accuracy: 0.7987 - 174ms/epoch - 9ms/step\n",
            "Epoch 53/500\n",
            "20/20 - 0s - loss: 0.3687 - accuracy: 0.8241 - val_loss: 0.4397 - val_accuracy: 0.7987 - 180ms/epoch - 9ms/step\n",
            "Epoch 54/500\n",
            "20/20 - 0s - loss: 0.3675 - accuracy: 0.8241 - val_loss: 0.4425 - val_accuracy: 0.7987 - 183ms/epoch - 9ms/step\n",
            "Epoch 55/500\n",
            "20/20 - 0s - loss: 0.3705 - accuracy: 0.8241 - val_loss: 0.4385 - val_accuracy: 0.7987 - 171ms/epoch - 9ms/step\n",
            "Epoch 56/500\n",
            "20/20 - 0s - loss: 0.3630 - accuracy: 0.8241 - val_loss: 0.4345 - val_accuracy: 0.7987 - 161ms/epoch - 8ms/step\n",
            "Epoch 57/500\n",
            "20/20 - 0s - loss: 0.3626 - accuracy: 0.8241 - val_loss: 0.4426 - val_accuracy: 0.7987 - 162ms/epoch - 8ms/step\n",
            "Epoch 58/500\n",
            "20/20 - 0s - loss: 0.3601 - accuracy: 0.8322 - val_loss: 0.4360 - val_accuracy: 0.7987 - 165ms/epoch - 8ms/step\n",
            "Epoch 59/500\n",
            "20/20 - 0s - loss: 0.3584 - accuracy: 0.8322 - val_loss: 0.4372 - val_accuracy: 0.8052 - 164ms/epoch - 8ms/step\n",
            "Epoch 60/500\n",
            "20/20 - 0s - loss: 0.3569 - accuracy: 0.8290 - val_loss: 0.4395 - val_accuracy: 0.7987 - 169ms/epoch - 8ms/step\n",
            "Epoch 61/500\n",
            "20/20 - 0s - loss: 0.3566 - accuracy: 0.8371 - val_loss: 0.4452 - val_accuracy: 0.8052 - 173ms/epoch - 9ms/step\n",
            "Epoch 62/500\n",
            "20/20 - 0s - loss: 0.3552 - accuracy: 0.8355 - val_loss: 0.4411 - val_accuracy: 0.8117 - 168ms/epoch - 8ms/step\n",
            "Epoch 63/500\n",
            "20/20 - 0s - loss: 0.3548 - accuracy: 0.8371 - val_loss: 0.4432 - val_accuracy: 0.8117 - 172ms/epoch - 9ms/step\n",
            "Epoch 64/500\n",
            "INFO:tensorflow:Assets written to: /Users/martinkatkovcin/Documents/School/NSIETE/Zadanie1/wandb/run-20230329_113305-lr-scheduler-adam-bce-cos-deeper/files/model-best/assets\n"
          ]
        },
        {
          "name": "stderr",
          "output_type": "stream",
          "text": [
            "\u001b[34m\u001b[1mwandb\u001b[0m: Adding directory to artifact (/Users/martinkatkovcin/Documents/School/NSIETE/Zadanie1/wandb/run-20230329_113305-lr-scheduler-adam-bce-cos-deeper/files/model-best)... Done. 0.0s\n"
          ]
        },
        {
          "name": "stdout",
          "output_type": "stream",
          "text": [
            "20/20 - 1s - loss: 0.3518 - accuracy: 0.8371 - val_loss: 0.4323 - val_accuracy: 0.8052 - 719ms/epoch - 36ms/step\n",
            "Epoch 65/500\n",
            "INFO:tensorflow:Assets written to: /Users/martinkatkovcin/Documents/School/NSIETE/Zadanie1/wandb/run-20230329_113305-lr-scheduler-adam-bce-cos-deeper/files/model-best/assets\n"
          ]
        },
        {
          "name": "stderr",
          "output_type": "stream",
          "text": [
            "\u001b[34m\u001b[1mwandb\u001b[0m: Adding directory to artifact (/Users/martinkatkovcin/Documents/School/NSIETE/Zadanie1/wandb/run-20230329_113305-lr-scheduler-adam-bce-cos-deeper/files/model-best)... Done. 0.0s\n"
          ]
        },
        {
          "name": "stdout",
          "output_type": "stream",
          "text": [
            "20/20 - 1s - loss: 0.3507 - accuracy: 0.8420 - val_loss: 0.4305 - val_accuracy: 0.8052 - 627ms/epoch - 31ms/step\n",
            "Epoch 66/500\n",
            "20/20 - 0s - loss: 0.3498 - accuracy: 0.8404 - val_loss: 0.4351 - val_accuracy: 0.8052 - 177ms/epoch - 9ms/step\n",
            "Epoch 67/500\n",
            "20/20 - 0s - loss: 0.3478 - accuracy: 0.8371 - val_loss: 0.4363 - val_accuracy: 0.8117 - 166ms/epoch - 8ms/step\n",
            "Epoch 68/500\n",
            "INFO:tensorflow:Assets written to: /Users/martinkatkovcin/Documents/School/NSIETE/Zadanie1/wandb/run-20230329_113305-lr-scheduler-adam-bce-cos-deeper/files/model-best/assets\n"
          ]
        },
        {
          "name": "stderr",
          "output_type": "stream",
          "text": [
            "\u001b[34m\u001b[1mwandb\u001b[0m: Adding directory to artifact (/Users/martinkatkovcin/Documents/School/NSIETE/Zadanie1/wandb/run-20230329_113305-lr-scheduler-adam-bce-cos-deeper/files/model-best)... Done. 0.0s\n"
          ]
        },
        {
          "name": "stdout",
          "output_type": "stream",
          "text": [
            "20/20 - 1s - loss: 0.3471 - accuracy: 0.8485 - val_loss: 0.4282 - val_accuracy: 0.8117 - 630ms/epoch - 31ms/step\n",
            "Epoch 69/500\n",
            "20/20 - 0s - loss: 0.3432 - accuracy: 0.8436 - val_loss: 0.4352 - val_accuracy: 0.8117 - 179ms/epoch - 9ms/step\n",
            "Epoch 70/500\n",
            "20/20 - 0s - loss: 0.3434 - accuracy: 0.8469 - val_loss: 0.4323 - val_accuracy: 0.8117 - 165ms/epoch - 8ms/step\n",
            "Epoch 71/500\n",
            "20/20 - 0s - loss: 0.3425 - accuracy: 0.8453 - val_loss: 0.4340 - val_accuracy: 0.8052 - 163ms/epoch - 8ms/step\n",
            "Epoch 72/500\n",
            "20/20 - 0s - loss: 0.3418 - accuracy: 0.8355 - val_loss: 0.4317 - val_accuracy: 0.8117 - 167ms/epoch - 8ms/step\n",
            "Epoch 73/500\n",
            "INFO:tensorflow:Assets written to: /Users/martinkatkovcin/Documents/School/NSIETE/Zadanie1/wandb/run-20230329_113305-lr-scheduler-adam-bce-cos-deeper/files/model-best/assets\n"
          ]
        },
        {
          "name": "stderr",
          "output_type": "stream",
          "text": [
            "\u001b[34m\u001b[1mwandb\u001b[0m: Adding directory to artifact (/Users/martinkatkovcin/Documents/School/NSIETE/Zadanie1/wandb/run-20230329_113305-lr-scheduler-adam-bce-cos-deeper/files/model-best)... Done. 0.0s\n"
          ]
        },
        {
          "name": "stdout",
          "output_type": "stream",
          "text": [
            "20/20 - 1s - loss: 0.3383 - accuracy: 0.8469 - val_loss: 0.4242 - val_accuracy: 0.8182 - 649ms/epoch - 32ms/step\n",
            "Epoch 74/500\n",
            "20/20 - 0s - loss: 0.3386 - accuracy: 0.8534 - val_loss: 0.4298 - val_accuracy: 0.8247 - 162ms/epoch - 8ms/step\n",
            "Epoch 75/500\n",
            "20/20 - 0s - loss: 0.3420 - accuracy: 0.8388 - val_loss: 0.4364 - val_accuracy: 0.8247 - 167ms/epoch - 8ms/step\n",
            "Epoch 76/500\n",
            "20/20 - 0s - loss: 0.3409 - accuracy: 0.8567 - val_loss: 0.4297 - val_accuracy: 0.8247 - 173ms/epoch - 9ms/step\n",
            "Epoch 77/500\n",
            "20/20 - 0s - loss: 0.3350 - accuracy: 0.8502 - val_loss: 0.4299 - val_accuracy: 0.8247 - 169ms/epoch - 8ms/step\n",
            "Epoch 78/500\n",
            "20/20 - 0s - loss: 0.3348 - accuracy: 0.8485 - val_loss: 0.4314 - val_accuracy: 0.8247 - 172ms/epoch - 9ms/step\n",
            "Epoch 79/500\n",
            "20/20 - 0s - loss: 0.3353 - accuracy: 0.8534 - val_loss: 0.4249 - val_accuracy: 0.8312 - 164ms/epoch - 8ms/step\n",
            "Epoch 80/500\n",
            "20/20 - 0s - loss: 0.3349 - accuracy: 0.8436 - val_loss: 0.4257 - val_accuracy: 0.8312 - 197ms/epoch - 10ms/step\n",
            "Epoch 81/500\n",
            "20/20 - 0s - loss: 0.3316 - accuracy: 0.8469 - val_loss: 0.4250 - val_accuracy: 0.8312 - 199ms/epoch - 10ms/step\n",
            "Epoch 82/500\n",
            "20/20 - 0s - loss: 0.3311 - accuracy: 0.8567 - val_loss: 0.4264 - val_accuracy: 0.8312 - 182ms/epoch - 9ms/step\n",
            "Epoch 83/500\n",
            "20/20 - 0s - loss: 0.3290 - accuracy: 0.8567 - val_loss: 0.4315 - val_accuracy: 0.8377 - 177ms/epoch - 9ms/step\n",
            "Epoch 84/500\n",
            "20/20 - 0s - loss: 0.3290 - accuracy: 0.8518 - val_loss: 0.4332 - val_accuracy: 0.8312 - 175ms/epoch - 9ms/step\n",
            "Epoch 85/500\n",
            "20/20 - 0s - loss: 0.3252 - accuracy: 0.8681 - val_loss: 0.4275 - val_accuracy: 0.8571 - 174ms/epoch - 9ms/step\n",
            "Epoch 86/500\n",
            "20/20 - 0s - loss: 0.3291 - accuracy: 0.8599 - val_loss: 0.4343 - val_accuracy: 0.8506 - 171ms/epoch - 9ms/step\n",
            "Epoch 87/500\n",
            "20/20 - 0s - loss: 0.3317 - accuracy: 0.8469 - val_loss: 0.4440 - val_accuracy: 0.8312 - 168ms/epoch - 8ms/step\n",
            "Epoch 88/500\n",
            "20/20 - 0s - loss: 0.3272 - accuracy: 0.8534 - val_loss: 0.4249 - val_accuracy: 0.8442 - 165ms/epoch - 8ms/step\n",
            "Epoch 89/500\n",
            "20/20 - 0s - loss: 0.3241 - accuracy: 0.8648 - val_loss: 0.4277 - val_accuracy: 0.8442 - 207ms/epoch - 10ms/step\n",
            "Epoch 90/500\n",
            "20/20 - 0s - loss: 0.3267 - accuracy: 0.8485 - val_loss: 0.4381 - val_accuracy: 0.8377 - 164ms/epoch - 8ms/step\n",
            "Epoch 91/500\n",
            "20/20 - 0s - loss: 0.3201 - accuracy: 0.8616 - val_loss: 0.4262 - val_accuracy: 0.8571 - 165ms/epoch - 8ms/step\n",
            "Epoch 92/500\n",
            "20/20 - 0s - loss: 0.3237 - accuracy: 0.8550 - val_loss: 0.4274 - val_accuracy: 0.8506 - 166ms/epoch - 8ms/step\n",
            "Epoch 93/500\n",
            "20/20 - 0s - loss: 0.3205 - accuracy: 0.8616 - val_loss: 0.4257 - val_accuracy: 0.8506 - 167ms/epoch - 8ms/step\n",
            "Epoch 94/500\n",
            "20/20 - 0s - loss: 0.3199 - accuracy: 0.8599 - val_loss: 0.4291 - val_accuracy: 0.8571 - 166ms/epoch - 8ms/step\n",
            "Epoch 95/500\n",
            "20/20 - 0s - loss: 0.3214 - accuracy: 0.8632 - val_loss: 0.4297 - val_accuracy: 0.8571 - 170ms/epoch - 9ms/step\n",
            "Epoch 96/500\n",
            "20/20 - 0s - loss: 0.3206 - accuracy: 0.8632 - val_loss: 0.4337 - val_accuracy: 0.8377 - 184ms/epoch - 9ms/step\n",
            "Epoch 97/500\n",
            "20/20 - 0s - loss: 0.3200 - accuracy: 0.8550 - val_loss: 0.4315 - val_accuracy: 0.8636 - 180ms/epoch - 9ms/step\n",
            "Epoch 98/500\n",
            "INFO:tensorflow:Assets written to: /Users/martinkatkovcin/Documents/School/NSIETE/Zadanie1/wandb/run-20230329_113305-lr-scheduler-adam-bce-cos-deeper/files/model-best/assets\n"
          ]
        },
        {
          "name": "stderr",
          "output_type": "stream",
          "text": [
            "\u001b[34m\u001b[1mwandb\u001b[0m: Adding directory to artifact (/Users/martinkatkovcin/Documents/School/NSIETE/Zadanie1/wandb/run-20230329_113305-lr-scheduler-adam-bce-cos-deeper/files/model-best)... Done. 0.0s\n"
          ]
        },
        {
          "name": "stdout",
          "output_type": "stream",
          "text": [
            "20/20 - 1s - loss: 0.3174 - accuracy: 0.8583 - val_loss: 0.4238 - val_accuracy: 0.8506 - 646ms/epoch - 32ms/step\n",
            "Epoch 99/500\n",
            "20/20 - 0s - loss: 0.3176 - accuracy: 0.8550 - val_loss: 0.4309 - val_accuracy: 0.8506 - 180ms/epoch - 9ms/step\n",
            "Epoch 100/500\n",
            "20/20 - 0s - loss: 0.3166 - accuracy: 0.8632 - val_loss: 0.4335 - val_accuracy: 0.8571 - 169ms/epoch - 8ms/step\n",
            "Epoch 101/500\n",
            "20/20 - 0s - loss: 0.3168 - accuracy: 0.8567 - val_loss: 0.4365 - val_accuracy: 0.8442 - 176ms/epoch - 9ms/step\n",
            "Epoch 102/500\n",
            "20/20 - 0s - loss: 0.3162 - accuracy: 0.8713 - val_loss: 0.4300 - val_accuracy: 0.8571 - 165ms/epoch - 8ms/step\n",
            "Epoch 103/500\n",
            "20/20 - 0s - loss: 0.3137 - accuracy: 0.8616 - val_loss: 0.4239 - val_accuracy: 0.8571 - 170ms/epoch - 9ms/step\n",
            "Epoch 104/500\n",
            "20/20 - 0s - loss: 0.3152 - accuracy: 0.8583 - val_loss: 0.4446 - val_accuracy: 0.8377 - 169ms/epoch - 8ms/step\n",
            "Epoch 105/500\n",
            "20/20 - 0s - loss: 0.3234 - accuracy: 0.8664 - val_loss: 0.4303 - val_accuracy: 0.8636 - 206ms/epoch - 10ms/step\n",
            "Epoch 106/500\n",
            "20/20 - 0s - loss: 0.3132 - accuracy: 0.8599 - val_loss: 0.4310 - val_accuracy: 0.8701 - 177ms/epoch - 9ms/step\n",
            "Epoch 107/500\n",
            "INFO:tensorflow:Assets written to: /Users/martinkatkovcin/Documents/School/NSIETE/Zadanie1/wandb/run-20230329_113305-lr-scheduler-adam-bce-cos-deeper/files/model-best/assets\n"
          ]
        },
        {
          "name": "stderr",
          "output_type": "stream",
          "text": [
            "\u001b[34m\u001b[1mwandb\u001b[0m: Adding directory to artifact (/Users/martinkatkovcin/Documents/School/NSIETE/Zadanie1/wandb/run-20230329_113305-lr-scheduler-adam-bce-cos-deeper/files/model-best)... Done. 0.0s\n"
          ]
        },
        {
          "name": "stdout",
          "output_type": "stream",
          "text": [
            "20/20 - 1s - loss: 0.3121 - accuracy: 0.8648 - val_loss: 0.4227 - val_accuracy: 0.8701 - 1s/epoch - 67ms/step\n",
            "Epoch 108/500\n",
            "20/20 - 0s - loss: 0.3112 - accuracy: 0.8616 - val_loss: 0.4315 - val_accuracy: 0.8571 - 335ms/epoch - 17ms/step\n",
            "Epoch 109/500\n",
            "20/20 - 0s - loss: 0.3150 - accuracy: 0.8583 - val_loss: 0.4394 - val_accuracy: 0.8571 - 182ms/epoch - 9ms/step\n",
            "Epoch 110/500\n",
            "20/20 - 0s - loss: 0.3133 - accuracy: 0.8713 - val_loss: 0.4239 - val_accuracy: 0.8636 - 165ms/epoch - 8ms/step\n",
            "Epoch 111/500\n",
            "20/20 - 0s - loss: 0.3161 - accuracy: 0.8648 - val_loss: 0.4379 - val_accuracy: 0.8506 - 164ms/epoch - 8ms/step\n",
            "Epoch 112/500\n",
            "20/20 - 0s - loss: 0.3116 - accuracy: 0.8730 - val_loss: 0.4304 - val_accuracy: 0.8636 - 164ms/epoch - 8ms/step\n",
            "Epoch 113/500\n",
            "20/20 - 0s - loss: 0.3124 - accuracy: 0.8681 - val_loss: 0.4268 - val_accuracy: 0.8636 - 159ms/epoch - 8ms/step\n",
            "Epoch 114/500\n",
            "20/20 - 0s - loss: 0.3097 - accuracy: 0.8664 - val_loss: 0.4280 - val_accuracy: 0.8571 - 157ms/epoch - 8ms/step\n",
            "Epoch 115/500\n",
            "20/20 - 0s - loss: 0.3086 - accuracy: 0.8697 - val_loss: 0.4276 - val_accuracy: 0.8701 - 166ms/epoch - 8ms/step\n",
            "Epoch 116/500\n",
            "20/20 - 0s - loss: 0.3092 - accuracy: 0.8746 - val_loss: 0.4248 - val_accuracy: 0.8636 - 171ms/epoch - 9ms/step\n",
            "Epoch 117/500\n",
            "20/20 - 0s - loss: 0.3075 - accuracy: 0.8681 - val_loss: 0.4407 - val_accuracy: 0.8636 - 168ms/epoch - 8ms/step\n",
            "Epoch 118/500\n",
            "20/20 - 0s - loss: 0.3075 - accuracy: 0.8730 - val_loss: 0.4302 - val_accuracy: 0.8701 - 230ms/epoch - 12ms/step\n",
            "Epoch 119/500\n",
            "20/20 - 0s - loss: 0.3050 - accuracy: 0.8713 - val_loss: 0.4323 - val_accuracy: 0.8636 - 163ms/epoch - 8ms/step\n",
            "Epoch 120/500\n",
            "20/20 - 0s - loss: 0.3070 - accuracy: 0.8762 - val_loss: 0.4397 - val_accuracy: 0.8636 - 193ms/epoch - 10ms/step\n",
            "Epoch 121/500\n",
            "20/20 - 0s - loss: 0.3055 - accuracy: 0.8713 - val_loss: 0.4373 - val_accuracy: 0.8636 - 156ms/epoch - 8ms/step\n",
            "Epoch 122/500\n",
            "20/20 - 0s - loss: 0.3056 - accuracy: 0.8681 - val_loss: 0.4325 - val_accuracy: 0.8636 - 158ms/epoch - 8ms/step\n",
            "Epoch 123/500\n",
            "20/20 - 0s - loss: 0.3062 - accuracy: 0.8697 - val_loss: 0.4407 - val_accuracy: 0.8506 - 160ms/epoch - 8ms/step\n",
            "Epoch 124/500\n",
            "20/20 - 0s - loss: 0.3048 - accuracy: 0.8730 - val_loss: 0.4305 - val_accuracy: 0.8636 - 158ms/epoch - 8ms/step\n",
            "Epoch 125/500\n",
            "20/20 - 0s - loss: 0.3063 - accuracy: 0.8795 - val_loss: 0.4343 - val_accuracy: 0.8636 - 159ms/epoch - 8ms/step\n",
            "Epoch 126/500\n",
            "20/20 - 0s - loss: 0.3052 - accuracy: 0.8713 - val_loss: 0.4357 - val_accuracy: 0.8442 - 161ms/epoch - 8ms/step\n",
            "Epoch 127/500\n",
            "20/20 - 0s - loss: 0.3082 - accuracy: 0.8713 - val_loss: 0.4319 - val_accuracy: 0.8571 - 168ms/epoch - 8ms/step\n",
            "Epoch 128/500\n",
            "20/20 - 0s - loss: 0.3063 - accuracy: 0.8713 - val_loss: 0.4264 - val_accuracy: 0.8636 - 176ms/epoch - 9ms/step\n",
            "Epoch 129/500\n",
            "20/20 - 0s - loss: 0.3041 - accuracy: 0.8713 - val_loss: 0.4393 - val_accuracy: 0.8571 - 167ms/epoch - 8ms/step\n",
            "Epoch 130/500\n",
            "20/20 - 0s - loss: 0.3049 - accuracy: 0.8795 - val_loss: 0.4275 - val_accuracy: 0.8636 - 174ms/epoch - 9ms/step\n",
            "Epoch 131/500\n",
            "INFO:tensorflow:Assets written to: /Users/martinkatkovcin/Documents/School/NSIETE/Zadanie1/wandb/run-20230329_113305-lr-scheduler-adam-bce-cos-deeper/files/model-best/assets\n"
          ]
        },
        {
          "name": "stderr",
          "output_type": "stream",
          "text": [
            "\u001b[34m\u001b[1mwandb\u001b[0m: Adding directory to artifact (/Users/martinkatkovcin/Documents/School/NSIETE/Zadanie1/wandb/run-20230329_113305-lr-scheduler-adam-bce-cos-deeper/files/model-best)... Done. 0.0s\n"
          ]
        },
        {
          "name": "stdout",
          "output_type": "stream",
          "text": [
            "20/20 - 1s - loss: 0.3061 - accuracy: 0.8681 - val_loss: 0.4215 - val_accuracy: 0.8701 - 666ms/epoch - 33ms/step\n",
            "Epoch 132/500\n",
            "20/20 - 0s - loss: 0.3068 - accuracy: 0.8681 - val_loss: 0.4409 - val_accuracy: 0.8636 - 231ms/epoch - 12ms/step\n",
            "Epoch 133/500\n",
            "20/20 - 0s - loss: 0.3064 - accuracy: 0.8876 - val_loss: 0.4295 - val_accuracy: 0.8571 - 208ms/epoch - 10ms/step\n",
            "Epoch 134/500\n",
            "20/20 - 0s - loss: 0.3051 - accuracy: 0.8730 - val_loss: 0.4412 - val_accuracy: 0.8506 - 174ms/epoch - 9ms/step\n",
            "Epoch 135/500\n",
            "20/20 - 0s - loss: 0.3023 - accuracy: 0.8746 - val_loss: 0.4260 - val_accuracy: 0.8701 - 164ms/epoch - 8ms/step\n",
            "Epoch 136/500\n",
            "20/20 - 0s - loss: 0.3015 - accuracy: 0.8664 - val_loss: 0.4361 - val_accuracy: 0.8442 - 234ms/epoch - 12ms/step\n",
            "Epoch 137/500\n",
            "20/20 - 0s - loss: 0.3013 - accuracy: 0.8762 - val_loss: 0.4334 - val_accuracy: 0.8636 - 163ms/epoch - 8ms/step\n",
            "Epoch 138/500\n",
            "20/20 - 0s - loss: 0.3034 - accuracy: 0.8746 - val_loss: 0.4344 - val_accuracy: 0.8442 - 167ms/epoch - 8ms/step\n",
            "Epoch 139/500\n",
            "20/20 - 0s - loss: 0.3036 - accuracy: 0.8779 - val_loss: 0.4338 - val_accuracy: 0.8506 - 168ms/epoch - 8ms/step\n",
            "Epoch 140/500\n",
            "20/20 - 0s - loss: 0.3023 - accuracy: 0.8746 - val_loss: 0.4378 - val_accuracy: 0.8571 - 215ms/epoch - 11ms/step\n",
            "Epoch 141/500\n",
            "20/20 - 0s - loss: 0.3076 - accuracy: 0.8746 - val_loss: 0.4319 - val_accuracy: 0.8571 - 205ms/epoch - 10ms/step\n",
            "Epoch 142/500\n",
            "20/20 - 0s - loss: 0.3001 - accuracy: 0.8746 - val_loss: 0.4351 - val_accuracy: 0.8571 - 190ms/epoch - 10ms/step\n",
            "Epoch 143/500\n",
            "20/20 - 0s - loss: 0.3048 - accuracy: 0.8746 - val_loss: 0.4236 - val_accuracy: 0.8766 - 167ms/epoch - 8ms/step\n",
            "Epoch 144/500\n",
            "20/20 - 0s - loss: 0.2996 - accuracy: 0.8762 - val_loss: 0.4289 - val_accuracy: 0.8701 - 232ms/epoch - 12ms/step\n",
            "Epoch 145/500\n",
            "20/20 - 0s - loss: 0.2987 - accuracy: 0.8844 - val_loss: 0.4360 - val_accuracy: 0.8571 - 363ms/epoch - 18ms/step\n",
            "Epoch 146/500\n",
            "20/20 - 0s - loss: 0.3028 - accuracy: 0.8762 - val_loss: 0.4289 - val_accuracy: 0.8636 - 182ms/epoch - 9ms/step\n",
            "Epoch 147/500\n",
            "20/20 - 0s - loss: 0.2994 - accuracy: 0.8795 - val_loss: 0.4384 - val_accuracy: 0.8571 - 178ms/epoch - 9ms/step\n",
            "Epoch 148/500\n",
            "20/20 - 0s - loss: 0.2981 - accuracy: 0.8779 - val_loss: 0.4345 - val_accuracy: 0.8571 - 284ms/epoch - 14ms/step\n",
            "Epoch 149/500\n",
            "20/20 - 0s - loss: 0.3001 - accuracy: 0.8827 - val_loss: 0.4390 - val_accuracy: 0.8506 - 231ms/epoch - 12ms/step\n",
            "Epoch 150/500\n",
            "20/20 - 0s - loss: 0.3012 - accuracy: 0.8811 - val_loss: 0.4227 - val_accuracy: 0.8636 - 332ms/epoch - 17ms/step\n",
            "Epoch 151/500\n",
            "20/20 - 0s - loss: 0.2997 - accuracy: 0.8795 - val_loss: 0.4345 - val_accuracy: 0.8571 - 281ms/epoch - 14ms/step\n",
            "Epoch 152/500\n",
            "20/20 - 0s - loss: 0.2982 - accuracy: 0.8795 - val_loss: 0.4411 - val_accuracy: 0.8571 - 239ms/epoch - 12ms/step\n",
            "Epoch 153/500\n",
            "20/20 - 0s - loss: 0.3004 - accuracy: 0.8795 - val_loss: 0.4439 - val_accuracy: 0.8377 - 205ms/epoch - 10ms/step\n",
            "Epoch 154/500\n",
            "20/20 - 0s - loss: 0.2983 - accuracy: 0.8795 - val_loss: 0.4340 - val_accuracy: 0.8571 - 211ms/epoch - 11ms/step\n",
            "Epoch 155/500\n",
            "20/20 - 0s - loss: 0.2970 - accuracy: 0.8779 - val_loss: 0.4293 - val_accuracy: 0.8571 - 236ms/epoch - 12ms/step\n",
            "Epoch 156/500\n",
            "20/20 - 0s - loss: 0.2966 - accuracy: 0.8811 - val_loss: 0.4374 - val_accuracy: 0.8506 - 203ms/epoch - 10ms/step\n",
            "Epoch 157/500\n",
            "20/20 - 0s - loss: 0.2956 - accuracy: 0.8811 - val_loss: 0.4348 - val_accuracy: 0.8571 - 191ms/epoch - 10ms/step\n",
            "Epoch 158/500\n",
            "20/20 - 0s - loss: 0.2960 - accuracy: 0.8795 - val_loss: 0.4318 - val_accuracy: 0.8571 - 200ms/epoch - 10ms/step\n",
            "Epoch 159/500\n",
            "20/20 - 0s - loss: 0.2967 - accuracy: 0.8762 - val_loss: 0.4363 - val_accuracy: 0.8506 - 203ms/epoch - 10ms/step\n",
            "Epoch 160/500\n",
            "20/20 - 0s - loss: 0.2997 - accuracy: 0.8827 - val_loss: 0.4249 - val_accuracy: 0.8766 - 257ms/epoch - 13ms/step\n",
            "Epoch 161/500\n",
            "20/20 - 0s - loss: 0.2976 - accuracy: 0.8762 - val_loss: 0.4432 - val_accuracy: 0.8506 - 179ms/epoch - 9ms/step\n",
            "Epoch 162/500\n",
            "20/20 - 0s - loss: 0.2951 - accuracy: 0.8779 - val_loss: 0.4302 - val_accuracy: 0.8701 - 205ms/epoch - 10ms/step\n",
            "Epoch 163/500\n",
            "20/20 - 0s - loss: 0.2948 - accuracy: 0.8811 - val_loss: 0.4423 - val_accuracy: 0.8571 - 216ms/epoch - 11ms/step\n",
            "Epoch 164/500\n",
            "20/20 - 0s - loss: 0.2980 - accuracy: 0.8795 - val_loss: 0.4324 - val_accuracy: 0.8506 - 194ms/epoch - 10ms/step\n",
            "Epoch 165/500\n",
            "20/20 - 0s - loss: 0.2933 - accuracy: 0.8827 - val_loss: 0.4421 - val_accuracy: 0.8506 - 169ms/epoch - 8ms/step\n",
            "Epoch 166/500\n",
            "20/20 - 0s - loss: 0.2925 - accuracy: 0.8795 - val_loss: 0.4346 - val_accuracy: 0.8636 - 164ms/epoch - 8ms/step\n",
            "Epoch 167/500\n",
            "20/20 - 0s - loss: 0.2952 - accuracy: 0.8844 - val_loss: 0.4397 - val_accuracy: 0.8571 - 166ms/epoch - 8ms/step\n",
            "Epoch 168/500\n",
            "20/20 - 0s - loss: 0.2932 - accuracy: 0.8844 - val_loss: 0.4298 - val_accuracy: 0.8636 - 168ms/epoch - 8ms/step\n",
            "Epoch 169/500\n",
            "20/20 - 0s - loss: 0.2935 - accuracy: 0.8844 - val_loss: 0.4355 - val_accuracy: 0.8571 - 162ms/epoch - 8ms/step\n",
            "Epoch 170/500\n",
            "20/20 - 0s - loss: 0.2922 - accuracy: 0.8795 - val_loss: 0.4427 - val_accuracy: 0.8506 - 159ms/epoch - 8ms/step\n",
            "Epoch 171/500\n",
            "20/20 - 0s - loss: 0.2940 - accuracy: 0.8762 - val_loss: 0.4304 - val_accuracy: 0.8636 - 163ms/epoch - 8ms/step\n",
            "Epoch 172/500\n",
            "20/20 - 0s - loss: 0.2937 - accuracy: 0.8811 - val_loss: 0.4537 - val_accuracy: 0.8442 - 165ms/epoch - 8ms/step\n",
            "Epoch 173/500\n",
            "20/20 - 0s - loss: 0.2964 - accuracy: 0.8779 - val_loss: 0.4337 - val_accuracy: 0.8442 - 165ms/epoch - 8ms/step\n",
            "Epoch 174/500\n",
            "20/20 - 0s - loss: 0.2930 - accuracy: 0.8827 - val_loss: 0.4322 - val_accuracy: 0.8636 - 284ms/epoch - 14ms/step\n",
            "Epoch 175/500\n",
            "20/20 - 0s - loss: 0.2919 - accuracy: 0.8811 - val_loss: 0.4354 - val_accuracy: 0.8636 - 176ms/epoch - 9ms/step\n",
            "Epoch 176/500\n",
            "20/20 - 0s - loss: 0.2943 - accuracy: 0.8844 - val_loss: 0.4470 - val_accuracy: 0.8571 - 181ms/epoch - 9ms/step\n",
            "Epoch 177/500\n",
            "20/20 - 0s - loss: 0.2945 - accuracy: 0.8811 - val_loss: 0.4330 - val_accuracy: 0.8571 - 199ms/epoch - 10ms/step\n",
            "Epoch 178/500\n",
            "20/20 - 0s - loss: 0.2984 - accuracy: 0.8811 - val_loss: 0.4429 - val_accuracy: 0.8506 - 238ms/epoch - 12ms/step\n",
            "Epoch 179/500\n",
            "20/20 - 0s - loss: 0.2937 - accuracy: 0.8795 - val_loss: 0.4373 - val_accuracy: 0.8636 - 227ms/epoch - 11ms/step\n",
            "Epoch 180/500\n",
            "20/20 - 0s - loss: 0.2983 - accuracy: 0.8779 - val_loss: 0.4308 - val_accuracy: 0.8571 - 159ms/epoch - 8ms/step\n",
            "Epoch 181/500\n",
            "20/20 - 0s - loss: 0.2947 - accuracy: 0.8779 - val_loss: 0.4350 - val_accuracy: 0.8506 - 164ms/epoch - 8ms/step\n",
            "Epoch 182/500\n",
            "20/20 - 0s - loss: 0.2902 - accuracy: 0.8909 - val_loss: 0.4429 - val_accuracy: 0.8636 - 163ms/epoch - 8ms/step\n",
            "Epoch 183/500\n",
            "20/20 - 0s - loss: 0.2921 - accuracy: 0.8779 - val_loss: 0.4353 - val_accuracy: 0.8571 - 161ms/epoch - 8ms/step\n",
            "Epoch 184/500\n",
            "20/20 - 0s - loss: 0.2902 - accuracy: 0.8795 - val_loss: 0.4324 - val_accuracy: 0.8506 - 160ms/epoch - 8ms/step\n",
            "Epoch 185/500\n",
            "20/20 - 0s - loss: 0.2901 - accuracy: 0.8827 - val_loss: 0.4288 - val_accuracy: 0.8701 - 171ms/epoch - 9ms/step\n",
            "Epoch 186/500\n",
            "20/20 - 0s - loss: 0.2914 - accuracy: 0.8811 - val_loss: 0.4486 - val_accuracy: 0.8571 - 166ms/epoch - 8ms/step\n",
            "Epoch 187/500\n",
            "20/20 - 0s - loss: 0.2972 - accuracy: 0.8795 - val_loss: 0.4300 - val_accuracy: 0.8571 - 255ms/epoch - 13ms/step\n",
            "Epoch 188/500\n",
            "20/20 - 0s - loss: 0.2909 - accuracy: 0.8827 - val_loss: 0.4325 - val_accuracy: 0.8571 - 218ms/epoch - 11ms/step\n",
            "Epoch 189/500\n",
            "20/20 - 0s - loss: 0.2908 - accuracy: 0.8811 - val_loss: 0.4397 - val_accuracy: 0.8636 - 232ms/epoch - 12ms/step\n",
            "Epoch 190/500\n",
            "20/20 - 0s - loss: 0.2927 - accuracy: 0.8827 - val_loss: 0.4345 - val_accuracy: 0.8571 - 204ms/epoch - 10ms/step\n",
            "Epoch 191/500\n",
            "20/20 - 0s - loss: 0.2901 - accuracy: 0.8844 - val_loss: 0.4352 - val_accuracy: 0.8506 - 184ms/epoch - 9ms/step\n",
            "Epoch 192/500\n",
            "20/20 - 0s - loss: 0.2966 - accuracy: 0.8893 - val_loss: 0.4493 - val_accuracy: 0.8571 - 178ms/epoch - 9ms/step\n",
            "Epoch 193/500\n",
            "20/20 - 0s - loss: 0.2944 - accuracy: 0.8730 - val_loss: 0.4314 - val_accuracy: 0.8701 - 174ms/epoch - 9ms/step\n",
            "Epoch 194/500\n",
            "20/20 - 0s - loss: 0.2911 - accuracy: 0.8827 - val_loss: 0.4459 - val_accuracy: 0.8506 - 165ms/epoch - 8ms/step\n",
            "Epoch 195/500\n",
            "20/20 - 0s - loss: 0.2929 - accuracy: 0.8876 - val_loss: 0.4344 - val_accuracy: 0.8571 - 169ms/epoch - 8ms/step\n",
            "Epoch 196/500\n",
            "20/20 - 0s - loss: 0.2886 - accuracy: 0.8860 - val_loss: 0.4327 - val_accuracy: 0.8571 - 168ms/epoch - 8ms/step\n",
            "Epoch 197/500\n",
            "20/20 - 0s - loss: 0.2920 - accuracy: 0.8827 - val_loss: 0.4369 - val_accuracy: 0.8571 - 166ms/epoch - 8ms/step\n",
            "Epoch 198/500\n",
            "20/20 - 0s - loss: 0.2880 - accuracy: 0.8844 - val_loss: 0.4360 - val_accuracy: 0.8571 - 169ms/epoch - 8ms/step\n",
            "Epoch 199/500\n",
            "20/20 - 0s - loss: 0.2896 - accuracy: 0.8827 - val_loss: 0.4298 - val_accuracy: 0.8636 - 166ms/epoch - 8ms/step\n",
            "Epoch 200/500\n",
            "20/20 - 0s - loss: 0.2919 - accuracy: 0.8893 - val_loss: 0.4458 - val_accuracy: 0.8506 - 172ms/epoch - 9ms/step\n",
            "Epoch 201/500\n",
            "20/20 - 0s - loss: 0.2903 - accuracy: 0.8811 - val_loss: 0.4272 - val_accuracy: 0.8701 - 205ms/epoch - 10ms/step\n",
            "Epoch 202/500\n",
            "20/20 - 0s - loss: 0.2886 - accuracy: 0.8795 - val_loss: 0.4341 - val_accuracy: 0.8571 - 185ms/epoch - 9ms/step\n",
            "Epoch 203/500\n",
            "20/20 - 0s - loss: 0.2882 - accuracy: 0.8876 - val_loss: 0.4384 - val_accuracy: 0.8571 - 208ms/epoch - 10ms/step\n",
            "Epoch 204/500\n",
            "20/20 - 0s - loss: 0.2872 - accuracy: 0.8827 - val_loss: 0.4371 - val_accuracy: 0.8636 - 202ms/epoch - 10ms/step\n",
            "Epoch 205/500\n",
            "20/20 - 0s - loss: 0.2865 - accuracy: 0.8827 - val_loss: 0.4275 - val_accuracy: 0.8636 - 196ms/epoch - 10ms/step\n",
            "Epoch 206/500\n",
            "20/20 - 0s - loss: 0.2882 - accuracy: 0.8795 - val_loss: 0.4359 - val_accuracy: 0.8636 - 173ms/epoch - 9ms/step\n",
            "Epoch 207/500\n",
            "20/20 - 0s - loss: 0.2886 - accuracy: 0.8909 - val_loss: 0.4486 - val_accuracy: 0.8506 - 156ms/epoch - 8ms/step\n",
            "Epoch 208/500\n",
            "20/20 - 0s - loss: 0.2851 - accuracy: 0.8795 - val_loss: 0.4276 - val_accuracy: 0.8506 - 159ms/epoch - 8ms/step\n",
            "Epoch 209/500\n",
            "20/20 - 0s - loss: 0.2879 - accuracy: 0.8844 - val_loss: 0.4366 - val_accuracy: 0.8571 - 167ms/epoch - 8ms/step\n",
            "Epoch 210/500\n",
            "20/20 - 0s - loss: 0.2902 - accuracy: 0.8779 - val_loss: 0.4484 - val_accuracy: 0.8571 - 167ms/epoch - 8ms/step\n",
            "Epoch 211/500\n",
            "20/20 - 0s - loss: 0.2891 - accuracy: 0.8779 - val_loss: 0.4267 - val_accuracy: 0.8571 - 162ms/epoch - 8ms/step\n",
            "Epoch 212/500\n",
            "20/20 - 0s - loss: 0.2884 - accuracy: 0.8827 - val_loss: 0.4424 - val_accuracy: 0.8571 - 165ms/epoch - 8ms/step\n",
            "Epoch 213/500\n",
            "20/20 - 0s - loss: 0.2878 - accuracy: 0.8876 - val_loss: 0.4382 - val_accuracy: 0.8571 - 164ms/epoch - 8ms/step\n",
            "Epoch 214/500\n",
            "20/20 - 0s - loss: 0.2868 - accuracy: 0.8795 - val_loss: 0.4284 - val_accuracy: 0.8701 - 166ms/epoch - 8ms/step\n",
            "Epoch 215/500\n",
            "20/20 - 0s - loss: 0.2900 - accuracy: 0.8844 - val_loss: 0.4285 - val_accuracy: 0.8701 - 166ms/epoch - 8ms/step\n",
            "Epoch 216/500\n",
            "20/20 - 0s - loss: 0.2897 - accuracy: 0.8876 - val_loss: 0.4459 - val_accuracy: 0.8571 - 206ms/epoch - 10ms/step\n",
            "Epoch 217/500\n",
            "20/20 - 0s - loss: 0.2853 - accuracy: 0.8844 - val_loss: 0.4363 - val_accuracy: 0.8571 - 189ms/epoch - 9ms/step\n",
            "Epoch 218/500\n",
            "20/20 - 0s - loss: 0.2856 - accuracy: 0.8844 - val_loss: 0.4340 - val_accuracy: 0.8506 - 181ms/epoch - 9ms/step\n",
            "Epoch 219/500\n",
            "20/20 - 0s - loss: 0.2846 - accuracy: 0.8811 - val_loss: 0.4336 - val_accuracy: 0.8636 - 181ms/epoch - 9ms/step\n",
            "Epoch 220/500\n",
            "20/20 - 0s - loss: 0.2870 - accuracy: 0.8827 - val_loss: 0.4363 - val_accuracy: 0.8571 - 162ms/epoch - 8ms/step\n",
            "Epoch 221/500\n",
            "20/20 - 0s - loss: 0.2860 - accuracy: 0.8811 - val_loss: 0.4343 - val_accuracy: 0.8571 - 157ms/epoch - 8ms/step\n",
            "Epoch 222/500\n",
            "20/20 - 0s - loss: 0.2853 - accuracy: 0.8844 - val_loss: 0.4431 - val_accuracy: 0.8571 - 161ms/epoch - 8ms/step\n",
            "Epoch 223/500\n",
            "20/20 - 0s - loss: 0.2858 - accuracy: 0.8876 - val_loss: 0.4405 - val_accuracy: 0.8506 - 157ms/epoch - 8ms/step\n",
            "Epoch 224/500\n",
            "20/20 - 0s - loss: 0.2855 - accuracy: 0.8827 - val_loss: 0.4311 - val_accuracy: 0.8506 - 163ms/epoch - 8ms/step\n",
            "Epoch 225/500\n",
            "20/20 - 0s - loss: 0.2876 - accuracy: 0.8893 - val_loss: 0.4419 - val_accuracy: 0.8506 - 161ms/epoch - 8ms/step\n",
            "Epoch 226/500\n",
            "20/20 - 0s - loss: 0.2862 - accuracy: 0.8811 - val_loss: 0.4307 - val_accuracy: 0.8571 - 159ms/epoch - 8ms/step\n",
            "Epoch 227/500\n",
            "20/20 - 0s - loss: 0.2844 - accuracy: 0.8795 - val_loss: 0.4329 - val_accuracy: 0.8571 - 166ms/epoch - 8ms/step\n",
            "Epoch 228/500\n",
            "20/20 - 0s - loss: 0.2838 - accuracy: 0.8893 - val_loss: 0.4434 - val_accuracy: 0.8442 - 160ms/epoch - 8ms/step\n",
            "Epoch 229/500\n",
            "20/20 - 0s - loss: 0.2825 - accuracy: 0.8876 - val_loss: 0.4376 - val_accuracy: 0.8571 - 164ms/epoch - 8ms/step\n",
            "Epoch 230/500\n",
            "20/20 - 0s - loss: 0.2825 - accuracy: 0.8844 - val_loss: 0.4310 - val_accuracy: 0.8701 - 174ms/epoch - 9ms/step\n",
            "Epoch 231/500\n",
            "20/20 - 0s - loss: 0.2827 - accuracy: 0.8844 - val_loss: 0.4392 - val_accuracy: 0.8636 - 216ms/epoch - 11ms/step\n",
            "Epoch 232/500\n",
            "20/20 - 0s - loss: 0.2831 - accuracy: 0.8827 - val_loss: 0.4332 - val_accuracy: 0.8506 - 197ms/epoch - 10ms/step\n",
            "Epoch 233/500\n",
            "20/20 - 0s - loss: 0.2912 - accuracy: 0.8860 - val_loss: 0.4564 - val_accuracy: 0.8571 - 174ms/epoch - 9ms/step\n",
            "Epoch 234/500\n",
            "20/20 - 0s - loss: 0.2895 - accuracy: 0.8779 - val_loss: 0.4273 - val_accuracy: 0.8571 - 172ms/epoch - 9ms/step\n",
            "Epoch 235/500\n",
            "20/20 - 0s - loss: 0.2827 - accuracy: 0.8811 - val_loss: 0.4379 - val_accuracy: 0.8636 - 171ms/epoch - 9ms/step\n",
            "Epoch 236/500\n",
            "20/20 - 0s - loss: 0.2829 - accuracy: 0.8876 - val_loss: 0.4382 - val_accuracy: 0.8571 - 165ms/epoch - 8ms/step\n",
            "Epoch 237/500\n",
            "20/20 - 0s - loss: 0.2819 - accuracy: 0.8844 - val_loss: 0.4353 - val_accuracy: 0.8636 - 160ms/epoch - 8ms/step\n",
            "Epoch 238/500\n",
            "20/20 - 0s - loss: 0.2837 - accuracy: 0.8860 - val_loss: 0.4408 - val_accuracy: 0.8636 - 165ms/epoch - 8ms/step\n",
            "Epoch 239/500\n",
            "20/20 - 0s - loss: 0.2812 - accuracy: 0.8844 - val_loss: 0.4330 - val_accuracy: 0.8636 - 164ms/epoch - 8ms/step\n",
            "Epoch 240/500\n",
            "20/20 - 0s - loss: 0.2827 - accuracy: 0.8893 - val_loss: 0.4446 - val_accuracy: 0.8506 - 163ms/epoch - 8ms/step\n",
            "Epoch 241/500\n",
            "20/20 - 0s - loss: 0.2815 - accuracy: 0.8893 - val_loss: 0.4339 - val_accuracy: 0.8636 - 173ms/epoch - 9ms/step\n",
            "Epoch 242/500\n",
            "20/20 - 0s - loss: 0.2812 - accuracy: 0.8844 - val_loss: 0.4332 - val_accuracy: 0.8636 - 161ms/epoch - 8ms/step\n",
            "Epoch 243/500\n",
            "20/20 - 0s - loss: 0.2816 - accuracy: 0.8844 - val_loss: 0.4414 - val_accuracy: 0.8506 - 160ms/epoch - 8ms/step\n",
            "Epoch 244/500\n",
            "20/20 - 0s - loss: 0.2845 - accuracy: 0.8779 - val_loss: 0.4370 - val_accuracy: 0.8442 - 172ms/epoch - 9ms/step\n",
            "Epoch 245/500\n",
            "20/20 - 0s - loss: 0.2811 - accuracy: 0.8860 - val_loss: 0.4340 - val_accuracy: 0.8636 - 178ms/epoch - 9ms/step\n",
            "Epoch 246/500\n",
            "20/20 - 0s - loss: 0.2825 - accuracy: 0.8876 - val_loss: 0.4383 - val_accuracy: 0.8442 - 223ms/epoch - 11ms/step\n",
            "Epoch 247/500\n",
            "20/20 - 0s - loss: 0.2829 - accuracy: 0.8827 - val_loss: 0.4328 - val_accuracy: 0.8636 - 182ms/epoch - 9ms/step\n",
            "Epoch 248/500\n",
            "20/20 - 0s - loss: 0.2806 - accuracy: 0.8779 - val_loss: 0.4360 - val_accuracy: 0.8506 - 170ms/epoch - 9ms/step\n",
            "Epoch 249/500\n",
            "20/20 - 0s - loss: 0.2799 - accuracy: 0.8860 - val_loss: 0.4406 - val_accuracy: 0.8506 - 168ms/epoch - 8ms/step\n",
            "Epoch 250/500\n",
            "20/20 - 0s - loss: 0.2806 - accuracy: 0.8893 - val_loss: 0.4364 - val_accuracy: 0.8571 - 162ms/epoch - 8ms/step\n",
            "Epoch 251/500\n",
            "20/20 - 0s - loss: 0.2828 - accuracy: 0.8844 - val_loss: 0.4397 - val_accuracy: 0.8506 - 203ms/epoch - 10ms/step\n",
            "Epoch 252/500\n",
            "20/20 - 0s - loss: 0.2827 - accuracy: 0.8925 - val_loss: 0.4446 - val_accuracy: 0.8636 - 316ms/epoch - 16ms/step\n",
            "Epoch 253/500\n",
            "20/20 - 0s - loss: 0.2816 - accuracy: 0.8844 - val_loss: 0.4292 - val_accuracy: 0.8701 - 337ms/epoch - 17ms/step\n",
            "Epoch 254/500\n",
            "20/20 - 0s - loss: 0.2801 - accuracy: 0.8860 - val_loss: 0.4558 - val_accuracy: 0.8571 - 199ms/epoch - 10ms/step\n",
            "Epoch 255/500\n",
            "20/20 - 0s - loss: 0.2808 - accuracy: 0.8827 - val_loss: 0.4370 - val_accuracy: 0.8442 - 174ms/epoch - 9ms/step\n",
            "Epoch 256/500\n",
            "20/20 - 0s - loss: 0.2816 - accuracy: 0.8827 - val_loss: 0.4357 - val_accuracy: 0.8506 - 176ms/epoch - 9ms/step\n",
            "Epoch 257/500\n",
            "20/20 - 0s - loss: 0.2795 - accuracy: 0.8811 - val_loss: 0.4347 - val_accuracy: 0.8506 - 160ms/epoch - 8ms/step\n",
            "Epoch 258/500\n",
            "20/20 - 0s - loss: 0.2787 - accuracy: 0.8860 - val_loss: 0.4442 - val_accuracy: 0.8636 - 161ms/epoch - 8ms/step\n",
            "Epoch 259/500\n",
            "20/20 - 0s - loss: 0.2793 - accuracy: 0.8844 - val_loss: 0.4399 - val_accuracy: 0.8506 - 176ms/epoch - 9ms/step\n",
            "Epoch 260/500\n",
            "20/20 - 0s - loss: 0.2869 - accuracy: 0.8811 - val_loss: 0.4489 - val_accuracy: 0.8571 - 233ms/epoch - 12ms/step\n",
            "Epoch 261/500\n",
            "20/20 - 0s - loss: 0.2805 - accuracy: 0.8827 - val_loss: 0.4400 - val_accuracy: 0.8442 - 180ms/epoch - 9ms/step\n",
            "Epoch 262/500\n",
            "20/20 - 0s - loss: 0.2822 - accuracy: 0.8844 - val_loss: 0.4316 - val_accuracy: 0.8506 - 175ms/epoch - 9ms/step\n",
            "Epoch 263/500\n",
            "20/20 - 0s - loss: 0.2829 - accuracy: 0.8844 - val_loss: 0.4437 - val_accuracy: 0.8571 - 171ms/epoch - 9ms/step\n",
            "Epoch 264/500\n",
            "20/20 - 0s - loss: 0.2794 - accuracy: 0.8844 - val_loss: 0.4411 - val_accuracy: 0.8506 - 165ms/epoch - 8ms/step\n",
            "Epoch 265/500\n",
            "20/20 - 0s - loss: 0.2802 - accuracy: 0.8795 - val_loss: 0.4358 - val_accuracy: 0.8571 - 155ms/epoch - 8ms/step\n",
            "Epoch 266/500\n",
            "20/20 - 0s - loss: 0.2827 - accuracy: 0.8893 - val_loss: 0.4542 - val_accuracy: 0.8571 - 143ms/epoch - 7ms/step\n",
            "Epoch 267/500\n",
            "20/20 - 0s - loss: 0.2808 - accuracy: 0.8844 - val_loss: 0.4363 - val_accuracy: 0.8571 - 146ms/epoch - 7ms/step\n",
            "Epoch 268/500\n",
            "20/20 - 0s - loss: 0.2787 - accuracy: 0.8876 - val_loss: 0.4470 - val_accuracy: 0.8571 - 144ms/epoch - 7ms/step\n",
            "Epoch 269/500\n",
            "20/20 - 0s - loss: 0.2770 - accuracy: 0.8860 - val_loss: 0.4378 - val_accuracy: 0.8506 - 146ms/epoch - 7ms/step\n",
            "Epoch 270/500\n",
            "20/20 - 0s - loss: 0.2784 - accuracy: 0.8860 - val_loss: 0.4349 - val_accuracy: 0.8571 - 144ms/epoch - 7ms/step\n",
            "Epoch 271/500\n",
            "20/20 - 0s - loss: 0.2773 - accuracy: 0.8811 - val_loss: 0.4455 - val_accuracy: 0.8506 - 144ms/epoch - 7ms/step\n",
            "Epoch 272/500\n",
            "20/20 - 0s - loss: 0.2785 - accuracy: 0.8876 - val_loss: 0.4535 - val_accuracy: 0.8571 - 147ms/epoch - 7ms/step\n",
            "Epoch 273/500\n",
            "20/20 - 0s - loss: 0.2788 - accuracy: 0.8762 - val_loss: 0.4362 - val_accuracy: 0.8442 - 163ms/epoch - 8ms/step\n",
            "Epoch 274/500\n",
            "20/20 - 0s - loss: 0.2776 - accuracy: 0.8811 - val_loss: 0.4420 - val_accuracy: 0.8571 - 223ms/epoch - 11ms/step\n",
            "Epoch 275/500\n",
            "20/20 - 0s - loss: 0.2810 - accuracy: 0.8827 - val_loss: 0.4368 - val_accuracy: 0.8636 - 168ms/epoch - 8ms/step\n",
            "Epoch 276/500\n",
            "20/20 - 0s - loss: 0.2828 - accuracy: 0.8827 - val_loss: 0.4362 - val_accuracy: 0.8506 - 173ms/epoch - 9ms/step\n",
            "Epoch 277/500\n",
            "20/20 - 0s - loss: 0.2819 - accuracy: 0.8844 - val_loss: 0.4421 - val_accuracy: 0.8506 - 167ms/epoch - 8ms/step\n",
            "Epoch 278/500\n",
            "20/20 - 0s - loss: 0.2777 - accuracy: 0.8844 - val_loss: 0.4402 - val_accuracy: 0.8571 - 165ms/epoch - 8ms/step\n",
            "Epoch 279/500\n",
            "20/20 - 0s - loss: 0.2789 - accuracy: 0.8827 - val_loss: 0.4453 - val_accuracy: 0.8442 - 167ms/epoch - 8ms/step\n",
            "Epoch 280/500\n",
            "20/20 - 0s - loss: 0.2751 - accuracy: 0.8876 - val_loss: 0.4456 - val_accuracy: 0.8571 - 165ms/epoch - 8ms/step\n",
            "Epoch 281/500\n",
            "20/20 - 0s - loss: 0.2818 - accuracy: 0.8779 - val_loss: 0.4269 - val_accuracy: 0.8571 - 160ms/epoch - 8ms/step\n",
            "Epoch 282/500\n",
            "20/20 - 0s - loss: 0.2792 - accuracy: 0.8860 - val_loss: 0.4483 - val_accuracy: 0.8506 - 163ms/epoch - 8ms/step\n",
            "Epoch 283/500\n",
            "20/20 - 0s - loss: 0.2748 - accuracy: 0.8893 - val_loss: 0.4269 - val_accuracy: 0.8571 - 169ms/epoch - 8ms/step\n",
            "Epoch 284/500\n",
            "20/20 - 0s - loss: 0.2777 - accuracy: 0.8893 - val_loss: 0.4386 - val_accuracy: 0.8506 - 163ms/epoch - 8ms/step\n",
            "Epoch 285/500\n",
            "20/20 - 0s - loss: 0.2769 - accuracy: 0.8860 - val_loss: 0.4339 - val_accuracy: 0.8571 - 164ms/epoch - 8ms/step\n",
            "Epoch 286/500\n",
            "20/20 - 0s - loss: 0.2747 - accuracy: 0.8827 - val_loss: 0.4449 - val_accuracy: 0.8506 - 161ms/epoch - 8ms/step\n",
            "Epoch 287/500\n",
            "20/20 - 0s - loss: 0.2796 - accuracy: 0.8811 - val_loss: 0.4378 - val_accuracy: 0.8506 - 163ms/epoch - 8ms/step\n",
            "Epoch 288/500\n",
            "20/20 - 0s - loss: 0.2755 - accuracy: 0.8860 - val_loss: 0.4384 - val_accuracy: 0.8442 - 171ms/epoch - 9ms/step\n",
            "Epoch 289/500\n",
            "20/20 - 0s - loss: 0.2755 - accuracy: 0.8876 - val_loss: 0.4417 - val_accuracy: 0.8506 - 242ms/epoch - 12ms/step\n",
            "Epoch 290/500\n",
            "20/20 - 0s - loss: 0.2798 - accuracy: 0.8795 - val_loss: 0.4308 - val_accuracy: 0.8506 - 184ms/epoch - 9ms/step\n",
            "Epoch 291/500\n",
            "20/20 - 0s - loss: 0.2787 - accuracy: 0.8811 - val_loss: 0.4374 - val_accuracy: 0.8571 - 165ms/epoch - 8ms/step\n",
            "Epoch 292/500\n",
            "20/20 - 0s - loss: 0.2758 - accuracy: 0.8893 - val_loss: 0.4555 - val_accuracy: 0.8571 - 159ms/epoch - 8ms/step\n",
            "Epoch 293/500\n",
            "20/20 - 0s - loss: 0.2802 - accuracy: 0.8827 - val_loss: 0.4362 - val_accuracy: 0.8571 - 155ms/epoch - 8ms/step\n",
            "Epoch 294/500\n",
            "20/20 - 0s - loss: 0.2743 - accuracy: 0.8811 - val_loss: 0.4381 - val_accuracy: 0.8506 - 155ms/epoch - 8ms/step\n",
            "Epoch 295/500\n",
            "20/20 - 0s - loss: 0.2747 - accuracy: 0.8844 - val_loss: 0.4362 - val_accuracy: 0.8571 - 154ms/epoch - 8ms/step\n",
            "Epoch 296/500\n",
            "20/20 - 0s - loss: 0.2811 - accuracy: 0.8860 - val_loss: 0.4347 - val_accuracy: 0.8506 - 159ms/epoch - 8ms/step\n",
            "Epoch 297/500\n",
            "20/20 - 0s - loss: 0.2741 - accuracy: 0.8844 - val_loss: 0.4475 - val_accuracy: 0.8506 - 172ms/epoch - 9ms/step\n",
            "Epoch 298/500\n",
            "20/20 - 0s - loss: 0.2765 - accuracy: 0.8893 - val_loss: 0.4403 - val_accuracy: 0.8442 - 198ms/epoch - 10ms/step\n",
            "Epoch 299/500\n",
            "20/20 - 0s - loss: 0.2740 - accuracy: 0.8844 - val_loss: 0.4335 - val_accuracy: 0.8571 - 166ms/epoch - 8ms/step\n",
            "Epoch 300/500\n",
            "20/20 - 0s - loss: 0.2765 - accuracy: 0.8876 - val_loss: 0.4527 - val_accuracy: 0.8506 - 161ms/epoch - 8ms/step\n",
            "Epoch 301/500\n",
            "20/20 - 0s - loss: 0.2803 - accuracy: 0.8893 - val_loss: 0.4410 - val_accuracy: 0.8506 - 181ms/epoch - 9ms/step\n",
            "Epoch 302/500\n",
            "20/20 - 0s - loss: 0.2796 - accuracy: 0.8795 - val_loss: 0.4383 - val_accuracy: 0.8506 - 177ms/epoch - 9ms/step\n",
            "Epoch 303/500\n",
            "20/20 - 0s - loss: 0.2791 - accuracy: 0.8909 - val_loss: 0.4579 - val_accuracy: 0.8506 - 246ms/epoch - 12ms/step\n",
            "Epoch 304/500\n",
            "20/20 - 0s - loss: 0.2782 - accuracy: 0.8827 - val_loss: 0.4335 - val_accuracy: 0.8571 - 196ms/epoch - 10ms/step\n",
            "Epoch 305/500\n",
            "20/20 - 0s - loss: 0.2775 - accuracy: 0.8860 - val_loss: 0.4515 - val_accuracy: 0.8506 - 196ms/epoch - 10ms/step\n",
            "Epoch 306/500\n",
            "20/20 - 0s - loss: 0.2746 - accuracy: 0.8860 - val_loss: 0.4370 - val_accuracy: 0.8571 - 191ms/epoch - 10ms/step\n",
            "Epoch 307/500\n",
            "20/20 - 0s - loss: 0.2796 - accuracy: 0.8893 - val_loss: 0.4399 - val_accuracy: 0.8571 - 190ms/epoch - 9ms/step\n",
            "Epoch 308/500\n",
            "20/20 - 0s - loss: 0.2770 - accuracy: 0.8811 - val_loss: 0.4364 - val_accuracy: 0.8506 - 189ms/epoch - 9ms/step\n",
            "Epoch 309/500\n",
            "20/20 - 0s - loss: 0.2763 - accuracy: 0.8893 - val_loss: 0.4596 - val_accuracy: 0.8442 - 180ms/epoch - 9ms/step\n",
            "Epoch 310/500\n",
            "20/20 - 0s - loss: 0.2788 - accuracy: 0.8811 - val_loss: 0.4315 - val_accuracy: 0.8506 - 180ms/epoch - 9ms/step\n",
            "Epoch 311/500\n",
            "20/20 - 0s - loss: 0.2745 - accuracy: 0.8925 - val_loss: 0.4550 - val_accuracy: 0.8506 - 187ms/epoch - 9ms/step\n",
            "Epoch 312/500\n",
            "20/20 - 0s - loss: 0.2768 - accuracy: 0.8860 - val_loss: 0.4338 - val_accuracy: 0.8571 - 221ms/epoch - 11ms/step\n",
            "Epoch 313/500\n",
            "20/20 - 0s - loss: 0.2732 - accuracy: 0.8876 - val_loss: 0.4417 - val_accuracy: 0.8442 - 233ms/epoch - 12ms/step\n",
            "Epoch 314/500\n",
            "20/20 - 0s - loss: 0.2776 - accuracy: 0.8860 - val_loss: 0.4525 - val_accuracy: 0.8442 - 221ms/epoch - 11ms/step\n",
            "Epoch 315/500\n",
            "20/20 - 0s - loss: 0.2728 - accuracy: 0.8860 - val_loss: 0.4379 - val_accuracy: 0.8442 - 230ms/epoch - 12ms/step\n",
            "Epoch 316/500\n",
            "20/20 - 0s - loss: 0.2784 - accuracy: 0.8893 - val_loss: 0.4605 - val_accuracy: 0.8506 - 246ms/epoch - 12ms/step\n",
            "Epoch 317/500\n",
            "20/20 - 0s - loss: 0.2753 - accuracy: 0.8893 - val_loss: 0.4344 - val_accuracy: 0.8636 - 200ms/epoch - 10ms/step\n",
            "Epoch 318/500\n",
            "20/20 - 0s - loss: 0.2771 - accuracy: 0.8827 - val_loss: 0.4364 - val_accuracy: 0.8571 - 198ms/epoch - 10ms/step\n",
            "Epoch 319/500\n",
            "20/20 - 0s - loss: 0.2759 - accuracy: 0.8909 - val_loss: 0.4462 - val_accuracy: 0.8442 - 192ms/epoch - 10ms/step\n",
            "Epoch 320/500\n",
            "20/20 - 0s - loss: 0.2734 - accuracy: 0.8876 - val_loss: 0.4350 - val_accuracy: 0.8506 - 201ms/epoch - 10ms/step\n",
            "Epoch 321/500\n",
            "20/20 - 0s - loss: 0.2743 - accuracy: 0.8811 - val_loss: 0.4234 - val_accuracy: 0.8636 - 187ms/epoch - 9ms/step\n",
            "Epoch 322/500\n",
            "20/20 - 0s - loss: 0.2853 - accuracy: 0.8827 - val_loss: 0.4677 - val_accuracy: 0.8506 - 170ms/epoch - 9ms/step\n",
            "Epoch 323/500\n",
            "20/20 - 0s - loss: 0.2843 - accuracy: 0.8795 - val_loss: 0.4374 - val_accuracy: 0.8442 - 171ms/epoch - 9ms/step\n",
            "Epoch 324/500\n",
            "20/20 - 0s - loss: 0.2763 - accuracy: 0.8779 - val_loss: 0.4330 - val_accuracy: 0.8571 - 169ms/epoch - 8ms/step\n",
            "Epoch 325/500\n",
            "20/20 - 0s - loss: 0.2733 - accuracy: 0.8893 - val_loss: 0.4448 - val_accuracy: 0.8442 - 173ms/epoch - 9ms/step\n",
            "Epoch 326/500\n",
            "20/20 - 0s - loss: 0.2721 - accuracy: 0.8909 - val_loss: 0.4384 - val_accuracy: 0.8506 - 171ms/epoch - 9ms/step\n",
            "Epoch 327/500\n",
            "20/20 - 0s - loss: 0.2765 - accuracy: 0.8827 - val_loss: 0.4283 - val_accuracy: 0.8636 - 166ms/epoch - 8ms/step\n",
            "Epoch 328/500\n",
            "20/20 - 0s - loss: 0.2732 - accuracy: 0.8876 - val_loss: 0.4433 - val_accuracy: 0.8506 - 172ms/epoch - 9ms/step\n",
            "Epoch 329/500\n",
            "20/20 - 0s - loss: 0.2728 - accuracy: 0.8860 - val_loss: 0.4403 - val_accuracy: 0.8442 - 196ms/epoch - 10ms/step\n",
            "Epoch 330/500\n",
            "20/20 - 0s - loss: 0.2716 - accuracy: 0.8860 - val_loss: 0.4387 - val_accuracy: 0.8442 - 189ms/epoch - 9ms/step\n",
            "Epoch 331/500\n",
            "20/20 - 0s - loss: 0.2816 - accuracy: 0.8909 - val_loss: 0.4361 - val_accuracy: 0.8442 - 224ms/epoch - 11ms/step\n",
            "Epoch 332/500\n",
            "20/20 - 0s - loss: 0.2814 - accuracy: 0.8860 - val_loss: 0.4428 - val_accuracy: 0.8506 - 176ms/epoch - 9ms/step\n",
            "Epoch 333/500\n",
            "20/20 - 0s - loss: 0.2717 - accuracy: 0.8876 - val_loss: 0.4342 - val_accuracy: 0.8442 - 183ms/epoch - 9ms/step\n",
            "Epoch 334/500\n",
            "20/20 - 0s - loss: 0.2710 - accuracy: 0.8876 - val_loss: 0.4336 - val_accuracy: 0.8442 - 200ms/epoch - 10ms/step\n",
            "Epoch 335/500\n",
            "20/20 - 0s - loss: 0.2714 - accuracy: 0.8876 - val_loss: 0.4476 - val_accuracy: 0.8442 - 200ms/epoch - 10ms/step\n",
            "Epoch 336/500\n",
            "20/20 - 0s - loss: 0.2716 - accuracy: 0.8876 - val_loss: 0.4359 - val_accuracy: 0.8571 - 203ms/epoch - 10ms/step\n",
            "Epoch 337/500\n",
            "20/20 - 0s - loss: 0.2735 - accuracy: 0.8925 - val_loss: 0.4483 - val_accuracy: 0.8442 - 190ms/epoch - 10ms/step\n",
            "Epoch 338/500\n",
            "20/20 - 0s - loss: 0.2726 - accuracy: 0.8893 - val_loss: 0.4440 - val_accuracy: 0.8442 - 196ms/epoch - 10ms/step\n",
            "Epoch 339/500\n",
            "20/20 - 0s - loss: 0.2694 - accuracy: 0.8893 - val_loss: 0.4380 - val_accuracy: 0.8571 - 201ms/epoch - 10ms/step\n",
            "Epoch 340/500\n",
            "20/20 - 0s - loss: 0.2723 - accuracy: 0.8876 - val_loss: 0.4401 - val_accuracy: 0.8571 - 200ms/epoch - 10ms/step\n",
            "Epoch 341/500\n",
            "20/20 - 0s - loss: 0.2724 - accuracy: 0.8925 - val_loss: 0.4479 - val_accuracy: 0.8442 - 209ms/epoch - 10ms/step\n",
            "Epoch 342/500\n",
            "20/20 - 0s - loss: 0.2702 - accuracy: 0.8909 - val_loss: 0.4396 - val_accuracy: 0.8571 - 195ms/epoch - 10ms/step\n",
            "Epoch 343/500\n",
            "20/20 - 0s - loss: 0.2739 - accuracy: 0.8827 - val_loss: 0.4553 - val_accuracy: 0.8506 - 188ms/epoch - 9ms/step\n",
            "Epoch 344/500\n",
            "20/20 - 0s - loss: 0.2722 - accuracy: 0.8844 - val_loss: 0.4340 - val_accuracy: 0.8636 - 186ms/epoch - 9ms/step\n",
            "Epoch 345/500\n",
            "20/20 - 0s - loss: 0.2696 - accuracy: 0.8941 - val_loss: 0.4630 - val_accuracy: 0.8506 - 215ms/epoch - 11ms/step\n",
            "Epoch 346/500\n",
            "20/20 - 0s - loss: 0.2784 - accuracy: 0.8811 - val_loss: 0.4367 - val_accuracy: 0.8506 - 195ms/epoch - 10ms/step\n",
            "Epoch 347/500\n",
            "20/20 - 0s - loss: 0.2738 - accuracy: 0.8779 - val_loss: 0.4382 - val_accuracy: 0.8506 - 186ms/epoch - 9ms/step\n",
            "Epoch 348/500\n",
            "20/20 - 0s - loss: 0.2727 - accuracy: 0.8893 - val_loss: 0.4476 - val_accuracy: 0.8442 - 171ms/epoch - 9ms/step\n",
            "Epoch 349/500\n",
            "20/20 - 0s - loss: 0.2746 - accuracy: 0.8893 - val_loss: 0.4364 - val_accuracy: 0.8636 - 161ms/epoch - 8ms/step\n",
            "Epoch 350/500\n",
            "20/20 - 0s - loss: 0.2699 - accuracy: 0.8893 - val_loss: 0.4559 - val_accuracy: 0.8506 - 162ms/epoch - 8ms/step\n",
            "Epoch 351/500\n",
            "20/20 - 0s - loss: 0.2730 - accuracy: 0.8827 - val_loss: 0.4416 - val_accuracy: 0.8506 - 159ms/epoch - 8ms/step\n",
            "Epoch 352/500\n",
            "20/20 - 0s - loss: 0.2692 - accuracy: 0.8909 - val_loss: 0.4434 - val_accuracy: 0.8442 - 164ms/epoch - 8ms/step\n",
            "Epoch 353/500\n",
            "20/20 - 0s - loss: 0.2687 - accuracy: 0.8893 - val_loss: 0.4475 - val_accuracy: 0.8442 - 179ms/epoch - 9ms/step\n",
            "Epoch 354/500\n",
            "20/20 - 0s - loss: 0.2695 - accuracy: 0.8876 - val_loss: 0.4382 - val_accuracy: 0.8571 - 173ms/epoch - 9ms/step\n",
            "Epoch 355/500\n",
            "20/20 - 0s - loss: 0.2689 - accuracy: 0.8909 - val_loss: 0.4434 - val_accuracy: 0.8442 - 180ms/epoch - 9ms/step\n",
            "Epoch 356/500\n",
            "20/20 - 0s - loss: 0.2713 - accuracy: 0.8893 - val_loss: 0.4448 - val_accuracy: 0.8442 - 180ms/epoch - 9ms/step\n",
            "Epoch 357/500\n",
            "20/20 - 0s - loss: 0.2694 - accuracy: 0.8893 - val_loss: 0.4441 - val_accuracy: 0.8571 - 180ms/epoch - 9ms/step\n",
            "Epoch 358/500\n",
            "20/20 - 0s - loss: 0.2684 - accuracy: 0.8909 - val_loss: 0.4434 - val_accuracy: 0.8442 - 152ms/epoch - 8ms/step\n",
            "Epoch 359/500\n",
            "20/20 - 0s - loss: 0.2717 - accuracy: 0.8893 - val_loss: 0.4462 - val_accuracy: 0.8442 - 146ms/epoch - 7ms/step\n",
            "Epoch 360/500\n",
            "20/20 - 0s - loss: 0.2696 - accuracy: 0.8860 - val_loss: 0.4417 - val_accuracy: 0.8506 - 199ms/epoch - 10ms/step\n",
            "Epoch 361/500\n",
            "20/20 - 0s - loss: 0.2689 - accuracy: 0.8876 - val_loss: 0.4515 - val_accuracy: 0.8506 - 143ms/epoch - 7ms/step\n",
            "Epoch 362/500\n",
            "20/20 - 0s - loss: 0.2703 - accuracy: 0.8876 - val_loss: 0.4374 - val_accuracy: 0.8506 - 143ms/epoch - 7ms/step\n",
            "Epoch 363/500\n",
            "20/20 - 0s - loss: 0.2711 - accuracy: 0.8909 - val_loss: 0.4478 - val_accuracy: 0.8442 - 141ms/epoch - 7ms/step\n",
            "Epoch 364/500\n",
            "20/20 - 0s - loss: 0.2698 - accuracy: 0.8925 - val_loss: 0.4592 - val_accuracy: 0.8506 - 144ms/epoch - 7ms/step\n",
            "Epoch 365/500\n",
            "20/20 - 0s - loss: 0.2728 - accuracy: 0.8827 - val_loss: 0.4356 - val_accuracy: 0.8571 - 141ms/epoch - 7ms/step\n",
            "Epoch 366/500\n",
            "20/20 - 0s - loss: 0.2697 - accuracy: 0.8909 - val_loss: 0.4519 - val_accuracy: 0.8442 - 144ms/epoch - 7ms/step\n",
            "Epoch 367/500\n",
            "20/20 - 0s - loss: 0.2687 - accuracy: 0.8827 - val_loss: 0.4377 - val_accuracy: 0.8571 - 152ms/epoch - 8ms/step\n",
            "Epoch 368/500\n",
            "20/20 - 0s - loss: 0.2722 - accuracy: 0.8876 - val_loss: 0.4509 - val_accuracy: 0.8442 - 145ms/epoch - 7ms/step\n",
            "Epoch 369/500\n",
            "20/20 - 0s - loss: 0.2692 - accuracy: 0.8941 - val_loss: 0.4342 - val_accuracy: 0.8571 - 145ms/epoch - 7ms/step\n",
            "Epoch 370/500\n",
            "20/20 - 0s - loss: 0.2700 - accuracy: 0.8893 - val_loss: 0.4560 - val_accuracy: 0.8442 - 148ms/epoch - 7ms/step\n",
            "Epoch 371/500\n",
            "20/20 - 0s - loss: 0.2682 - accuracy: 0.8827 - val_loss: 0.4442 - val_accuracy: 0.8442 - 153ms/epoch - 8ms/step\n",
            "Epoch 372/500\n",
            "20/20 - 0s - loss: 0.2695 - accuracy: 0.8893 - val_loss: 0.4509 - val_accuracy: 0.8506 - 152ms/epoch - 8ms/step\n",
            "Epoch 373/500\n",
            "20/20 - 0s - loss: 0.2682 - accuracy: 0.8876 - val_loss: 0.4484 - val_accuracy: 0.8506 - 149ms/epoch - 7ms/step\n",
            "Epoch 374/500\n",
            "20/20 - 0s - loss: 0.2710 - accuracy: 0.8811 - val_loss: 0.4554 - val_accuracy: 0.8506 - 188ms/epoch - 9ms/step\n",
            "Epoch 375/500\n",
            "20/20 - 0s - loss: 0.2700 - accuracy: 0.8827 - val_loss: 0.4362 - val_accuracy: 0.8571 - 160ms/epoch - 8ms/step\n",
            "Epoch 376/500\n",
            "20/20 - 0s - loss: 0.2691 - accuracy: 0.8909 - val_loss: 0.4615 - val_accuracy: 0.8442 - 180ms/epoch - 9ms/step\n",
            "Epoch 377/500\n",
            "20/20 - 0s - loss: 0.2718 - accuracy: 0.8811 - val_loss: 0.4403 - val_accuracy: 0.8442 - 181ms/epoch - 9ms/step\n",
            "Epoch 378/500\n",
            "20/20 - 0s - loss: 0.2675 - accuracy: 0.8827 - val_loss: 0.4448 - val_accuracy: 0.8442 - 155ms/epoch - 8ms/step\n",
            "Epoch 379/500\n",
            "20/20 - 0s - loss: 0.2664 - accuracy: 0.8876 - val_loss: 0.4502 - val_accuracy: 0.8442 - 152ms/epoch - 8ms/step\n",
            "Epoch 380/500\n",
            "20/20 - 0s - loss: 0.2672 - accuracy: 0.8909 - val_loss: 0.4446 - val_accuracy: 0.8442 - 143ms/epoch - 7ms/step\n",
            "Epoch 381/500\n",
            "20/20 - 0s - loss: 0.2680 - accuracy: 0.8844 - val_loss: 0.4491 - val_accuracy: 0.8442 - 151ms/epoch - 8ms/step\n",
            "Epoch 382/500\n",
            "20/20 - 0s - loss: 0.2703 - accuracy: 0.8893 - val_loss: 0.4629 - val_accuracy: 0.8506 - 145ms/epoch - 7ms/step\n",
            "Epoch 383/500\n",
            "20/20 - 0s - loss: 0.2734 - accuracy: 0.8844 - val_loss: 0.4520 - val_accuracy: 0.8442 - 145ms/epoch - 7ms/step\n",
            "Epoch 384/500\n",
            "20/20 - 0s - loss: 0.2675 - accuracy: 0.8876 - val_loss: 0.4376 - val_accuracy: 0.8571 - 151ms/epoch - 8ms/step\n",
            "Epoch 385/500\n",
            "20/20 - 0s - loss: 0.2665 - accuracy: 0.8925 - val_loss: 0.4557 - val_accuracy: 0.8506 - 143ms/epoch - 7ms/step\n",
            "Epoch 386/500\n",
            "20/20 - 0s - loss: 0.2690 - accuracy: 0.8811 - val_loss: 0.4421 - val_accuracy: 0.8571 - 150ms/epoch - 7ms/step\n",
            "Epoch 387/500\n",
            "20/20 - 0s - loss: 0.2673 - accuracy: 0.8860 - val_loss: 0.4578 - val_accuracy: 0.8506 - 155ms/epoch - 8ms/step\n",
            "Epoch 388/500\n",
            "20/20 - 0s - loss: 0.2726 - accuracy: 0.8811 - val_loss: 0.4370 - val_accuracy: 0.8636 - 156ms/epoch - 8ms/step\n",
            "Epoch 389/500\n",
            "20/20 - 0s - loss: 0.2671 - accuracy: 0.8893 - val_loss: 0.4465 - val_accuracy: 0.8442 - 189ms/epoch - 9ms/step\n",
            "Epoch 390/500\n",
            "20/20 - 0s - loss: 0.2679 - accuracy: 0.8860 - val_loss: 0.4535 - val_accuracy: 0.8442 - 146ms/epoch - 7ms/step\n",
            "Epoch 391/500\n",
            "20/20 - 0s - loss: 0.2704 - accuracy: 0.8860 - val_loss: 0.4470 - val_accuracy: 0.8571 - 143ms/epoch - 7ms/step\n",
            "Epoch 392/500\n",
            "20/20 - 0s - loss: 0.2682 - accuracy: 0.8893 - val_loss: 0.4469 - val_accuracy: 0.8442 - 145ms/epoch - 7ms/step\n",
            "Epoch 393/500\n",
            "20/20 - 0s - loss: 0.2693 - accuracy: 0.8860 - val_loss: 0.4531 - val_accuracy: 0.8442 - 144ms/epoch - 7ms/step\n",
            "Epoch 394/500\n",
            "20/20 - 0s - loss: 0.2665 - accuracy: 0.8893 - val_loss: 0.4495 - val_accuracy: 0.8442 - 145ms/epoch - 7ms/step\n",
            "Epoch 395/500\n",
            "20/20 - 0s - loss: 0.2664 - accuracy: 0.8876 - val_loss: 0.4512 - val_accuracy: 0.8442 - 141ms/epoch - 7ms/step\n",
            "Epoch 396/500\n",
            "20/20 - 0s - loss: 0.2680 - accuracy: 0.8860 - val_loss: 0.4447 - val_accuracy: 0.8442 - 144ms/epoch - 7ms/step\n",
            "Epoch 397/500\n",
            "20/20 - 0s - loss: 0.2800 - accuracy: 0.8860 - val_loss: 0.4433 - val_accuracy: 0.8506 - 144ms/epoch - 7ms/step\n",
            "Epoch 398/500\n",
            "20/20 - 0s - loss: 0.2803 - accuracy: 0.8746 - val_loss: 0.4580 - val_accuracy: 0.8506 - 146ms/epoch - 7ms/step\n",
            "Epoch 399/500\n",
            "20/20 - 0s - loss: 0.2727 - accuracy: 0.8876 - val_loss: 0.4381 - val_accuracy: 0.8571 - 146ms/epoch - 7ms/step\n",
            "Epoch 400/500\n",
            "20/20 - 0s - loss: 0.2660 - accuracy: 0.8876 - val_loss: 0.4490 - val_accuracy: 0.8442 - 153ms/epoch - 8ms/step\n",
            "Epoch 401/500\n",
            "20/20 - 0s - loss: 0.2672 - accuracy: 0.8876 - val_loss: 0.4403 - val_accuracy: 0.8571 - 152ms/epoch - 8ms/step\n",
            "Epoch 402/500\n",
            "20/20 - 0s - loss: 0.2695 - accuracy: 0.8827 - val_loss: 0.4677 - val_accuracy: 0.8442 - 158ms/epoch - 8ms/step\n",
            "Epoch 403/500\n",
            "20/20 - 0s - loss: 0.2672 - accuracy: 0.8925 - val_loss: 0.4482 - val_accuracy: 0.8442 - 165ms/epoch - 8ms/step\n",
            "Epoch 404/500\n",
            "20/20 - 0s - loss: 0.2657 - accuracy: 0.8860 - val_loss: 0.4434 - val_accuracy: 0.8442 - 209ms/epoch - 10ms/step\n",
            "Epoch 405/500\n",
            "20/20 - 0s - loss: 0.2667 - accuracy: 0.8844 - val_loss: 0.4399 - val_accuracy: 0.8571 - 170ms/epoch - 9ms/step\n",
            "Epoch 406/500\n",
            "20/20 - 0s - loss: 0.2722 - accuracy: 0.8860 - val_loss: 0.4818 - val_accuracy: 0.8506 - 176ms/epoch - 9ms/step\n",
            "Epoch 407/500\n",
            "20/20 - 0s - loss: 0.2684 - accuracy: 0.8827 - val_loss: 0.4362 - val_accuracy: 0.8571 - 166ms/epoch - 8ms/step\n",
            "Epoch 408/500\n",
            "20/20 - 0s - loss: 0.2716 - accuracy: 0.8876 - val_loss: 0.4548 - val_accuracy: 0.8506 - 186ms/epoch - 9ms/step\n",
            "Epoch 409/500\n",
            "20/20 - 0s - loss: 0.2657 - accuracy: 0.8844 - val_loss: 0.4475 - val_accuracy: 0.8442 - 181ms/epoch - 9ms/step\n",
            "Epoch 410/500\n",
            "20/20 - 0s - loss: 0.2678 - accuracy: 0.8811 - val_loss: 0.4397 - val_accuracy: 0.8442 - 162ms/epoch - 8ms/step\n",
            "Epoch 411/500\n",
            "20/20 - 0s - loss: 0.2687 - accuracy: 0.8795 - val_loss: 0.4326 - val_accuracy: 0.8636 - 177ms/epoch - 9ms/step\n",
            "Epoch 412/500\n",
            "20/20 - 0s - loss: 0.2657 - accuracy: 0.8860 - val_loss: 0.4488 - val_accuracy: 0.8442 - 178ms/epoch - 9ms/step\n",
            "Epoch 413/500\n",
            "20/20 - 0s - loss: 0.2655 - accuracy: 0.8893 - val_loss: 0.4465 - val_accuracy: 0.8442 - 174ms/epoch - 9ms/step\n",
            "Epoch 414/500\n",
            "20/20 - 0s - loss: 0.2706 - accuracy: 0.8844 - val_loss: 0.4484 - val_accuracy: 0.8442 - 186ms/epoch - 9ms/step\n",
            "Epoch 415/500\n",
            "20/20 - 0s - loss: 0.2657 - accuracy: 0.8860 - val_loss: 0.4593 - val_accuracy: 0.8506 - 192ms/epoch - 10ms/step\n",
            "Epoch 416/500\n",
            "20/20 - 0s - loss: 0.2657 - accuracy: 0.8893 - val_loss: 0.4389 - val_accuracy: 0.8571 - 203ms/epoch - 10ms/step\n",
            "Epoch 417/500\n",
            "20/20 - 0s - loss: 0.2676 - accuracy: 0.8860 - val_loss: 0.4418 - val_accuracy: 0.8442 - 208ms/epoch - 10ms/step\n",
            "Epoch 418/500\n",
            "20/20 - 0s - loss: 0.2697 - accuracy: 0.8925 - val_loss: 0.4626 - val_accuracy: 0.8442 - 200ms/epoch - 10ms/step\n",
            "Epoch 419/500\n",
            "20/20 - 0s - loss: 0.2660 - accuracy: 0.8925 - val_loss: 0.4421 - val_accuracy: 0.8571 - 220ms/epoch - 11ms/step\n",
            "Epoch 420/500\n",
            "20/20 - 0s - loss: 0.2660 - accuracy: 0.8893 - val_loss: 0.4553 - val_accuracy: 0.8506 - 181ms/epoch - 9ms/step\n",
            "Epoch 421/500\n",
            "20/20 - 0s - loss: 0.2670 - accuracy: 0.8795 - val_loss: 0.4394 - val_accuracy: 0.8571 - 181ms/epoch - 9ms/step\n",
            "Epoch 422/500\n",
            "20/20 - 0s - loss: 0.2652 - accuracy: 0.8909 - val_loss: 0.4476 - val_accuracy: 0.8442 - 180ms/epoch - 9ms/step\n",
            "Epoch 423/500\n",
            "20/20 - 0s - loss: 0.2641 - accuracy: 0.8893 - val_loss: 0.4382 - val_accuracy: 0.8571 - 181ms/epoch - 9ms/step\n",
            "Epoch 424/500\n",
            "20/20 - 0s - loss: 0.2699 - accuracy: 0.8844 - val_loss: 0.4584 - val_accuracy: 0.8442 - 184ms/epoch - 9ms/step\n",
            "Epoch 425/500\n",
            "20/20 - 0s - loss: 0.2666 - accuracy: 0.8876 - val_loss: 0.4446 - val_accuracy: 0.8442 - 181ms/epoch - 9ms/step\n",
            "Epoch 426/500\n",
            "20/20 - 0s - loss: 0.2635 - accuracy: 0.8893 - val_loss: 0.4445 - val_accuracy: 0.8442 - 180ms/epoch - 9ms/step\n",
            "Epoch 427/500\n",
            "20/20 - 0s - loss: 0.2636 - accuracy: 0.8860 - val_loss: 0.4437 - val_accuracy: 0.8442 - 186ms/epoch - 9ms/step\n",
            "Epoch 428/500\n",
            "20/20 - 0s - loss: 0.2649 - accuracy: 0.8893 - val_loss: 0.4424 - val_accuracy: 0.8506 - 188ms/epoch - 9ms/step\n",
            "Epoch 429/500\n",
            "20/20 - 0s - loss: 0.2736 - accuracy: 0.8893 - val_loss: 0.4548 - val_accuracy: 0.8442 - 198ms/epoch - 10ms/step\n",
            "Epoch 430/500\n",
            "20/20 - 0s - loss: 0.2668 - accuracy: 0.8876 - val_loss: 0.4537 - val_accuracy: 0.8442 - 193ms/epoch - 10ms/step\n",
            "Epoch 431/500\n",
            "20/20 - 0s - loss: 0.2642 - accuracy: 0.8876 - val_loss: 0.4468 - val_accuracy: 0.8571 - 189ms/epoch - 9ms/step\n",
            "Epoch 432/500\n",
            "20/20 - 0s - loss: 0.2644 - accuracy: 0.8909 - val_loss: 0.4537 - val_accuracy: 0.8442 - 190ms/epoch - 10ms/step\n",
            "Epoch 433/500\n",
            "20/20 - 0s - loss: 0.2641 - accuracy: 0.8860 - val_loss: 0.4431 - val_accuracy: 0.8442 - 220ms/epoch - 11ms/step\n",
            "Epoch 434/500\n",
            "20/20 - 0s - loss: 0.2646 - accuracy: 0.8925 - val_loss: 0.4656 - val_accuracy: 0.8442 - 183ms/epoch - 9ms/step\n",
            "Epoch 435/500\n",
            "20/20 - 0s - loss: 0.2724 - accuracy: 0.8811 - val_loss: 0.4353 - val_accuracy: 0.8701 - 175ms/epoch - 9ms/step\n",
            "Epoch 436/500\n",
            "20/20 - 0s - loss: 0.2685 - accuracy: 0.8893 - val_loss: 0.4678 - val_accuracy: 0.8506 - 178ms/epoch - 9ms/step\n",
            "Epoch 437/500\n",
            "20/20 - 0s - loss: 0.2717 - accuracy: 0.8844 - val_loss: 0.4527 - val_accuracy: 0.8442 - 180ms/epoch - 9ms/step\n",
            "Epoch 438/500\n",
            "20/20 - 0s - loss: 0.2661 - accuracy: 0.8860 - val_loss: 0.4410 - val_accuracy: 0.8506 - 176ms/epoch - 9ms/step\n",
            "Epoch 439/500\n",
            "20/20 - 0s - loss: 0.2635 - accuracy: 0.8876 - val_loss: 0.4475 - val_accuracy: 0.8442 - 175ms/epoch - 9ms/step\n",
            "Epoch 440/500\n",
            "20/20 - 0s - loss: 0.2665 - accuracy: 0.8860 - val_loss: 0.4476 - val_accuracy: 0.8442 - 199ms/epoch - 10ms/step\n",
            "Epoch 441/500\n",
            "20/20 - 0s - loss: 0.2650 - accuracy: 0.8876 - val_loss: 0.4398 - val_accuracy: 0.8571 - 202ms/epoch - 10ms/step\n",
            "Epoch 442/500\n",
            "20/20 - 0s - loss: 0.2663 - accuracy: 0.8860 - val_loss: 0.4423 - val_accuracy: 0.8506 - 246ms/epoch - 12ms/step\n",
            "Epoch 443/500\n",
            "20/20 - 0s - loss: 0.2658 - accuracy: 0.8860 - val_loss: 0.4549 - val_accuracy: 0.8442 - 193ms/epoch - 10ms/step\n",
            "Epoch 444/500\n",
            "20/20 - 0s - loss: 0.2602 - accuracy: 0.8893 - val_loss: 0.4350 - val_accuracy: 0.8571 - 186ms/epoch - 9ms/step\n",
            "Epoch 445/500\n",
            "20/20 - 0s - loss: 0.2641 - accuracy: 0.8860 - val_loss: 0.4448 - val_accuracy: 0.8442 - 175ms/epoch - 9ms/step\n",
            "Epoch 446/500\n",
            "20/20 - 0s - loss: 0.2621 - accuracy: 0.8876 - val_loss: 0.4452 - val_accuracy: 0.8442 - 174ms/epoch - 9ms/step\n",
            "Epoch 447/500\n",
            "20/20 - 0s - loss: 0.2635 - accuracy: 0.8844 - val_loss: 0.4472 - val_accuracy: 0.8442 - 178ms/epoch - 9ms/step\n",
            "Epoch 448/500\n",
            "20/20 - 0s - loss: 0.2599 - accuracy: 0.8893 - val_loss: 0.4588 - val_accuracy: 0.8442 - 216ms/epoch - 11ms/step\n",
            "Epoch 449/500\n",
            "20/20 - 0s - loss: 0.2623 - accuracy: 0.8876 - val_loss: 0.4412 - val_accuracy: 0.8571 - 193ms/epoch - 10ms/step\n",
            "Epoch 450/500\n",
            "20/20 - 0s - loss: 0.2621 - accuracy: 0.8876 - val_loss: 0.4586 - val_accuracy: 0.8442 - 194ms/epoch - 10ms/step\n",
            "Epoch 451/500\n",
            "20/20 - 0s - loss: 0.2707 - accuracy: 0.8860 - val_loss: 0.4674 - val_accuracy: 0.8506 - 192ms/epoch - 10ms/step\n",
            "Epoch 452/500\n",
            "20/20 - 0s - loss: 0.2749 - accuracy: 0.8844 - val_loss: 0.4350 - val_accuracy: 0.8571 - 182ms/epoch - 9ms/step\n",
            "Epoch 453/500\n",
            "20/20 - 0s - loss: 0.2654 - accuracy: 0.8909 - val_loss: 0.4573 - val_accuracy: 0.8442 - 180ms/epoch - 9ms/step\n",
            "Epoch 454/500\n",
            "20/20 - 0s - loss: 0.2670 - accuracy: 0.8860 - val_loss: 0.4421 - val_accuracy: 0.8506 - 209ms/epoch - 10ms/step\n",
            "Epoch 455/500\n",
            "20/20 - 0s - loss: 0.2604 - accuracy: 0.8827 - val_loss: 0.4527 - val_accuracy: 0.8442 - 200ms/epoch - 10ms/step\n",
            "Epoch 456/500\n",
            "20/20 - 0s - loss: 0.2636 - accuracy: 0.8860 - val_loss: 0.4600 - val_accuracy: 0.8442 - 184ms/epoch - 9ms/step\n",
            "Epoch 457/500\n",
            "20/20 - 0s - loss: 0.2621 - accuracy: 0.8909 - val_loss: 0.4431 - val_accuracy: 0.8571 - 179ms/epoch - 9ms/step\n",
            "Epoch 458/500\n",
            "20/20 - 0s - loss: 0.2620 - accuracy: 0.8827 - val_loss: 0.4509 - val_accuracy: 0.8442 - 177ms/epoch - 9ms/step\n",
            "Epoch 459/500\n",
            "20/20 - 0s - loss: 0.2670 - accuracy: 0.8909 - val_loss: 0.4736 - val_accuracy: 0.8506 - 183ms/epoch - 9ms/step\n",
            "Epoch 460/500\n",
            "20/20 - 0s - loss: 0.2714 - accuracy: 0.8746 - val_loss: 0.4410 - val_accuracy: 0.8442 - 184ms/epoch - 9ms/step\n",
            "Epoch 461/500\n",
            "20/20 - 0s - loss: 0.2604 - accuracy: 0.8893 - val_loss: 0.4577 - val_accuracy: 0.8442 - 224ms/epoch - 11ms/step\n",
            "Epoch 462/500\n",
            "20/20 - 0s - loss: 0.2660 - accuracy: 0.8909 - val_loss: 0.4375 - val_accuracy: 0.8636 - 160ms/epoch - 8ms/step\n",
            "Epoch 463/500\n",
            "20/20 - 0s - loss: 0.2598 - accuracy: 0.8876 - val_loss: 0.4627 - val_accuracy: 0.8442 - 203ms/epoch - 10ms/step\n",
            "Epoch 464/500\n",
            "20/20 - 0s - loss: 0.2631 - accuracy: 0.8893 - val_loss: 0.4524 - val_accuracy: 0.8442 - 184ms/epoch - 9ms/step\n",
            "Epoch 465/500\n",
            "20/20 - 0s - loss: 0.2602 - accuracy: 0.8893 - val_loss: 0.4506 - val_accuracy: 0.8442 - 175ms/epoch - 9ms/step\n",
            "Epoch 466/500\n",
            "20/20 - 0s - loss: 0.2616 - accuracy: 0.8909 - val_loss: 0.4466 - val_accuracy: 0.8442 - 173ms/epoch - 9ms/step\n",
            "Epoch 467/500\n",
            "20/20 - 0s - loss: 0.2627 - accuracy: 0.8876 - val_loss: 0.4445 - val_accuracy: 0.8636 - 202ms/epoch - 10ms/step\n",
            "Epoch 468/500\n",
            "20/20 - 0s - loss: 0.2651 - accuracy: 0.8893 - val_loss: 0.4659 - val_accuracy: 0.8442 - 200ms/epoch - 10ms/step\n",
            "Epoch 469/500\n",
            "20/20 - 0s - loss: 0.2620 - accuracy: 0.8893 - val_loss: 0.4475 - val_accuracy: 0.8506 - 203ms/epoch - 10ms/step\n",
            "Epoch 470/500\n",
            "20/20 - 0s - loss: 0.2619 - accuracy: 0.8893 - val_loss: 0.4504 - val_accuracy: 0.8442 - 203ms/epoch - 10ms/step\n",
            "Epoch 471/500\n",
            "20/20 - 0s - loss: 0.2616 - accuracy: 0.8811 - val_loss: 0.4438 - val_accuracy: 0.8442 - 184ms/epoch - 9ms/step\n",
            "Epoch 472/500\n",
            "20/20 - 0s - loss: 0.2629 - accuracy: 0.8876 - val_loss: 0.4540 - val_accuracy: 0.8442 - 164ms/epoch - 8ms/step\n",
            "Epoch 473/500\n",
            "20/20 - 0s - loss: 0.2598 - accuracy: 0.8860 - val_loss: 0.4502 - val_accuracy: 0.8442 - 164ms/epoch - 8ms/step\n",
            "Epoch 474/500\n",
            "20/20 - 0s - loss: 0.2597 - accuracy: 0.8893 - val_loss: 0.4504 - val_accuracy: 0.8506 - 223ms/epoch - 11ms/step\n",
            "Epoch 475/500\n",
            "20/20 - 0s - loss: 0.2588 - accuracy: 0.8909 - val_loss: 0.4674 - val_accuracy: 0.8442 - 165ms/epoch - 8ms/step\n",
            "Epoch 476/500\n",
            "20/20 - 0s - loss: 0.2634 - accuracy: 0.8844 - val_loss: 0.4501 - val_accuracy: 0.8442 - 168ms/epoch - 8ms/step\n",
            "Epoch 477/500\n",
            "20/20 - 0s - loss: 0.2595 - accuracy: 0.8860 - val_loss: 0.4560 - val_accuracy: 0.8442 - 197ms/epoch - 10ms/step\n",
            "Epoch 478/500\n",
            "20/20 - 0s - loss: 0.2596 - accuracy: 0.8876 - val_loss: 0.4553 - val_accuracy: 0.8442 - 173ms/epoch - 9ms/step\n",
            "Epoch 479/500\n",
            "20/20 - 0s - loss: 0.2600 - accuracy: 0.8909 - val_loss: 0.4469 - val_accuracy: 0.8442 - 169ms/epoch - 8ms/step\n",
            "Epoch 480/500\n",
            "20/20 - 0s - loss: 0.2598 - accuracy: 0.8844 - val_loss: 0.4470 - val_accuracy: 0.8442 - 177ms/epoch - 9ms/step\n",
            "Epoch 481/500\n",
            "20/20 - 0s - loss: 0.2595 - accuracy: 0.8860 - val_loss: 0.4690 - val_accuracy: 0.8442 - 185ms/epoch - 9ms/step\n",
            "Epoch 482/500\n",
            "20/20 - 0s - loss: 0.2644 - accuracy: 0.8876 - val_loss: 0.4488 - val_accuracy: 0.8442 - 187ms/epoch - 9ms/step\n",
            "Epoch 483/500\n",
            "20/20 - 0s - loss: 0.2624 - accuracy: 0.8844 - val_loss: 0.4409 - val_accuracy: 0.8636 - 187ms/epoch - 9ms/step\n",
            "Epoch 484/500\n",
            "20/20 - 0s - loss: 0.2639 - accuracy: 0.8909 - val_loss: 0.4723 - val_accuracy: 0.8442 - 176ms/epoch - 9ms/step\n",
            "Epoch 485/500\n",
            "20/20 - 0s - loss: 0.2773 - accuracy: 0.8844 - val_loss: 0.4387 - val_accuracy: 0.8571 - 246ms/epoch - 12ms/step\n",
            "Epoch 486/500\n",
            "20/20 - 0s - loss: 0.2592 - accuracy: 0.8860 - val_loss: 0.4478 - val_accuracy: 0.8442 - 182ms/epoch - 9ms/step\n",
            "Epoch 487/500\n",
            "20/20 - 0s - loss: 0.2587 - accuracy: 0.8876 - val_loss: 0.4499 - val_accuracy: 0.8442 - 171ms/epoch - 9ms/step\n",
            "Epoch 488/500\n",
            "20/20 - 0s - loss: 0.2609 - accuracy: 0.8876 - val_loss: 0.4448 - val_accuracy: 0.8506 - 171ms/epoch - 9ms/step\n",
            "Epoch 489/500\n",
            "20/20 - 0s - loss: 0.2601 - accuracy: 0.8876 - val_loss: 0.4539 - val_accuracy: 0.8442 - 210ms/epoch - 11ms/step\n",
            "Epoch 490/500\n",
            "20/20 - 0s - loss: 0.2583 - accuracy: 0.8893 - val_loss: 0.4567 - val_accuracy: 0.8442 - 171ms/epoch - 9ms/step\n",
            "Epoch 491/500\n",
            "20/20 - 0s - loss: 0.2615 - accuracy: 0.8844 - val_loss: 0.4637 - val_accuracy: 0.8442 - 174ms/epoch - 9ms/step\n",
            "Epoch 492/500\n",
            "20/20 - 0s - loss: 0.2673 - accuracy: 0.8925 - val_loss: 0.4777 - val_accuracy: 0.8442 - 160ms/epoch - 8ms/step\n",
            "Epoch 493/500\n",
            "20/20 - 0s - loss: 0.2672 - accuracy: 0.8811 - val_loss: 0.4419 - val_accuracy: 0.8506 - 153ms/epoch - 8ms/step\n",
            "Epoch 494/500\n",
            "20/20 - 0s - loss: 0.2587 - accuracy: 0.8893 - val_loss: 0.4528 - val_accuracy: 0.8442 - 155ms/epoch - 8ms/step\n",
            "Epoch 495/500\n",
            "20/20 - 0s - loss: 0.2596 - accuracy: 0.8909 - val_loss: 0.4557 - val_accuracy: 0.8442 - 160ms/epoch - 8ms/step\n",
            "Epoch 496/500\n",
            "20/20 - 0s - loss: 0.2600 - accuracy: 0.8844 - val_loss: 0.4572 - val_accuracy: 0.8442 - 164ms/epoch - 8ms/step\n",
            "Epoch 497/500\n",
            "20/20 - 0s - loss: 0.2592 - accuracy: 0.8876 - val_loss: 0.4406 - val_accuracy: 0.8506 - 159ms/epoch - 8ms/step\n",
            "Epoch 498/500\n",
            "20/20 - 0s - loss: 0.2600 - accuracy: 0.8958 - val_loss: 0.4572 - val_accuracy: 0.8442 - 169ms/epoch - 8ms/step\n",
            "Epoch 499/500\n",
            "20/20 - 0s - loss: 0.2632 - accuracy: 0.8811 - val_loss: 0.4562 - val_accuracy: 0.8506 - 166ms/epoch - 8ms/step\n",
            "Epoch 500/500\n",
            "20/20 - 0s - loss: 0.2583 - accuracy: 0.8909 - val_loss: 0.4421 - val_accuracy: 0.8571 - 201ms/epoch - 10ms/step\n"
          ]
        }
      ],
      "source": [
        "history = model.fit(X_train, y_train, validation_data=(X_test, y_test), epochs=config['default'].getint('epochs'), verbose=2, callbacks=[WandbCallback(valdiation_data=(X_test, y_test), log_weights=True)])"
      ]
    },
    {
      "cell_type": "code",
      "execution_count": 9,
      "metadata": {},
      "outputs": [
        {
          "data": {
            "text/html": [
              "<div>\n",
              "<style scoped>\n",
              "    .dataframe tbody tr th:only-of-type {\n",
              "        vertical-align: middle;\n",
              "    }\n",
              "\n",
              "    .dataframe tbody tr th {\n",
              "        vertical-align: top;\n",
              "    }\n",
              "\n",
              "    .dataframe thead th {\n",
              "        text-align: right;\n",
              "    }\n",
              "</style>\n",
              "<table border=\"1\" class=\"dataframe\">\n",
              "  <thead>\n",
              "    <tr style=\"text-align: right;\">\n",
              "      <th></th>\n",
              "      <th>loss</th>\n",
              "      <th>accuracy</th>\n",
              "      <th>val_loss</th>\n",
              "      <th>val_accuracy</th>\n",
              "      <th>epoch</th>\n",
              "    </tr>\n",
              "  </thead>\n",
              "  <tbody>\n",
              "    <tr>\n",
              "      <th>495</th>\n",
              "      <td>0.259973</td>\n",
              "      <td>0.884365</td>\n",
              "      <td>0.457235</td>\n",
              "      <td>0.844156</td>\n",
              "      <td>495</td>\n",
              "    </tr>\n",
              "    <tr>\n",
              "      <th>496</th>\n",
              "      <td>0.259195</td>\n",
              "      <td>0.887622</td>\n",
              "      <td>0.440586</td>\n",
              "      <td>0.850649</td>\n",
              "      <td>496</td>\n",
              "    </tr>\n",
              "    <tr>\n",
              "      <th>497</th>\n",
              "      <td>0.259959</td>\n",
              "      <td>0.895765</td>\n",
              "      <td>0.457168</td>\n",
              "      <td>0.844156</td>\n",
              "      <td>497</td>\n",
              "    </tr>\n",
              "    <tr>\n",
              "      <th>498</th>\n",
              "      <td>0.263187</td>\n",
              "      <td>0.881108</td>\n",
              "      <td>0.456230</td>\n",
              "      <td>0.850649</td>\n",
              "      <td>498</td>\n",
              "    </tr>\n",
              "    <tr>\n",
              "      <th>499</th>\n",
              "      <td>0.258270</td>\n",
              "      <td>0.890880</td>\n",
              "      <td>0.442118</td>\n",
              "      <td>0.857143</td>\n",
              "      <td>499</td>\n",
              "    </tr>\n",
              "  </tbody>\n",
              "</table>\n",
              "</div>"
            ],
            "text/plain": [
              "         loss  accuracy  val_loss  val_accuracy  epoch\n",
              "495  0.259973  0.884365  0.457235      0.844156    495\n",
              "496  0.259195  0.887622  0.440586      0.850649    496\n",
              "497  0.259959  0.895765  0.457168      0.844156    497\n",
              "498  0.263187  0.881108  0.456230      0.850649    498\n",
              "499  0.258270  0.890880  0.442118      0.857143    499"
            ]
          },
          "execution_count": 9,
          "metadata": {},
          "output_type": "execute_result"
        }
      ],
      "source": [
        "hist = pd.DataFrame(history.history)\n",
        "hist['epoch'] = history.epoch\n",
        "hist.tail()"
      ]
    },
    {
      "cell_type": "markdown",
      "metadata": {},
      "source": []
    },
    {
      "attachments": {},
      "cell_type": "markdown",
      "metadata": {},
      "source": [
        "At the end, we calculate training and validation accuracy."
      ]
    },
    {
      "cell_type": "code",
      "execution_count": 10,
      "metadata": {},
      "outputs": [
        {
          "name": "stdout",
          "output_type": "stream",
          "text": [
            "Training Accuracy = 88.79% and Validation Accuracy = 84.94%\n"
          ]
        }
      ],
      "source": [
        "acc = (hist['accuracy'].tail().sum())*100/5 \n",
        "val_acc = (hist['val_accuracy'].tail().sum())*100/5 \n",
        "\n",
        "print(\"Training Accuracy = {}% and Validation Accuracy = {}%\".format(round(acc, 2), round(val_acc, 2)))"
      ]
    },
    {
      "cell_type": "code",
      "execution_count": 11,
      "metadata": {},
      "outputs": [
        {
          "data": {
            "text/html": [
              "Waiting for W&B process to finish... <strong style=\"color:green\">(success).</strong>"
            ],
            "text/plain": [
              "<IPython.core.display.HTML object>"
            ]
          },
          "metadata": {},
          "output_type": "display_data"
        },
        {
          "data": {
            "application/vnd.jupyter.widget-view+json": {
              "model_id": "bebaf2ed7d2e49b69cc5ed7185f8b30b",
              "version_major": 2,
              "version_minor": 0
            },
            "text/plain": [
              "VBox(children=(Label(value='5.241 MB of 5.241 MB uploaded (0.395 MB deduped)\\r'), FloatProgress(value=1.0, max…"
            ]
          },
          "metadata": {},
          "output_type": "display_data"
        },
        {
          "data": {
            "text/html": [
              "<style>\n",
              "    table.wandb td:nth-child(1) { padding: 0 10px; text-align: left ; width: auto;} td:nth-child(2) {text-align: left ; width: 100%}\n",
              "    .wandb-row { display: flex; flex-direction: row; flex-wrap: wrap; justify-content: flex-start; width: 100% }\n",
              "    .wandb-col { display: flex; flex-direction: column; flex-basis: 100%; flex: 1; padding: 10px; }\n",
              "    </style>\n",
              "<div class=\"wandb-row\"><div class=\"wandb-col\"><h3>Run history:</h3><br/><table class=\"wandb\"><tr><td>accuracy</td><td>▁▅▅▅▆▆▇▇▇▇▇▇████████████████████████▇███</td></tr><tr><td>epoch</td><td>▁▁▁▂▂▂▂▂▂▃▃▃▃▃▄▄▄▄▄▄▅▅▅▅▅▅▆▆▆▆▆▇▇▇▇▇▇███</td></tr><tr><td>loss</td><td>█▅▄▃▃▃▂▂▂▂▂▂▂▂▂▂▂▂▁▁▁▁▁▁▁▁▁▁▁▁▁▁▁▁▁▁▁▁▁▁</td></tr><tr><td>val_accuracy</td><td>▁▄▅▅▆▆▇█▇██████████▇███████████▇███▇▇▇▇▇</td></tr><tr><td>val_loss</td><td>█▄▂▂▂▁▁▁▂▁▁▁▁▁▁▂▁▁▁▁▁▂▂▁▁▁▂▁▂▂▁▂▂▂▂▂▂▂▃▂</td></tr></table><br/></div><div class=\"wandb-col\"><h3>Run summary:</h3><br/><table class=\"wandb\"><tr><td>accuracy</td><td>0.89088</td></tr><tr><td>best_epoch</td><td>130</td></tr><tr><td>best_val_loss</td><td>0.42148</td></tr><tr><td>epoch</td><td>499</td></tr><tr><td>loss</td><td>0.25827</td></tr><tr><td>val_accuracy</td><td>0.85714</td></tr><tr><td>val_loss</td><td>0.44212</td></tr></table><br/></div></div>"
            ],
            "text/plain": [
              "<IPython.core.display.HTML object>"
            ]
          },
          "metadata": {},
          "output_type": "display_data"
        },
        {
          "data": {
            "text/html": [
              " View run <strong style=\"color:#cdcd00\">lr-scheduler-adam-bce-cos-deeper</strong> at: <a href='https://wandb.ai/nsiete-hrnciar-katkovcin/basic-nn-tensorflow/runs/lr-scheduler-adam-bce-cos-deeper' target=\"_blank\">https://wandb.ai/nsiete-hrnciar-katkovcin/basic-nn-tensorflow/runs/lr-scheduler-adam-bce-cos-deeper</a><br/>Synced 6 W&B file(s), 0 media file(s), 164 artifact file(s) and 1 other file(s)"
            ],
            "text/plain": [
              "<IPython.core.display.HTML object>"
            ]
          },
          "metadata": {},
          "output_type": "display_data"
        },
        {
          "data": {
            "text/html": [
              "Find logs at: <code>./wandb/run-20230329_113305-lr-scheduler-adam-bce-cos-deeper/logs</code>"
            ],
            "text/plain": [
              "<IPython.core.display.HTML object>"
            ]
          },
          "metadata": {},
          "output_type": "display_data"
        }
      ],
      "source": [
        "#tf.keras.models.save_model(model, \"models/model_tf.pth\")\n",
        "wandb.save('runs/pima_run_2023-03-28-tf-adam-bce-cos-lr-deeper')\n",
        "wandb.finish()"
      ]
    },
    {
      "cell_type": "code",
      "execution_count": null,
      "metadata": {},
      "outputs": [],
      "source": []
    }
  ],
  "metadata": {
    "accelerator": "GPU",
    "colab": {
      "provenance": []
    },
    "gpuClass": "standard",
    "kernelspec": {
      "display_name": "Python 3",
      "name": "python3"
    },
    "language_info": {
      "codemirror_mode": {
        "name": "ipython",
        "version": 3
      },
      "file_extension": ".py",
      "mimetype": "text/x-python",
      "name": "python",
      "nbconvert_exporter": "python",
      "pygments_lexer": "ipython3",
      "version": "3.8.13"
    }
  },
  "nbformat": 4,
  "nbformat_minor": 0
}
