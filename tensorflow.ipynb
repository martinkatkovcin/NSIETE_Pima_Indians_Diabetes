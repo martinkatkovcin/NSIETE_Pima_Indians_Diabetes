{
  "cells": [
    {
      "cell_type": "code",
      "execution_count": 1,
      "metadata": {
        "id": "uRUoY7msh-gX"
      },
      "outputs": [
        {
          "name": "stdout",
          "output_type": "stream",
          "text": [
            "2.9.2\n",
            "[PhysicalDevice(name='/physical_device:GPU:0', device_type='GPU')]\n"
          ]
        },
        {
          "name": "stderr",
          "output_type": "stream",
          "text": [
            "Failed to detect the name of this notebook, you can set it manually with the WANDB_NOTEBOOK_NAME environment variable to enable code saving.\n",
            "\u001b[34m\u001b[1mwandb\u001b[0m: Currently logged in as: \u001b[33mmato-katkovcin\u001b[0m (\u001b[33mnsiete-hrnciar-katkovcin\u001b[0m). Use \u001b[1m`wandb login --relogin`\u001b[0m to force relogin\n"
          ]
        },
        {
          "data": {
            "text/html": [
              "wandb version 0.14.0 is available!  To upgrade, please run:\n",
              " $ pip install wandb --upgrade"
            ],
            "text/plain": [
              "<IPython.core.display.HTML object>"
            ]
          },
          "metadata": {},
          "output_type": "display_data"
        },
        {
          "data": {
            "text/html": [
              "Tracking run with wandb version 0.13.10"
            ],
            "text/plain": [
              "<IPython.core.display.HTML object>"
            ]
          },
          "metadata": {},
          "output_type": "display_data"
        },
        {
          "data": {
            "text/html": [
              "Run data is saved locally in <code>/Users/martinkatkovcin/Documents/School/NSIETE/Zadanie1/wandb/run-20230329_001550-lr-scheduler-adam-bce</code>"
            ],
            "text/plain": [
              "<IPython.core.display.HTML object>"
            ]
          },
          "metadata": {},
          "output_type": "display_data"
        },
        {
          "data": {
            "text/html": [
              "Syncing run <strong><a href='https://wandb.ai/nsiete-hrnciar-katkovcin/basic-nn-tensorflow/runs/lr-scheduler-adam-bce' target=\"_blank\">lr-scheduler-adam-bce</a></strong> to <a href='https://wandb.ai/nsiete-hrnciar-katkovcin/basic-nn-tensorflow' target=\"_blank\">Weights & Biases</a> (<a href='https://wandb.me/run' target=\"_blank\">docs</a>)<br/>"
            ],
            "text/plain": [
              "<IPython.core.display.HTML object>"
            ]
          },
          "metadata": {},
          "output_type": "display_data"
        },
        {
          "data": {
            "text/html": [
              " View project at <a href='https://wandb.ai/nsiete-hrnciar-katkovcin/basic-nn-tensorflow' target=\"_blank\">https://wandb.ai/nsiete-hrnciar-katkovcin/basic-nn-tensorflow</a>"
            ],
            "text/plain": [
              "<IPython.core.display.HTML object>"
            ]
          },
          "metadata": {},
          "output_type": "display_data"
        },
        {
          "data": {
            "text/html": [
              " View run at <a href='https://wandb.ai/nsiete-hrnciar-katkovcin/basic-nn-tensorflow/runs/lr-scheduler-adam-bce' target=\"_blank\">https://wandb.ai/nsiete-hrnciar-katkovcin/basic-nn-tensorflow/runs/lr-scheduler-adam-bce</a>"
            ],
            "text/plain": [
              "<IPython.core.display.HTML object>"
            ]
          },
          "metadata": {},
          "output_type": "display_data"
        }
      ],
      "source": [
        "import pandas as pd\n",
        "from sklearn.model_selection import train_test_split\n",
        "from sklearn.metrics import accuracy_score, f1_score\n",
        "\n",
        "import tensorflow as tf\n",
        "from tensorflow.keras.callbacks import LearningRateScheduler\n",
        "from tensorflow import squeeze\n",
        "\n",
        "import numpy as np\n",
        "\n",
        "print(tf.__version__)\n",
        "print(tf.config.list_physical_devices('GPU'))\n",
        "\n",
        "import configparser\n",
        "config = configparser.ConfigParser()\n",
        "config.read('config.ini')\n",
        "\n",
        "import wandb\n",
        "from wandb.keras import WandbCallback\n",
        "wandb.login()\n",
        "\n",
        "run = wandb.init(project=\"basic-nn-tensorflow\", id=\"lr-scheduler-adam-bce\")\n",
        "wandb.config.update(config)\n",
        "\n"
      ]
    },
    {
      "attachments": {},
      "cell_type": "markdown",
      "metadata": {},
      "source": [
        "Initial load of config file, where we have hyperparameters we are training our model"
      ]
    },
    {
      "cell_type": "code",
      "execution_count": 2,
      "metadata": {},
      "outputs": [
        {
          "data": {
            "text/plain": [
              "(0.001, 0.01, 500, 1, 'cos')"
            ]
          },
          "execution_count": 2,
          "metadata": {},
          "output_type": "execute_result"
        }
      ],
      "source": [
        "start_lr = config['tensorflow'].getfloat('start_lr')\n",
        "max_lr = config['tensorflow'].getfloat('max_lr')\n",
        "epochs = config['default'].getint('epochs')\n",
        "steps_per_epoch = config['tensorflow'].getint('steps_per_epoch')\n",
        "anneal_strategy = config['tensorflow']['strategy']\n",
        "\n",
        "start_lr, max_lr, epochs, steps_per_epoch, anneal_strategy"
      ]
    },
    {
      "attachments": {},
      "cell_type": "markdown",
      "metadata": {},
      "source": [
        "## Data loading and train-test split\n",
        "\n",
        "Initially, we imported the processed data and formed two collections of information: predictors (X) and labels (y). We then divided these sets into two parts, one for training (80%) and another for testing (20%). To maintain consistency in the split, we also specified a random state seed."
      ]
    },
    {
      "cell_type": "code",
      "execution_count": 3,
      "metadata": {
        "colab": {
          "base_uri": "https://localhost:8080/",
          "height": 419
        },
        "id": "BZTZ7Y9DiLvD",
        "outputId": "6815640b-da99-4e35-dbac-f04bc66646cd"
      },
      "outputs": [
        {
          "data": {
            "text/html": [
              "<div>\n",
              "<style scoped>\n",
              "    .dataframe tbody tr th:only-of-type {\n",
              "        vertical-align: middle;\n",
              "    }\n",
              "\n",
              "    .dataframe tbody tr th {\n",
              "        vertical-align: top;\n",
              "    }\n",
              "\n",
              "    .dataframe thead th {\n",
              "        text-align: right;\n",
              "    }\n",
              "</style>\n",
              "<table border=\"1\" class=\"dataframe\">\n",
              "  <thead>\n",
              "    <tr style=\"text-align: right;\">\n",
              "      <th></th>\n",
              "      <th>Pregnancies</th>\n",
              "      <th>Glucose</th>\n",
              "      <th>BloodPressure</th>\n",
              "      <th>SkinThickness</th>\n",
              "      <th>Insulin</th>\n",
              "      <th>BMI</th>\n",
              "      <th>DiabetesPedigreeFunction</th>\n",
              "      <th>Age</th>\n",
              "      <th>Outcome</th>\n",
              "    </tr>\n",
              "  </thead>\n",
              "  <tbody>\n",
              "    <tr>\n",
              "      <th>0</th>\n",
              "      <td>0.352941</td>\n",
              "      <td>0.670968</td>\n",
              "      <td>0.489796</td>\n",
              "      <td>0.304348</td>\n",
              "      <td>0.186899</td>\n",
              "      <td>0.314928</td>\n",
              "      <td>0.234415</td>\n",
              "      <td>0.483333</td>\n",
              "      <td>1</td>\n",
              "    </tr>\n",
              "    <tr>\n",
              "      <th>1</th>\n",
              "      <td>0.058824</td>\n",
              "      <td>0.264516</td>\n",
              "      <td>0.428571</td>\n",
              "      <td>0.239130</td>\n",
              "      <td>0.106370</td>\n",
              "      <td>0.171779</td>\n",
              "      <td>0.116567</td>\n",
              "      <td>0.166667</td>\n",
              "      <td>0</td>\n",
              "    </tr>\n",
              "    <tr>\n",
              "      <th>2</th>\n",
              "      <td>0.470588</td>\n",
              "      <td>0.896774</td>\n",
              "      <td>0.408163</td>\n",
              "      <td>0.271739</td>\n",
              "      <td>0.186899</td>\n",
              "      <td>0.104294</td>\n",
              "      <td>0.253629</td>\n",
              "      <td>0.183333</td>\n",
              "      <td>1</td>\n",
              "    </tr>\n",
              "    <tr>\n",
              "      <th>3</th>\n",
              "      <td>0.058824</td>\n",
              "      <td>0.290323</td>\n",
              "      <td>0.428571</td>\n",
              "      <td>0.173913</td>\n",
              "      <td>0.096154</td>\n",
              "      <td>0.202454</td>\n",
              "      <td>0.038002</td>\n",
              "      <td>0.000000</td>\n",
              "      <td>0</td>\n",
              "    </tr>\n",
              "    <tr>\n",
              "      <th>4</th>\n",
              "      <td>0.000000</td>\n",
              "      <td>0.600000</td>\n",
              "      <td>0.163265</td>\n",
              "      <td>0.304348</td>\n",
              "      <td>0.185096</td>\n",
              "      <td>0.509202</td>\n",
              "      <td>0.943638</td>\n",
              "      <td>0.200000</td>\n",
              "      <td>1</td>\n",
              "    </tr>\n",
              "    <tr>\n",
              "      <th>...</th>\n",
              "      <td>...</td>\n",
              "      <td>...</td>\n",
              "      <td>...</td>\n",
              "      <td>...</td>\n",
              "      <td>...</td>\n",
              "      <td>...</td>\n",
              "      <td>...</td>\n",
              "      <td>...</td>\n",
              "      <td>...</td>\n",
              "    </tr>\n",
              "    <tr>\n",
              "      <th>763</th>\n",
              "      <td>0.588235</td>\n",
              "      <td>0.367742</td>\n",
              "      <td>0.530612</td>\n",
              "      <td>0.445652</td>\n",
              "      <td>0.199519</td>\n",
              "      <td>0.300613</td>\n",
              "      <td>0.039710</td>\n",
              "      <td>0.700000</td>\n",
              "      <td>0</td>\n",
              "    </tr>\n",
              "    <tr>\n",
              "      <th>764</th>\n",
              "      <td>0.117647</td>\n",
              "      <td>0.503226</td>\n",
              "      <td>0.469388</td>\n",
              "      <td>0.217391</td>\n",
              "      <td>0.106370</td>\n",
              "      <td>0.380368</td>\n",
              "      <td>0.111870</td>\n",
              "      <td>0.100000</td>\n",
              "      <td>0</td>\n",
              "    </tr>\n",
              "    <tr>\n",
              "      <th>765</th>\n",
              "      <td>0.294118</td>\n",
              "      <td>0.496774</td>\n",
              "      <td>0.489796</td>\n",
              "      <td>0.173913</td>\n",
              "      <td>0.117788</td>\n",
              "      <td>0.163599</td>\n",
              "      <td>0.071307</td>\n",
              "      <td>0.150000</td>\n",
              "      <td>0</td>\n",
              "    </tr>\n",
              "    <tr>\n",
              "      <th>766</th>\n",
              "      <td>0.058824</td>\n",
              "      <td>0.529032</td>\n",
              "      <td>0.367347</td>\n",
              "      <td>0.271739</td>\n",
              "      <td>0.186899</td>\n",
              "      <td>0.243354</td>\n",
              "      <td>0.115713</td>\n",
              "      <td>0.433333</td>\n",
              "      <td>1</td>\n",
              "    </tr>\n",
              "    <tr>\n",
              "      <th>767</th>\n",
              "      <td>0.058824</td>\n",
              "      <td>0.316129</td>\n",
              "      <td>0.469388</td>\n",
              "      <td>0.260870</td>\n",
              "      <td>0.106370</td>\n",
              "      <td>0.249489</td>\n",
              "      <td>0.101196</td>\n",
              "      <td>0.033333</td>\n",
              "      <td>0</td>\n",
              "    </tr>\n",
              "  </tbody>\n",
              "</table>\n",
              "<p>768 rows × 9 columns</p>\n",
              "</div>"
            ],
            "text/plain": [
              "     Pregnancies   Glucose  BloodPressure  SkinThickness   Insulin       BMI  \\\n",
              "0       0.352941  0.670968       0.489796       0.304348  0.186899  0.314928   \n",
              "1       0.058824  0.264516       0.428571       0.239130  0.106370  0.171779   \n",
              "2       0.470588  0.896774       0.408163       0.271739  0.186899  0.104294   \n",
              "3       0.058824  0.290323       0.428571       0.173913  0.096154  0.202454   \n",
              "4       0.000000  0.600000       0.163265       0.304348  0.185096  0.509202   \n",
              "..           ...       ...            ...            ...       ...       ...   \n",
              "763     0.588235  0.367742       0.530612       0.445652  0.199519  0.300613   \n",
              "764     0.117647  0.503226       0.469388       0.217391  0.106370  0.380368   \n",
              "765     0.294118  0.496774       0.489796       0.173913  0.117788  0.163599   \n",
              "766     0.058824  0.529032       0.367347       0.271739  0.186899  0.243354   \n",
              "767     0.058824  0.316129       0.469388       0.260870  0.106370  0.249489   \n",
              "\n",
              "     DiabetesPedigreeFunction       Age  Outcome  \n",
              "0                    0.234415  0.483333        1  \n",
              "1                    0.116567  0.166667        0  \n",
              "2                    0.253629  0.183333        1  \n",
              "3                    0.038002  0.000000        0  \n",
              "4                    0.943638  0.200000        1  \n",
              "..                        ...       ...      ...  \n",
              "763                  0.039710  0.700000        0  \n",
              "764                  0.111870  0.100000        0  \n",
              "765                  0.071307  0.150000        0  \n",
              "766                  0.115713  0.433333        1  \n",
              "767                  0.101196  0.033333        0  \n",
              "\n",
              "[768 rows x 9 columns]"
            ]
          },
          "execution_count": 3,
          "metadata": {},
          "output_type": "execute_result"
        }
      ],
      "source": [
        "df = pd.read_csv('Data/cleaned.csv', index_col=0)\n",
        "df"
      ]
    },
    {
      "cell_type": "code",
      "execution_count": 4,
      "metadata": {},
      "outputs": [
        {
          "name": "stdout",
          "output_type": "stream",
          "text": [
            "Metal device set to: Apple M1\n",
            "\n",
            "systemMemory: 16.00 GB\n",
            "maxCacheSize: 5.33 GB\n",
            "\n"
          ]
        },
        {
          "name": "stderr",
          "output_type": "stream",
          "text": [
            "2023-03-29 00:15:54.825560: I tensorflow/core/common_runtime/pluggable_device/pluggable_device_factory.cc:305] Could not identify NUMA node of platform GPU ID 0, defaulting to 0. Your kernel may not have been built with NUMA support.\n",
            "2023-03-29 00:15:54.825703: I tensorflow/core/common_runtime/pluggable_device/pluggable_device_factory.cc:271] Created TensorFlow device (/job:localhost/replica:0/task:0/device:GPU:0 with 0 MB memory) -> physical PluggableDevice (device: 0, name: METAL, pci bus id: <undefined>)\n"
          ]
        }
      ],
      "source": [
        "X, y = df.drop('Outcome', axis=1).values, df.Outcome.values\n",
        "\n",
        "X_train, X_test, y_train, y_test = train_test_split(X, y, train_size=0.8, shuffle=True, random_state=42)\n",
        "\n",
        "X_train = tf.cast(tf.constant(X_train), tf.float32)\n",
        "X_test = tf.cast(tf.constant(X_test), tf.float32)\n",
        "y_train = tf.cast(tf.expand_dims(y_train, axis=1), tf.float32)\n",
        "y_test = tf.cast(tf.expand_dims(y_test, axis=1), tf.float32)"
      ]
    },
    {
      "attachments": {},
      "cell_type": "markdown",
      "metadata": {},
      "source": [
        "Our neural network is composed of three layers: an input layer, a hidden layer, and an output layer. The activation function used in all layers except the output layer is ReLU, while the output layer uses the Sigmoid activation function, which ensures the output is within the range of 0 to 1. To perform binary classification, we utilized binary cross entropy loss (BCELoss) and Adam optimizer.\n",
        "\n",
        "Furthermore, we incorporated a learning rate scheduler to adjust the learning rate, making it higher at the start of training and gradually decreasing as we approach the minimum."
      ]
    },
    {
      "cell_type": "code",
      "execution_count": 5,
      "metadata": {},
      "outputs": [],
      "source": [
        "def schedule(epoch):\n",
        "    cycle = 0\n",
        "    if epoch < (epochs // 2):\n",
        "        cycle = 1 + (epoch * steps_per_epoch) // (epochs // 2)\n",
        "        factor = float(cycle * max_lr) / float(epochs)\n",
        "    else:\n",
        "        cycle = 1 + ((epochs - epoch) * steps_per_epoch) // (epochs // 2)\n",
        "        factor = float(cycle * max_lr) / float(epochs)\n",
        "        factor = max_lr - factor\n",
        "\n",
        "    if anneal_strategy == 'cos':\n",
        "        lr = factor * (1 + tf.math.cos(tf.constant(np.pi) * (epoch % (epochs // 2)) / (epochs // 2))) / 2\n",
        "    elif anneal_strategy == 'linear':\n",
        "        lr = factor * (epochs - epoch) / epochs\n",
        "    else:\n",
        "        raise ValueError('Invalid anneal strategy')\n",
        "\n",
        "    return lr"
      ]
    },
    {
      "cell_type": "code",
      "execution_count": 6,
      "metadata": {},
      "outputs": [],
      "source": [
        "def NeuralNetworkModel():\n",
        "    model = tf.keras.Sequential([\n",
        "    tf.keras.layers.Dense(8, activation='relu', input_shape=[len(df.keys()) - 1]),\n",
        "    tf.keras.layers.Dense(4, activation='relu'),\n",
        "    tf.keras.layers.Dense(1, activation='sigmoid')\n",
        "  ])\n",
        "    return model\n",
        "\n",
        "model = NeuralNetworkModel()\n",
        "\n",
        "loss_fn = tf.keras.losses.BinaryCrossentropy(from_logits=True)\n",
        "optimizer = tf.keras.optimizers.Adam(learning_rate=start_lr)\n",
        "lr_scheduler = LearningRateScheduler(schedule=schedule)\n",
        "\n",
        "model.compile(loss=loss_fn, optimizer=optimizer, metrics=['accuracy'])"
      ]
    },
    {
      "cell_type": "code",
      "execution_count": 7,
      "metadata": {},
      "outputs": [
        {
          "name": "stdout",
          "output_type": "stream",
          "text": [
            "Model: \"sequential\"\n",
            "_________________________________________________________________\n",
            " Layer (type)                Output Shape              Param #   \n",
            "=================================================================\n",
            " dense (Dense)               (None, 8)                 72        \n",
            "                                                                 \n",
            " dense_1 (Dense)             (None, 4)                 36        \n",
            "                                                                 \n",
            " dense_2 (Dense)             (None, 1)                 5         \n",
            "                                                                 \n",
            "=================================================================\n",
            "Total params: 113\n",
            "Trainable params: 113\n",
            "Non-trainable params: 0\n",
            "_________________________________________________________________\n"
          ]
        }
      ],
      "source": [
        "model.summary()"
      ]
    },
    {
      "attachments": {},
      "cell_type": "markdown",
      "metadata": {},
      "source": [
        "During the training process, we measure the loss and accuracy while the scheduler adjusts the learning rate. When testing, we measure the testing loss,  and accuracy and all these metrics are recorded and stored in wandb."
      ]
    },
    {
      "cell_type": "code",
      "execution_count": 8,
      "metadata": {},
      "outputs": [
        {
          "name": "stderr",
          "output_type": "stream",
          "text": [
            "\u001b[34m\u001b[1mwandb\u001b[0m: \u001b[33mWARNING\u001b[0m The save_model argument by default saves the model in the HDF5 format that cannot save custom objects like subclassed models and custom layers. This behavior will be deprecated in a future release in favor of the SavedModel format. Meanwhile, the HDF5 model is saved as W&B files and the SavedModel as W&B Artifacts.\n"
          ]
        },
        {
          "name": "stdout",
          "output_type": "stream",
          "text": [
            "Epoch 1/500\n"
          ]
        },
        {
          "name": "stderr",
          "output_type": "stream",
          "text": [
            "2023-03-29 00:15:55.660598: W tensorflow/core/platform/profile_utils/cpu_utils.cc:128] Failed to get CPU frequency: 0 Hz\n",
            "/opt/homebrew/Caskroom/miniconda/base/envs/nsietetensor/lib/python3.8/site-packages/tensorflow/python/util/dispatch.py:1082: UserWarning: \"`binary_crossentropy` received `from_logits=True`, but the `output` argument was produced by a sigmoid or softmax activation and thus does not represent logits. Was this intended?\"\n",
            "  return dispatch_target(*args, **kwargs)\n",
            "2023-03-29 00:15:55.912703: I tensorflow/core/grappler/optimizers/custom_graph_optimizer_registry.cc:113] Plugin optimizer for device_type GPU is enabled.\n",
            "2023-03-29 00:15:56.381286: I tensorflow/core/grappler/optimizers/custom_graph_optimizer_registry.cc:113] Plugin optimizer for device_type GPU is enabled.\n"
          ]
        },
        {
          "name": "stdout",
          "output_type": "stream",
          "text": [
            "INFO:tensorflow:Assets written to: /Users/martinkatkovcin/Documents/School/NSIETE/Zadanie1/wandb/run-20230329_001550-lr-scheduler-adam-bce/files/model-best/assets\n"
          ]
        },
        {
          "name": "stderr",
          "output_type": "stream",
          "text": [
            "\u001b[34m\u001b[1mwandb\u001b[0m: Adding directory to artifact (/Users/martinkatkovcin/Documents/School/NSIETE/Zadanie1/wandb/run-20230329_001550-lr-scheduler-adam-bce/files/model-best)... Done. 0.0s\n"
          ]
        },
        {
          "name": "stdout",
          "output_type": "stream",
          "text": [
            "20/20 - 1s - loss: 0.6720 - accuracy: 0.6531 - val_loss: 0.6732 - val_accuracy: 0.6429 - 1s/epoch - 65ms/step\n",
            "Epoch 2/500\n",
            "INFO:tensorflow:Assets written to: /Users/martinkatkovcin/Documents/School/NSIETE/Zadanie1/wandb/run-20230329_001550-lr-scheduler-adam-bce/files/model-best/assets\n"
          ]
        },
        {
          "name": "stderr",
          "output_type": "stream",
          "text": [
            "\u001b[34m\u001b[1mwandb\u001b[0m: Adding directory to artifact (/Users/martinkatkovcin/Documents/School/NSIETE/Zadanie1/wandb/run-20230329_001550-lr-scheduler-adam-bce/files/model-best)... Done. 0.0s\n"
          ]
        },
        {
          "name": "stdout",
          "output_type": "stream",
          "text": [
            "20/20 - 1s - loss: 0.6665 - accuracy: 0.6531 - val_loss: 0.6697 - val_accuracy: 0.6429 - 564ms/epoch - 28ms/step\n",
            "Epoch 3/500\n",
            "INFO:tensorflow:Assets written to: /Users/martinkatkovcin/Documents/School/NSIETE/Zadanie1/wandb/run-20230329_001550-lr-scheduler-adam-bce/files/model-best/assets\n"
          ]
        },
        {
          "name": "stderr",
          "output_type": "stream",
          "text": [
            "\u001b[34m\u001b[1mwandb\u001b[0m: Adding directory to artifact (/Users/martinkatkovcin/Documents/School/NSIETE/Zadanie1/wandb/run-20230329_001550-lr-scheduler-adam-bce/files/model-best)... Done. 0.0s\n"
          ]
        },
        {
          "name": "stdout",
          "output_type": "stream",
          "text": [
            "20/20 - 1s - loss: 0.6621 - accuracy: 0.6531 - val_loss: 0.6664 - val_accuracy: 0.6429 - 567ms/epoch - 28ms/step\n",
            "Epoch 4/500\n",
            "INFO:tensorflow:Assets written to: /Users/martinkatkovcin/Documents/School/NSIETE/Zadanie1/wandb/run-20230329_001550-lr-scheduler-adam-bce/files/model-best/assets\n"
          ]
        },
        {
          "name": "stderr",
          "output_type": "stream",
          "text": [
            "\u001b[34m\u001b[1mwandb\u001b[0m: Adding directory to artifact (/Users/martinkatkovcin/Documents/School/NSIETE/Zadanie1/wandb/run-20230329_001550-lr-scheduler-adam-bce/files/model-best)... Done. 0.0s\n"
          ]
        },
        {
          "name": "stdout",
          "output_type": "stream",
          "text": [
            "20/20 - 1s - loss: 0.6583 - accuracy: 0.6531 - val_loss: 0.6630 - val_accuracy: 0.6429 - 719ms/epoch - 36ms/step\n",
            "Epoch 5/500\n",
            "INFO:tensorflow:Assets written to: /Users/martinkatkovcin/Documents/School/NSIETE/Zadanie1/wandb/run-20230329_001550-lr-scheduler-adam-bce/files/model-best/assets\n"
          ]
        },
        {
          "name": "stderr",
          "output_type": "stream",
          "text": [
            "\u001b[34m\u001b[1mwandb\u001b[0m: Adding directory to artifact (/Users/martinkatkovcin/Documents/School/NSIETE/Zadanie1/wandb/run-20230329_001550-lr-scheduler-adam-bce/files/model-best)... Done. 0.0s\n"
          ]
        },
        {
          "name": "stdout",
          "output_type": "stream",
          "text": [
            "20/20 - 1s - loss: 0.6546 - accuracy: 0.6531 - val_loss: 0.6599 - val_accuracy: 0.6429 - 617ms/epoch - 31ms/step\n",
            "Epoch 6/500\n",
            "INFO:tensorflow:Assets written to: /Users/martinkatkovcin/Documents/School/NSIETE/Zadanie1/wandb/run-20230329_001550-lr-scheduler-adam-bce/files/model-best/assets\n"
          ]
        },
        {
          "name": "stderr",
          "output_type": "stream",
          "text": [
            "\u001b[34m\u001b[1mwandb\u001b[0m: Adding directory to artifact (/Users/martinkatkovcin/Documents/School/NSIETE/Zadanie1/wandb/run-20230329_001550-lr-scheduler-adam-bce/files/model-best)... Done. 0.0s\n"
          ]
        },
        {
          "name": "stdout",
          "output_type": "stream",
          "text": [
            "20/20 - 1s - loss: 0.6511 - accuracy: 0.6531 - val_loss: 0.6569 - val_accuracy: 0.6429 - 651ms/epoch - 33ms/step\n",
            "Epoch 7/500\n",
            "INFO:tensorflow:Assets written to: /Users/martinkatkovcin/Documents/School/NSIETE/Zadanie1/wandb/run-20230329_001550-lr-scheduler-adam-bce/files/model-best/assets\n"
          ]
        },
        {
          "name": "stderr",
          "output_type": "stream",
          "text": [
            "\u001b[34m\u001b[1mwandb\u001b[0m: Adding directory to artifact (/Users/martinkatkovcin/Documents/School/NSIETE/Zadanie1/wandb/run-20230329_001550-lr-scheduler-adam-bce/files/model-best)... Done. 0.0s\n"
          ]
        },
        {
          "name": "stdout",
          "output_type": "stream",
          "text": [
            "20/20 - 1s - loss: 0.6475 - accuracy: 0.6531 - val_loss: 0.6540 - val_accuracy: 0.6429 - 574ms/epoch - 29ms/step\n",
            "Epoch 8/500\n",
            "INFO:tensorflow:Assets written to: /Users/martinkatkovcin/Documents/School/NSIETE/Zadanie1/wandb/run-20230329_001550-lr-scheduler-adam-bce/files/model-best/assets\n"
          ]
        },
        {
          "name": "stderr",
          "output_type": "stream",
          "text": [
            "\u001b[34m\u001b[1mwandb\u001b[0m: Adding directory to artifact (/Users/martinkatkovcin/Documents/School/NSIETE/Zadanie1/wandb/run-20230329_001550-lr-scheduler-adam-bce/files/model-best)... Done. 0.0s\n"
          ]
        },
        {
          "name": "stdout",
          "output_type": "stream",
          "text": [
            "20/20 - 1s - loss: 0.6438 - accuracy: 0.6531 - val_loss: 0.6502 - val_accuracy: 0.6429 - 591ms/epoch - 30ms/step\n",
            "Epoch 9/500\n",
            "INFO:tensorflow:Assets written to: /Users/martinkatkovcin/Documents/School/NSIETE/Zadanie1/wandb/run-20230329_001550-lr-scheduler-adam-bce/files/model-best/assets\n"
          ]
        },
        {
          "name": "stderr",
          "output_type": "stream",
          "text": [
            "\u001b[34m\u001b[1mwandb\u001b[0m: Adding directory to artifact (/Users/martinkatkovcin/Documents/School/NSIETE/Zadanie1/wandb/run-20230329_001550-lr-scheduler-adam-bce/files/model-best)... Done. 0.0s\n"
          ]
        },
        {
          "name": "stdout",
          "output_type": "stream",
          "text": [
            "20/20 - 1s - loss: 0.6399 - accuracy: 0.6531 - val_loss: 0.6467 - val_accuracy: 0.6429 - 679ms/epoch - 34ms/step\n",
            "Epoch 10/500\n",
            "INFO:tensorflow:Assets written to: /Users/martinkatkovcin/Documents/School/NSIETE/Zadanie1/wandb/run-20230329_001550-lr-scheduler-adam-bce/files/model-best/assets\n"
          ]
        },
        {
          "name": "stderr",
          "output_type": "stream",
          "text": [
            "\u001b[34m\u001b[1mwandb\u001b[0m: Adding directory to artifact (/Users/martinkatkovcin/Documents/School/NSIETE/Zadanie1/wandb/run-20230329_001550-lr-scheduler-adam-bce/files/model-best)... Done. 0.0s\n"
          ]
        },
        {
          "name": "stdout",
          "output_type": "stream",
          "text": [
            "20/20 - 1s - loss: 0.6357 - accuracy: 0.6531 - val_loss: 0.6427 - val_accuracy: 0.6429 - 574ms/epoch - 29ms/step\n",
            "Epoch 11/500\n",
            "INFO:tensorflow:Assets written to: /Users/martinkatkovcin/Documents/School/NSIETE/Zadanie1/wandb/run-20230329_001550-lr-scheduler-adam-bce/files/model-best/assets\n"
          ]
        },
        {
          "name": "stderr",
          "output_type": "stream",
          "text": [
            "\u001b[34m\u001b[1mwandb\u001b[0m: Adding directory to artifact (/Users/martinkatkovcin/Documents/School/NSIETE/Zadanie1/wandb/run-20230329_001550-lr-scheduler-adam-bce/files/model-best)... Done. 0.0s\n"
          ]
        },
        {
          "name": "stdout",
          "output_type": "stream",
          "text": [
            "20/20 - 1s - loss: 0.6314 - accuracy: 0.6531 - val_loss: 0.6383 - val_accuracy: 0.6429 - 543ms/epoch - 27ms/step\n",
            "Epoch 12/500\n",
            "INFO:tensorflow:Assets written to: /Users/martinkatkovcin/Documents/School/NSIETE/Zadanie1/wandb/run-20230329_001550-lr-scheduler-adam-bce/files/model-best/assets\n"
          ]
        },
        {
          "name": "stderr",
          "output_type": "stream",
          "text": [
            "\u001b[34m\u001b[1mwandb\u001b[0m: Adding directory to artifact (/Users/martinkatkovcin/Documents/School/NSIETE/Zadanie1/wandb/run-20230329_001550-lr-scheduler-adam-bce/files/model-best)... Done. 0.0s\n"
          ]
        },
        {
          "name": "stdout",
          "output_type": "stream",
          "text": [
            "20/20 - 1s - loss: 0.6270 - accuracy: 0.6531 - val_loss: 0.6343 - val_accuracy: 0.6429 - 585ms/epoch - 29ms/step\n",
            "Epoch 13/500\n",
            "INFO:tensorflow:Assets written to: /Users/martinkatkovcin/Documents/School/NSIETE/Zadanie1/wandb/run-20230329_001550-lr-scheduler-adam-bce/files/model-best/assets\n"
          ]
        },
        {
          "name": "stderr",
          "output_type": "stream",
          "text": [
            "\u001b[34m\u001b[1mwandb\u001b[0m: Adding directory to artifact (/Users/martinkatkovcin/Documents/School/NSIETE/Zadanie1/wandb/run-20230329_001550-lr-scheduler-adam-bce/files/model-best)... Done. 0.0s\n"
          ]
        },
        {
          "name": "stdout",
          "output_type": "stream",
          "text": [
            "20/20 - 1s - loss: 0.6224 - accuracy: 0.6531 - val_loss: 0.6304 - val_accuracy: 0.6429 - 557ms/epoch - 28ms/step\n",
            "Epoch 14/500\n",
            "INFO:tensorflow:Assets written to: /Users/martinkatkovcin/Documents/School/NSIETE/Zadanie1/wandb/run-20230329_001550-lr-scheduler-adam-bce/files/model-best/assets\n"
          ]
        },
        {
          "name": "stderr",
          "output_type": "stream",
          "text": [
            "\u001b[34m\u001b[1mwandb\u001b[0m: Adding directory to artifact (/Users/martinkatkovcin/Documents/School/NSIETE/Zadanie1/wandb/run-20230329_001550-lr-scheduler-adam-bce/files/model-best)... Done. 0.0s\n"
          ]
        },
        {
          "name": "stdout",
          "output_type": "stream",
          "text": [
            "20/20 - 1s - loss: 0.6179 - accuracy: 0.6531 - val_loss: 0.6267 - val_accuracy: 0.6429 - 568ms/epoch - 28ms/step\n",
            "Epoch 15/500\n",
            "INFO:tensorflow:Assets written to: /Users/martinkatkovcin/Documents/School/NSIETE/Zadanie1/wandb/run-20230329_001550-lr-scheduler-adam-bce/files/model-best/assets\n"
          ]
        },
        {
          "name": "stderr",
          "output_type": "stream",
          "text": [
            "\u001b[34m\u001b[1mwandb\u001b[0m: Adding directory to artifact (/Users/martinkatkovcin/Documents/School/NSIETE/Zadanie1/wandb/run-20230329_001550-lr-scheduler-adam-bce/files/model-best)... Done. 0.0s\n"
          ]
        },
        {
          "name": "stdout",
          "output_type": "stream",
          "text": [
            "20/20 - 1s - loss: 0.6136 - accuracy: 0.6531 - val_loss: 0.6221 - val_accuracy: 0.6429 - 577ms/epoch - 29ms/step\n",
            "Epoch 16/500\n",
            "INFO:tensorflow:Assets written to: /Users/martinkatkovcin/Documents/School/NSIETE/Zadanie1/wandb/run-20230329_001550-lr-scheduler-adam-bce/files/model-best/assets\n"
          ]
        },
        {
          "name": "stderr",
          "output_type": "stream",
          "text": [
            "\u001b[34m\u001b[1mwandb\u001b[0m: Adding directory to artifact (/Users/martinkatkovcin/Documents/School/NSIETE/Zadanie1/wandb/run-20230329_001550-lr-scheduler-adam-bce/files/model-best)... Done. 0.0s\n"
          ]
        },
        {
          "name": "stdout",
          "output_type": "stream",
          "text": [
            "20/20 - 1s - loss: 0.6082 - accuracy: 0.6531 - val_loss: 0.6176 - val_accuracy: 0.6429 - 576ms/epoch - 29ms/step\n",
            "Epoch 17/500\n",
            "INFO:tensorflow:Assets written to: /Users/martinkatkovcin/Documents/School/NSIETE/Zadanie1/wandb/run-20230329_001550-lr-scheduler-adam-bce/files/model-best/assets\n"
          ]
        },
        {
          "name": "stderr",
          "output_type": "stream",
          "text": [
            "\u001b[34m\u001b[1mwandb\u001b[0m: Adding directory to artifact (/Users/martinkatkovcin/Documents/School/NSIETE/Zadanie1/wandb/run-20230329_001550-lr-scheduler-adam-bce/files/model-best)... Done. 0.0s\n"
          ]
        },
        {
          "name": "stdout",
          "output_type": "stream",
          "text": [
            "20/20 - 1s - loss: 0.6031 - accuracy: 0.6531 - val_loss: 0.6129 - val_accuracy: 0.6429 - 565ms/epoch - 28ms/step\n",
            "Epoch 18/500\n",
            "INFO:tensorflow:Assets written to: /Users/martinkatkovcin/Documents/School/NSIETE/Zadanie1/wandb/run-20230329_001550-lr-scheduler-adam-bce/files/model-best/assets\n"
          ]
        },
        {
          "name": "stderr",
          "output_type": "stream",
          "text": [
            "\u001b[34m\u001b[1mwandb\u001b[0m: Adding directory to artifact (/Users/martinkatkovcin/Documents/School/NSIETE/Zadanie1/wandb/run-20230329_001550-lr-scheduler-adam-bce/files/model-best)... Done. 0.0s\n"
          ]
        },
        {
          "name": "stdout",
          "output_type": "stream",
          "text": [
            "20/20 - 1s - loss: 0.5979 - accuracy: 0.6531 - val_loss: 0.6074 - val_accuracy: 0.6429 - 549ms/epoch - 27ms/step\n",
            "Epoch 19/500\n",
            "INFO:tensorflow:Assets written to: /Users/martinkatkovcin/Documents/School/NSIETE/Zadanie1/wandb/run-20230329_001550-lr-scheduler-adam-bce/files/model-best/assets\n"
          ]
        },
        {
          "name": "stderr",
          "output_type": "stream",
          "text": [
            "\u001b[34m\u001b[1mwandb\u001b[0m: Adding directory to artifact (/Users/martinkatkovcin/Documents/School/NSIETE/Zadanie1/wandb/run-20230329_001550-lr-scheduler-adam-bce/files/model-best)... Done. 0.0s\n"
          ]
        },
        {
          "name": "stdout",
          "output_type": "stream",
          "text": [
            "20/20 - 1s - loss: 0.5926 - accuracy: 0.6531 - val_loss: 0.6027 - val_accuracy: 0.6429 - 581ms/epoch - 29ms/step\n",
            "Epoch 20/500\n",
            "INFO:tensorflow:Assets written to: /Users/martinkatkovcin/Documents/School/NSIETE/Zadanie1/wandb/run-20230329_001550-lr-scheduler-adam-bce/files/model-best/assets\n"
          ]
        },
        {
          "name": "stderr",
          "output_type": "stream",
          "text": [
            "\u001b[34m\u001b[1mwandb\u001b[0m: Adding directory to artifact (/Users/martinkatkovcin/Documents/School/NSIETE/Zadanie1/wandb/run-20230329_001550-lr-scheduler-adam-bce/files/model-best)... Done. 0.0s\n"
          ]
        },
        {
          "name": "stdout",
          "output_type": "stream",
          "text": [
            "20/20 - 1s - loss: 0.5875 - accuracy: 0.6531 - val_loss: 0.5978 - val_accuracy: 0.6429 - 696ms/epoch - 35ms/step\n",
            "Epoch 21/500\n",
            "INFO:tensorflow:Assets written to: /Users/martinkatkovcin/Documents/School/NSIETE/Zadanie1/wandb/run-20230329_001550-lr-scheduler-adam-bce/files/model-best/assets\n"
          ]
        },
        {
          "name": "stderr",
          "output_type": "stream",
          "text": [
            "\u001b[34m\u001b[1mwandb\u001b[0m: Adding directory to artifact (/Users/martinkatkovcin/Documents/School/NSIETE/Zadanie1/wandb/run-20230329_001550-lr-scheduler-adam-bce/files/model-best)... Done. 0.0s\n"
          ]
        },
        {
          "name": "stdout",
          "output_type": "stream",
          "text": [
            "20/20 - 1s - loss: 0.5822 - accuracy: 0.6531 - val_loss: 0.5928 - val_accuracy: 0.6429 - 581ms/epoch - 29ms/step\n",
            "Epoch 22/500\n",
            "INFO:tensorflow:Assets written to: /Users/martinkatkovcin/Documents/School/NSIETE/Zadanie1/wandb/run-20230329_001550-lr-scheduler-adam-bce/files/model-best/assets\n"
          ]
        },
        {
          "name": "stderr",
          "output_type": "stream",
          "text": [
            "\u001b[34m\u001b[1mwandb\u001b[0m: Adding directory to artifact (/Users/martinkatkovcin/Documents/School/NSIETE/Zadanie1/wandb/run-20230329_001550-lr-scheduler-adam-bce/files/model-best)... Done. 0.0s\n"
          ]
        },
        {
          "name": "stdout",
          "output_type": "stream",
          "text": [
            "20/20 - 1s - loss: 0.5771 - accuracy: 0.6531 - val_loss: 0.5875 - val_accuracy: 0.6429 - 580ms/epoch - 29ms/step\n",
            "Epoch 23/500\n",
            "INFO:tensorflow:Assets written to: /Users/martinkatkovcin/Documents/School/NSIETE/Zadanie1/wandb/run-20230329_001550-lr-scheduler-adam-bce/files/model-best/assets\n"
          ]
        },
        {
          "name": "stderr",
          "output_type": "stream",
          "text": [
            "\u001b[34m\u001b[1mwandb\u001b[0m: Adding directory to artifact (/Users/martinkatkovcin/Documents/School/NSIETE/Zadanie1/wandb/run-20230329_001550-lr-scheduler-adam-bce/files/model-best)... Done. 0.0s\n"
          ]
        },
        {
          "name": "stdout",
          "output_type": "stream",
          "text": [
            "20/20 - 1s - loss: 0.5716 - accuracy: 0.6531 - val_loss: 0.5835 - val_accuracy: 0.6429 - 573ms/epoch - 29ms/step\n",
            "Epoch 24/500\n",
            "INFO:tensorflow:Assets written to: /Users/martinkatkovcin/Documents/School/NSIETE/Zadanie1/wandb/run-20230329_001550-lr-scheduler-adam-bce/files/model-best/assets\n"
          ]
        },
        {
          "name": "stderr",
          "output_type": "stream",
          "text": [
            "\u001b[34m\u001b[1mwandb\u001b[0m: Adding directory to artifact (/Users/martinkatkovcin/Documents/School/NSIETE/Zadanie1/wandb/run-20230329_001550-lr-scheduler-adam-bce/files/model-best)... Done. 0.0s\n"
          ]
        },
        {
          "name": "stdout",
          "output_type": "stream",
          "text": [
            "20/20 - 1s - loss: 0.5668 - accuracy: 0.6531 - val_loss: 0.5787 - val_accuracy: 0.6429 - 581ms/epoch - 29ms/step\n",
            "Epoch 25/500\n",
            "INFO:tensorflow:Assets written to: /Users/martinkatkovcin/Documents/School/NSIETE/Zadanie1/wandb/run-20230329_001550-lr-scheduler-adam-bce/files/model-best/assets\n"
          ]
        },
        {
          "name": "stderr",
          "output_type": "stream",
          "text": [
            "\u001b[34m\u001b[1mwandb\u001b[0m: Adding directory to artifact (/Users/martinkatkovcin/Documents/School/NSIETE/Zadanie1/wandb/run-20230329_001550-lr-scheduler-adam-bce/files/model-best)... Done. 0.0s\n"
          ]
        },
        {
          "name": "stdout",
          "output_type": "stream",
          "text": [
            "20/20 - 1s - loss: 0.5615 - accuracy: 0.6531 - val_loss: 0.5738 - val_accuracy: 0.6429 - 577ms/epoch - 29ms/step\n",
            "Epoch 26/500\n",
            "INFO:tensorflow:Assets written to: /Users/martinkatkovcin/Documents/School/NSIETE/Zadanie1/wandb/run-20230329_001550-lr-scheduler-adam-bce/files/model-best/assets\n"
          ]
        },
        {
          "name": "stderr",
          "output_type": "stream",
          "text": [
            "\u001b[34m\u001b[1mwandb\u001b[0m: Adding directory to artifact (/Users/martinkatkovcin/Documents/School/NSIETE/Zadanie1/wandb/run-20230329_001550-lr-scheduler-adam-bce/files/model-best)... Done. 0.0s\n"
          ]
        },
        {
          "name": "stdout",
          "output_type": "stream",
          "text": [
            "20/20 - 1s - loss: 0.5561 - accuracy: 0.6531 - val_loss: 0.5692 - val_accuracy: 0.6429 - 569ms/epoch - 28ms/step\n",
            "Epoch 27/500\n",
            "INFO:tensorflow:Assets written to: /Users/martinkatkovcin/Documents/School/NSIETE/Zadanie1/wandb/run-20230329_001550-lr-scheduler-adam-bce/files/model-best/assets\n"
          ]
        },
        {
          "name": "stderr",
          "output_type": "stream",
          "text": [
            "\u001b[34m\u001b[1mwandb\u001b[0m: Adding directory to artifact (/Users/martinkatkovcin/Documents/School/NSIETE/Zadanie1/wandb/run-20230329_001550-lr-scheduler-adam-bce/files/model-best)... Done. 0.0s\n"
          ]
        },
        {
          "name": "stdout",
          "output_type": "stream",
          "text": [
            "20/20 - 1s - loss: 0.5513 - accuracy: 0.6531 - val_loss: 0.5651 - val_accuracy: 0.6429 - 563ms/epoch - 28ms/step\n",
            "Epoch 28/500\n",
            "INFO:tensorflow:Assets written to: /Users/martinkatkovcin/Documents/School/NSIETE/Zadanie1/wandb/run-20230329_001550-lr-scheduler-adam-bce/files/model-best/assets\n"
          ]
        },
        {
          "name": "stderr",
          "output_type": "stream",
          "text": [
            "\u001b[34m\u001b[1mwandb\u001b[0m: Adding directory to artifact (/Users/martinkatkovcin/Documents/School/NSIETE/Zadanie1/wandb/run-20230329_001550-lr-scheduler-adam-bce/files/model-best)... Done. 0.0s\n"
          ]
        },
        {
          "name": "stdout",
          "output_type": "stream",
          "text": [
            "20/20 - 1s - loss: 0.5460 - accuracy: 0.6531 - val_loss: 0.5615 - val_accuracy: 0.6429 - 602ms/epoch - 30ms/step\n",
            "Epoch 29/500\n",
            "INFO:tensorflow:Assets written to: /Users/martinkatkovcin/Documents/School/NSIETE/Zadanie1/wandb/run-20230329_001550-lr-scheduler-adam-bce/files/model-best/assets\n"
          ]
        },
        {
          "name": "stderr",
          "output_type": "stream",
          "text": [
            "\u001b[34m\u001b[1mwandb\u001b[0m: Adding directory to artifact (/Users/martinkatkovcin/Documents/School/NSIETE/Zadanie1/wandb/run-20230329_001550-lr-scheduler-adam-bce/files/model-best)... Done. 0.0s\n"
          ]
        },
        {
          "name": "stdout",
          "output_type": "stream",
          "text": [
            "20/20 - 1s - loss: 0.5410 - accuracy: 0.6531 - val_loss: 0.5577 - val_accuracy: 0.6429 - 595ms/epoch - 30ms/step\n",
            "Epoch 30/500\n",
            "INFO:tensorflow:Assets written to: /Users/martinkatkovcin/Documents/School/NSIETE/Zadanie1/wandb/run-20230329_001550-lr-scheduler-adam-bce/files/model-best/assets\n"
          ]
        },
        {
          "name": "stderr",
          "output_type": "stream",
          "text": [
            "\u001b[34m\u001b[1mwandb\u001b[0m: Adding directory to artifact (/Users/martinkatkovcin/Documents/School/NSIETE/Zadanie1/wandb/run-20230329_001550-lr-scheduler-adam-bce/files/model-best)... Done. 0.0s\n"
          ]
        },
        {
          "name": "stdout",
          "output_type": "stream",
          "text": [
            "20/20 - 1s - loss: 0.5367 - accuracy: 0.6531 - val_loss: 0.5540 - val_accuracy: 0.6429 - 580ms/epoch - 29ms/step\n",
            "Epoch 31/500\n",
            "INFO:tensorflow:Assets written to: /Users/martinkatkovcin/Documents/School/NSIETE/Zadanie1/wandb/run-20230329_001550-lr-scheduler-adam-bce/files/model-best/assets\n"
          ]
        },
        {
          "name": "stderr",
          "output_type": "stream",
          "text": [
            "\u001b[34m\u001b[1mwandb\u001b[0m: Adding directory to artifact (/Users/martinkatkovcin/Documents/School/NSIETE/Zadanie1/wandb/run-20230329_001550-lr-scheduler-adam-bce/files/model-best)... Done. 0.0s\n"
          ]
        },
        {
          "name": "stdout",
          "output_type": "stream",
          "text": [
            "20/20 - 1s - loss: 0.5325 - accuracy: 0.6531 - val_loss: 0.5502 - val_accuracy: 0.6429 - 745ms/epoch - 37ms/step\n",
            "Epoch 32/500\n",
            "INFO:tensorflow:Assets written to: /Users/martinkatkovcin/Documents/School/NSIETE/Zadanie1/wandb/run-20230329_001550-lr-scheduler-adam-bce/files/model-best/assets\n"
          ]
        },
        {
          "name": "stderr",
          "output_type": "stream",
          "text": [
            "\u001b[34m\u001b[1mwandb\u001b[0m: Adding directory to artifact (/Users/martinkatkovcin/Documents/School/NSIETE/Zadanie1/wandb/run-20230329_001550-lr-scheduler-adam-bce/files/model-best)... Done. 0.0s\n"
          ]
        },
        {
          "name": "stdout",
          "output_type": "stream",
          "text": [
            "20/20 - 1s - loss: 0.5270 - accuracy: 0.6531 - val_loss: 0.5462 - val_accuracy: 0.6429 - 566ms/epoch - 28ms/step\n",
            "Epoch 33/500\n",
            "INFO:tensorflow:Assets written to: /Users/martinkatkovcin/Documents/School/NSIETE/Zadanie1/wandb/run-20230329_001550-lr-scheduler-adam-bce/files/model-best/assets\n"
          ]
        },
        {
          "name": "stderr",
          "output_type": "stream",
          "text": [
            "\u001b[34m\u001b[1mwandb\u001b[0m: Adding directory to artifact (/Users/martinkatkovcin/Documents/School/NSIETE/Zadanie1/wandb/run-20230329_001550-lr-scheduler-adam-bce/files/model-best)... Done. 0.0s\n"
          ]
        },
        {
          "name": "stdout",
          "output_type": "stream",
          "text": [
            "20/20 - 1s - loss: 0.5236 - accuracy: 0.6531 - val_loss: 0.5432 - val_accuracy: 0.6429 - 582ms/epoch - 29ms/step\n",
            "Epoch 34/500\n",
            "INFO:tensorflow:Assets written to: /Users/martinkatkovcin/Documents/School/NSIETE/Zadanie1/wandb/run-20230329_001550-lr-scheduler-adam-bce/files/model-best/assets\n"
          ]
        },
        {
          "name": "stderr",
          "output_type": "stream",
          "text": [
            "\u001b[34m\u001b[1mwandb\u001b[0m: Adding directory to artifact (/Users/martinkatkovcin/Documents/School/NSIETE/Zadanie1/wandb/run-20230329_001550-lr-scheduler-adam-bce/files/model-best)... Done. 0.0s\n"
          ]
        },
        {
          "name": "stdout",
          "output_type": "stream",
          "text": [
            "20/20 - 1s - loss: 0.5194 - accuracy: 0.6531 - val_loss: 0.5405 - val_accuracy: 0.6429 - 584ms/epoch - 29ms/step\n",
            "Epoch 35/500\n",
            "INFO:tensorflow:Assets written to: /Users/martinkatkovcin/Documents/School/NSIETE/Zadanie1/wandb/run-20230329_001550-lr-scheduler-adam-bce/files/model-best/assets\n"
          ]
        },
        {
          "name": "stderr",
          "output_type": "stream",
          "text": [
            "\u001b[34m\u001b[1mwandb\u001b[0m: Adding directory to artifact (/Users/martinkatkovcin/Documents/School/NSIETE/Zadanie1/wandb/run-20230329_001550-lr-scheduler-adam-bce/files/model-best)... Done. 0.0s\n"
          ]
        },
        {
          "name": "stdout",
          "output_type": "stream",
          "text": [
            "20/20 - 1s - loss: 0.5159 - accuracy: 0.6531 - val_loss: 0.5377 - val_accuracy: 0.6429 - 601ms/epoch - 30ms/step\n",
            "Epoch 36/500\n",
            "INFO:tensorflow:Assets written to: /Users/martinkatkovcin/Documents/School/NSIETE/Zadanie1/wandb/run-20230329_001550-lr-scheduler-adam-bce/files/model-best/assets\n"
          ]
        },
        {
          "name": "stderr",
          "output_type": "stream",
          "text": [
            "\u001b[34m\u001b[1mwandb\u001b[0m: Adding directory to artifact (/Users/martinkatkovcin/Documents/School/NSIETE/Zadanie1/wandb/run-20230329_001550-lr-scheduler-adam-bce/files/model-best)... Done. 0.0s\n"
          ]
        },
        {
          "name": "stdout",
          "output_type": "stream",
          "text": [
            "20/20 - 1s - loss: 0.5125 - accuracy: 0.6531 - val_loss: 0.5350 - val_accuracy: 0.6429 - 580ms/epoch - 29ms/step\n",
            "Epoch 37/500\n",
            "INFO:tensorflow:Assets written to: /Users/martinkatkovcin/Documents/School/NSIETE/Zadanie1/wandb/run-20230329_001550-lr-scheduler-adam-bce/files/model-best/assets\n"
          ]
        },
        {
          "name": "stderr",
          "output_type": "stream",
          "text": [
            "\u001b[34m\u001b[1mwandb\u001b[0m: Adding directory to artifact (/Users/martinkatkovcin/Documents/School/NSIETE/Zadanie1/wandb/run-20230329_001550-lr-scheduler-adam-bce/files/model-best)... Done. 0.0s\n"
          ]
        },
        {
          "name": "stdout",
          "output_type": "stream",
          "text": [
            "20/20 - 1s - loss: 0.5093 - accuracy: 0.6531 - val_loss: 0.5324 - val_accuracy: 0.6429 - 639ms/epoch - 32ms/step\n",
            "Epoch 38/500\n",
            "INFO:tensorflow:Assets written to: /Users/martinkatkovcin/Documents/School/NSIETE/Zadanie1/wandb/run-20230329_001550-lr-scheduler-adam-bce/files/model-best/assets\n"
          ]
        },
        {
          "name": "stderr",
          "output_type": "stream",
          "text": [
            "\u001b[34m\u001b[1mwandb\u001b[0m: Adding directory to artifact (/Users/martinkatkovcin/Documents/School/NSIETE/Zadanie1/wandb/run-20230329_001550-lr-scheduler-adam-bce/files/model-best)... Done. 0.0s\n"
          ]
        },
        {
          "name": "stdout",
          "output_type": "stream",
          "text": [
            "20/20 - 1s - loss: 0.5055 - accuracy: 0.6531 - val_loss: 0.5305 - val_accuracy: 0.6429 - 588ms/epoch - 29ms/step\n",
            "Epoch 39/500\n",
            "INFO:tensorflow:Assets written to: /Users/martinkatkovcin/Documents/School/NSIETE/Zadanie1/wandb/run-20230329_001550-lr-scheduler-adam-bce/files/model-best/assets\n"
          ]
        },
        {
          "name": "stderr",
          "output_type": "stream",
          "text": [
            "\u001b[34m\u001b[1mwandb\u001b[0m: Adding directory to artifact (/Users/martinkatkovcin/Documents/School/NSIETE/Zadanie1/wandb/run-20230329_001550-lr-scheduler-adam-bce/files/model-best)... Done. 0.0s\n"
          ]
        },
        {
          "name": "stdout",
          "output_type": "stream",
          "text": [
            "20/20 - 1s - loss: 0.5026 - accuracy: 0.6531 - val_loss: 0.5282 - val_accuracy: 0.6429 - 591ms/epoch - 30ms/step\n",
            "Epoch 40/500\n",
            "INFO:tensorflow:Assets written to: /Users/martinkatkovcin/Documents/School/NSIETE/Zadanie1/wandb/run-20230329_001550-lr-scheduler-adam-bce/files/model-best/assets\n"
          ]
        },
        {
          "name": "stderr",
          "output_type": "stream",
          "text": [
            "\u001b[34m\u001b[1mwandb\u001b[0m: Adding directory to artifact (/Users/martinkatkovcin/Documents/School/NSIETE/Zadanie1/wandb/run-20230329_001550-lr-scheduler-adam-bce/files/model-best)... Done. 0.0s\n"
          ]
        },
        {
          "name": "stdout",
          "output_type": "stream",
          "text": [
            "20/20 - 1s - loss: 0.4996 - accuracy: 0.6531 - val_loss: 0.5260 - val_accuracy: 0.6429 - 610ms/epoch - 31ms/step\n",
            "Epoch 41/500\n",
            "INFO:tensorflow:Assets written to: /Users/martinkatkovcin/Documents/School/NSIETE/Zadanie1/wandb/run-20230329_001550-lr-scheduler-adam-bce/files/model-best/assets\n"
          ]
        },
        {
          "name": "stderr",
          "output_type": "stream",
          "text": [
            "\u001b[34m\u001b[1mwandb\u001b[0m: Adding directory to artifact (/Users/martinkatkovcin/Documents/School/NSIETE/Zadanie1/wandb/run-20230329_001550-lr-scheduler-adam-bce/files/model-best)... Done. 0.0s\n"
          ]
        },
        {
          "name": "stdout",
          "output_type": "stream",
          "text": [
            "20/20 - 1s - loss: 0.4978 - accuracy: 0.7573 - val_loss: 0.5247 - val_accuracy: 0.7727 - 597ms/epoch - 30ms/step\n",
            "Epoch 42/500\n",
            "INFO:tensorflow:Assets written to: /Users/martinkatkovcin/Documents/School/NSIETE/Zadanie1/wandb/run-20230329_001550-lr-scheduler-adam-bce/files/model-best/assets\n"
          ]
        },
        {
          "name": "stderr",
          "output_type": "stream",
          "text": [
            "\u001b[34m\u001b[1mwandb\u001b[0m: Adding directory to artifact (/Users/martinkatkovcin/Documents/School/NSIETE/Zadanie1/wandb/run-20230329_001550-lr-scheduler-adam-bce/files/model-best)... Done. 0.0s\n"
          ]
        },
        {
          "name": "stdout",
          "output_type": "stream",
          "text": [
            "20/20 - 1s - loss: 0.4950 - accuracy: 0.7769 - val_loss: 0.5223 - val_accuracy: 0.7662 - 674ms/epoch - 34ms/step\n",
            "Epoch 43/500\n",
            "INFO:tensorflow:Assets written to: /Users/martinkatkovcin/Documents/School/NSIETE/Zadanie1/wandb/run-20230329_001550-lr-scheduler-adam-bce/files/model-best/assets\n"
          ]
        },
        {
          "name": "stderr",
          "output_type": "stream",
          "text": [
            "\u001b[34m\u001b[1mwandb\u001b[0m: Adding directory to artifact (/Users/martinkatkovcin/Documents/School/NSIETE/Zadanie1/wandb/run-20230329_001550-lr-scheduler-adam-bce/files/model-best)... Done. 0.0s\n"
          ]
        },
        {
          "name": "stdout",
          "output_type": "stream",
          "text": [
            "20/20 - 1s - loss: 0.4909 - accuracy: 0.7704 - val_loss: 0.5212 - val_accuracy: 0.7597 - 562ms/epoch - 28ms/step\n",
            "Epoch 44/500\n",
            "INFO:tensorflow:Assets written to: /Users/martinkatkovcin/Documents/School/NSIETE/Zadanie1/wandb/run-20230329_001550-lr-scheduler-adam-bce/files/model-best/assets\n"
          ]
        },
        {
          "name": "stderr",
          "output_type": "stream",
          "text": [
            "\u001b[34m\u001b[1mwandb\u001b[0m: Adding directory to artifact (/Users/martinkatkovcin/Documents/School/NSIETE/Zadanie1/wandb/run-20230329_001550-lr-scheduler-adam-bce/files/model-best)... Done. 0.0s\n"
          ]
        },
        {
          "name": "stdout",
          "output_type": "stream",
          "text": [
            "20/20 - 1s - loss: 0.4887 - accuracy: 0.7769 - val_loss: 0.5189 - val_accuracy: 0.7597 - 596ms/epoch - 30ms/step\n",
            "Epoch 45/500\n",
            "INFO:tensorflow:Assets written to: /Users/martinkatkovcin/Documents/School/NSIETE/Zadanie1/wandb/run-20230329_001550-lr-scheduler-adam-bce/files/model-best/assets\n"
          ]
        },
        {
          "name": "stderr",
          "output_type": "stream",
          "text": [
            "\u001b[34m\u001b[1mwandb\u001b[0m: Adding directory to artifact (/Users/martinkatkovcin/Documents/School/NSIETE/Zadanie1/wandb/run-20230329_001550-lr-scheduler-adam-bce/files/model-best)... Done. 0.0s\n"
          ]
        },
        {
          "name": "stdout",
          "output_type": "stream",
          "text": [
            "20/20 - 1s - loss: 0.4857 - accuracy: 0.7801 - val_loss: 0.5174 - val_accuracy: 0.7597 - 606ms/epoch - 30ms/step\n",
            "Epoch 46/500\n",
            "INFO:tensorflow:Assets written to: /Users/martinkatkovcin/Documents/School/NSIETE/Zadanie1/wandb/run-20230329_001550-lr-scheduler-adam-bce/files/model-best/assets\n"
          ]
        },
        {
          "name": "stderr",
          "output_type": "stream",
          "text": [
            "\u001b[34m\u001b[1mwandb\u001b[0m: Adding directory to artifact (/Users/martinkatkovcin/Documents/School/NSIETE/Zadanie1/wandb/run-20230329_001550-lr-scheduler-adam-bce/files/model-best)... Done. 0.0s\n"
          ]
        },
        {
          "name": "stdout",
          "output_type": "stream",
          "text": [
            "20/20 - 1s - loss: 0.4836 - accuracy: 0.7834 - val_loss: 0.5162 - val_accuracy: 0.7532 - 579ms/epoch - 29ms/step\n",
            "Epoch 47/500\n",
            "INFO:tensorflow:Assets written to: /Users/martinkatkovcin/Documents/School/NSIETE/Zadanie1/wandb/run-20230329_001550-lr-scheduler-adam-bce/files/model-best/assets\n"
          ]
        },
        {
          "name": "stderr",
          "output_type": "stream",
          "text": [
            "\u001b[34m\u001b[1mwandb\u001b[0m: Adding directory to artifact (/Users/martinkatkovcin/Documents/School/NSIETE/Zadanie1/wandb/run-20230329_001550-lr-scheduler-adam-bce/files/model-best)... Done. 0.0s\n"
          ]
        },
        {
          "name": "stdout",
          "output_type": "stream",
          "text": [
            "20/20 - 1s - loss: 0.4812 - accuracy: 0.7785 - val_loss: 0.5139 - val_accuracy: 0.7662 - 591ms/epoch - 30ms/step\n",
            "Epoch 48/500\n",
            "INFO:tensorflow:Assets written to: /Users/martinkatkovcin/Documents/School/NSIETE/Zadanie1/wandb/run-20230329_001550-lr-scheduler-adam-bce/files/model-best/assets\n"
          ]
        },
        {
          "name": "stderr",
          "output_type": "stream",
          "text": [
            "\u001b[34m\u001b[1mwandb\u001b[0m: Adding directory to artifact (/Users/martinkatkovcin/Documents/School/NSIETE/Zadanie1/wandb/run-20230329_001550-lr-scheduler-adam-bce/files/model-best)... Done. 0.0s\n"
          ]
        },
        {
          "name": "stdout",
          "output_type": "stream",
          "text": [
            "20/20 - 1s - loss: 0.4787 - accuracy: 0.7785 - val_loss: 0.5128 - val_accuracy: 0.7532 - 585ms/epoch - 29ms/step\n",
            "Epoch 49/500\n",
            "INFO:tensorflow:Assets written to: /Users/martinkatkovcin/Documents/School/NSIETE/Zadanie1/wandb/run-20230329_001550-lr-scheduler-adam-bce/files/model-best/assets\n"
          ]
        },
        {
          "name": "stderr",
          "output_type": "stream",
          "text": [
            "\u001b[34m\u001b[1mwandb\u001b[0m: Adding directory to artifact (/Users/martinkatkovcin/Documents/School/NSIETE/Zadanie1/wandb/run-20230329_001550-lr-scheduler-adam-bce/files/model-best)... Done. 0.0s\n"
          ]
        },
        {
          "name": "stdout",
          "output_type": "stream",
          "text": [
            "20/20 - 1s - loss: 0.4772 - accuracy: 0.7736 - val_loss: 0.5114 - val_accuracy: 0.7532 - 675ms/epoch - 34ms/step\n",
            "Epoch 50/500\n",
            "INFO:tensorflow:Assets written to: /Users/martinkatkovcin/Documents/School/NSIETE/Zadanie1/wandb/run-20230329_001550-lr-scheduler-adam-bce/files/model-best/assets\n"
          ]
        },
        {
          "name": "stderr",
          "output_type": "stream",
          "text": [
            "\u001b[34m\u001b[1mwandb\u001b[0m: Adding directory to artifact (/Users/martinkatkovcin/Documents/School/NSIETE/Zadanie1/wandb/run-20230329_001550-lr-scheduler-adam-bce/files/model-best)... Done. 0.0s\n"
          ]
        },
        {
          "name": "stdout",
          "output_type": "stream",
          "text": [
            "20/20 - 1s - loss: 0.4750 - accuracy: 0.7769 - val_loss: 0.5095 - val_accuracy: 0.7597 - 566ms/epoch - 28ms/step\n",
            "Epoch 51/500\n",
            "INFO:tensorflow:Assets written to: /Users/martinkatkovcin/Documents/School/NSIETE/Zadanie1/wandb/run-20230329_001550-lr-scheduler-adam-bce/files/model-best/assets\n"
          ]
        },
        {
          "name": "stderr",
          "output_type": "stream",
          "text": [
            "\u001b[34m\u001b[1mwandb\u001b[0m: Adding directory to artifact (/Users/martinkatkovcin/Documents/School/NSIETE/Zadanie1/wandb/run-20230329_001550-lr-scheduler-adam-bce/files/model-best)... Done. 0.0s\n"
          ]
        },
        {
          "name": "stdout",
          "output_type": "stream",
          "text": [
            "20/20 - 1s - loss: 0.4730 - accuracy: 0.7818 - val_loss: 0.5082 - val_accuracy: 0.7532 - 601ms/epoch - 30ms/step\n",
            "Epoch 52/500\n",
            "INFO:tensorflow:Assets written to: /Users/martinkatkovcin/Documents/School/NSIETE/Zadanie1/wandb/run-20230329_001550-lr-scheduler-adam-bce/files/model-best/assets\n"
          ]
        },
        {
          "name": "stderr",
          "output_type": "stream",
          "text": [
            "\u001b[34m\u001b[1mwandb\u001b[0m: Adding directory to artifact (/Users/martinkatkovcin/Documents/School/NSIETE/Zadanie1/wandb/run-20230329_001550-lr-scheduler-adam-bce/files/model-best)... Done. 0.0s\n"
          ]
        },
        {
          "name": "stdout",
          "output_type": "stream",
          "text": [
            "20/20 - 1s - loss: 0.4715 - accuracy: 0.7736 - val_loss: 0.5068 - val_accuracy: 0.7532 - 890ms/epoch - 44ms/step\n",
            "Epoch 53/500\n",
            "INFO:tensorflow:Assets written to: /Users/martinkatkovcin/Documents/School/NSIETE/Zadanie1/wandb/run-20230329_001550-lr-scheduler-adam-bce/files/model-best/assets\n"
          ]
        },
        {
          "name": "stderr",
          "output_type": "stream",
          "text": [
            "\u001b[34m\u001b[1mwandb\u001b[0m: Adding directory to artifact (/Users/martinkatkovcin/Documents/School/NSIETE/Zadanie1/wandb/run-20230329_001550-lr-scheduler-adam-bce/files/model-best)... Done. 0.0s\n"
          ]
        },
        {
          "name": "stdout",
          "output_type": "stream",
          "text": [
            "20/20 - 1s - loss: 0.4690 - accuracy: 0.7785 - val_loss: 0.5054 - val_accuracy: 0.7597 - 633ms/epoch - 32ms/step\n",
            "Epoch 54/500\n",
            "INFO:tensorflow:Assets written to: /Users/martinkatkovcin/Documents/School/NSIETE/Zadanie1/wandb/run-20230329_001550-lr-scheduler-adam-bce/files/model-best/assets\n"
          ]
        },
        {
          "name": "stderr",
          "output_type": "stream",
          "text": [
            "\u001b[34m\u001b[1mwandb\u001b[0m: Adding directory to artifact (/Users/martinkatkovcin/Documents/School/NSIETE/Zadanie1/wandb/run-20230329_001550-lr-scheduler-adam-bce/files/model-best)... Done. 0.0s\n"
          ]
        },
        {
          "name": "stdout",
          "output_type": "stream",
          "text": [
            "20/20 - 1s - loss: 0.4674 - accuracy: 0.7752 - val_loss: 0.5042 - val_accuracy: 0.7597 - 577ms/epoch - 29ms/step\n",
            "Epoch 55/500\n",
            "INFO:tensorflow:Assets written to: /Users/martinkatkovcin/Documents/School/NSIETE/Zadanie1/wandb/run-20230329_001550-lr-scheduler-adam-bce/files/model-best/assets\n"
          ]
        },
        {
          "name": "stderr",
          "output_type": "stream",
          "text": [
            "\u001b[34m\u001b[1mwandb\u001b[0m: Adding directory to artifact (/Users/martinkatkovcin/Documents/School/NSIETE/Zadanie1/wandb/run-20230329_001550-lr-scheduler-adam-bce/files/model-best)... Done. 0.0s\n"
          ]
        },
        {
          "name": "stdout",
          "output_type": "stream",
          "text": [
            "20/20 - 1s - loss: 0.4654 - accuracy: 0.7769 - val_loss: 0.5027 - val_accuracy: 0.7597 - 607ms/epoch - 30ms/step\n",
            "Epoch 56/500\n",
            "INFO:tensorflow:Assets written to: /Users/martinkatkovcin/Documents/School/NSIETE/Zadanie1/wandb/run-20230329_001550-lr-scheduler-adam-bce/files/model-best/assets\n"
          ]
        },
        {
          "name": "stderr",
          "output_type": "stream",
          "text": [
            "\u001b[34m\u001b[1mwandb\u001b[0m: Adding directory to artifact (/Users/martinkatkovcin/Documents/School/NSIETE/Zadanie1/wandb/run-20230329_001550-lr-scheduler-adam-bce/files/model-best)... Done. 0.0s\n"
          ]
        },
        {
          "name": "stdout",
          "output_type": "stream",
          "text": [
            "20/20 - 1s - loss: 0.4644 - accuracy: 0.7736 - val_loss: 0.5013 - val_accuracy: 0.7662 - 566ms/epoch - 28ms/step\n",
            "Epoch 57/500\n",
            "INFO:tensorflow:Assets written to: /Users/martinkatkovcin/Documents/School/NSIETE/Zadanie1/wandb/run-20230329_001550-lr-scheduler-adam-bce/files/model-best/assets\n"
          ]
        },
        {
          "name": "stderr",
          "output_type": "stream",
          "text": [
            "\u001b[34m\u001b[1mwandb\u001b[0m: Adding directory to artifact (/Users/martinkatkovcin/Documents/School/NSIETE/Zadanie1/wandb/run-20230329_001550-lr-scheduler-adam-bce/files/model-best)... Done. 0.0s\n"
          ]
        },
        {
          "name": "stdout",
          "output_type": "stream",
          "text": [
            "20/20 - 1s - loss: 0.4622 - accuracy: 0.7834 - val_loss: 0.5000 - val_accuracy: 0.7597 - 629ms/epoch - 31ms/step\n",
            "Epoch 58/500\n",
            "INFO:tensorflow:Assets written to: /Users/martinkatkovcin/Documents/School/NSIETE/Zadanie1/wandb/run-20230329_001550-lr-scheduler-adam-bce/files/model-best/assets\n"
          ]
        },
        {
          "name": "stderr",
          "output_type": "stream",
          "text": [
            "\u001b[34m\u001b[1mwandb\u001b[0m: Adding directory to artifact (/Users/martinkatkovcin/Documents/School/NSIETE/Zadanie1/wandb/run-20230329_001550-lr-scheduler-adam-bce/files/model-best)... Done. 0.0s\n"
          ]
        },
        {
          "name": "stdout",
          "output_type": "stream",
          "text": [
            "20/20 - 1s - loss: 0.4599 - accuracy: 0.7785 - val_loss: 0.4991 - val_accuracy: 0.7857 - 578ms/epoch - 29ms/step\n",
            "Epoch 59/500\n",
            "INFO:tensorflow:Assets written to: /Users/martinkatkovcin/Documents/School/NSIETE/Zadanie1/wandb/run-20230329_001550-lr-scheduler-adam-bce/files/model-best/assets\n"
          ]
        },
        {
          "name": "stderr",
          "output_type": "stream",
          "text": [
            "\u001b[34m\u001b[1mwandb\u001b[0m: Adding directory to artifact (/Users/martinkatkovcin/Documents/School/NSIETE/Zadanie1/wandb/run-20230329_001550-lr-scheduler-adam-bce/files/model-best)... Done. 0.0s\n"
          ]
        },
        {
          "name": "stdout",
          "output_type": "stream",
          "text": [
            "20/20 - 1s - loss: 0.4599 - accuracy: 0.7752 - val_loss: 0.4975 - val_accuracy: 0.7792 - 563ms/epoch - 28ms/step\n",
            "Epoch 60/500\n",
            "INFO:tensorflow:Assets written to: /Users/martinkatkovcin/Documents/School/NSIETE/Zadanie1/wandb/run-20230329_001550-lr-scheduler-adam-bce/files/model-best/assets\n"
          ]
        },
        {
          "name": "stderr",
          "output_type": "stream",
          "text": [
            "\u001b[34m\u001b[1mwandb\u001b[0m: Adding directory to artifact (/Users/martinkatkovcin/Documents/School/NSIETE/Zadanie1/wandb/run-20230329_001550-lr-scheduler-adam-bce/files/model-best)... Done. 0.0s\n"
          ]
        },
        {
          "name": "stdout",
          "output_type": "stream",
          "text": [
            "20/20 - 1s - loss: 0.4578 - accuracy: 0.7769 - val_loss: 0.4961 - val_accuracy: 0.7662 - 548ms/epoch - 27ms/step\n",
            "Epoch 61/500\n",
            "INFO:tensorflow:Assets written to: /Users/martinkatkovcin/Documents/School/NSIETE/Zadanie1/wandb/run-20230329_001550-lr-scheduler-adam-bce/files/model-best/assets\n"
          ]
        },
        {
          "name": "stderr",
          "output_type": "stream",
          "text": [
            "\u001b[34m\u001b[1mwandb\u001b[0m: Adding directory to artifact (/Users/martinkatkovcin/Documents/School/NSIETE/Zadanie1/wandb/run-20230329_001550-lr-scheduler-adam-bce/files/model-best)... Done. 0.0s\n"
          ]
        },
        {
          "name": "stdout",
          "output_type": "stream",
          "text": [
            "20/20 - 1s - loss: 0.4562 - accuracy: 0.7769 - val_loss: 0.4955 - val_accuracy: 0.7857 - 600ms/epoch - 30ms/step\n",
            "Epoch 62/500\n",
            "INFO:tensorflow:Assets written to: /Users/martinkatkovcin/Documents/School/NSIETE/Zadanie1/wandb/run-20230329_001550-lr-scheduler-adam-bce/files/model-best/assets\n"
          ]
        },
        {
          "name": "stderr",
          "output_type": "stream",
          "text": [
            "\u001b[34m\u001b[1mwandb\u001b[0m: Adding directory to artifact (/Users/martinkatkovcin/Documents/School/NSIETE/Zadanie1/wandb/run-20230329_001550-lr-scheduler-adam-bce/files/model-best)... Done. 0.0s\n"
          ]
        },
        {
          "name": "stdout",
          "output_type": "stream",
          "text": [
            "20/20 - 1s - loss: 0.4558 - accuracy: 0.7801 - val_loss: 0.4950 - val_accuracy: 0.7987 - 552ms/epoch - 28ms/step\n",
            "Epoch 63/500\n",
            "INFO:tensorflow:Assets written to: /Users/martinkatkovcin/Documents/School/NSIETE/Zadanie1/wandb/run-20230329_001550-lr-scheduler-adam-bce/files/model-best/assets\n"
          ]
        },
        {
          "name": "stderr",
          "output_type": "stream",
          "text": [
            "\u001b[34m\u001b[1mwandb\u001b[0m: Adding directory to artifact (/Users/martinkatkovcin/Documents/School/NSIETE/Zadanie1/wandb/run-20230329_001550-lr-scheduler-adam-bce/files/model-best)... Done. 0.0s\n"
          ]
        },
        {
          "name": "stdout",
          "output_type": "stream",
          "text": [
            "20/20 - 1s - loss: 0.4531 - accuracy: 0.7850 - val_loss: 0.4927 - val_accuracy: 0.7727 - 677ms/epoch - 34ms/step\n",
            "Epoch 64/500\n",
            "INFO:tensorflow:Assets written to: /Users/martinkatkovcin/Documents/School/NSIETE/Zadanie1/wandb/run-20230329_001550-lr-scheduler-adam-bce/files/model-best/assets\n"
          ]
        },
        {
          "name": "stderr",
          "output_type": "stream",
          "text": [
            "\u001b[34m\u001b[1mwandb\u001b[0m: Adding directory to artifact (/Users/martinkatkovcin/Documents/School/NSIETE/Zadanie1/wandb/run-20230329_001550-lr-scheduler-adam-bce/files/model-best)... Done. 0.0s\n"
          ]
        },
        {
          "name": "stdout",
          "output_type": "stream",
          "text": [
            "20/20 - 1s - loss: 0.4521 - accuracy: 0.7866 - val_loss: 0.4914 - val_accuracy: 0.7792 - 577ms/epoch - 29ms/step\n",
            "Epoch 65/500\n",
            "INFO:tensorflow:Assets written to: /Users/martinkatkovcin/Documents/School/NSIETE/Zadanie1/wandb/run-20230329_001550-lr-scheduler-adam-bce/files/model-best/assets\n"
          ]
        },
        {
          "name": "stderr",
          "output_type": "stream",
          "text": [
            "\u001b[34m\u001b[1mwandb\u001b[0m: Adding directory to artifact (/Users/martinkatkovcin/Documents/School/NSIETE/Zadanie1/wandb/run-20230329_001550-lr-scheduler-adam-bce/files/model-best)... Done. 0.0s\n"
          ]
        },
        {
          "name": "stdout",
          "output_type": "stream",
          "text": [
            "20/20 - 1s - loss: 0.4504 - accuracy: 0.7866 - val_loss: 0.4903 - val_accuracy: 0.7727 - 610ms/epoch - 31ms/step\n",
            "Epoch 66/500\n",
            "INFO:tensorflow:Assets written to: /Users/martinkatkovcin/Documents/School/NSIETE/Zadanie1/wandb/run-20230329_001550-lr-scheduler-adam-bce/files/model-best/assets\n"
          ]
        },
        {
          "name": "stderr",
          "output_type": "stream",
          "text": [
            "\u001b[34m\u001b[1mwandb\u001b[0m: Adding directory to artifact (/Users/martinkatkovcin/Documents/School/NSIETE/Zadanie1/wandb/run-20230329_001550-lr-scheduler-adam-bce/files/model-best)... Done. 0.0s\n"
          ]
        },
        {
          "name": "stdout",
          "output_type": "stream",
          "text": [
            "20/20 - 1s - loss: 0.4490 - accuracy: 0.7866 - val_loss: 0.4895 - val_accuracy: 0.7857 - 603ms/epoch - 30ms/step\n",
            "Epoch 67/500\n",
            "INFO:tensorflow:Assets written to: /Users/martinkatkovcin/Documents/School/NSIETE/Zadanie1/wandb/run-20230329_001550-lr-scheduler-adam-bce/files/model-best/assets\n"
          ]
        },
        {
          "name": "stderr",
          "output_type": "stream",
          "text": [
            "\u001b[34m\u001b[1mwandb\u001b[0m: Adding directory to artifact (/Users/martinkatkovcin/Documents/School/NSIETE/Zadanie1/wandb/run-20230329_001550-lr-scheduler-adam-bce/files/model-best)... Done. 0.0s\n"
          ]
        },
        {
          "name": "stdout",
          "output_type": "stream",
          "text": [
            "20/20 - 1s - loss: 0.4475 - accuracy: 0.7850 - val_loss: 0.4884 - val_accuracy: 0.7857 - 588ms/epoch - 29ms/step\n",
            "Epoch 68/500\n",
            "INFO:tensorflow:Assets written to: /Users/martinkatkovcin/Documents/School/NSIETE/Zadanie1/wandb/run-20230329_001550-lr-scheduler-adam-bce/files/model-best/assets\n"
          ]
        },
        {
          "name": "stderr",
          "output_type": "stream",
          "text": [
            "\u001b[34m\u001b[1mwandb\u001b[0m: Adding directory to artifact (/Users/martinkatkovcin/Documents/School/NSIETE/Zadanie1/wandb/run-20230329_001550-lr-scheduler-adam-bce/files/model-best)... Done. 0.0s\n"
          ]
        },
        {
          "name": "stdout",
          "output_type": "stream",
          "text": [
            "20/20 - 1s - loss: 0.4467 - accuracy: 0.7866 - val_loss: 0.4877 - val_accuracy: 0.7857 - 577ms/epoch - 29ms/step\n",
            "Epoch 69/500\n",
            "INFO:tensorflow:Assets written to: /Users/martinkatkovcin/Documents/School/NSIETE/Zadanie1/wandb/run-20230329_001550-lr-scheduler-adam-bce/files/model-best/assets\n"
          ]
        },
        {
          "name": "stderr",
          "output_type": "stream",
          "text": [
            "\u001b[34m\u001b[1mwandb\u001b[0m: Adding directory to artifact (/Users/martinkatkovcin/Documents/School/NSIETE/Zadanie1/wandb/run-20230329_001550-lr-scheduler-adam-bce/files/model-best)... Done. 0.0s\n"
          ]
        },
        {
          "name": "stdout",
          "output_type": "stream",
          "text": [
            "20/20 - 1s - loss: 0.4452 - accuracy: 0.7850 - val_loss: 0.4871 - val_accuracy: 0.7857 - 622ms/epoch - 31ms/step\n",
            "Epoch 70/500\n",
            "INFO:tensorflow:Assets written to: /Users/martinkatkovcin/Documents/School/NSIETE/Zadanie1/wandb/run-20230329_001550-lr-scheduler-adam-bce/files/model-best/assets\n"
          ]
        },
        {
          "name": "stderr",
          "output_type": "stream",
          "text": [
            "\u001b[34m\u001b[1mwandb\u001b[0m: Adding directory to artifact (/Users/martinkatkovcin/Documents/School/NSIETE/Zadanie1/wandb/run-20230329_001550-lr-scheduler-adam-bce/files/model-best)... Done. 0.0s\n"
          ]
        },
        {
          "name": "stdout",
          "output_type": "stream",
          "text": [
            "20/20 - 1s - loss: 0.4447 - accuracy: 0.7915 - val_loss: 0.4866 - val_accuracy: 0.7987 - 651ms/epoch - 33ms/step\n",
            "Epoch 71/500\n",
            "INFO:tensorflow:Assets written to: /Users/martinkatkovcin/Documents/School/NSIETE/Zadanie1/wandb/run-20230329_001550-lr-scheduler-adam-bce/files/model-best/assets\n"
          ]
        },
        {
          "name": "stderr",
          "output_type": "stream",
          "text": [
            "\u001b[34m\u001b[1mwandb\u001b[0m: Adding directory to artifact (/Users/martinkatkovcin/Documents/School/NSIETE/Zadanie1/wandb/run-20230329_001550-lr-scheduler-adam-bce/files/model-best)... Done. 0.0s\n"
          ]
        },
        {
          "name": "stdout",
          "output_type": "stream",
          "text": [
            "20/20 - 1s - loss: 0.4430 - accuracy: 0.7850 - val_loss: 0.4849 - val_accuracy: 0.7857 - 598ms/epoch - 30ms/step\n",
            "Epoch 72/500\n",
            "INFO:tensorflow:Assets written to: /Users/martinkatkovcin/Documents/School/NSIETE/Zadanie1/wandb/run-20230329_001550-lr-scheduler-adam-bce/files/model-best/assets\n"
          ]
        },
        {
          "name": "stderr",
          "output_type": "stream",
          "text": [
            "\u001b[34m\u001b[1mwandb\u001b[0m: Adding directory to artifact (/Users/martinkatkovcin/Documents/School/NSIETE/Zadanie1/wandb/run-20230329_001550-lr-scheduler-adam-bce/files/model-best)... Done. 0.0s\n"
          ]
        },
        {
          "name": "stdout",
          "output_type": "stream",
          "text": [
            "20/20 - 1s - loss: 0.4429 - accuracy: 0.7883 - val_loss: 0.4842 - val_accuracy: 0.7857 - 735ms/epoch - 37ms/step\n",
            "Epoch 73/500\n",
            "INFO:tensorflow:Assets written to: /Users/martinkatkovcin/Documents/School/NSIETE/Zadanie1/wandb/run-20230329_001550-lr-scheduler-adam-bce/files/model-best/assets\n"
          ]
        },
        {
          "name": "stderr",
          "output_type": "stream",
          "text": [
            "\u001b[34m\u001b[1mwandb\u001b[0m: Adding directory to artifact (/Users/martinkatkovcin/Documents/School/NSIETE/Zadanie1/wandb/run-20230329_001550-lr-scheduler-adam-bce/files/model-best)... Done. 0.0s\n"
          ]
        },
        {
          "name": "stdout",
          "output_type": "stream",
          "text": [
            "20/20 - 1s - loss: 0.4404 - accuracy: 0.7948 - val_loss: 0.4842 - val_accuracy: 0.8052 - 641ms/epoch - 32ms/step\n",
            "Epoch 74/500\n",
            "INFO:tensorflow:Assets written to: /Users/martinkatkovcin/Documents/School/NSIETE/Zadanie1/wandb/run-20230329_001550-lr-scheduler-adam-bce/files/model-best/assets\n"
          ]
        },
        {
          "name": "stderr",
          "output_type": "stream",
          "text": [
            "\u001b[34m\u001b[1mwandb\u001b[0m: Adding directory to artifact (/Users/martinkatkovcin/Documents/School/NSIETE/Zadanie1/wandb/run-20230329_001550-lr-scheduler-adam-bce/files/model-best)... Done. 0.0s\n"
          ]
        },
        {
          "name": "stdout",
          "output_type": "stream",
          "text": [
            "20/20 - 1s - loss: 0.4400 - accuracy: 0.7997 - val_loss: 0.4825 - val_accuracy: 0.8052 - 924ms/epoch - 46ms/step\n",
            "Epoch 75/500\n",
            "INFO:tensorflow:Assets written to: /Users/martinkatkovcin/Documents/School/NSIETE/Zadanie1/wandb/run-20230329_001550-lr-scheduler-adam-bce/files/model-best/assets\n"
          ]
        },
        {
          "name": "stderr",
          "output_type": "stream",
          "text": [
            "\u001b[34m\u001b[1mwandb\u001b[0m: Adding directory to artifact (/Users/martinkatkovcin/Documents/School/NSIETE/Zadanie1/wandb/run-20230329_001550-lr-scheduler-adam-bce/files/model-best)... Done. 0.0s\n"
          ]
        },
        {
          "name": "stdout",
          "output_type": "stream",
          "text": [
            "20/20 - 1s - loss: 0.4393 - accuracy: 0.7866 - val_loss: 0.4818 - val_accuracy: 0.8052 - 625ms/epoch - 31ms/step\n",
            "Epoch 76/500\n",
            "INFO:tensorflow:Assets written to: /Users/martinkatkovcin/Documents/School/NSIETE/Zadanie1/wandb/run-20230329_001550-lr-scheduler-adam-bce/files/model-best/assets\n"
          ]
        },
        {
          "name": "stderr",
          "output_type": "stream",
          "text": [
            "\u001b[34m\u001b[1mwandb\u001b[0m: Adding directory to artifact (/Users/martinkatkovcin/Documents/School/NSIETE/Zadanie1/wandb/run-20230329_001550-lr-scheduler-adam-bce/files/model-best)... Done. 0.0s\n"
          ]
        },
        {
          "name": "stdout",
          "output_type": "stream",
          "text": [
            "20/20 - 1s - loss: 0.4380 - accuracy: 0.7964 - val_loss: 0.4805 - val_accuracy: 0.8052 - 608ms/epoch - 30ms/step\n",
            "Epoch 77/500\n",
            "20/20 - 0s - loss: 0.4367 - accuracy: 0.7980 - val_loss: 0.4807 - val_accuracy: 0.7987 - 167ms/epoch - 8ms/step\n",
            "Epoch 78/500\n",
            "INFO:tensorflow:Assets written to: /Users/martinkatkovcin/Documents/School/NSIETE/Zadanie1/wandb/run-20230329_001550-lr-scheduler-adam-bce/files/model-best/assets\n"
          ]
        },
        {
          "name": "stderr",
          "output_type": "stream",
          "text": [
            "\u001b[34m\u001b[1mwandb\u001b[0m: Adding directory to artifact (/Users/martinkatkovcin/Documents/School/NSIETE/Zadanie1/wandb/run-20230329_001550-lr-scheduler-adam-bce/files/model-best)... Done. 0.0s\n"
          ]
        },
        {
          "name": "stdout",
          "output_type": "stream",
          "text": [
            "20/20 - 1s - loss: 0.4358 - accuracy: 0.7980 - val_loss: 0.4788 - val_accuracy: 0.8052 - 572ms/epoch - 29ms/step\n",
            "Epoch 79/500\n",
            "20/20 - 0s - loss: 0.4340 - accuracy: 0.7948 - val_loss: 0.4789 - val_accuracy: 0.7987 - 168ms/epoch - 8ms/step\n",
            "Epoch 80/500\n",
            "20/20 - 0s - loss: 0.4365 - accuracy: 0.7948 - val_loss: 0.4800 - val_accuracy: 0.7987 - 160ms/epoch - 8ms/step\n",
            "Epoch 81/500\n",
            "INFO:tensorflow:Assets written to: /Users/martinkatkovcin/Documents/School/NSIETE/Zadanie1/wandb/run-20230329_001550-lr-scheduler-adam-bce/files/model-best/assets\n"
          ]
        },
        {
          "name": "stderr",
          "output_type": "stream",
          "text": [
            "\u001b[34m\u001b[1mwandb\u001b[0m: Adding directory to artifact (/Users/martinkatkovcin/Documents/School/NSIETE/Zadanie1/wandb/run-20230329_001550-lr-scheduler-adam-bce/files/model-best)... Done. 0.0s\n"
          ]
        },
        {
          "name": "stdout",
          "output_type": "stream",
          "text": [
            "20/20 - 1s - loss: 0.4346 - accuracy: 0.7915 - val_loss: 0.4767 - val_accuracy: 0.8117 - 594ms/epoch - 30ms/step\n",
            "Epoch 82/500\n",
            "20/20 - 0s - loss: 0.4311 - accuracy: 0.7997 - val_loss: 0.4773 - val_accuracy: 0.7987 - 162ms/epoch - 8ms/step\n",
            "Epoch 83/500\n",
            "INFO:tensorflow:Assets written to: /Users/martinkatkovcin/Documents/School/NSIETE/Zadanie1/wandb/run-20230329_001550-lr-scheduler-adam-bce/files/model-best/assets\n"
          ]
        },
        {
          "name": "stderr",
          "output_type": "stream",
          "text": [
            "\u001b[34m\u001b[1mwandb\u001b[0m: Adding directory to artifact (/Users/martinkatkovcin/Documents/School/NSIETE/Zadanie1/wandb/run-20230329_001550-lr-scheduler-adam-bce/files/model-best)... Done. 0.0s\n"
          ]
        },
        {
          "name": "stdout",
          "output_type": "stream",
          "text": [
            "20/20 - 1s - loss: 0.4311 - accuracy: 0.7964 - val_loss: 0.4750 - val_accuracy: 0.8052 - 587ms/epoch - 29ms/step\n",
            "Epoch 84/500\n",
            "INFO:tensorflow:Assets written to: /Users/martinkatkovcin/Documents/School/NSIETE/Zadanie1/wandb/run-20230329_001550-lr-scheduler-adam-bce/files/model-best/assets\n"
          ]
        },
        {
          "name": "stderr",
          "output_type": "stream",
          "text": [
            "\u001b[34m\u001b[1mwandb\u001b[0m: Adding directory to artifact (/Users/martinkatkovcin/Documents/School/NSIETE/Zadanie1/wandb/run-20230329_001550-lr-scheduler-adam-bce/files/model-best)... Done. 0.0s\n"
          ]
        },
        {
          "name": "stdout",
          "output_type": "stream",
          "text": [
            "20/20 - 1s - loss: 0.4293 - accuracy: 0.8029 - val_loss: 0.4750 - val_accuracy: 0.7987 - 629ms/epoch - 31ms/step\n",
            "Epoch 85/500\n",
            "INFO:tensorflow:Assets written to: /Users/martinkatkovcin/Documents/School/NSIETE/Zadanie1/wandb/run-20230329_001550-lr-scheduler-adam-bce/files/model-best/assets\n"
          ]
        },
        {
          "name": "stderr",
          "output_type": "stream",
          "text": [
            "\u001b[34m\u001b[1mwandb\u001b[0m: Adding directory to artifact (/Users/martinkatkovcin/Documents/School/NSIETE/Zadanie1/wandb/run-20230329_001550-lr-scheduler-adam-bce/files/model-best)... Done. 0.0s\n"
          ]
        },
        {
          "name": "stdout",
          "output_type": "stream",
          "text": [
            "20/20 - 1s - loss: 0.4289 - accuracy: 0.8029 - val_loss: 0.4737 - val_accuracy: 0.7987 - 596ms/epoch - 30ms/step\n",
            "Epoch 86/500\n",
            "INFO:tensorflow:Assets written to: /Users/martinkatkovcin/Documents/School/NSIETE/Zadanie1/wandb/run-20230329_001550-lr-scheduler-adam-bce/files/model-best/assets\n"
          ]
        },
        {
          "name": "stderr",
          "output_type": "stream",
          "text": [
            "\u001b[34m\u001b[1mwandb\u001b[0m: Adding directory to artifact (/Users/martinkatkovcin/Documents/School/NSIETE/Zadanie1/wandb/run-20230329_001550-lr-scheduler-adam-bce/files/model-best)... Done. 0.0s\n"
          ]
        },
        {
          "name": "stdout",
          "output_type": "stream",
          "text": [
            "20/20 - 1s - loss: 0.4277 - accuracy: 0.8062 - val_loss: 0.4737 - val_accuracy: 0.7987 - 662ms/epoch - 33ms/step\n",
            "Epoch 87/500\n",
            "INFO:tensorflow:Assets written to: /Users/martinkatkovcin/Documents/School/NSIETE/Zadanie1/wandb/run-20230329_001550-lr-scheduler-adam-bce/files/model-best/assets\n"
          ]
        },
        {
          "name": "stderr",
          "output_type": "stream",
          "text": [
            "\u001b[34m\u001b[1mwandb\u001b[0m: Adding directory to artifact (/Users/martinkatkovcin/Documents/School/NSIETE/Zadanie1/wandb/run-20230329_001550-lr-scheduler-adam-bce/files/model-best)... Done. 0.0s\n"
          ]
        },
        {
          "name": "stdout",
          "output_type": "stream",
          "text": [
            "20/20 - 1s - loss: 0.4269 - accuracy: 0.8013 - val_loss: 0.4731 - val_accuracy: 0.7987 - 696ms/epoch - 35ms/step\n",
            "Epoch 88/500\n",
            "20/20 - 0s - loss: 0.4266 - accuracy: 0.8029 - val_loss: 0.4737 - val_accuracy: 0.7922 - 211ms/epoch - 11ms/step\n",
            "Epoch 89/500\n",
            "INFO:tensorflow:Assets written to: /Users/martinkatkovcin/Documents/School/NSIETE/Zadanie1/wandb/run-20230329_001550-lr-scheduler-adam-bce/files/model-best/assets\n"
          ]
        },
        {
          "name": "stderr",
          "output_type": "stream",
          "text": [
            "\u001b[34m\u001b[1mwandb\u001b[0m: Adding directory to artifact (/Users/martinkatkovcin/Documents/School/NSIETE/Zadanie1/wandb/run-20230329_001550-lr-scheduler-adam-bce/files/model-best)... Done. 0.0s\n"
          ]
        },
        {
          "name": "stdout",
          "output_type": "stream",
          "text": [
            "20/20 - 1s - loss: 0.4251 - accuracy: 0.8013 - val_loss: 0.4713 - val_accuracy: 0.8052 - 1s/epoch - 52ms/step\n",
            "Epoch 90/500\n",
            "20/20 - 0s - loss: 0.4253 - accuracy: 0.8029 - val_loss: 0.4716 - val_accuracy: 0.7987 - 184ms/epoch - 9ms/step\n",
            "Epoch 91/500\n",
            "INFO:tensorflow:Assets written to: /Users/martinkatkovcin/Documents/School/NSIETE/Zadanie1/wandb/run-20230329_001550-lr-scheduler-adam-bce/files/model-best/assets\n"
          ]
        },
        {
          "name": "stderr",
          "output_type": "stream",
          "text": [
            "\u001b[34m\u001b[1mwandb\u001b[0m: Adding directory to artifact (/Users/martinkatkovcin/Documents/School/NSIETE/Zadanie1/wandb/run-20230329_001550-lr-scheduler-adam-bce/files/model-best)... Done. 0.0s\n"
          ]
        },
        {
          "name": "stdout",
          "output_type": "stream",
          "text": [
            "20/20 - 1s - loss: 0.4240 - accuracy: 0.7980 - val_loss: 0.4703 - val_accuracy: 0.8052 - 762ms/epoch - 38ms/step\n",
            "Epoch 92/500\n",
            "20/20 - 0s - loss: 0.4231 - accuracy: 0.7980 - val_loss: 0.4722 - val_accuracy: 0.7922 - 180ms/epoch - 9ms/step\n",
            "Epoch 93/500\n",
            "INFO:tensorflow:Assets written to: /Users/martinkatkovcin/Documents/School/NSIETE/Zadanie1/wandb/run-20230329_001550-lr-scheduler-adam-bce/files/model-best/assets\n"
          ]
        },
        {
          "name": "stderr",
          "output_type": "stream",
          "text": [
            "\u001b[34m\u001b[1mwandb\u001b[0m: Adding directory to artifact (/Users/martinkatkovcin/Documents/School/NSIETE/Zadanie1/wandb/run-20230329_001550-lr-scheduler-adam-bce/files/model-best)... Done. 0.0s\n"
          ]
        },
        {
          "name": "stdout",
          "output_type": "stream",
          "text": [
            "20/20 - 1s - loss: 0.4216 - accuracy: 0.8013 - val_loss: 0.4701 - val_accuracy: 0.7987 - 628ms/epoch - 31ms/step\n",
            "Epoch 94/500\n",
            "INFO:tensorflow:Assets written to: /Users/martinkatkovcin/Documents/School/NSIETE/Zadanie1/wandb/run-20230329_001550-lr-scheduler-adam-bce/files/model-best/assets\n"
          ]
        },
        {
          "name": "stderr",
          "output_type": "stream",
          "text": [
            "\u001b[34m\u001b[1mwandb\u001b[0m: Adding directory to artifact (/Users/martinkatkovcin/Documents/School/NSIETE/Zadanie1/wandb/run-20230329_001550-lr-scheduler-adam-bce/files/model-best)... Done. 0.0s\n"
          ]
        },
        {
          "name": "stdout",
          "output_type": "stream",
          "text": [
            "20/20 - 1s - loss: 0.4204 - accuracy: 0.8094 - val_loss: 0.4698 - val_accuracy: 0.7987 - 590ms/epoch - 29ms/step\n",
            "Epoch 95/500\n",
            "INFO:tensorflow:Assets written to: /Users/martinkatkovcin/Documents/School/NSIETE/Zadanie1/wandb/run-20230329_001550-lr-scheduler-adam-bce/files/model-best/assets\n"
          ]
        },
        {
          "name": "stderr",
          "output_type": "stream",
          "text": [
            "\u001b[34m\u001b[1mwandb\u001b[0m: Adding directory to artifact (/Users/martinkatkovcin/Documents/School/NSIETE/Zadanie1/wandb/run-20230329_001550-lr-scheduler-adam-bce/files/model-best)... Done. 0.0s\n"
          ]
        },
        {
          "name": "stdout",
          "output_type": "stream",
          "text": [
            "20/20 - 1s - loss: 0.4198 - accuracy: 0.8029 - val_loss: 0.4693 - val_accuracy: 0.7922 - 606ms/epoch - 30ms/step\n",
            "Epoch 96/500\n",
            "INFO:tensorflow:Assets written to: /Users/martinkatkovcin/Documents/School/NSIETE/Zadanie1/wandb/run-20230329_001550-lr-scheduler-adam-bce/files/model-best/assets\n"
          ]
        },
        {
          "name": "stderr",
          "output_type": "stream",
          "text": [
            "\u001b[34m\u001b[1mwandb\u001b[0m: Adding directory to artifact (/Users/martinkatkovcin/Documents/School/NSIETE/Zadanie1/wandb/run-20230329_001550-lr-scheduler-adam-bce/files/model-best)... Done. 0.0s\n"
          ]
        },
        {
          "name": "stdout",
          "output_type": "stream",
          "text": [
            "20/20 - 1s - loss: 0.4195 - accuracy: 0.8013 - val_loss: 0.4683 - val_accuracy: 0.8052 - 612ms/epoch - 31ms/step\n",
            "Epoch 97/500\n",
            "20/20 - 0s - loss: 0.4195 - accuracy: 0.7964 - val_loss: 0.4695 - val_accuracy: 0.7987 - 178ms/epoch - 9ms/step\n",
            "Epoch 98/500\n",
            "INFO:tensorflow:Assets written to: /Users/martinkatkovcin/Documents/School/NSIETE/Zadanie1/wandb/run-20230329_001550-lr-scheduler-adam-bce/files/model-best/assets\n"
          ]
        },
        {
          "name": "stderr",
          "output_type": "stream",
          "text": [
            "\u001b[34m\u001b[1mwandb\u001b[0m: Adding directory to artifact (/Users/martinkatkovcin/Documents/School/NSIETE/Zadanie1/wandb/run-20230329_001550-lr-scheduler-adam-bce/files/model-best)... Done. 0.0s\n"
          ]
        },
        {
          "name": "stdout",
          "output_type": "stream",
          "text": [
            "20/20 - 1s - loss: 0.4197 - accuracy: 0.7980 - val_loss: 0.4670 - val_accuracy: 0.8052 - 599ms/epoch - 30ms/step\n",
            "Epoch 99/500\n",
            "20/20 - 0s - loss: 0.4155 - accuracy: 0.8029 - val_loss: 0.4673 - val_accuracy: 0.7922 - 163ms/epoch - 8ms/step\n",
            "Epoch 100/500\n",
            "INFO:tensorflow:Assets written to: /Users/martinkatkovcin/Documents/School/NSIETE/Zadanie1/wandb/run-20230329_001550-lr-scheduler-adam-bce/files/model-best/assets\n"
          ]
        },
        {
          "name": "stderr",
          "output_type": "stream",
          "text": [
            "\u001b[34m\u001b[1mwandb\u001b[0m: Adding directory to artifact (/Users/martinkatkovcin/Documents/School/NSIETE/Zadanie1/wandb/run-20230329_001550-lr-scheduler-adam-bce/files/model-best)... Done. 0.0s\n"
          ]
        },
        {
          "name": "stdout",
          "output_type": "stream",
          "text": [
            "20/20 - 1s - loss: 0.4163 - accuracy: 0.8013 - val_loss: 0.4654 - val_accuracy: 0.7922 - 589ms/epoch - 29ms/step\n",
            "Epoch 101/500\n",
            "INFO:tensorflow:Assets written to: /Users/martinkatkovcin/Documents/School/NSIETE/Zadanie1/wandb/run-20230329_001550-lr-scheduler-adam-bce/files/model-best/assets\n"
          ]
        },
        {
          "name": "stderr",
          "output_type": "stream",
          "text": [
            "\u001b[34m\u001b[1mwandb\u001b[0m: Adding directory to artifact (/Users/martinkatkovcin/Documents/School/NSIETE/Zadanie1/wandb/run-20230329_001550-lr-scheduler-adam-bce/files/model-best)... Done. 0.0s\n"
          ]
        },
        {
          "name": "stdout",
          "output_type": "stream",
          "text": [
            "20/20 - 1s - loss: 0.4157 - accuracy: 0.8029 - val_loss: 0.4646 - val_accuracy: 0.7922 - 572ms/epoch - 29ms/step\n",
            "Epoch 102/500\n",
            "20/20 - 0s - loss: 0.4145 - accuracy: 0.8013 - val_loss: 0.4651 - val_accuracy: 0.7922 - 184ms/epoch - 9ms/step\n",
            "Epoch 103/500\n",
            "INFO:tensorflow:Assets written to: /Users/martinkatkovcin/Documents/School/NSIETE/Zadanie1/wandb/run-20230329_001550-lr-scheduler-adam-bce/files/model-best/assets\n"
          ]
        },
        {
          "name": "stderr",
          "output_type": "stream",
          "text": [
            "\u001b[34m\u001b[1mwandb\u001b[0m: Adding directory to artifact (/Users/martinkatkovcin/Documents/School/NSIETE/Zadanie1/wandb/run-20230329_001550-lr-scheduler-adam-bce/files/model-best)... Done. 0.0s\n"
          ]
        },
        {
          "name": "stdout",
          "output_type": "stream",
          "text": [
            "20/20 - 1s - loss: 0.4129 - accuracy: 0.8046 - val_loss: 0.4626 - val_accuracy: 0.7987 - 714ms/epoch - 36ms/step\n",
            "Epoch 104/500\n",
            "INFO:tensorflow:Assets written to: /Users/martinkatkovcin/Documents/School/NSIETE/Zadanie1/wandb/run-20230329_001550-lr-scheduler-adam-bce/files/model-best/assets\n"
          ]
        },
        {
          "name": "stderr",
          "output_type": "stream",
          "text": [
            "\u001b[34m\u001b[1mwandb\u001b[0m: Adding directory to artifact (/Users/martinkatkovcin/Documents/School/NSIETE/Zadanie1/wandb/run-20230329_001550-lr-scheduler-adam-bce/files/model-best)... Done. 0.0s\n"
          ]
        },
        {
          "name": "stdout",
          "output_type": "stream",
          "text": [
            "20/20 - 1s - loss: 0.4135 - accuracy: 0.8094 - val_loss: 0.4623 - val_accuracy: 0.7922 - 627ms/epoch - 31ms/step\n",
            "Epoch 105/500\n",
            "20/20 - 0s - loss: 0.4124 - accuracy: 0.8078 - val_loss: 0.4629 - val_accuracy: 0.7922 - 169ms/epoch - 8ms/step\n",
            "Epoch 106/500\n",
            "20/20 - 0s - loss: 0.4132 - accuracy: 0.8078 - val_loss: 0.4633 - val_accuracy: 0.8052 - 165ms/epoch - 8ms/step\n",
            "Epoch 107/500\n",
            "INFO:tensorflow:Assets written to: /Users/martinkatkovcin/Documents/School/NSIETE/Zadanie1/wandb/run-20230329_001550-lr-scheduler-adam-bce/files/model-best/assets\n"
          ]
        },
        {
          "name": "stderr",
          "output_type": "stream",
          "text": [
            "\u001b[34m\u001b[1mwandb\u001b[0m: Adding directory to artifact (/Users/martinkatkovcin/Documents/School/NSIETE/Zadanie1/wandb/run-20230329_001550-lr-scheduler-adam-bce/files/model-best)... Done. 0.0s\n"
          ]
        },
        {
          "name": "stdout",
          "output_type": "stream",
          "text": [
            "20/20 - 1s - loss: 0.4114 - accuracy: 0.8013 - val_loss: 0.4621 - val_accuracy: 0.7922 - 715ms/epoch - 36ms/step\n",
            "Epoch 108/500\n",
            "20/20 - 0s - loss: 0.4096 - accuracy: 0.8062 - val_loss: 0.4623 - val_accuracy: 0.8052 - 174ms/epoch - 9ms/step\n",
            "Epoch 109/500\n",
            "INFO:tensorflow:Assets written to: /Users/martinkatkovcin/Documents/School/NSIETE/Zadanie1/wandb/run-20230329_001550-lr-scheduler-adam-bce/files/model-best/assets\n"
          ]
        },
        {
          "name": "stderr",
          "output_type": "stream",
          "text": [
            "\u001b[34m\u001b[1mwandb\u001b[0m: Adding directory to artifact (/Users/martinkatkovcin/Documents/School/NSIETE/Zadanie1/wandb/run-20230329_001550-lr-scheduler-adam-bce/files/model-best)... Done. 0.0s\n"
          ]
        },
        {
          "name": "stdout",
          "output_type": "stream",
          "text": [
            "20/20 - 1s - loss: 0.4097 - accuracy: 0.8078 - val_loss: 0.4610 - val_accuracy: 0.7857 - 672ms/epoch - 34ms/step\n",
            "Epoch 110/500\n",
            "INFO:tensorflow:Assets written to: /Users/martinkatkovcin/Documents/School/NSIETE/Zadanie1/wandb/run-20230329_001550-lr-scheduler-adam-bce/files/model-best/assets\n"
          ]
        },
        {
          "name": "stderr",
          "output_type": "stream",
          "text": [
            "\u001b[34m\u001b[1mwandb\u001b[0m: Adding directory to artifact (/Users/martinkatkovcin/Documents/School/NSIETE/Zadanie1/wandb/run-20230329_001550-lr-scheduler-adam-bce/files/model-best)... Done. 0.0s\n"
          ]
        },
        {
          "name": "stdout",
          "output_type": "stream",
          "text": [
            "20/20 - 1s - loss: 0.4098 - accuracy: 0.8078 - val_loss: 0.4610 - val_accuracy: 0.8052 - 608ms/epoch - 30ms/step\n",
            "Epoch 111/500\n",
            "INFO:tensorflow:Assets written to: /Users/martinkatkovcin/Documents/School/NSIETE/Zadanie1/wandb/run-20230329_001550-lr-scheduler-adam-bce/files/model-best/assets\n"
          ]
        },
        {
          "name": "stderr",
          "output_type": "stream",
          "text": [
            "\u001b[34m\u001b[1mwandb\u001b[0m: Adding directory to artifact (/Users/martinkatkovcin/Documents/School/NSIETE/Zadanie1/wandb/run-20230329_001550-lr-scheduler-adam-bce/files/model-best)... Done. 0.0s\n"
          ]
        },
        {
          "name": "stdout",
          "output_type": "stream",
          "text": [
            "20/20 - 1s - loss: 0.4076 - accuracy: 0.8046 - val_loss: 0.4602 - val_accuracy: 0.7987 - 640ms/epoch - 32ms/step\n",
            "Epoch 112/500\n",
            "20/20 - 0s - loss: 0.4096 - accuracy: 0.8078 - val_loss: 0.4617 - val_accuracy: 0.8117 - 175ms/epoch - 9ms/step\n",
            "Epoch 113/500\n",
            "INFO:tensorflow:Assets written to: /Users/martinkatkovcin/Documents/School/NSIETE/Zadanie1/wandb/run-20230329_001550-lr-scheduler-adam-bce/files/model-best/assets\n"
          ]
        },
        {
          "name": "stderr",
          "output_type": "stream",
          "text": [
            "\u001b[34m\u001b[1mwandb\u001b[0m: Adding directory to artifact (/Users/martinkatkovcin/Documents/School/NSIETE/Zadanie1/wandb/run-20230329_001550-lr-scheduler-adam-bce/files/model-best)... Done. 0.0s\n"
          ]
        },
        {
          "name": "stdout",
          "output_type": "stream",
          "text": [
            "20/20 - 1s - loss: 0.4060 - accuracy: 0.8078 - val_loss: 0.4579 - val_accuracy: 0.7922 - 593ms/epoch - 30ms/step\n",
            "Epoch 114/500\n",
            "INFO:tensorflow:Assets written to: /Users/martinkatkovcin/Documents/School/NSIETE/Zadanie1/wandb/run-20230329_001550-lr-scheduler-adam-bce/files/model-best/assets\n"
          ]
        },
        {
          "name": "stderr",
          "output_type": "stream",
          "text": [
            "\u001b[34m\u001b[1mwandb\u001b[0m: Adding directory to artifact (/Users/martinkatkovcin/Documents/School/NSIETE/Zadanie1/wandb/run-20230329_001550-lr-scheduler-adam-bce/files/model-best)... Done. 0.0s\n"
          ]
        },
        {
          "name": "stdout",
          "output_type": "stream",
          "text": [
            "20/20 - 1s - loss: 0.4058 - accuracy: 0.8127 - val_loss: 0.4578 - val_accuracy: 0.7922 - 617ms/epoch - 31ms/step\n",
            "Epoch 115/500\n",
            "INFO:tensorflow:Assets written to: /Users/martinkatkovcin/Documents/School/NSIETE/Zadanie1/wandb/run-20230329_001550-lr-scheduler-adam-bce/files/model-best/assets\n"
          ]
        },
        {
          "name": "stderr",
          "output_type": "stream",
          "text": [
            "\u001b[34m\u001b[1mwandb\u001b[0m: Adding directory to artifact (/Users/martinkatkovcin/Documents/School/NSIETE/Zadanie1/wandb/run-20230329_001550-lr-scheduler-adam-bce/files/model-best)... Done. 0.0s\n"
          ]
        },
        {
          "name": "stdout",
          "output_type": "stream",
          "text": [
            "20/20 - 1s - loss: 0.4053 - accuracy: 0.8111 - val_loss: 0.4578 - val_accuracy: 0.7987 - 562ms/epoch - 28ms/step\n",
            "Epoch 116/500\n",
            "20/20 - 0s - loss: 0.4041 - accuracy: 0.8078 - val_loss: 0.4580 - val_accuracy: 0.8052 - 164ms/epoch - 8ms/step\n",
            "Epoch 117/500\n",
            "20/20 - 0s - loss: 0.4035 - accuracy: 0.8046 - val_loss: 0.4579 - val_accuracy: 0.8117 - 181ms/epoch - 9ms/step\n",
            "Epoch 118/500\n",
            "INFO:tensorflow:Assets written to: /Users/martinkatkovcin/Documents/School/NSIETE/Zadanie1/wandb/run-20230329_001550-lr-scheduler-adam-bce/files/model-best/assets\n"
          ]
        },
        {
          "name": "stderr",
          "output_type": "stream",
          "text": [
            "\u001b[34m\u001b[1mwandb\u001b[0m: Adding directory to artifact (/Users/martinkatkovcin/Documents/School/NSIETE/Zadanie1/wandb/run-20230329_001550-lr-scheduler-adam-bce/files/model-best)... Done. 0.0s\n"
          ]
        },
        {
          "name": "stdout",
          "output_type": "stream",
          "text": [
            "20/20 - 1s - loss: 0.4027 - accuracy: 0.8094 - val_loss: 0.4572 - val_accuracy: 0.8117 - 605ms/epoch - 30ms/step\n",
            "Epoch 119/500\n",
            "INFO:tensorflow:Assets written to: /Users/martinkatkovcin/Documents/School/NSIETE/Zadanie1/wandb/run-20230329_001550-lr-scheduler-adam-bce/files/model-best/assets\n"
          ]
        },
        {
          "name": "stderr",
          "output_type": "stream",
          "text": [
            "\u001b[34m\u001b[1mwandb\u001b[0m: Adding directory to artifact (/Users/martinkatkovcin/Documents/School/NSIETE/Zadanie1/wandb/run-20230329_001550-lr-scheduler-adam-bce/files/model-best)... Done. 0.0s\n"
          ]
        },
        {
          "name": "stdout",
          "output_type": "stream",
          "text": [
            "20/20 - 1s - loss: 0.4021 - accuracy: 0.8127 - val_loss: 0.4548 - val_accuracy: 0.8052 - 698ms/epoch - 35ms/step\n",
            "Epoch 120/500\n",
            "20/20 - 0s - loss: 0.4018 - accuracy: 0.8078 - val_loss: 0.4556 - val_accuracy: 0.8117 - 164ms/epoch - 8ms/step\n",
            "Epoch 121/500\n",
            "20/20 - 0s - loss: 0.4007 - accuracy: 0.8111 - val_loss: 0.4553 - val_accuracy: 0.8117 - 170ms/epoch - 9ms/step\n",
            "Epoch 122/500\n",
            "20/20 - 0s - loss: 0.4006 - accuracy: 0.8143 - val_loss: 0.4548 - val_accuracy: 0.8117 - 165ms/epoch - 8ms/step\n",
            "Epoch 123/500\n",
            "INFO:tensorflow:Assets written to: /Users/martinkatkovcin/Documents/School/NSIETE/Zadanie1/wandb/run-20230329_001550-lr-scheduler-adam-bce/files/model-best/assets\n"
          ]
        },
        {
          "name": "stderr",
          "output_type": "stream",
          "text": [
            "\u001b[34m\u001b[1mwandb\u001b[0m: Adding directory to artifact (/Users/martinkatkovcin/Documents/School/NSIETE/Zadanie1/wandb/run-20230329_001550-lr-scheduler-adam-bce/files/model-best)... Done. 0.0s\n"
          ]
        },
        {
          "name": "stdout",
          "output_type": "stream",
          "text": [
            "20/20 - 1s - loss: 0.3997 - accuracy: 0.8111 - val_loss: 0.4522 - val_accuracy: 0.8052 - 582ms/epoch - 29ms/step\n",
            "Epoch 124/500\n",
            "INFO:tensorflow:Assets written to: /Users/martinkatkovcin/Documents/School/NSIETE/Zadanie1/wandb/run-20230329_001550-lr-scheduler-adam-bce/files/model-best/assets\n"
          ]
        },
        {
          "name": "stderr",
          "output_type": "stream",
          "text": [
            "\u001b[34m\u001b[1mwandb\u001b[0m: Adding directory to artifact (/Users/martinkatkovcin/Documents/School/NSIETE/Zadanie1/wandb/run-20230329_001550-lr-scheduler-adam-bce/files/model-best)... Done. 0.0s\n"
          ]
        },
        {
          "name": "stdout",
          "output_type": "stream",
          "text": [
            "20/20 - 1s - loss: 0.3992 - accuracy: 0.8127 - val_loss: 0.4518 - val_accuracy: 0.8052 - 659ms/epoch - 33ms/step\n",
            "Epoch 125/500\n",
            "INFO:tensorflow:Assets written to: /Users/martinkatkovcin/Documents/School/NSIETE/Zadanie1/wandb/run-20230329_001550-lr-scheduler-adam-bce/files/model-best/assets\n"
          ]
        },
        {
          "name": "stderr",
          "output_type": "stream",
          "text": [
            "\u001b[34m\u001b[1mwandb\u001b[0m: Adding directory to artifact (/Users/martinkatkovcin/Documents/School/NSIETE/Zadanie1/wandb/run-20230329_001550-lr-scheduler-adam-bce/files/model-best)... Done. 0.0s\n"
          ]
        },
        {
          "name": "stdout",
          "output_type": "stream",
          "text": [
            "20/20 - 1s - loss: 0.3980 - accuracy: 0.8094 - val_loss: 0.4517 - val_accuracy: 0.8117 - 749ms/epoch - 37ms/step\n",
            "Epoch 126/500\n",
            "INFO:tensorflow:Assets written to: /Users/martinkatkovcin/Documents/School/NSIETE/Zadanie1/wandb/run-20230329_001550-lr-scheduler-adam-bce/files/model-best/assets\n"
          ]
        },
        {
          "name": "stderr",
          "output_type": "stream",
          "text": [
            "\u001b[34m\u001b[1mwandb\u001b[0m: Adding directory to artifact (/Users/martinkatkovcin/Documents/School/NSIETE/Zadanie1/wandb/run-20230329_001550-lr-scheduler-adam-bce/files/model-best)... Done. 0.0s\n"
          ]
        },
        {
          "name": "stdout",
          "output_type": "stream",
          "text": [
            "20/20 - 1s - loss: 0.3980 - accuracy: 0.8127 - val_loss: 0.4495 - val_accuracy: 0.8052 - 590ms/epoch - 30ms/step\n",
            "Epoch 127/500\n",
            "INFO:tensorflow:Assets written to: /Users/martinkatkovcin/Documents/School/NSIETE/Zadanie1/wandb/run-20230329_001550-lr-scheduler-adam-bce/files/model-best/assets\n"
          ]
        },
        {
          "name": "stderr",
          "output_type": "stream",
          "text": [
            "\u001b[34m\u001b[1mwandb\u001b[0m: Adding directory to artifact (/Users/martinkatkovcin/Documents/School/NSIETE/Zadanie1/wandb/run-20230329_001550-lr-scheduler-adam-bce/files/model-best)... Done. 0.0s\n"
          ]
        },
        {
          "name": "stdout",
          "output_type": "stream",
          "text": [
            "20/20 - 1s - loss: 0.3968 - accuracy: 0.8192 - val_loss: 0.4486 - val_accuracy: 0.8117 - 597ms/epoch - 30ms/step\n",
            "Epoch 128/500\n",
            "20/20 - 0s - loss: 0.3987 - accuracy: 0.8176 - val_loss: 0.4499 - val_accuracy: 0.8117 - 175ms/epoch - 9ms/step\n",
            "Epoch 129/500\n",
            "INFO:tensorflow:Assets written to: /Users/martinkatkovcin/Documents/School/NSIETE/Zadanie1/wandb/run-20230329_001550-lr-scheduler-adam-bce/files/model-best/assets\n"
          ]
        },
        {
          "name": "stderr",
          "output_type": "stream",
          "text": [
            "\u001b[34m\u001b[1mwandb\u001b[0m: Adding directory to artifact (/Users/martinkatkovcin/Documents/School/NSIETE/Zadanie1/wandb/run-20230329_001550-lr-scheduler-adam-bce/files/model-best)... Done. 0.0s\n"
          ]
        },
        {
          "name": "stdout",
          "output_type": "stream",
          "text": [
            "20/20 - 1s - loss: 0.3964 - accuracy: 0.8094 - val_loss: 0.4470 - val_accuracy: 0.7987 - 569ms/epoch - 28ms/step\n",
            "Epoch 130/500\n",
            "INFO:tensorflow:Assets written to: /Users/martinkatkovcin/Documents/School/NSIETE/Zadanie1/wandb/run-20230329_001550-lr-scheduler-adam-bce/files/model-best/assets\n"
          ]
        },
        {
          "name": "stderr",
          "output_type": "stream",
          "text": [
            "\u001b[34m\u001b[1mwandb\u001b[0m: Adding directory to artifact (/Users/martinkatkovcin/Documents/School/NSIETE/Zadanie1/wandb/run-20230329_001550-lr-scheduler-adam-bce/files/model-best)... Done. 0.0s\n"
          ]
        },
        {
          "name": "stdout",
          "output_type": "stream",
          "text": [
            "20/20 - 1s - loss: 0.3950 - accuracy: 0.8160 - val_loss: 0.4466 - val_accuracy: 0.8052 - 682ms/epoch - 34ms/step\n",
            "Epoch 131/500\n",
            "20/20 - 0s - loss: 0.3944 - accuracy: 0.8143 - val_loss: 0.4468 - val_accuracy: 0.8052 - 169ms/epoch - 8ms/step\n",
            "Epoch 132/500\n",
            "20/20 - 0s - loss: 0.3940 - accuracy: 0.8257 - val_loss: 0.4477 - val_accuracy: 0.8117 - 163ms/epoch - 8ms/step\n",
            "Epoch 133/500\n",
            "INFO:tensorflow:Assets written to: /Users/martinkatkovcin/Documents/School/NSIETE/Zadanie1/wandb/run-20230329_001550-lr-scheduler-adam-bce/files/model-best/assets\n"
          ]
        },
        {
          "name": "stderr",
          "output_type": "stream",
          "text": [
            "\u001b[34m\u001b[1mwandb\u001b[0m: Adding directory to artifact (/Users/martinkatkovcin/Documents/School/NSIETE/Zadanie1/wandb/run-20230329_001550-lr-scheduler-adam-bce/files/model-best)... Done. 0.0s\n"
          ]
        },
        {
          "name": "stdout",
          "output_type": "stream",
          "text": [
            "20/20 - 1s - loss: 0.3922 - accuracy: 0.8225 - val_loss: 0.4450 - val_accuracy: 0.8052 - 571ms/epoch - 29ms/step\n",
            "Epoch 134/500\n",
            "INFO:tensorflow:Assets written to: /Users/martinkatkovcin/Documents/School/NSIETE/Zadanie1/wandb/run-20230329_001550-lr-scheduler-adam-bce/files/model-best/assets\n"
          ]
        },
        {
          "name": "stderr",
          "output_type": "stream",
          "text": [
            "\u001b[34m\u001b[1mwandb\u001b[0m: Adding directory to artifact (/Users/martinkatkovcin/Documents/School/NSIETE/Zadanie1/wandb/run-20230329_001550-lr-scheduler-adam-bce/files/model-best)... Done. 0.0s\n"
          ]
        },
        {
          "name": "stdout",
          "output_type": "stream",
          "text": [
            "20/20 - 1s - loss: 0.3925 - accuracy: 0.8176 - val_loss: 0.4443 - val_accuracy: 0.8052 - 648ms/epoch - 32ms/step\n",
            "Epoch 135/500\n",
            "20/20 - 0s - loss: 0.3917 - accuracy: 0.8225 - val_loss: 0.4453 - val_accuracy: 0.8052 - 169ms/epoch - 8ms/step\n",
            "Epoch 136/500\n",
            "INFO:tensorflow:Assets written to: /Users/martinkatkovcin/Documents/School/NSIETE/Zadanie1/wandb/run-20230329_001550-lr-scheduler-adam-bce/files/model-best/assets\n"
          ]
        },
        {
          "name": "stderr",
          "output_type": "stream",
          "text": [
            "\u001b[34m\u001b[1mwandb\u001b[0m: Adding directory to artifact (/Users/martinkatkovcin/Documents/School/NSIETE/Zadanie1/wandb/run-20230329_001550-lr-scheduler-adam-bce/files/model-best)... Done. 0.0s\n"
          ]
        },
        {
          "name": "stdout",
          "output_type": "stream",
          "text": [
            "20/20 - 1s - loss: 0.3903 - accuracy: 0.8225 - val_loss: 0.4439 - val_accuracy: 0.8052 - 613ms/epoch - 31ms/step\n",
            "Epoch 137/500\n",
            "INFO:tensorflow:Assets written to: /Users/martinkatkovcin/Documents/School/NSIETE/Zadanie1/wandb/run-20230329_001550-lr-scheduler-adam-bce/files/model-best/assets\n"
          ]
        },
        {
          "name": "stderr",
          "output_type": "stream",
          "text": [
            "\u001b[34m\u001b[1mwandb\u001b[0m: Adding directory to artifact (/Users/martinkatkovcin/Documents/School/NSIETE/Zadanie1/wandb/run-20230329_001550-lr-scheduler-adam-bce/files/model-best)... Done. 0.0s\n"
          ]
        },
        {
          "name": "stdout",
          "output_type": "stream",
          "text": [
            "20/20 - 1s - loss: 0.3902 - accuracy: 0.8241 - val_loss: 0.4432 - val_accuracy: 0.8052 - 598ms/epoch - 30ms/step\n",
            "Epoch 138/500\n",
            "20/20 - 0s - loss: 0.3907 - accuracy: 0.8274 - val_loss: 0.4450 - val_accuracy: 0.8052 - 162ms/epoch - 8ms/step\n",
            "Epoch 139/500\n",
            "20/20 - 0s - loss: 0.3894 - accuracy: 0.8208 - val_loss: 0.4442 - val_accuracy: 0.8052 - 157ms/epoch - 8ms/step\n",
            "Epoch 140/500\n",
            "20/20 - 0s - loss: 0.3882 - accuracy: 0.8208 - val_loss: 0.4435 - val_accuracy: 0.8052 - 165ms/epoch - 8ms/step\n",
            "Epoch 141/500\n",
            "INFO:tensorflow:Assets written to: /Users/martinkatkovcin/Documents/School/NSIETE/Zadanie1/wandb/run-20230329_001550-lr-scheduler-adam-bce/files/model-best/assets\n"
          ]
        },
        {
          "name": "stderr",
          "output_type": "stream",
          "text": [
            "\u001b[34m\u001b[1mwandb\u001b[0m: Adding directory to artifact (/Users/martinkatkovcin/Documents/School/NSIETE/Zadanie1/wandb/run-20230329_001550-lr-scheduler-adam-bce/files/model-best)... Done. 0.0s\n"
          ]
        },
        {
          "name": "stdout",
          "output_type": "stream",
          "text": [
            "20/20 - 1s - loss: 0.3874 - accuracy: 0.8241 - val_loss: 0.4424 - val_accuracy: 0.8117 - 579ms/epoch - 29ms/step\n",
            "Epoch 142/500\n",
            "INFO:tensorflow:Assets written to: /Users/martinkatkovcin/Documents/School/NSIETE/Zadanie1/wandb/run-20230329_001550-lr-scheduler-adam-bce/files/model-best/assets\n"
          ]
        },
        {
          "name": "stderr",
          "output_type": "stream",
          "text": [
            "\u001b[34m\u001b[1mwandb\u001b[0m: Adding directory to artifact (/Users/martinkatkovcin/Documents/School/NSIETE/Zadanie1/wandb/run-20230329_001550-lr-scheduler-adam-bce/files/model-best)... Done. 0.0s\n"
          ]
        },
        {
          "name": "stdout",
          "output_type": "stream",
          "text": [
            "20/20 - 1s - loss: 0.3869 - accuracy: 0.8176 - val_loss: 0.4408 - val_accuracy: 0.8117 - 611ms/epoch - 31ms/step\n",
            "Epoch 143/500\n",
            "20/20 - 0s - loss: 0.3864 - accuracy: 0.8241 - val_loss: 0.4435 - val_accuracy: 0.8117 - 166ms/epoch - 8ms/step\n",
            "Epoch 144/500\n",
            "20/20 - 0s - loss: 0.3867 - accuracy: 0.8208 - val_loss: 0.4428 - val_accuracy: 0.8052 - 160ms/epoch - 8ms/step\n",
            "Epoch 145/500\n",
            "20/20 - 0s - loss: 0.3850 - accuracy: 0.8257 - val_loss: 0.4427 - val_accuracy: 0.8117 - 159ms/epoch - 8ms/step\n",
            "Epoch 146/500\n",
            "INFO:tensorflow:Assets written to: /Users/martinkatkovcin/Documents/School/NSIETE/Zadanie1/wandb/run-20230329_001550-lr-scheduler-adam-bce/files/model-best/assets\n"
          ]
        },
        {
          "name": "stderr",
          "output_type": "stream",
          "text": [
            "\u001b[34m\u001b[1mwandb\u001b[0m: Adding directory to artifact (/Users/martinkatkovcin/Documents/School/NSIETE/Zadanie1/wandb/run-20230329_001550-lr-scheduler-adam-bce/files/model-best)... Done. 0.0s\n"
          ]
        },
        {
          "name": "stdout",
          "output_type": "stream",
          "text": [
            "20/20 - 1s - loss: 0.3843 - accuracy: 0.8290 - val_loss: 0.4402 - val_accuracy: 0.8117 - 600ms/epoch - 30ms/step\n",
            "Epoch 147/500\n",
            "INFO:tensorflow:Assets written to: /Users/martinkatkovcin/Documents/School/NSIETE/Zadanie1/wandb/run-20230329_001550-lr-scheduler-adam-bce/files/model-best/assets\n"
          ]
        },
        {
          "name": "stderr",
          "output_type": "stream",
          "text": [
            "\u001b[34m\u001b[1mwandb\u001b[0m: Adding directory to artifact (/Users/martinkatkovcin/Documents/School/NSIETE/Zadanie1/wandb/run-20230329_001550-lr-scheduler-adam-bce/files/model-best)... Done. 0.0s\n"
          ]
        },
        {
          "name": "stdout",
          "output_type": "stream",
          "text": [
            "20/20 - 1s - loss: 0.3832 - accuracy: 0.8290 - val_loss: 0.4396 - val_accuracy: 0.8182 - 798ms/epoch - 40ms/step\n",
            "Epoch 148/500\n",
            "20/20 - 0s - loss: 0.3833 - accuracy: 0.8306 - val_loss: 0.4398 - val_accuracy: 0.8182 - 161ms/epoch - 8ms/step\n",
            "Epoch 149/500\n",
            "INFO:tensorflow:Assets written to: /Users/martinkatkovcin/Documents/School/NSIETE/Zadanie1/wandb/run-20230329_001550-lr-scheduler-adam-bce/files/model-best/assets\n"
          ]
        },
        {
          "name": "stderr",
          "output_type": "stream",
          "text": [
            "\u001b[34m\u001b[1mwandb\u001b[0m: Adding directory to artifact (/Users/martinkatkovcin/Documents/School/NSIETE/Zadanie1/wandb/run-20230329_001550-lr-scheduler-adam-bce/files/model-best)... Done. 0.0s\n"
          ]
        },
        {
          "name": "stdout",
          "output_type": "stream",
          "text": [
            "20/20 - 1s - loss: 0.3828 - accuracy: 0.8290 - val_loss: 0.4386 - val_accuracy: 0.8117 - 605ms/epoch - 30ms/step\n",
            "Epoch 150/500\n",
            "20/20 - 0s - loss: 0.3819 - accuracy: 0.8290 - val_loss: 0.4392 - val_accuracy: 0.8182 - 169ms/epoch - 8ms/step\n",
            "Epoch 151/500\n",
            "20/20 - 0s - loss: 0.3813 - accuracy: 0.8274 - val_loss: 0.4391 - val_accuracy: 0.8182 - 162ms/epoch - 8ms/step\n",
            "Epoch 152/500\n",
            "20/20 - 0s - loss: 0.3809 - accuracy: 0.8274 - val_loss: 0.4389 - val_accuracy: 0.8182 - 168ms/epoch - 8ms/step\n",
            "Epoch 153/500\n",
            "20/20 - 0s - loss: 0.3812 - accuracy: 0.8290 - val_loss: 0.4393 - val_accuracy: 0.8182 - 210ms/epoch - 10ms/step\n",
            "Epoch 154/500\n",
            "INFO:tensorflow:Assets written to: /Users/martinkatkovcin/Documents/School/NSIETE/Zadanie1/wandb/run-20230329_001550-lr-scheduler-adam-bce/files/model-best/assets\n"
          ]
        },
        {
          "name": "stderr",
          "output_type": "stream",
          "text": [
            "\u001b[34m\u001b[1mwandb\u001b[0m: Adding directory to artifact (/Users/martinkatkovcin/Documents/School/NSIETE/Zadanie1/wandb/run-20230329_001550-lr-scheduler-adam-bce/files/model-best)... Done. 0.0s\n"
          ]
        },
        {
          "name": "stdout",
          "output_type": "stream",
          "text": [
            "20/20 - 1s - loss: 0.3804 - accuracy: 0.8257 - val_loss: 0.4358 - val_accuracy: 0.8117 - 614ms/epoch - 31ms/step\n",
            "Epoch 155/500\n",
            "20/20 - 0s - loss: 0.3792 - accuracy: 0.8290 - val_loss: 0.4373 - val_accuracy: 0.8182 - 168ms/epoch - 8ms/step\n",
            "Epoch 156/500\n",
            "20/20 - 0s - loss: 0.3791 - accuracy: 0.8306 - val_loss: 0.4378 - val_accuracy: 0.8117 - 171ms/epoch - 9ms/step\n",
            "Epoch 157/500\n",
            "20/20 - 0s - loss: 0.3786 - accuracy: 0.8290 - val_loss: 0.4362 - val_accuracy: 0.8182 - 173ms/epoch - 9ms/step\n",
            "Epoch 158/500\n",
            "20/20 - 0s - loss: 0.3778 - accuracy: 0.8257 - val_loss: 0.4379 - val_accuracy: 0.8182 - 195ms/epoch - 10ms/step\n",
            "Epoch 159/500\n",
            "20/20 - 0s - loss: 0.3772 - accuracy: 0.8306 - val_loss: 0.4378 - val_accuracy: 0.8182 - 258ms/epoch - 13ms/step\n",
            "Epoch 160/500\n",
            "20/20 - 0s - loss: 0.3760 - accuracy: 0.8322 - val_loss: 0.4359 - val_accuracy: 0.8182 - 197ms/epoch - 10ms/step\n",
            "Epoch 161/500\n",
            "INFO:tensorflow:Assets written to: /Users/martinkatkovcin/Documents/School/NSIETE/Zadanie1/wandb/run-20230329_001550-lr-scheduler-adam-bce/files/model-best/assets\n"
          ]
        },
        {
          "name": "stderr",
          "output_type": "stream",
          "text": [
            "\u001b[34m\u001b[1mwandb\u001b[0m: Adding directory to artifact (/Users/martinkatkovcin/Documents/School/NSIETE/Zadanie1/wandb/run-20230329_001550-lr-scheduler-adam-bce/files/model-best)... Done. 0.0s\n"
          ]
        },
        {
          "name": "stdout",
          "output_type": "stream",
          "text": [
            "20/20 - 1s - loss: 0.3767 - accuracy: 0.8241 - val_loss: 0.4340 - val_accuracy: 0.8182 - 629ms/epoch - 31ms/step\n",
            "Epoch 162/500\n",
            "20/20 - 0s - loss: 0.3751 - accuracy: 0.8306 - val_loss: 0.4345 - val_accuracy: 0.8182 - 187ms/epoch - 9ms/step\n",
            "Epoch 163/500\n",
            "20/20 - 0s - loss: 0.3748 - accuracy: 0.8322 - val_loss: 0.4357 - val_accuracy: 0.8182 - 171ms/epoch - 9ms/step\n",
            "Epoch 164/500\n",
            "INFO:tensorflow:Assets written to: /Users/martinkatkovcin/Documents/School/NSIETE/Zadanie1/wandb/run-20230329_001550-lr-scheduler-adam-bce/files/model-best/assets\n"
          ]
        },
        {
          "name": "stderr",
          "output_type": "stream",
          "text": [
            "\u001b[34m\u001b[1mwandb\u001b[0m: Adding directory to artifact (/Users/martinkatkovcin/Documents/School/NSIETE/Zadanie1/wandb/run-20230329_001550-lr-scheduler-adam-bce/files/model-best)... Done. 0.0s\n"
          ]
        },
        {
          "name": "stdout",
          "output_type": "stream",
          "text": [
            "20/20 - 1s - loss: 0.3743 - accuracy: 0.8339 - val_loss: 0.4331 - val_accuracy: 0.8182 - 626ms/epoch - 31ms/step\n",
            "Epoch 165/500\n",
            "INFO:tensorflow:Assets written to: /Users/martinkatkovcin/Documents/School/NSIETE/Zadanie1/wandb/run-20230329_001550-lr-scheduler-adam-bce/files/model-best/assets\n"
          ]
        },
        {
          "name": "stderr",
          "output_type": "stream",
          "text": [
            "\u001b[34m\u001b[1mwandb\u001b[0m: Adding directory to artifact (/Users/martinkatkovcin/Documents/School/NSIETE/Zadanie1/wandb/run-20230329_001550-lr-scheduler-adam-bce/files/model-best)... Done. 0.0s\n"
          ]
        },
        {
          "name": "stdout",
          "output_type": "stream",
          "text": [
            "20/20 - 1s - loss: 0.3741 - accuracy: 0.8306 - val_loss: 0.4323 - val_accuracy: 0.8182 - 620ms/epoch - 31ms/step\n",
            "Epoch 166/500\n",
            "20/20 - 0s - loss: 0.3733 - accuracy: 0.8322 - val_loss: 0.4326 - val_accuracy: 0.8182 - 204ms/epoch - 10ms/step\n",
            "Epoch 167/500\n",
            "INFO:tensorflow:Assets written to: /Users/martinkatkovcin/Documents/School/NSIETE/Zadanie1/wandb/run-20230329_001550-lr-scheduler-adam-bce/files/model-best/assets\n"
          ]
        },
        {
          "name": "stderr",
          "output_type": "stream",
          "text": [
            "\u001b[34m\u001b[1mwandb\u001b[0m: Adding directory to artifact (/Users/martinkatkovcin/Documents/School/NSIETE/Zadanie1/wandb/run-20230329_001550-lr-scheduler-adam-bce/files/model-best)... Done. 0.0s\n"
          ]
        },
        {
          "name": "stdout",
          "output_type": "stream",
          "text": [
            "20/20 - 1s - loss: 0.3725 - accuracy: 0.8339 - val_loss: 0.4311 - val_accuracy: 0.8182 - 573ms/epoch - 29ms/step\n",
            "Epoch 168/500\n",
            "20/20 - 0s - loss: 0.3723 - accuracy: 0.8322 - val_loss: 0.4319 - val_accuracy: 0.8182 - 218ms/epoch - 11ms/step\n",
            "Epoch 169/500\n",
            "20/20 - 0s - loss: 0.3714 - accuracy: 0.8322 - val_loss: 0.4320 - val_accuracy: 0.8182 - 158ms/epoch - 8ms/step\n",
            "Epoch 170/500\n",
            "INFO:tensorflow:Assets written to: /Users/martinkatkovcin/Documents/School/NSIETE/Zadanie1/wandb/run-20230329_001550-lr-scheduler-adam-bce/files/model-best/assets\n"
          ]
        },
        {
          "name": "stderr",
          "output_type": "stream",
          "text": [
            "\u001b[34m\u001b[1mwandb\u001b[0m: Adding directory to artifact (/Users/martinkatkovcin/Documents/School/NSIETE/Zadanie1/wandb/run-20230329_001550-lr-scheduler-adam-bce/files/model-best)... Done. 0.0s\n"
          ]
        },
        {
          "name": "stdout",
          "output_type": "stream",
          "text": [
            "20/20 - 1s - loss: 0.3714 - accuracy: 0.8322 - val_loss: 0.4274 - val_accuracy: 0.8247 - 615ms/epoch - 31ms/step\n",
            "Epoch 171/500\n",
            "20/20 - 0s - loss: 0.3703 - accuracy: 0.8322 - val_loss: 0.4287 - val_accuracy: 0.8247 - 167ms/epoch - 8ms/step\n",
            "Epoch 172/500\n",
            "20/20 - 0s - loss: 0.3705 - accuracy: 0.8306 - val_loss: 0.4281 - val_accuracy: 0.8182 - 160ms/epoch - 8ms/step\n",
            "Epoch 173/500\n",
            "20/20 - 0s - loss: 0.3691 - accuracy: 0.8306 - val_loss: 0.4282 - val_accuracy: 0.8182 - 174ms/epoch - 9ms/step\n",
            "Epoch 174/500\n",
            "20/20 - 0s - loss: 0.3689 - accuracy: 0.8339 - val_loss: 0.4283 - val_accuracy: 0.8182 - 179ms/epoch - 9ms/step\n",
            "Epoch 175/500\n",
            "20/20 - 0s - loss: 0.3681 - accuracy: 0.8322 - val_loss: 0.4282 - val_accuracy: 0.8182 - 214ms/epoch - 11ms/step\n",
            "Epoch 176/500\n",
            "20/20 - 0s - loss: 0.3696 - accuracy: 0.8274 - val_loss: 0.4282 - val_accuracy: 0.8182 - 167ms/epoch - 8ms/step\n",
            "Epoch 177/500\n",
            "20/20 - 0s - loss: 0.3672 - accuracy: 0.8322 - val_loss: 0.4296 - val_accuracy: 0.8247 - 163ms/epoch - 8ms/step\n",
            "Epoch 178/500\n",
            "INFO:tensorflow:Assets written to: /Users/martinkatkovcin/Documents/School/NSIETE/Zadanie1/wandb/run-20230329_001550-lr-scheduler-adam-bce/files/model-best/assets\n"
          ]
        },
        {
          "name": "stderr",
          "output_type": "stream",
          "text": [
            "\u001b[34m\u001b[1mwandb\u001b[0m: Adding directory to artifact (/Users/martinkatkovcin/Documents/School/NSIETE/Zadanie1/wandb/run-20230329_001550-lr-scheduler-adam-bce/files/model-best)... Done. 0.0s\n"
          ]
        },
        {
          "name": "stdout",
          "output_type": "stream",
          "text": [
            "20/20 - 1s - loss: 0.3663 - accuracy: 0.8306 - val_loss: 0.4267 - val_accuracy: 0.8182 - 588ms/epoch - 29ms/step\n",
            "Epoch 179/500\n",
            "INFO:tensorflow:Assets written to: /Users/martinkatkovcin/Documents/School/NSIETE/Zadanie1/wandb/run-20230329_001550-lr-scheduler-adam-bce/files/model-best/assets\n"
          ]
        },
        {
          "name": "stderr",
          "output_type": "stream",
          "text": [
            "\u001b[34m\u001b[1mwandb\u001b[0m: Adding directory to artifact (/Users/martinkatkovcin/Documents/School/NSIETE/Zadanie1/wandb/run-20230329_001550-lr-scheduler-adam-bce/files/model-best)... Done. 0.0s\n"
          ]
        },
        {
          "name": "stdout",
          "output_type": "stream",
          "text": [
            "20/20 - 1s - loss: 0.3661 - accuracy: 0.8355 - val_loss: 0.4264 - val_accuracy: 0.8312 - 584ms/epoch - 29ms/step\n",
            "Epoch 180/500\n",
            "INFO:tensorflow:Assets written to: /Users/martinkatkovcin/Documents/School/NSIETE/Zadanie1/wandb/run-20230329_001550-lr-scheduler-adam-bce/files/model-best/assets\n"
          ]
        },
        {
          "name": "stderr",
          "output_type": "stream",
          "text": [
            "\u001b[34m\u001b[1mwandb\u001b[0m: Adding directory to artifact (/Users/martinkatkovcin/Documents/School/NSIETE/Zadanie1/wandb/run-20230329_001550-lr-scheduler-adam-bce/files/model-best)... Done. 0.0s\n"
          ]
        },
        {
          "name": "stdout",
          "output_type": "stream",
          "text": [
            "20/20 - 1s - loss: 0.3653 - accuracy: 0.8322 - val_loss: 0.4252 - val_accuracy: 0.8377 - 761ms/epoch - 38ms/step\n",
            "Epoch 181/500\n",
            "20/20 - 0s - loss: 0.3647 - accuracy: 0.8257 - val_loss: 0.4277 - val_accuracy: 0.8247 - 161ms/epoch - 8ms/step\n",
            "Epoch 182/500\n",
            "INFO:tensorflow:Assets written to: /Users/martinkatkovcin/Documents/School/NSIETE/Zadanie1/wandb/run-20230329_001550-lr-scheduler-adam-bce/files/model-best/assets\n"
          ]
        },
        {
          "name": "stderr",
          "output_type": "stream",
          "text": [
            "\u001b[34m\u001b[1mwandb\u001b[0m: Adding directory to artifact (/Users/martinkatkovcin/Documents/School/NSIETE/Zadanie1/wandb/run-20230329_001550-lr-scheduler-adam-bce/files/model-best)... Done. 0.0s\n"
          ]
        },
        {
          "name": "stdout",
          "output_type": "stream",
          "text": [
            "20/20 - 1s - loss: 0.3646 - accuracy: 0.8306 - val_loss: 0.4245 - val_accuracy: 0.8442 - 584ms/epoch - 29ms/step\n",
            "Epoch 183/500\n",
            "INFO:tensorflow:Assets written to: /Users/martinkatkovcin/Documents/School/NSIETE/Zadanie1/wandb/run-20230329_001550-lr-scheduler-adam-bce/files/model-best/assets\n"
          ]
        },
        {
          "name": "stderr",
          "output_type": "stream",
          "text": [
            "\u001b[34m\u001b[1mwandb\u001b[0m: Adding directory to artifact (/Users/martinkatkovcin/Documents/School/NSIETE/Zadanie1/wandb/run-20230329_001550-lr-scheduler-adam-bce/files/model-best)... Done. 0.0s\n"
          ]
        },
        {
          "name": "stdout",
          "output_type": "stream",
          "text": [
            "20/20 - 1s - loss: 0.3636 - accuracy: 0.8306 - val_loss: 0.4238 - val_accuracy: 0.8377 - 616ms/epoch - 31ms/step\n",
            "Epoch 184/500\n",
            "INFO:tensorflow:Assets written to: /Users/martinkatkovcin/Documents/School/NSIETE/Zadanie1/wandb/run-20230329_001550-lr-scheduler-adam-bce/files/model-best/assets\n"
          ]
        },
        {
          "name": "stderr",
          "output_type": "stream",
          "text": [
            "\u001b[34m\u001b[1mwandb\u001b[0m: Adding directory to artifact (/Users/martinkatkovcin/Documents/School/NSIETE/Zadanie1/wandb/run-20230329_001550-lr-scheduler-adam-bce/files/model-best)... Done. 0.0s\n"
          ]
        },
        {
          "name": "stdout",
          "output_type": "stream",
          "text": [
            "20/20 - 1s - loss: 0.3630 - accuracy: 0.8306 - val_loss: 0.4222 - val_accuracy: 0.8442 - 596ms/epoch - 30ms/step\n",
            "Epoch 185/500\n",
            "20/20 - 0s - loss: 0.3636 - accuracy: 0.8306 - val_loss: 0.4226 - val_accuracy: 0.8442 - 179ms/epoch - 9ms/step\n",
            "Epoch 186/500\n",
            "20/20 - 0s - loss: 0.3625 - accuracy: 0.8322 - val_loss: 0.4239 - val_accuracy: 0.8442 - 195ms/epoch - 10ms/step\n",
            "Epoch 187/500\n",
            "INFO:tensorflow:Assets written to: /Users/martinkatkovcin/Documents/School/NSIETE/Zadanie1/wandb/run-20230329_001550-lr-scheduler-adam-bce/files/model-best/assets\n"
          ]
        },
        {
          "name": "stderr",
          "output_type": "stream",
          "text": [
            "\u001b[34m\u001b[1mwandb\u001b[0m: Adding directory to artifact (/Users/martinkatkovcin/Documents/School/NSIETE/Zadanie1/wandb/run-20230329_001550-lr-scheduler-adam-bce/files/model-best)... Done. 0.0s\n"
          ]
        },
        {
          "name": "stdout",
          "output_type": "stream",
          "text": [
            "20/20 - 1s - loss: 0.3615 - accuracy: 0.8371 - val_loss: 0.4220 - val_accuracy: 0.8377 - 633ms/epoch - 32ms/step\n",
            "Epoch 188/500\n",
            "INFO:tensorflow:Assets written to: /Users/martinkatkovcin/Documents/School/NSIETE/Zadanie1/wandb/run-20230329_001550-lr-scheduler-adam-bce/files/model-best/assets\n"
          ]
        },
        {
          "name": "stderr",
          "output_type": "stream",
          "text": [
            "\u001b[34m\u001b[1mwandb\u001b[0m: Adding directory to artifact (/Users/martinkatkovcin/Documents/School/NSIETE/Zadanie1/wandb/run-20230329_001550-lr-scheduler-adam-bce/files/model-best)... Done. 0.0s\n"
          ]
        },
        {
          "name": "stdout",
          "output_type": "stream",
          "text": [
            "20/20 - 1s - loss: 0.3616 - accuracy: 0.8371 - val_loss: 0.4208 - val_accuracy: 0.8442 - 596ms/epoch - 30ms/step\n",
            "Epoch 189/500\n",
            "INFO:tensorflow:Assets written to: /Users/martinkatkovcin/Documents/School/NSIETE/Zadanie1/wandb/run-20230329_001550-lr-scheduler-adam-bce/files/model-best/assets\n"
          ]
        },
        {
          "name": "stderr",
          "output_type": "stream",
          "text": [
            "\u001b[34m\u001b[1mwandb\u001b[0m: Adding directory to artifact (/Users/martinkatkovcin/Documents/School/NSIETE/Zadanie1/wandb/run-20230329_001550-lr-scheduler-adam-bce/files/model-best)... Done. 0.0s\n"
          ]
        },
        {
          "name": "stdout",
          "output_type": "stream",
          "text": [
            "20/20 - 1s - loss: 0.3609 - accuracy: 0.8322 - val_loss: 0.4204 - val_accuracy: 0.8442 - 687ms/epoch - 34ms/step\n",
            "Epoch 190/500\n",
            "20/20 - 0s - loss: 0.3600 - accuracy: 0.8355 - val_loss: 0.4205 - val_accuracy: 0.8442 - 218ms/epoch - 11ms/step\n",
            "Epoch 191/500\n",
            "20/20 - 0s - loss: 0.3602 - accuracy: 0.8355 - val_loss: 0.4205 - val_accuracy: 0.8442 - 177ms/epoch - 9ms/step\n",
            "Epoch 192/500\n",
            "20/20 - 0s - loss: 0.3590 - accuracy: 0.8404 - val_loss: 0.4231 - val_accuracy: 0.8442 - 195ms/epoch - 10ms/step\n",
            "Epoch 193/500\n",
            "20/20 - 0s - loss: 0.3613 - accuracy: 0.8355 - val_loss: 0.4234 - val_accuracy: 0.8442 - 191ms/epoch - 10ms/step\n",
            "Epoch 194/500\n",
            "INFO:tensorflow:Assets written to: /Users/martinkatkovcin/Documents/School/NSIETE/Zadanie1/wandb/run-20230329_001550-lr-scheduler-adam-bce/files/model-best/assets\n"
          ]
        },
        {
          "name": "stderr",
          "output_type": "stream",
          "text": [
            "\u001b[34m\u001b[1mwandb\u001b[0m: Adding directory to artifact (/Users/martinkatkovcin/Documents/School/NSIETE/Zadanie1/wandb/run-20230329_001550-lr-scheduler-adam-bce/files/model-best)... Done. 0.0s\n"
          ]
        },
        {
          "name": "stdout",
          "output_type": "stream",
          "text": [
            "20/20 - 1s - loss: 0.3587 - accuracy: 0.8355 - val_loss: 0.4193 - val_accuracy: 0.8377 - 624ms/epoch - 31ms/step\n",
            "Epoch 195/500\n",
            "INFO:tensorflow:Assets written to: /Users/martinkatkovcin/Documents/School/NSIETE/Zadanie1/wandb/run-20230329_001550-lr-scheduler-adam-bce/files/model-best/assets\n"
          ]
        },
        {
          "name": "stderr",
          "output_type": "stream",
          "text": [
            "\u001b[34m\u001b[1mwandb\u001b[0m: Adding directory to artifact (/Users/martinkatkovcin/Documents/School/NSIETE/Zadanie1/wandb/run-20230329_001550-lr-scheduler-adam-bce/files/model-best)... Done. 0.0s\n"
          ]
        },
        {
          "name": "stdout",
          "output_type": "stream",
          "text": [
            "20/20 - 1s - loss: 0.3582 - accuracy: 0.8404 - val_loss: 0.4184 - val_accuracy: 0.8442 - 634ms/epoch - 32ms/step\n",
            "Epoch 196/500\n",
            "20/20 - 0s - loss: 0.3587 - accuracy: 0.8404 - val_loss: 0.4215 - val_accuracy: 0.8377 - 166ms/epoch - 8ms/step\n",
            "Epoch 197/500\n",
            "INFO:tensorflow:Assets written to: /Users/martinkatkovcin/Documents/School/NSIETE/Zadanie1/wandb/run-20230329_001550-lr-scheduler-adam-bce/files/model-best/assets\n"
          ]
        },
        {
          "name": "stderr",
          "output_type": "stream",
          "text": [
            "\u001b[34m\u001b[1mwandb\u001b[0m: Adding directory to artifact (/Users/martinkatkovcin/Documents/School/NSIETE/Zadanie1/wandb/run-20230329_001550-lr-scheduler-adam-bce/files/model-best)... Done. 0.0s\n"
          ]
        },
        {
          "name": "stdout",
          "output_type": "stream",
          "text": [
            "20/20 - 1s - loss: 0.3566 - accuracy: 0.8420 - val_loss: 0.4165 - val_accuracy: 0.8442 - 573ms/epoch - 29ms/step\n",
            "Epoch 198/500\n",
            "20/20 - 0s - loss: 0.3608 - accuracy: 0.8388 - val_loss: 0.4178 - val_accuracy: 0.8442 - 176ms/epoch - 9ms/step\n",
            "Epoch 199/500\n",
            "20/20 - 0s - loss: 0.3565 - accuracy: 0.8436 - val_loss: 0.4269 - val_accuracy: 0.8377 - 173ms/epoch - 9ms/step\n",
            "Epoch 200/500\n",
            "20/20 - 0s - loss: 0.3565 - accuracy: 0.8404 - val_loss: 0.4201 - val_accuracy: 0.8506 - 218ms/epoch - 11ms/step\n",
            "Epoch 201/500\n",
            "20/20 - 0s - loss: 0.3556 - accuracy: 0.8404 - val_loss: 0.4188 - val_accuracy: 0.8506 - 170ms/epoch - 8ms/step\n",
            "Epoch 202/500\n",
            "20/20 - 0s - loss: 0.3550 - accuracy: 0.8388 - val_loss: 0.4203 - val_accuracy: 0.8442 - 167ms/epoch - 8ms/step\n",
            "Epoch 203/500\n",
            "20/20 - 0s - loss: 0.3548 - accuracy: 0.8420 - val_loss: 0.4176 - val_accuracy: 0.8506 - 165ms/epoch - 8ms/step\n",
            "Epoch 204/500\n",
            "INFO:tensorflow:Assets written to: /Users/martinkatkovcin/Documents/School/NSIETE/Zadanie1/wandb/run-20230329_001550-lr-scheduler-adam-bce/files/model-best/assets\n"
          ]
        },
        {
          "name": "stderr",
          "output_type": "stream",
          "text": [
            "\u001b[34m\u001b[1mwandb\u001b[0m: Adding directory to artifact (/Users/martinkatkovcin/Documents/School/NSIETE/Zadanie1/wandb/run-20230329_001550-lr-scheduler-adam-bce/files/model-best)... Done. 0.0s\n"
          ]
        },
        {
          "name": "stdout",
          "output_type": "stream",
          "text": [
            "20/20 - 1s - loss: 0.3541 - accuracy: 0.8388 - val_loss: 0.4156 - val_accuracy: 0.8442 - 607ms/epoch - 30ms/step\n",
            "Epoch 205/500\n",
            "20/20 - 0s - loss: 0.3553 - accuracy: 0.8436 - val_loss: 0.4197 - val_accuracy: 0.8442 - 164ms/epoch - 8ms/step\n",
            "Epoch 206/500\n",
            "20/20 - 0s - loss: 0.3542 - accuracy: 0.8404 - val_loss: 0.4160 - val_accuracy: 0.8506 - 213ms/epoch - 11ms/step\n",
            "Epoch 207/500\n",
            "20/20 - 0s - loss: 0.3524 - accuracy: 0.8436 - val_loss: 0.4167 - val_accuracy: 0.8506 - 170ms/epoch - 8ms/step\n",
            "Epoch 208/500\n",
            "20/20 - 0s - loss: 0.3526 - accuracy: 0.8436 - val_loss: 0.4190 - val_accuracy: 0.8442 - 164ms/epoch - 8ms/step\n",
            "Epoch 209/500\n",
            "20/20 - 0s - loss: 0.3519 - accuracy: 0.8436 - val_loss: 0.4165 - val_accuracy: 0.8506 - 164ms/epoch - 8ms/step\n",
            "Epoch 210/500\n",
            "20/20 - 0s - loss: 0.3520 - accuracy: 0.8420 - val_loss: 0.4171 - val_accuracy: 0.8442 - 182ms/epoch - 9ms/step\n",
            "Epoch 211/500\n",
            "20/20 - 0s - loss: 0.3516 - accuracy: 0.8388 - val_loss: 0.4186 - val_accuracy: 0.8442 - 178ms/epoch - 9ms/step\n",
            "Epoch 212/500\n",
            "20/20 - 0s - loss: 0.3510 - accuracy: 0.8420 - val_loss: 0.4161 - val_accuracy: 0.8506 - 171ms/epoch - 9ms/step\n",
            "Epoch 213/500\n",
            "20/20 - 0s - loss: 0.3505 - accuracy: 0.8453 - val_loss: 0.4168 - val_accuracy: 0.8506 - 154ms/epoch - 8ms/step\n",
            "Epoch 214/500\n",
            "20/20 - 0s - loss: 0.3496 - accuracy: 0.8436 - val_loss: 0.4158 - val_accuracy: 0.8506 - 221ms/epoch - 11ms/step\n",
            "Epoch 215/500\n",
            "20/20 - 0s - loss: 0.3499 - accuracy: 0.8436 - val_loss: 0.4166 - val_accuracy: 0.8442 - 174ms/epoch - 9ms/step\n",
            "Epoch 216/500\n",
            "20/20 - 0s - loss: 0.3493 - accuracy: 0.8420 - val_loss: 0.4159 - val_accuracy: 0.8506 - 170ms/epoch - 8ms/step\n",
            "Epoch 217/500\n",
            "INFO:tensorflow:Assets written to: /Users/martinkatkovcin/Documents/School/NSIETE/Zadanie1/wandb/run-20230329_001550-lr-scheduler-adam-bce/files/model-best/assets\n"
          ]
        },
        {
          "name": "stderr",
          "output_type": "stream",
          "text": [
            "\u001b[34m\u001b[1mwandb\u001b[0m: Adding directory to artifact (/Users/martinkatkovcin/Documents/School/NSIETE/Zadanie1/wandb/run-20230329_001550-lr-scheduler-adam-bce/files/model-best)... Done. 0.0s\n"
          ]
        },
        {
          "name": "stdout",
          "output_type": "stream",
          "text": [
            "20/20 - 1s - loss: 0.3492 - accuracy: 0.8436 - val_loss: 0.4142 - val_accuracy: 0.8571 - 731ms/epoch - 37ms/step\n",
            "Epoch 218/500\n",
            "INFO:tensorflow:Assets written to: /Users/martinkatkovcin/Documents/School/NSIETE/Zadanie1/wandb/run-20230329_001550-lr-scheduler-adam-bce/files/model-best/assets\n"
          ]
        },
        {
          "name": "stderr",
          "output_type": "stream",
          "text": [
            "\u001b[34m\u001b[1mwandb\u001b[0m: Adding directory to artifact (/Users/martinkatkovcin/Documents/School/NSIETE/Zadanie1/wandb/run-20230329_001550-lr-scheduler-adam-bce/files/model-best)... Done. 0.0s\n"
          ]
        },
        {
          "name": "stdout",
          "output_type": "stream",
          "text": [
            "20/20 - 1s - loss: 0.3500 - accuracy: 0.8420 - val_loss: 0.4141 - val_accuracy: 0.8442 - 627ms/epoch - 31ms/step\n",
            "Epoch 219/500\n",
            "INFO:tensorflow:Assets written to: /Users/martinkatkovcin/Documents/School/NSIETE/Zadanie1/wandb/run-20230329_001550-lr-scheduler-adam-bce/files/model-best/assets\n"
          ]
        },
        {
          "name": "stderr",
          "output_type": "stream",
          "text": [
            "\u001b[34m\u001b[1mwandb\u001b[0m: Adding directory to artifact (/Users/martinkatkovcin/Documents/School/NSIETE/Zadanie1/wandb/run-20230329_001550-lr-scheduler-adam-bce/files/model-best)... Done. 0.0s\n"
          ]
        },
        {
          "name": "stdout",
          "output_type": "stream",
          "text": [
            "20/20 - 1s - loss: 0.3485 - accuracy: 0.8436 - val_loss: 0.4130 - val_accuracy: 0.8571 - 706ms/epoch - 35ms/step\n",
            "Epoch 220/500\n",
            "20/20 - 0s - loss: 0.3479 - accuracy: 0.8453 - val_loss: 0.4163 - val_accuracy: 0.8442 - 364ms/epoch - 18ms/step\n",
            "Epoch 221/500\n",
            "20/20 - 0s - loss: 0.3472 - accuracy: 0.8469 - val_loss: 0.4157 - val_accuracy: 0.8442 - 209ms/epoch - 10ms/step\n",
            "Epoch 222/500\n",
            "20/20 - 0s - loss: 0.3477 - accuracy: 0.8485 - val_loss: 0.4146 - val_accuracy: 0.8506 - 194ms/epoch - 10ms/step\n",
            "Epoch 223/500\n",
            "20/20 - 0s - loss: 0.3463 - accuracy: 0.8469 - val_loss: 0.4132 - val_accuracy: 0.8506 - 181ms/epoch - 9ms/step\n",
            "Epoch 224/500\n",
            "20/20 - 0s - loss: 0.3464 - accuracy: 0.8453 - val_loss: 0.4132 - val_accuracy: 0.8506 - 197ms/epoch - 10ms/step\n",
            "Epoch 225/500\n",
            "INFO:tensorflow:Assets written to: /Users/martinkatkovcin/Documents/School/NSIETE/Zadanie1/wandb/run-20230329_001550-lr-scheduler-adam-bce/files/model-best/assets\n"
          ]
        },
        {
          "name": "stderr",
          "output_type": "stream",
          "text": [
            "\u001b[34m\u001b[1mwandb\u001b[0m: Adding directory to artifact (/Users/martinkatkovcin/Documents/School/NSIETE/Zadanie1/wandb/run-20230329_001550-lr-scheduler-adam-bce/files/model-best)... Done. 0.0s\n"
          ]
        },
        {
          "name": "stdout",
          "output_type": "stream",
          "text": [
            "20/20 - 1s - loss: 0.3456 - accuracy: 0.8453 - val_loss: 0.4119 - val_accuracy: 0.8506 - 730ms/epoch - 36ms/step\n",
            "Epoch 226/500\n",
            "20/20 - 0s - loss: 0.3452 - accuracy: 0.8485 - val_loss: 0.4129 - val_accuracy: 0.8442 - 228ms/epoch - 11ms/step\n",
            "Epoch 227/500\n",
            "20/20 - 0s - loss: 0.3452 - accuracy: 0.8469 - val_loss: 0.4129 - val_accuracy: 0.8506 - 183ms/epoch - 9ms/step\n",
            "Epoch 228/500\n",
            "20/20 - 0s - loss: 0.3448 - accuracy: 0.8518 - val_loss: 0.4123 - val_accuracy: 0.8442 - 195ms/epoch - 10ms/step\n",
            "Epoch 229/500\n",
            "20/20 - 0s - loss: 0.3444 - accuracy: 0.8469 - val_loss: 0.4131 - val_accuracy: 0.8442 - 195ms/epoch - 10ms/step\n",
            "Epoch 230/500\n",
            "20/20 - 0s - loss: 0.3447 - accuracy: 0.8518 - val_loss: 0.4180 - val_accuracy: 0.8442 - 171ms/epoch - 9ms/step\n",
            "Epoch 231/500\n",
            "20/20 - 0s - loss: 0.3436 - accuracy: 0.8550 - val_loss: 0.4124 - val_accuracy: 0.8571 - 227ms/epoch - 11ms/step\n",
            "Epoch 232/500\n",
            "INFO:tensorflow:Assets written to: /Users/martinkatkovcin/Documents/School/NSIETE/Zadanie1/wandb/run-20230329_001550-lr-scheduler-adam-bce/files/model-best/assets\n"
          ]
        },
        {
          "name": "stderr",
          "output_type": "stream",
          "text": [
            "\u001b[34m\u001b[1mwandb\u001b[0m: Adding directory to artifact (/Users/martinkatkovcin/Documents/School/NSIETE/Zadanie1/wandb/run-20230329_001550-lr-scheduler-adam-bce/files/model-best)... Done. 0.0s\n"
          ]
        },
        {
          "name": "stdout",
          "output_type": "stream",
          "text": [
            "20/20 - 1s - loss: 0.3440 - accuracy: 0.8469 - val_loss: 0.4101 - val_accuracy: 0.8506 - 712ms/epoch - 36ms/step\n",
            "Epoch 233/500\n",
            "INFO:tensorflow:Assets written to: /Users/martinkatkovcin/Documents/School/NSIETE/Zadanie1/wandb/run-20230329_001550-lr-scheduler-adam-bce/files/model-best/assets\n"
          ]
        },
        {
          "name": "stderr",
          "output_type": "stream",
          "text": [
            "\u001b[34m\u001b[1mwandb\u001b[0m: Adding directory to artifact (/Users/martinkatkovcin/Documents/School/NSIETE/Zadanie1/wandb/run-20230329_001550-lr-scheduler-adam-bce/files/model-best)... Done. 0.0s\n"
          ]
        },
        {
          "name": "stdout",
          "output_type": "stream",
          "text": [
            "20/20 - 1s - loss: 0.3430 - accuracy: 0.8469 - val_loss: 0.4100 - val_accuracy: 0.8506 - 649ms/epoch - 32ms/step\n",
            "Epoch 234/500\n",
            "20/20 - 0s - loss: 0.3431 - accuracy: 0.8469 - val_loss: 0.4130 - val_accuracy: 0.8506 - 230ms/epoch - 12ms/step\n",
            "Epoch 235/500\n",
            "20/20 - 0s - loss: 0.3423 - accuracy: 0.8518 - val_loss: 0.4123 - val_accuracy: 0.8506 - 178ms/epoch - 9ms/step\n",
            "Epoch 236/500\n",
            "20/20 - 0s - loss: 0.3421 - accuracy: 0.8502 - val_loss: 0.4119 - val_accuracy: 0.8506 - 194ms/epoch - 10ms/step\n",
            "Epoch 237/500\n",
            "20/20 - 0s - loss: 0.3422 - accuracy: 0.8534 - val_loss: 0.4124 - val_accuracy: 0.8506 - 178ms/epoch - 9ms/step\n",
            "Epoch 238/500\n",
            "20/20 - 0s - loss: 0.3419 - accuracy: 0.8534 - val_loss: 0.4127 - val_accuracy: 0.8506 - 176ms/epoch - 9ms/step\n",
            "Epoch 239/500\n",
            "INFO:tensorflow:Assets written to: /Users/martinkatkovcin/Documents/School/NSIETE/Zadanie1/wandb/run-20230329_001550-lr-scheduler-adam-bce/files/model-best/assets\n"
          ]
        },
        {
          "name": "stderr",
          "output_type": "stream",
          "text": [
            "\u001b[34m\u001b[1mwandb\u001b[0m: Adding directory to artifact (/Users/martinkatkovcin/Documents/School/NSIETE/Zadanie1/wandb/run-20230329_001550-lr-scheduler-adam-bce/files/model-best)... Done. 0.0s\n"
          ]
        },
        {
          "name": "stdout",
          "output_type": "stream",
          "text": [
            "20/20 - 1s - loss: 0.3425 - accuracy: 0.8518 - val_loss: 0.4088 - val_accuracy: 0.8506 - 611ms/epoch - 31ms/step\n",
            "Epoch 240/500\n",
            "20/20 - 0s - loss: 0.3414 - accuracy: 0.8550 - val_loss: 0.4129 - val_accuracy: 0.8506 - 169ms/epoch - 8ms/step\n",
            "Epoch 241/500\n",
            "20/20 - 0s - loss: 0.3406 - accuracy: 0.8534 - val_loss: 0.4105 - val_accuracy: 0.8506 - 175ms/epoch - 9ms/step\n",
            "Epoch 242/500\n",
            "20/20 - 0s - loss: 0.3404 - accuracy: 0.8502 - val_loss: 0.4100 - val_accuracy: 0.8506 - 175ms/epoch - 9ms/step\n",
            "Epoch 243/500\n",
            "20/20 - 0s - loss: 0.3410 - accuracy: 0.8550 - val_loss: 0.4126 - val_accuracy: 0.8506 - 176ms/epoch - 9ms/step\n",
            "Epoch 244/500\n",
            "20/20 - 0s - loss: 0.3392 - accuracy: 0.8550 - val_loss: 0.4099 - val_accuracy: 0.8442 - 234ms/epoch - 12ms/step\n",
            "Epoch 245/500\n",
            "20/20 - 0s - loss: 0.3391 - accuracy: 0.8567 - val_loss: 0.4097 - val_accuracy: 0.8506 - 240ms/epoch - 12ms/step\n",
            "Epoch 246/500\n",
            "20/20 - 0s - loss: 0.3397 - accuracy: 0.8518 - val_loss: 0.4113 - val_accuracy: 0.8442 - 187ms/epoch - 9ms/step\n",
            "Epoch 247/500\n",
            "INFO:tensorflow:Assets written to: /Users/martinkatkovcin/Documents/School/NSIETE/Zadanie1/wandb/run-20230329_001550-lr-scheduler-adam-bce/files/model-best/assets\n"
          ]
        },
        {
          "name": "stderr",
          "output_type": "stream",
          "text": [
            "\u001b[34m\u001b[1mwandb\u001b[0m: Adding directory to artifact (/Users/martinkatkovcin/Documents/School/NSIETE/Zadanie1/wandb/run-20230329_001550-lr-scheduler-adam-bce/files/model-best)... Done. 0.0s\n"
          ]
        },
        {
          "name": "stdout",
          "output_type": "stream",
          "text": [
            "20/20 - 2s - loss: 0.3377 - accuracy: 0.8534 - val_loss: 0.4088 - val_accuracy: 0.8506 - 2s/epoch - 84ms/step\n",
            "Epoch 248/500\n",
            "INFO:tensorflow:Assets written to: /Users/martinkatkovcin/Documents/School/NSIETE/Zadanie1/wandb/run-20230329_001550-lr-scheduler-adam-bce/files/model-best/assets\n"
          ]
        },
        {
          "name": "stderr",
          "output_type": "stream",
          "text": [
            "\u001b[34m\u001b[1mwandb\u001b[0m: Adding directory to artifact (/Users/martinkatkovcin/Documents/School/NSIETE/Zadanie1/wandb/run-20230329_001550-lr-scheduler-adam-bce/files/model-best)... Done. 0.0s\n"
          ]
        },
        {
          "name": "stdout",
          "output_type": "stream",
          "text": [
            "20/20 - 1s - loss: 0.3396 - accuracy: 0.8599 - val_loss: 0.4083 - val_accuracy: 0.8506 - 678ms/epoch - 34ms/step\n",
            "Epoch 249/500\n",
            "20/20 - 0s - loss: 0.3394 - accuracy: 0.8550 - val_loss: 0.4127 - val_accuracy: 0.8442 - 181ms/epoch - 9ms/step\n",
            "Epoch 250/500\n",
            "20/20 - 0s - loss: 0.3404 - accuracy: 0.8567 - val_loss: 0.4103 - val_accuracy: 0.8442 - 176ms/epoch - 9ms/step\n",
            "Epoch 251/500\n",
            "20/20 - 0s - loss: 0.3373 - accuracy: 0.8583 - val_loss: 0.4128 - val_accuracy: 0.8506 - 169ms/epoch - 8ms/step\n",
            "Epoch 252/500\n",
            "20/20 - 0s - loss: 0.3370 - accuracy: 0.8567 - val_loss: 0.4143 - val_accuracy: 0.8442 - 176ms/epoch - 9ms/step\n",
            "Epoch 253/500\n",
            "20/20 - 0s - loss: 0.3370 - accuracy: 0.8632 - val_loss: 0.4130 - val_accuracy: 0.8442 - 187ms/epoch - 9ms/step\n",
            "Epoch 254/500\n",
            "20/20 - 0s - loss: 0.3360 - accuracy: 0.8632 - val_loss: 0.4089 - val_accuracy: 0.8506 - 178ms/epoch - 9ms/step\n",
            "Epoch 255/500\n",
            "20/20 - 0s - loss: 0.3359 - accuracy: 0.8599 - val_loss: 0.4113 - val_accuracy: 0.8506 - 230ms/epoch - 12ms/step\n",
            "Epoch 256/500\n",
            "20/20 - 0s - loss: 0.3352 - accuracy: 0.8616 - val_loss: 0.4100 - val_accuracy: 0.8506 - 198ms/epoch - 10ms/step\n",
            "Epoch 257/500\n",
            "20/20 - 0s - loss: 0.3349 - accuracy: 0.8632 - val_loss: 0.4111 - val_accuracy: 0.8506 - 173ms/epoch - 9ms/step\n",
            "Epoch 258/500\n",
            "INFO:tensorflow:Assets written to: /Users/martinkatkovcin/Documents/School/NSIETE/Zadanie1/wandb/run-20230329_001550-lr-scheduler-adam-bce/files/model-best/assets\n"
          ]
        },
        {
          "name": "stderr",
          "output_type": "stream",
          "text": [
            "\u001b[34m\u001b[1mwandb\u001b[0m: Adding directory to artifact (/Users/martinkatkovcin/Documents/School/NSIETE/Zadanie1/wandb/run-20230329_001550-lr-scheduler-adam-bce/files/model-best)... Done. 0.0s\n"
          ]
        },
        {
          "name": "stdout",
          "output_type": "stream",
          "text": [
            "20/20 - 1s - loss: 0.3357 - accuracy: 0.8616 - val_loss: 0.4070 - val_accuracy: 0.8506 - 657ms/epoch - 33ms/step\n",
            "Epoch 259/500\n",
            "20/20 - 0s - loss: 0.3340 - accuracy: 0.8616 - val_loss: 0.4114 - val_accuracy: 0.8506 - 182ms/epoch - 9ms/step\n",
            "Epoch 260/500\n",
            "20/20 - 0s - loss: 0.3344 - accuracy: 0.8616 - val_loss: 0.4096 - val_accuracy: 0.8506 - 224ms/epoch - 11ms/step\n",
            "Epoch 261/500\n",
            "20/20 - 0s - loss: 0.3348 - accuracy: 0.8616 - val_loss: 0.4121 - val_accuracy: 0.8442 - 183ms/epoch - 9ms/step\n",
            "Epoch 262/500\n",
            "20/20 - 0s - loss: 0.3341 - accuracy: 0.8599 - val_loss: 0.4131 - val_accuracy: 0.8442 - 180ms/epoch - 9ms/step\n",
            "Epoch 263/500\n",
            "20/20 - 0s - loss: 0.3356 - accuracy: 0.8632 - val_loss: 0.4113 - val_accuracy: 0.8506 - 180ms/epoch - 9ms/step\n",
            "Epoch 264/500\n",
            "20/20 - 0s - loss: 0.3341 - accuracy: 0.8648 - val_loss: 0.4109 - val_accuracy: 0.8442 - 181ms/epoch - 9ms/step\n",
            "Epoch 265/500\n",
            "20/20 - 0s - loss: 0.3325 - accuracy: 0.8648 - val_loss: 0.4087 - val_accuracy: 0.8506 - 174ms/epoch - 9ms/step\n",
            "Epoch 266/500\n",
            "20/20 - 0s - loss: 0.3334 - accuracy: 0.8648 - val_loss: 0.4128 - val_accuracy: 0.8506 - 174ms/epoch - 9ms/step\n",
            "Epoch 267/500\n",
            "INFO:tensorflow:Assets written to: /Users/martinkatkovcin/Documents/School/NSIETE/Zadanie1/wandb/run-20230329_001550-lr-scheduler-adam-bce/files/model-best/assets\n"
          ]
        },
        {
          "name": "stderr",
          "output_type": "stream",
          "text": [
            "\u001b[34m\u001b[1mwandb\u001b[0m: Adding directory to artifact (/Users/martinkatkovcin/Documents/School/NSIETE/Zadanie1/wandb/run-20230329_001550-lr-scheduler-adam-bce/files/model-best)... Done. 0.0s\n"
          ]
        },
        {
          "name": "stdout",
          "output_type": "stream",
          "text": [
            "20/20 - 1s - loss: 0.3342 - accuracy: 0.8632 - val_loss: 0.4060 - val_accuracy: 0.8506 - 655ms/epoch - 33ms/step\n",
            "Epoch 268/500\n",
            "20/20 - 0s - loss: 0.3325 - accuracy: 0.8616 - val_loss: 0.4081 - val_accuracy: 0.8442 - 174ms/epoch - 9ms/step\n",
            "Epoch 269/500\n",
            "20/20 - 0s - loss: 0.3315 - accuracy: 0.8648 - val_loss: 0.4073 - val_accuracy: 0.8506 - 180ms/epoch - 9ms/step\n",
            "Epoch 270/500\n",
            "20/20 - 0s - loss: 0.3312 - accuracy: 0.8681 - val_loss: 0.4076 - val_accuracy: 0.8506 - 174ms/epoch - 9ms/step\n",
            "Epoch 271/500\n",
            "20/20 - 0s - loss: 0.3308 - accuracy: 0.8681 - val_loss: 0.4098 - val_accuracy: 0.8442 - 172ms/epoch - 9ms/step\n",
            "Epoch 272/500\n",
            "20/20 - 0s - loss: 0.3301 - accuracy: 0.8632 - val_loss: 0.4134 - val_accuracy: 0.8442 - 220ms/epoch - 11ms/step\n",
            "Epoch 273/500\n",
            "20/20 - 0s - loss: 0.3304 - accuracy: 0.8648 - val_loss: 0.4117 - val_accuracy: 0.8442 - 175ms/epoch - 9ms/step\n",
            "Epoch 274/500\n",
            "20/20 - 0s - loss: 0.3303 - accuracy: 0.8648 - val_loss: 0.4121 - val_accuracy: 0.8506 - 188ms/epoch - 9ms/step\n",
            "Epoch 275/500\n",
            "20/20 - 0s - loss: 0.3300 - accuracy: 0.8664 - val_loss: 0.4073 - val_accuracy: 0.8506 - 187ms/epoch - 9ms/step\n",
            "Epoch 276/500\n",
            "20/20 - 0s - loss: 0.3300 - accuracy: 0.8664 - val_loss: 0.4095 - val_accuracy: 0.8506 - 169ms/epoch - 8ms/step\n",
            "Epoch 277/500\n",
            "20/20 - 0s - loss: 0.3289 - accuracy: 0.8664 - val_loss: 0.4082 - val_accuracy: 0.8506 - 171ms/epoch - 9ms/step\n",
            "Epoch 278/500\n",
            "20/20 - 0s - loss: 0.3292 - accuracy: 0.8632 - val_loss: 0.4109 - val_accuracy: 0.8442 - 167ms/epoch - 8ms/step\n",
            "Epoch 279/500\n",
            "20/20 - 0s - loss: 0.3282 - accuracy: 0.8648 - val_loss: 0.4088 - val_accuracy: 0.8506 - 163ms/epoch - 8ms/step\n",
            "Epoch 280/500\n",
            "20/20 - 0s - loss: 0.3291 - accuracy: 0.8664 - val_loss: 0.4114 - val_accuracy: 0.8442 - 172ms/epoch - 9ms/step\n",
            "Epoch 281/500\n",
            "20/20 - 0s - loss: 0.3278 - accuracy: 0.8632 - val_loss: 0.4068 - val_accuracy: 0.8506 - 226ms/epoch - 11ms/step\n",
            "Epoch 282/500\n",
            "INFO:tensorflow:Assets written to: /Users/martinkatkovcin/Documents/School/NSIETE/Zadanie1/wandb/run-20230329_001550-lr-scheduler-adam-bce/files/model-best/assets\n"
          ]
        },
        {
          "name": "stderr",
          "output_type": "stream",
          "text": [
            "\u001b[34m\u001b[1mwandb\u001b[0m: Adding directory to artifact (/Users/martinkatkovcin/Documents/School/NSIETE/Zadanie1/wandb/run-20230329_001550-lr-scheduler-adam-bce/files/model-best)... Done. 0.0s\n"
          ]
        },
        {
          "name": "stdout",
          "output_type": "stream",
          "text": [
            "20/20 - 1s - loss: 0.3280 - accuracy: 0.8648 - val_loss: 0.4048 - val_accuracy: 0.8506 - 652ms/epoch - 33ms/step\n",
            "Epoch 283/500\n",
            "20/20 - 0s - loss: 0.3277 - accuracy: 0.8681 - val_loss: 0.4071 - val_accuracy: 0.8506 - 163ms/epoch - 8ms/step\n",
            "Epoch 284/500\n",
            "20/20 - 0s - loss: 0.3270 - accuracy: 0.8648 - val_loss: 0.4112 - val_accuracy: 0.8506 - 164ms/epoch - 8ms/step\n",
            "Epoch 285/500\n",
            "20/20 - 0s - loss: 0.3298 - accuracy: 0.8632 - val_loss: 0.4131 - val_accuracy: 0.8506 - 161ms/epoch - 8ms/step\n",
            "Epoch 286/500\n",
            "20/20 - 0s - loss: 0.3269 - accuracy: 0.8664 - val_loss: 0.4088 - val_accuracy: 0.8506 - 201ms/epoch - 10ms/step\n",
            "Epoch 287/500\n",
            "20/20 - 0s - loss: 0.3265 - accuracy: 0.8664 - val_loss: 0.4105 - val_accuracy: 0.8571 - 165ms/epoch - 8ms/step\n",
            "Epoch 288/500\n",
            "20/20 - 0s - loss: 0.3272 - accuracy: 0.8681 - val_loss: 0.4097 - val_accuracy: 0.8506 - 169ms/epoch - 8ms/step\n",
            "Epoch 289/500\n",
            "20/20 - 0s - loss: 0.3267 - accuracy: 0.8664 - val_loss: 0.4091 - val_accuracy: 0.8506 - 165ms/epoch - 8ms/step\n",
            "Epoch 290/500\n",
            "20/20 - 0s - loss: 0.3256 - accuracy: 0.8681 - val_loss: 0.4121 - val_accuracy: 0.8571 - 165ms/epoch - 8ms/step\n",
            "Epoch 291/500\n",
            "20/20 - 0s - loss: 0.3257 - accuracy: 0.8681 - val_loss: 0.4093 - val_accuracy: 0.8506 - 167ms/epoch - 8ms/step\n",
            "Epoch 292/500\n",
            "20/20 - 0s - loss: 0.3256 - accuracy: 0.8664 - val_loss: 0.4081 - val_accuracy: 0.8506 - 181ms/epoch - 9ms/step\n",
            "Epoch 293/500\n",
            "20/20 - 0s - loss: 0.3262 - accuracy: 0.8632 - val_loss: 0.4093 - val_accuracy: 0.8571 - 206ms/epoch - 10ms/step\n",
            "Epoch 294/500\n",
            "20/20 - 0s - loss: 0.3259 - accuracy: 0.8648 - val_loss: 0.4111 - val_accuracy: 0.8506 - 204ms/epoch - 10ms/step\n",
            "Epoch 295/500\n",
            "20/20 - 0s - loss: 0.3260 - accuracy: 0.8648 - val_loss: 0.4151 - val_accuracy: 0.8571 - 234ms/epoch - 12ms/step\n",
            "Epoch 296/500\n",
            "20/20 - 0s - loss: 0.3240 - accuracy: 0.8681 - val_loss: 0.4086 - val_accuracy: 0.8571 - 177ms/epoch - 9ms/step\n",
            "Epoch 297/500\n",
            "20/20 - 0s - loss: 0.3255 - accuracy: 0.8664 - val_loss: 0.4083 - val_accuracy: 0.8506 - 185ms/epoch - 9ms/step\n",
            "Epoch 298/500\n",
            "20/20 - 0s - loss: 0.3259 - accuracy: 0.8697 - val_loss: 0.4155 - val_accuracy: 0.8571 - 175ms/epoch - 9ms/step\n",
            "Epoch 299/500\n",
            "20/20 - 0s - loss: 0.3234 - accuracy: 0.8681 - val_loss: 0.4120 - val_accuracy: 0.8442 - 174ms/epoch - 9ms/step\n",
            "Epoch 300/500\n",
            "20/20 - 0s - loss: 0.3238 - accuracy: 0.8664 - val_loss: 0.4146 - val_accuracy: 0.8442 - 171ms/epoch - 9ms/step\n",
            "Epoch 301/500\n",
            "20/20 - 0s - loss: 0.3252 - accuracy: 0.8681 - val_loss: 0.4197 - val_accuracy: 0.8506 - 173ms/epoch - 9ms/step\n",
            "Epoch 302/500\n",
            "20/20 - 0s - loss: 0.3248 - accuracy: 0.8664 - val_loss: 0.4127 - val_accuracy: 0.8571 - 174ms/epoch - 9ms/step\n",
            "Epoch 303/500\n",
            "20/20 - 0s - loss: 0.3228 - accuracy: 0.8681 - val_loss: 0.4115 - val_accuracy: 0.8442 - 229ms/epoch - 11ms/step\n",
            "Epoch 304/500\n",
            "20/20 - 0s - loss: 0.3232 - accuracy: 0.8681 - val_loss: 0.4105 - val_accuracy: 0.8442 - 178ms/epoch - 9ms/step\n",
            "Epoch 305/500\n",
            "20/20 - 0s - loss: 0.3222 - accuracy: 0.8697 - val_loss: 0.4129 - val_accuracy: 0.8442 - 172ms/epoch - 9ms/step\n",
            "Epoch 306/500\n",
            "20/20 - 0s - loss: 0.3224 - accuracy: 0.8730 - val_loss: 0.4105 - val_accuracy: 0.8442 - 188ms/epoch - 9ms/step\n",
            "Epoch 307/500\n",
            "20/20 - 0s - loss: 0.3220 - accuracy: 0.8730 - val_loss: 0.4110 - val_accuracy: 0.8506 - 204ms/epoch - 10ms/step\n",
            "Epoch 308/500\n",
            "20/20 - 0s - loss: 0.3218 - accuracy: 0.8697 - val_loss: 0.4121 - val_accuracy: 0.8442 - 193ms/epoch - 10ms/step\n",
            "Epoch 309/500\n",
            "20/20 - 0s - loss: 0.3221 - accuracy: 0.8681 - val_loss: 0.4102 - val_accuracy: 0.8442 - 182ms/epoch - 9ms/step\n",
            "Epoch 310/500\n",
            "20/20 - 0s - loss: 0.3217 - accuracy: 0.8697 - val_loss: 0.4094 - val_accuracy: 0.8442 - 181ms/epoch - 9ms/step\n",
            "Epoch 311/500\n",
            "20/20 - 0s - loss: 0.3210 - accuracy: 0.8713 - val_loss: 0.4122 - val_accuracy: 0.8442 - 179ms/epoch - 9ms/step\n",
            "Epoch 312/500\n",
            "20/20 - 0s - loss: 0.3209 - accuracy: 0.8664 - val_loss: 0.4110 - val_accuracy: 0.8506 - 217ms/epoch - 11ms/step\n",
            "Epoch 313/500\n",
            "20/20 - 0s - loss: 0.3208 - accuracy: 0.8681 - val_loss: 0.4093 - val_accuracy: 0.8442 - 179ms/epoch - 9ms/step\n",
            "Epoch 314/500\n",
            "20/20 - 0s - loss: 0.3212 - accuracy: 0.8664 - val_loss: 0.4146 - val_accuracy: 0.8442 - 179ms/epoch - 9ms/step\n",
            "Epoch 315/500\n",
            "20/20 - 0s - loss: 0.3203 - accuracy: 0.8697 - val_loss: 0.4130 - val_accuracy: 0.8442 - 178ms/epoch - 9ms/step\n",
            "Epoch 316/500\n",
            "20/20 - 0s - loss: 0.3204 - accuracy: 0.8697 - val_loss: 0.4107 - val_accuracy: 0.8442 - 166ms/epoch - 8ms/step\n",
            "Epoch 317/500\n",
            "20/20 - 0s - loss: 0.3199 - accuracy: 0.8664 - val_loss: 0.4127 - val_accuracy: 0.8442 - 160ms/epoch - 8ms/step\n",
            "Epoch 318/500\n",
            "20/20 - 0s - loss: 0.3207 - accuracy: 0.8681 - val_loss: 0.4152 - val_accuracy: 0.8442 - 162ms/epoch - 8ms/step\n",
            "Epoch 319/500\n",
            "20/20 - 0s - loss: 0.3199 - accuracy: 0.8697 - val_loss: 0.4124 - val_accuracy: 0.8442 - 163ms/epoch - 8ms/step\n",
            "Epoch 320/500\n",
            "20/20 - 0s - loss: 0.3195 - accuracy: 0.8697 - val_loss: 0.4133 - val_accuracy: 0.8442 - 171ms/epoch - 9ms/step\n",
            "Epoch 321/500\n",
            "20/20 - 0s - loss: 0.3199 - accuracy: 0.8713 - val_loss: 0.4128 - val_accuracy: 0.8442 - 171ms/epoch - 9ms/step\n",
            "Epoch 322/500\n",
            "20/20 - 0s - loss: 0.3200 - accuracy: 0.8664 - val_loss: 0.4139 - val_accuracy: 0.8442 - 215ms/epoch - 11ms/step\n",
            "Epoch 323/500\n",
            "20/20 - 0s - loss: 0.3185 - accuracy: 0.8730 - val_loss: 0.4126 - val_accuracy: 0.8442 - 159ms/epoch - 8ms/step\n",
            "Epoch 324/500\n",
            "20/20 - 0s - loss: 0.3201 - accuracy: 0.8697 - val_loss: 0.4158 - val_accuracy: 0.8442 - 162ms/epoch - 8ms/step\n",
            "Epoch 325/500\n",
            "20/20 - 0s - loss: 0.3196 - accuracy: 0.8697 - val_loss: 0.4155 - val_accuracy: 0.8442 - 166ms/epoch - 8ms/step\n",
            "Epoch 326/500\n",
            "20/20 - 0s - loss: 0.3199 - accuracy: 0.8713 - val_loss: 0.4128 - val_accuracy: 0.8377 - 165ms/epoch - 8ms/step\n",
            "Epoch 327/500\n",
            "20/20 - 0s - loss: 0.3186 - accuracy: 0.8697 - val_loss: 0.4146 - val_accuracy: 0.8506 - 164ms/epoch - 8ms/step\n",
            "Epoch 328/500\n",
            "20/20 - 0s - loss: 0.3194 - accuracy: 0.8697 - val_loss: 0.4146 - val_accuracy: 0.8442 - 165ms/epoch - 8ms/step\n",
            "Epoch 329/500\n",
            "20/20 - 0s - loss: 0.3179 - accuracy: 0.8730 - val_loss: 0.4141 - val_accuracy: 0.8442 - 180ms/epoch - 9ms/step\n",
            "Epoch 330/500\n",
            "20/20 - 0s - loss: 0.3178 - accuracy: 0.8681 - val_loss: 0.4149 - val_accuracy: 0.8442 - 167ms/epoch - 8ms/step\n",
            "Epoch 331/500\n",
            "20/20 - 0s - loss: 0.3183 - accuracy: 0.8713 - val_loss: 0.4113 - val_accuracy: 0.8442 - 164ms/epoch - 8ms/step\n",
            "Epoch 332/500\n",
            "20/20 - 0s - loss: 0.3197 - accuracy: 0.8697 - val_loss: 0.4164 - val_accuracy: 0.8442 - 212ms/epoch - 11ms/step\n",
            "Epoch 333/500\n",
            "20/20 - 0s - loss: 0.3169 - accuracy: 0.8730 - val_loss: 0.4118 - val_accuracy: 0.8442 - 175ms/epoch - 9ms/step\n",
            "Epoch 334/500\n",
            "20/20 - 0s - loss: 0.3190 - accuracy: 0.8746 - val_loss: 0.4113 - val_accuracy: 0.8442 - 185ms/epoch - 9ms/step\n",
            "Epoch 335/500\n",
            "20/20 - 0s - loss: 0.3177 - accuracy: 0.8746 - val_loss: 0.4151 - val_accuracy: 0.8442 - 185ms/epoch - 9ms/step\n",
            "Epoch 336/500\n",
            "20/20 - 0s - loss: 0.3168 - accuracy: 0.8697 - val_loss: 0.4130 - val_accuracy: 0.8442 - 183ms/epoch - 9ms/step\n",
            "Epoch 337/500\n",
            "20/20 - 0s - loss: 0.3164 - accuracy: 0.8730 - val_loss: 0.4139 - val_accuracy: 0.8442 - 181ms/epoch - 9ms/step\n",
            "Epoch 338/500\n",
            "20/20 - 0s - loss: 0.3169 - accuracy: 0.8746 - val_loss: 0.4151 - val_accuracy: 0.8442 - 172ms/epoch - 9ms/step\n",
            "Epoch 339/500\n",
            "20/20 - 0s - loss: 0.3161 - accuracy: 0.8746 - val_loss: 0.4116 - val_accuracy: 0.8442 - 167ms/epoch - 8ms/step\n",
            "Epoch 340/500\n",
            "20/20 - 0s - loss: 0.3162 - accuracy: 0.8746 - val_loss: 0.4115 - val_accuracy: 0.8442 - 162ms/epoch - 8ms/step\n",
            "Epoch 341/500\n",
            "20/20 - 0s - loss: 0.3164 - accuracy: 0.8713 - val_loss: 0.4131 - val_accuracy: 0.8442 - 206ms/epoch - 10ms/step\n",
            "Epoch 342/500\n",
            "20/20 - 0s - loss: 0.3158 - accuracy: 0.8713 - val_loss: 0.4173 - val_accuracy: 0.8442 - 167ms/epoch - 8ms/step\n",
            "Epoch 343/500\n",
            "20/20 - 0s - loss: 0.3173 - accuracy: 0.8730 - val_loss: 0.4147 - val_accuracy: 0.8377 - 166ms/epoch - 8ms/step\n",
            "Epoch 344/500\n",
            "20/20 - 0s - loss: 0.3157 - accuracy: 0.8779 - val_loss: 0.4176 - val_accuracy: 0.8442 - 166ms/epoch - 8ms/step\n",
            "Epoch 345/500\n",
            "20/20 - 0s - loss: 0.3157 - accuracy: 0.8713 - val_loss: 0.4153 - val_accuracy: 0.8442 - 153ms/epoch - 8ms/step\n",
            "Epoch 346/500\n",
            "20/20 - 0s - loss: 0.3156 - accuracy: 0.8779 - val_loss: 0.4107 - val_accuracy: 0.8442 - 155ms/epoch - 8ms/step\n",
            "Epoch 347/500\n",
            "20/20 - 0s - loss: 0.3162 - accuracy: 0.8762 - val_loss: 0.4169 - val_accuracy: 0.8377 - 174ms/epoch - 9ms/step\n",
            "Epoch 348/500\n",
            "20/20 - 0s - loss: 0.3172 - accuracy: 0.8713 - val_loss: 0.4144 - val_accuracy: 0.8442 - 196ms/epoch - 10ms/step\n",
            "Epoch 349/500\n",
            "20/20 - 0s - loss: 0.3159 - accuracy: 0.8730 - val_loss: 0.4153 - val_accuracy: 0.8442 - 228ms/epoch - 11ms/step\n",
            "Epoch 350/500\n",
            "20/20 - 0s - loss: 0.3145 - accuracy: 0.8713 - val_loss: 0.4171 - val_accuracy: 0.8377 - 198ms/epoch - 10ms/step\n",
            "Epoch 351/500\n",
            "20/20 - 0s - loss: 0.3160 - accuracy: 0.8779 - val_loss: 0.4191 - val_accuracy: 0.8377 - 177ms/epoch - 9ms/step\n",
            "Epoch 352/500\n",
            "20/20 - 0s - loss: 0.3164 - accuracy: 0.8697 - val_loss: 0.4177 - val_accuracy: 0.8442 - 188ms/epoch - 9ms/step\n",
            "Epoch 353/500\n",
            "20/20 - 0s - loss: 0.3151 - accuracy: 0.8746 - val_loss: 0.4137 - val_accuracy: 0.8442 - 177ms/epoch - 9ms/step\n",
            "Epoch 354/500\n",
            "20/20 - 0s - loss: 0.3140 - accuracy: 0.8746 - val_loss: 0.4175 - val_accuracy: 0.8442 - 177ms/epoch - 9ms/step\n",
            "Epoch 355/500\n",
            "20/20 - 0s - loss: 0.3147 - accuracy: 0.8730 - val_loss: 0.4202 - val_accuracy: 0.8442 - 174ms/epoch - 9ms/step\n",
            "Epoch 356/500\n",
            "20/20 - 0s - loss: 0.3148 - accuracy: 0.8746 - val_loss: 0.4180 - val_accuracy: 0.8442 - 222ms/epoch - 11ms/step\n",
            "Epoch 357/500\n",
            "20/20 - 0s - loss: 0.3142 - accuracy: 0.8697 - val_loss: 0.4183 - val_accuracy: 0.8442 - 173ms/epoch - 9ms/step\n",
            "Epoch 358/500\n",
            "20/20 - 0s - loss: 0.3143 - accuracy: 0.8713 - val_loss: 0.4149 - val_accuracy: 0.8442 - 172ms/epoch - 9ms/step\n",
            "Epoch 359/500\n",
            "20/20 - 0s - loss: 0.3140 - accuracy: 0.8762 - val_loss: 0.4180 - val_accuracy: 0.8377 - 180ms/epoch - 9ms/step\n",
            "Epoch 360/500\n",
            "20/20 - 0s - loss: 0.3138 - accuracy: 0.8730 - val_loss: 0.4158 - val_accuracy: 0.8442 - 176ms/epoch - 9ms/step\n",
            "Epoch 361/500\n",
            "20/20 - 0s - loss: 0.3144 - accuracy: 0.8713 - val_loss: 0.4151 - val_accuracy: 0.8506 - 187ms/epoch - 9ms/step\n",
            "Epoch 362/500\n",
            "20/20 - 0s - loss: 0.3151 - accuracy: 0.8762 - val_loss: 0.4120 - val_accuracy: 0.8506 - 198ms/epoch - 10ms/step\n",
            "Epoch 363/500\n",
            "20/20 - 0s - loss: 0.3151 - accuracy: 0.8746 - val_loss: 0.4148 - val_accuracy: 0.8442 - 191ms/epoch - 10ms/step\n",
            "Epoch 364/500\n",
            "20/20 - 0s - loss: 0.3168 - accuracy: 0.8697 - val_loss: 0.4184 - val_accuracy: 0.8506 - 173ms/epoch - 9ms/step\n",
            "Epoch 365/500\n",
            "20/20 - 0s - loss: 0.3124 - accuracy: 0.8762 - val_loss: 0.4166 - val_accuracy: 0.8312 - 216ms/epoch - 11ms/step\n",
            "Epoch 366/500\n",
            "20/20 - 0s - loss: 0.3141 - accuracy: 0.8762 - val_loss: 0.4180 - val_accuracy: 0.8442 - 172ms/epoch - 9ms/step\n",
            "Epoch 367/500\n",
            "20/20 - 0s - loss: 0.3128 - accuracy: 0.8730 - val_loss: 0.4214 - val_accuracy: 0.8571 - 175ms/epoch - 9ms/step\n",
            "Epoch 368/500\n",
            "20/20 - 0s - loss: 0.3141 - accuracy: 0.8730 - val_loss: 0.4156 - val_accuracy: 0.8442 - 175ms/epoch - 9ms/step\n",
            "Epoch 369/500\n",
            "20/20 - 0s - loss: 0.3128 - accuracy: 0.8697 - val_loss: 0.4171 - val_accuracy: 0.8506 - 172ms/epoch - 9ms/step\n",
            "Epoch 370/500\n",
            "20/20 - 0s - loss: 0.3129 - accuracy: 0.8746 - val_loss: 0.4169 - val_accuracy: 0.8506 - 174ms/epoch - 9ms/step\n",
            "Epoch 371/500\n",
            "20/20 - 0s - loss: 0.3133 - accuracy: 0.8762 - val_loss: 0.4152 - val_accuracy: 0.8442 - 181ms/epoch - 9ms/step\n",
            "Epoch 372/500\n",
            "20/20 - 0s - loss: 0.3127 - accuracy: 0.8746 - val_loss: 0.4210 - val_accuracy: 0.8442 - 175ms/epoch - 9ms/step\n",
            "Epoch 373/500\n",
            "20/20 - 0s - loss: 0.3138 - accuracy: 0.8779 - val_loss: 0.4210 - val_accuracy: 0.8312 - 211ms/epoch - 11ms/step\n",
            "Epoch 374/500\n",
            "20/20 - 0s - loss: 0.3114 - accuracy: 0.8713 - val_loss: 0.4249 - val_accuracy: 0.8506 - 179ms/epoch - 9ms/step\n",
            "Epoch 375/500\n",
            "20/20 - 0s - loss: 0.3118 - accuracy: 0.8713 - val_loss: 0.4192 - val_accuracy: 0.8442 - 202ms/epoch - 10ms/step\n",
            "Epoch 376/500\n",
            "20/20 - 0s - loss: 0.3130 - accuracy: 0.8713 - val_loss: 0.4180 - val_accuracy: 0.8442 - 195ms/epoch - 10ms/step\n",
            "Epoch 377/500\n",
            "20/20 - 0s - loss: 0.3151 - accuracy: 0.8762 - val_loss: 0.4177 - val_accuracy: 0.8442 - 192ms/epoch - 10ms/step\n",
            "Epoch 378/500\n",
            "20/20 - 0s - loss: 0.3119 - accuracy: 0.8697 - val_loss: 0.4212 - val_accuracy: 0.8571 - 176ms/epoch - 9ms/step\n",
            "Epoch 379/500\n",
            "20/20 - 0s - loss: 0.3118 - accuracy: 0.8713 - val_loss: 0.4171 - val_accuracy: 0.8506 - 178ms/epoch - 9ms/step\n",
            "Epoch 380/500\n",
            "20/20 - 0s - loss: 0.3116 - accuracy: 0.8762 - val_loss: 0.4176 - val_accuracy: 0.8442 - 171ms/epoch - 9ms/step\n",
            "Epoch 381/500\n",
            "20/20 - 0s - loss: 0.3116 - accuracy: 0.8762 - val_loss: 0.4188 - val_accuracy: 0.8442 - 170ms/epoch - 9ms/step\n",
            "Epoch 382/500\n",
            "20/20 - 0s - loss: 0.3111 - accuracy: 0.8762 - val_loss: 0.4222 - val_accuracy: 0.8377 - 223ms/epoch - 11ms/step\n",
            "Epoch 383/500\n",
            "20/20 - 0s - loss: 0.3125 - accuracy: 0.8762 - val_loss: 0.4201 - val_accuracy: 0.8442 - 165ms/epoch - 8ms/step\n",
            "Epoch 384/500\n",
            "20/20 - 0s - loss: 0.3109 - accuracy: 0.8762 - val_loss: 0.4202 - val_accuracy: 0.8442 - 158ms/epoch - 8ms/step\n",
            "Epoch 385/500\n",
            "20/20 - 0s - loss: 0.3110 - accuracy: 0.8762 - val_loss: 0.4184 - val_accuracy: 0.8377 - 158ms/epoch - 8ms/step\n",
            "Epoch 386/500\n",
            "20/20 - 0s - loss: 0.3103 - accuracy: 0.8762 - val_loss: 0.4198 - val_accuracy: 0.8442 - 166ms/epoch - 8ms/step\n",
            "Epoch 387/500\n",
            "20/20 - 0s - loss: 0.3107 - accuracy: 0.8762 - val_loss: 0.4197 - val_accuracy: 0.8312 - 168ms/epoch - 8ms/step\n",
            "Epoch 388/500\n",
            "20/20 - 0s - loss: 0.3126 - accuracy: 0.8779 - val_loss: 0.4213 - val_accuracy: 0.8377 - 165ms/epoch - 8ms/step\n",
            "Epoch 389/500\n",
            "20/20 - 0s - loss: 0.3101 - accuracy: 0.8762 - val_loss: 0.4196 - val_accuracy: 0.8377 - 184ms/epoch - 9ms/step\n",
            "Epoch 390/500\n",
            "20/20 - 0s - loss: 0.3101 - accuracy: 0.8779 - val_loss: 0.4230 - val_accuracy: 0.8312 - 254ms/epoch - 13ms/step\n",
            "Epoch 391/500\n",
            "20/20 - 0s - loss: 0.3108 - accuracy: 0.8779 - val_loss: 0.4205 - val_accuracy: 0.8377 - 176ms/epoch - 9ms/step\n",
            "Epoch 392/500\n",
            "20/20 - 0s - loss: 0.3111 - accuracy: 0.8762 - val_loss: 0.4206 - val_accuracy: 0.8312 - 172ms/epoch - 9ms/step\n",
            "Epoch 393/500\n",
            "20/20 - 0s - loss: 0.3115 - accuracy: 0.8746 - val_loss: 0.4213 - val_accuracy: 0.8377 - 169ms/epoch - 8ms/step\n",
            "Epoch 394/500\n",
            "20/20 - 0s - loss: 0.3103 - accuracy: 0.8762 - val_loss: 0.4181 - val_accuracy: 0.8312 - 176ms/epoch - 9ms/step\n",
            "Epoch 395/500\n",
            "20/20 - 0s - loss: 0.3095 - accuracy: 0.8795 - val_loss: 0.4171 - val_accuracy: 0.8571 - 171ms/epoch - 9ms/step\n",
            "Epoch 396/500\n",
            "20/20 - 0s - loss: 0.3101 - accuracy: 0.8795 - val_loss: 0.4154 - val_accuracy: 0.8506 - 166ms/epoch - 8ms/step\n",
            "Epoch 397/500\n",
            "20/20 - 0s - loss: 0.3094 - accuracy: 0.8811 - val_loss: 0.4210 - val_accuracy: 0.8377 - 245ms/epoch - 12ms/step\n",
            "Epoch 398/500\n",
            "20/20 - 0s - loss: 0.3094 - accuracy: 0.8779 - val_loss: 0.4207 - val_accuracy: 0.8377 - 179ms/epoch - 9ms/step\n",
            "Epoch 399/500\n",
            "20/20 - 0s - loss: 0.3108 - accuracy: 0.8746 - val_loss: 0.4250 - val_accuracy: 0.8442 - 173ms/epoch - 9ms/step\n",
            "Epoch 400/500\n",
            "20/20 - 0s - loss: 0.3112 - accuracy: 0.8795 - val_loss: 0.4198 - val_accuracy: 0.8377 - 167ms/epoch - 8ms/step\n",
            "Epoch 401/500\n",
            "20/20 - 0s - loss: 0.3100 - accuracy: 0.8746 - val_loss: 0.4235 - val_accuracy: 0.8506 - 179ms/epoch - 9ms/step\n",
            "Epoch 402/500\n",
            "20/20 - 0s - loss: 0.3097 - accuracy: 0.8762 - val_loss: 0.4246 - val_accuracy: 0.8442 - 190ms/epoch - 10ms/step\n",
            "Epoch 403/500\n",
            "20/20 - 0s - loss: 0.3102 - accuracy: 0.8762 - val_loss: 0.4219 - val_accuracy: 0.8377 - 202ms/epoch - 10ms/step\n",
            "Epoch 404/500\n",
            "20/20 - 0s - loss: 0.3091 - accuracy: 0.8762 - val_loss: 0.4204 - val_accuracy: 0.8377 - 195ms/epoch - 10ms/step\n",
            "Epoch 405/500\n",
            "20/20 - 0s - loss: 0.3090 - accuracy: 0.8762 - val_loss: 0.4215 - val_accuracy: 0.8377 - 173ms/epoch - 9ms/step\n",
            "Epoch 406/500\n",
            "20/20 - 0s - loss: 0.3087 - accuracy: 0.8762 - val_loss: 0.4178 - val_accuracy: 0.8506 - 169ms/epoch - 8ms/step\n",
            "Epoch 407/500\n",
            "20/20 - 0s - loss: 0.3085 - accuracy: 0.8779 - val_loss: 0.4207 - val_accuracy: 0.8377 - 209ms/epoch - 10ms/step\n",
            "Epoch 408/500\n",
            "20/20 - 0s - loss: 0.3090 - accuracy: 0.8779 - val_loss: 0.4212 - val_accuracy: 0.8377 - 152ms/epoch - 8ms/step\n",
            "Epoch 409/500\n",
            "20/20 - 0s - loss: 0.3081 - accuracy: 0.8779 - val_loss: 0.4221 - val_accuracy: 0.8377 - 154ms/epoch - 8ms/step\n",
            "Epoch 410/500\n",
            "20/20 - 0s - loss: 0.3078 - accuracy: 0.8779 - val_loss: 0.4210 - val_accuracy: 0.8377 - 164ms/epoch - 8ms/step\n",
            "Epoch 411/500\n",
            "20/20 - 0s - loss: 0.3079 - accuracy: 0.8779 - val_loss: 0.4202 - val_accuracy: 0.8377 - 171ms/epoch - 9ms/step\n",
            "Epoch 412/500\n",
            "20/20 - 0s - loss: 0.3088 - accuracy: 0.8779 - val_loss: 0.4188 - val_accuracy: 0.8442 - 165ms/epoch - 8ms/step\n",
            "Epoch 413/500\n",
            "20/20 - 0s - loss: 0.3079 - accuracy: 0.8827 - val_loss: 0.4211 - val_accuracy: 0.8377 - 208ms/epoch - 10ms/step\n",
            "Epoch 414/500\n",
            "20/20 - 0s - loss: 0.3073 - accuracy: 0.8779 - val_loss: 0.4231 - val_accuracy: 0.8442 - 228ms/epoch - 11ms/step\n",
            "Epoch 415/500\n",
            "20/20 - 0s - loss: 0.3075 - accuracy: 0.8795 - val_loss: 0.4247 - val_accuracy: 0.8377 - 205ms/epoch - 10ms/step\n",
            "Epoch 416/500\n",
            "20/20 - 0s - loss: 0.3091 - accuracy: 0.8795 - val_loss: 0.4208 - val_accuracy: 0.8377 - 204ms/epoch - 10ms/step\n",
            "Epoch 417/500\n",
            "20/20 - 0s - loss: 0.3077 - accuracy: 0.8795 - val_loss: 0.4212 - val_accuracy: 0.8377 - 261ms/epoch - 13ms/step\n",
            "Epoch 418/500\n",
            "20/20 - 0s - loss: 0.3088 - accuracy: 0.8762 - val_loss: 0.4220 - val_accuracy: 0.8377 - 186ms/epoch - 9ms/step\n",
            "Epoch 419/500\n",
            "20/20 - 0s - loss: 0.3070 - accuracy: 0.8795 - val_loss: 0.4252 - val_accuracy: 0.8442 - 178ms/epoch - 9ms/step\n",
            "Epoch 420/500\n",
            "20/20 - 0s - loss: 0.3067 - accuracy: 0.8811 - val_loss: 0.4220 - val_accuracy: 0.8377 - 178ms/epoch - 9ms/step\n",
            "Epoch 421/500\n",
            "20/20 - 0s - loss: 0.3068 - accuracy: 0.8779 - val_loss: 0.4228 - val_accuracy: 0.8377 - 186ms/epoch - 9ms/step\n",
            "Epoch 422/500\n",
            "20/20 - 0s - loss: 0.3072 - accuracy: 0.8762 - val_loss: 0.4207 - val_accuracy: 0.8442 - 180ms/epoch - 9ms/step\n",
            "Epoch 423/500\n",
            "20/20 - 0s - loss: 0.3071 - accuracy: 0.8779 - val_loss: 0.4242 - val_accuracy: 0.8442 - 196ms/epoch - 10ms/step\n",
            "Epoch 424/500\n",
            "20/20 - 0s - loss: 0.3063 - accuracy: 0.8795 - val_loss: 0.4230 - val_accuracy: 0.8442 - 223ms/epoch - 11ms/step\n",
            "Epoch 425/500\n",
            "20/20 - 0s - loss: 0.3067 - accuracy: 0.8779 - val_loss: 0.4241 - val_accuracy: 0.8377 - 191ms/epoch - 10ms/step\n",
            "Epoch 426/500\n",
            "20/20 - 0s - loss: 0.3066 - accuracy: 0.8762 - val_loss: 0.4234 - val_accuracy: 0.8506 - 231ms/epoch - 12ms/step\n",
            "Epoch 427/500\n",
            "20/20 - 0s - loss: 0.3067 - accuracy: 0.8811 - val_loss: 0.4202 - val_accuracy: 0.8506 - 182ms/epoch - 9ms/step\n",
            "Epoch 428/500\n",
            "20/20 - 0s - loss: 0.3077 - accuracy: 0.8762 - val_loss: 0.4262 - val_accuracy: 0.8506 - 192ms/epoch - 10ms/step\n",
            "Epoch 429/500\n",
            "20/20 - 0s - loss: 0.3078 - accuracy: 0.8697 - val_loss: 0.4241 - val_accuracy: 0.8377 - 196ms/epoch - 10ms/step\n",
            "Epoch 430/500\n",
            "20/20 - 0s - loss: 0.3059 - accuracy: 0.8730 - val_loss: 0.4259 - val_accuracy: 0.8571 - 283ms/epoch - 14ms/step\n",
            "Epoch 431/500\n",
            "20/20 - 0s - loss: 0.3061 - accuracy: 0.8762 - val_loss: 0.4214 - val_accuracy: 0.8377 - 230ms/epoch - 12ms/step\n",
            "Epoch 432/500\n",
            "20/20 - 0s - loss: 0.3056 - accuracy: 0.8827 - val_loss: 0.4258 - val_accuracy: 0.8442 - 214ms/epoch - 11ms/step\n",
            "Epoch 433/500\n",
            "20/20 - 0s - loss: 0.3061 - accuracy: 0.8762 - val_loss: 0.4249 - val_accuracy: 0.8377 - 206ms/epoch - 10ms/step\n",
            "Epoch 434/500\n",
            "20/20 - 0s - loss: 0.3065 - accuracy: 0.8795 - val_loss: 0.4291 - val_accuracy: 0.8442 - 249ms/epoch - 12ms/step\n",
            "Epoch 435/500\n",
            "20/20 - 0s - loss: 0.3055 - accuracy: 0.8795 - val_loss: 0.4251 - val_accuracy: 0.8442 - 179ms/epoch - 9ms/step\n",
            "Epoch 436/500\n",
            "20/20 - 0s - loss: 0.3061 - accuracy: 0.8795 - val_loss: 0.4201 - val_accuracy: 0.8506 - 192ms/epoch - 10ms/step\n",
            "Epoch 437/500\n",
            "20/20 - 0s - loss: 0.3056 - accuracy: 0.8811 - val_loss: 0.4231 - val_accuracy: 0.8377 - 196ms/epoch - 10ms/step\n",
            "Epoch 438/500\n",
            "20/20 - 0s - loss: 0.3054 - accuracy: 0.8762 - val_loss: 0.4249 - val_accuracy: 0.8442 - 187ms/epoch - 9ms/step\n",
            "Epoch 439/500\n",
            "20/20 - 0s - loss: 0.3055 - accuracy: 0.8827 - val_loss: 0.4268 - val_accuracy: 0.8442 - 182ms/epoch - 9ms/step\n",
            "Epoch 440/500\n",
            "20/20 - 0s - loss: 0.3052 - accuracy: 0.8827 - val_loss: 0.4240 - val_accuracy: 0.8506 - 190ms/epoch - 9ms/step\n",
            "Epoch 441/500\n",
            "20/20 - 0s - loss: 0.3056 - accuracy: 0.8762 - val_loss: 0.4242 - val_accuracy: 0.8506 - 238ms/epoch - 12ms/step\n",
            "Epoch 442/500\n",
            "20/20 - 0s - loss: 0.3053 - accuracy: 0.8779 - val_loss: 0.4243 - val_accuracy: 0.8506 - 192ms/epoch - 10ms/step\n",
            "Epoch 443/500\n",
            "20/20 - 0s - loss: 0.3045 - accuracy: 0.8795 - val_loss: 0.4240 - val_accuracy: 0.8442 - 189ms/epoch - 9ms/step\n",
            "Epoch 444/500\n",
            "20/20 - 0s - loss: 0.3047 - accuracy: 0.8762 - val_loss: 0.4246 - val_accuracy: 0.8506 - 200ms/epoch - 10ms/step\n",
            "Epoch 445/500\n",
            "20/20 - 0s - loss: 0.3046 - accuracy: 0.8779 - val_loss: 0.4224 - val_accuracy: 0.8506 - 179ms/epoch - 9ms/step\n",
            "Epoch 446/500\n",
            "20/20 - 0s - loss: 0.3048 - accuracy: 0.8811 - val_loss: 0.4257 - val_accuracy: 0.8506 - 186ms/epoch - 9ms/step\n",
            "Epoch 447/500\n",
            "20/20 - 0s - loss: 0.3048 - accuracy: 0.8795 - val_loss: 0.4287 - val_accuracy: 0.8442 - 176ms/epoch - 9ms/step\n",
            "Epoch 448/500\n",
            "20/20 - 0s - loss: 0.3042 - accuracy: 0.8795 - val_loss: 0.4275 - val_accuracy: 0.8506 - 169ms/epoch - 8ms/step\n",
            "Epoch 449/500\n",
            "20/20 - 0s - loss: 0.3046 - accuracy: 0.8811 - val_loss: 0.4298 - val_accuracy: 0.8506 - 217ms/epoch - 11ms/step\n",
            "Epoch 450/500\n",
            "20/20 - 0s - loss: 0.3050 - accuracy: 0.8779 - val_loss: 0.4301 - val_accuracy: 0.8442 - 168ms/epoch - 8ms/step\n",
            "Epoch 451/500\n",
            "20/20 - 0s - loss: 0.3055 - accuracy: 0.8762 - val_loss: 0.4270 - val_accuracy: 0.8506 - 176ms/epoch - 9ms/step\n",
            "Epoch 452/500\n",
            "20/20 - 0s - loss: 0.3037 - accuracy: 0.8779 - val_loss: 0.4251 - val_accuracy: 0.8442 - 178ms/epoch - 9ms/step\n",
            "Epoch 453/500\n",
            "20/20 - 0s - loss: 0.3036 - accuracy: 0.8811 - val_loss: 0.4252 - val_accuracy: 0.8506 - 176ms/epoch - 9ms/step\n",
            "Epoch 454/500\n",
            "20/20 - 0s - loss: 0.3036 - accuracy: 0.8795 - val_loss: 0.4279 - val_accuracy: 0.8442 - 193ms/epoch - 10ms/step\n",
            "Epoch 455/500\n",
            "20/20 - 0s - loss: 0.3041 - accuracy: 0.8811 - val_loss: 0.4244 - val_accuracy: 0.8442 - 214ms/epoch - 11ms/step\n",
            "Epoch 456/500\n",
            "20/20 - 0s - loss: 0.3051 - accuracy: 0.8795 - val_loss: 0.4232 - val_accuracy: 0.8442 - 190ms/epoch - 9ms/step\n",
            "Epoch 457/500\n",
            "20/20 - 0s - loss: 0.3040 - accuracy: 0.8795 - val_loss: 0.4276 - val_accuracy: 0.8506 - 184ms/epoch - 9ms/step\n",
            "Epoch 458/500\n",
            "20/20 - 0s - loss: 0.3037 - accuracy: 0.8795 - val_loss: 0.4285 - val_accuracy: 0.8506 - 254ms/epoch - 13ms/step\n",
            "Epoch 459/500\n",
            "20/20 - 0s - loss: 0.3033 - accuracy: 0.8795 - val_loss: 0.4288 - val_accuracy: 0.8442 - 193ms/epoch - 10ms/step\n",
            "Epoch 460/500\n",
            "20/20 - 0s - loss: 0.3042 - accuracy: 0.8779 - val_loss: 0.4262 - val_accuracy: 0.8506 - 292ms/epoch - 15ms/step\n",
            "Epoch 461/500\n",
            "20/20 - 0s - loss: 0.3032 - accuracy: 0.8827 - val_loss: 0.4244 - val_accuracy: 0.8571 - 187ms/epoch - 9ms/step\n",
            "Epoch 462/500\n",
            "20/20 - 0s - loss: 0.3029 - accuracy: 0.8811 - val_loss: 0.4263 - val_accuracy: 0.8506 - 186ms/epoch - 9ms/step\n",
            "Epoch 463/500\n",
            "20/20 - 0s - loss: 0.3038 - accuracy: 0.8811 - val_loss: 0.4309 - val_accuracy: 0.8442 - 211ms/epoch - 11ms/step\n",
            "Epoch 464/500\n",
            "20/20 - 0s - loss: 0.3027 - accuracy: 0.8811 - val_loss: 0.4277 - val_accuracy: 0.8506 - 193ms/epoch - 10ms/step\n",
            "Epoch 465/500\n",
            "20/20 - 0s - loss: 0.3028 - accuracy: 0.8762 - val_loss: 0.4257 - val_accuracy: 0.8506 - 190ms/epoch - 9ms/step\n",
            "Epoch 466/500\n",
            "20/20 - 0s - loss: 0.3038 - accuracy: 0.8762 - val_loss: 0.4291 - val_accuracy: 0.8506 - 221ms/epoch - 11ms/step\n",
            "Epoch 467/500\n",
            "20/20 - 0s - loss: 0.3025 - accuracy: 0.8779 - val_loss: 0.4268 - val_accuracy: 0.8506 - 214ms/epoch - 11ms/step\n",
            "Epoch 468/500\n",
            "20/20 - 0s - loss: 0.3037 - accuracy: 0.8779 - val_loss: 0.4300 - val_accuracy: 0.8442 - 219ms/epoch - 11ms/step\n",
            "Epoch 469/500\n",
            "20/20 - 0s - loss: 0.3028 - accuracy: 0.8795 - val_loss: 0.4259 - val_accuracy: 0.8506 - 232ms/epoch - 12ms/step\n",
            "Epoch 470/500\n",
            "20/20 - 0s - loss: 0.3020 - accuracy: 0.8811 - val_loss: 0.4293 - val_accuracy: 0.8442 - 205ms/epoch - 10ms/step\n",
            "Epoch 471/500\n",
            "20/20 - 0s - loss: 0.3025 - accuracy: 0.8795 - val_loss: 0.4270 - val_accuracy: 0.8506 - 209ms/epoch - 10ms/step\n",
            "Epoch 472/500\n",
            "20/20 - 0s - loss: 0.3022 - accuracy: 0.8811 - val_loss: 0.4251 - val_accuracy: 0.8506 - 201ms/epoch - 10ms/step\n",
            "Epoch 473/500\n",
            "20/20 - 0s - loss: 0.3025 - accuracy: 0.8811 - val_loss: 0.4286 - val_accuracy: 0.8506 - 187ms/epoch - 9ms/step\n",
            "Epoch 474/500\n",
            "20/20 - 0s - loss: 0.3026 - accuracy: 0.8811 - val_loss: 0.4303 - val_accuracy: 0.8506 - 195ms/epoch - 10ms/step\n",
            "Epoch 475/500\n",
            "20/20 - 0s - loss: 0.3025 - accuracy: 0.8811 - val_loss: 0.4286 - val_accuracy: 0.8506 - 188ms/epoch - 9ms/step\n",
            "Epoch 476/500\n",
            "20/20 - 0s - loss: 0.3021 - accuracy: 0.8795 - val_loss: 0.4280 - val_accuracy: 0.8506 - 178ms/epoch - 9ms/step\n",
            "Epoch 477/500\n",
            "20/20 - 0s - loss: 0.3017 - accuracy: 0.8827 - val_loss: 0.4267 - val_accuracy: 0.8506 - 224ms/epoch - 11ms/step\n",
            "Epoch 478/500\n",
            "20/20 - 0s - loss: 0.3022 - accuracy: 0.8779 - val_loss: 0.4272 - val_accuracy: 0.8506 - 189ms/epoch - 9ms/step\n",
            "Epoch 479/500\n",
            "20/20 - 0s - loss: 0.3043 - accuracy: 0.8795 - val_loss: 0.4338 - val_accuracy: 0.8506 - 188ms/epoch - 9ms/step\n",
            "Epoch 480/500\n",
            "20/20 - 0s - loss: 0.3014 - accuracy: 0.8811 - val_loss: 0.4279 - val_accuracy: 0.8506 - 175ms/epoch - 9ms/step\n",
            "Epoch 481/500\n",
            "20/20 - 0s - loss: 0.3020 - accuracy: 0.8811 - val_loss: 0.4264 - val_accuracy: 0.8506 - 169ms/epoch - 8ms/step\n",
            "Epoch 482/500\n",
            "20/20 - 0s - loss: 0.3017 - accuracy: 0.8827 - val_loss: 0.4287 - val_accuracy: 0.8506 - 165ms/epoch - 8ms/step\n",
            "Epoch 483/500\n",
            "20/20 - 0s - loss: 0.3015 - accuracy: 0.8827 - val_loss: 0.4275 - val_accuracy: 0.8506 - 164ms/epoch - 8ms/step\n",
            "Epoch 484/500\n",
            "20/20 - 0s - loss: 0.3016 - accuracy: 0.8795 - val_loss: 0.4297 - val_accuracy: 0.8506 - 165ms/epoch - 8ms/step\n",
            "Epoch 485/500\n",
            "20/20 - 0s - loss: 0.3011 - accuracy: 0.8827 - val_loss: 0.4303 - val_accuracy: 0.8506 - 167ms/epoch - 8ms/step\n",
            "Epoch 486/500\n",
            "20/20 - 0s - loss: 0.3022 - accuracy: 0.8827 - val_loss: 0.4296 - val_accuracy: 0.8506 - 222ms/epoch - 11ms/step\n",
            "Epoch 487/500\n",
            "20/20 - 0s - loss: 0.3018 - accuracy: 0.8811 - val_loss: 0.4286 - val_accuracy: 0.8506 - 181ms/epoch - 9ms/step\n",
            "Epoch 488/500\n",
            "20/20 - 0s - loss: 0.3011 - accuracy: 0.8827 - val_loss: 0.4327 - val_accuracy: 0.8442 - 166ms/epoch - 8ms/step\n",
            "Epoch 489/500\n",
            "20/20 - 0s - loss: 0.3015 - accuracy: 0.8811 - val_loss: 0.4278 - val_accuracy: 0.8506 - 171ms/epoch - 9ms/step\n",
            "Epoch 490/500\n",
            "20/20 - 0s - loss: 0.3012 - accuracy: 0.8795 - val_loss: 0.4272 - val_accuracy: 0.8506 - 181ms/epoch - 9ms/step\n",
            "Epoch 491/500\n",
            "20/20 - 0s - loss: 0.3034 - accuracy: 0.8811 - val_loss: 0.4282 - val_accuracy: 0.8506 - 200ms/epoch - 10ms/step\n",
            "Epoch 492/500\n",
            "20/20 - 0s - loss: 0.3008 - accuracy: 0.8827 - val_loss: 0.4269 - val_accuracy: 0.8571 - 213ms/epoch - 11ms/step\n",
            "Epoch 493/500\n",
            "20/20 - 0s - loss: 0.3008 - accuracy: 0.8827 - val_loss: 0.4271 - val_accuracy: 0.8506 - 209ms/epoch - 10ms/step\n",
            "Epoch 494/500\n",
            "20/20 - 0s - loss: 0.3006 - accuracy: 0.8844 - val_loss: 0.4297 - val_accuracy: 0.8506 - 198ms/epoch - 10ms/step\n",
            "Epoch 495/500\n",
            "20/20 - 0s - loss: 0.3008 - accuracy: 0.8827 - val_loss: 0.4273 - val_accuracy: 0.8506 - 196ms/epoch - 10ms/step\n",
            "Epoch 496/500\n",
            "20/20 - 0s - loss: 0.3008 - accuracy: 0.8795 - val_loss: 0.4284 - val_accuracy: 0.8571 - 198ms/epoch - 10ms/step\n",
            "Epoch 497/500\n",
            "20/20 - 0s - loss: 0.3005 - accuracy: 0.8811 - val_loss: 0.4303 - val_accuracy: 0.8506 - 244ms/epoch - 12ms/step\n",
            "Epoch 498/500\n",
            "20/20 - 0s - loss: 0.3014 - accuracy: 0.8811 - val_loss: 0.4301 - val_accuracy: 0.8571 - 198ms/epoch - 10ms/step\n",
            "Epoch 499/500\n",
            "20/20 - 0s - loss: 0.3006 - accuracy: 0.8844 - val_loss: 0.4312 - val_accuracy: 0.8506 - 201ms/epoch - 10ms/step\n",
            "Epoch 500/500\n",
            "20/20 - 0s - loss: 0.3007 - accuracy: 0.8827 - val_loss: 0.4345 - val_accuracy: 0.8506 - 202ms/epoch - 10ms/step\n"
          ]
        }
      ],
      "source": [
        "history = model.fit(X_train, y_train, validation_data=(X_test, y_test), epochs=config['default'].getint('epochs'), verbose=2, callbacks=[WandbCallback(valdiation_data=(X_test, y_test), log_weights=True)])"
      ]
    },
    {
      "cell_type": "code",
      "execution_count": 9,
      "metadata": {},
      "outputs": [
        {
          "data": {
            "text/html": [
              "<div>\n",
              "<style scoped>\n",
              "    .dataframe tbody tr th:only-of-type {\n",
              "        vertical-align: middle;\n",
              "    }\n",
              "\n",
              "    .dataframe tbody tr th {\n",
              "        vertical-align: top;\n",
              "    }\n",
              "\n",
              "    .dataframe thead th {\n",
              "        text-align: right;\n",
              "    }\n",
              "</style>\n",
              "<table border=\"1\" class=\"dataframe\">\n",
              "  <thead>\n",
              "    <tr style=\"text-align: right;\">\n",
              "      <th></th>\n",
              "      <th>loss</th>\n",
              "      <th>accuracy</th>\n",
              "      <th>val_loss</th>\n",
              "      <th>val_accuracy</th>\n",
              "      <th>epoch</th>\n",
              "    </tr>\n",
              "  </thead>\n",
              "  <tbody>\n",
              "    <tr>\n",
              "      <th>495</th>\n",
              "      <td>0.300755</td>\n",
              "      <td>0.879479</td>\n",
              "      <td>0.428386</td>\n",
              "      <td>0.857143</td>\n",
              "      <td>495</td>\n",
              "    </tr>\n",
              "    <tr>\n",
              "      <th>496</th>\n",
              "      <td>0.300480</td>\n",
              "      <td>0.881108</td>\n",
              "      <td>0.430269</td>\n",
              "      <td>0.850649</td>\n",
              "      <td>496</td>\n",
              "    </tr>\n",
              "    <tr>\n",
              "      <th>497</th>\n",
              "      <td>0.301427</td>\n",
              "      <td>0.881108</td>\n",
              "      <td>0.430069</td>\n",
              "      <td>0.857143</td>\n",
              "      <td>497</td>\n",
              "    </tr>\n",
              "    <tr>\n",
              "      <th>498</th>\n",
              "      <td>0.300552</td>\n",
              "      <td>0.884365</td>\n",
              "      <td>0.431169</td>\n",
              "      <td>0.850649</td>\n",
              "      <td>498</td>\n",
              "    </tr>\n",
              "    <tr>\n",
              "      <th>499</th>\n",
              "      <td>0.300718</td>\n",
              "      <td>0.882736</td>\n",
              "      <td>0.434486</td>\n",
              "      <td>0.850649</td>\n",
              "      <td>499</td>\n",
              "    </tr>\n",
              "  </tbody>\n",
              "</table>\n",
              "</div>"
            ],
            "text/plain": [
              "         loss  accuracy  val_loss  val_accuracy  epoch\n",
              "495  0.300755  0.879479  0.428386      0.857143    495\n",
              "496  0.300480  0.881108  0.430269      0.850649    496\n",
              "497  0.301427  0.881108  0.430069      0.857143    497\n",
              "498  0.300552  0.884365  0.431169      0.850649    498\n",
              "499  0.300718  0.882736  0.434486      0.850649    499"
            ]
          },
          "execution_count": 9,
          "metadata": {},
          "output_type": "execute_result"
        }
      ],
      "source": [
        "hist = pd.DataFrame(history.history)\n",
        "hist['epoch'] = history.epoch\n",
        "hist.tail()"
      ]
    },
    {
      "cell_type": "markdown",
      "metadata": {},
      "source": []
    },
    {
      "attachments": {},
      "cell_type": "markdown",
      "metadata": {},
      "source": [
        "At the end, we calculate training and validation accuracy."
      ]
    },
    {
      "cell_type": "code",
      "execution_count": 10,
      "metadata": {},
      "outputs": [
        {
          "name": "stdout",
          "output_type": "stream",
          "text": [
            "Training Accuracy = 88.18% and Validation Accuracy = 85.32%\n"
          ]
        }
      ],
      "source": [
        "acc = (hist['accuracy'].tail().sum())*100/5 \n",
        "val_acc = (hist['val_accuracy'].tail().sum())*100/5 \n",
        "\n",
        "print(\"Training Accuracy = {}% and Validation Accuracy = {}%\".format(round(acc, 2), round(val_acc, 2)))"
      ]
    },
    {
      "cell_type": "code",
      "execution_count": 11,
      "metadata": {},
      "outputs": [
        {
          "name": "stdout",
          "output_type": "stream",
          "text": [
            "INFO:tensorflow:Assets written to: models/model_tf.pth/assets\n"
          ]
        },
        {
          "data": {
            "text/html": [
              "Waiting for W&B process to finish... <strong style=\"color:green\">(success).</strong>"
            ],
            "text/plain": [
              "<IPython.core.display.HTML object>"
            ]
          },
          "metadata": {},
          "output_type": "display_data"
        },
        {
          "data": {
            "text/html": [
              "<style>\n",
              "    table.wandb td:nth-child(1) { padding: 0 10px; text-align: left ; width: auto;} td:nth-child(2) {text-align: left ; width: 100%}\n",
              "    .wandb-row { display: flex; flex-direction: row; flex-wrap: wrap; justify-content: flex-start; width: 100% }\n",
              "    .wandb-col { display: flex; flex-direction: column; flex-basis: 100%; flex: 1; padding: 10px; }\n",
              "    </style>\n",
              "<div class=\"wandb-row\"><div class=\"wandb-col\"><h3>Run history:</h3><br/><table class=\"wandb\"><tr><td>accuracy</td><td>▁▁▁▁▅▅▅▅▆▆▆▆▆▇▇▇▇▇▇▇▇▇██████████████████</td></tr><tr><td>epoch</td><td>▁▁▁▂▂▂▂▂▂▃▃▃▃▃▄▄▄▄▄▄▅▅▅▅▅▅▆▆▆▆▆▇▇▇▇▇▇███</td></tr><tr><td>loss</td><td>█▇▆▅▄▄▄▃▃▃▃▃▃▂▂▂▂▂▂▂▂▂▂▁▁▁▁▁▁▁▁▁▁▁▁▁▁▁▁▁</td></tr><tr><td>val_accuracy</td><td>▁▁▁▁▅▅▆▆▆▆▇▆▇▇▇█████████████████▇▇██████</td></tr><tr><td>val_loss</td><td>█▇▅▄▄▃▃▃▂▂▂▂▂▂▁▁▁▁▁▁▁▁▁▁▁▁▁▁▁▁▁▁▁▁▁▂▁▁▂▂</td></tr></table><br/></div><div class=\"wandb-col\"><h3>Run summary:</h3><br/><table class=\"wandb\"><tr><td>accuracy</td><td>0.88274</td></tr><tr><td>best_epoch</td><td>281</td></tr><tr><td>best_val_loss</td><td>0.40483</td></tr><tr><td>epoch</td><td>499</td></tr><tr><td>loss</td><td>0.30072</td></tr><tr><td>val_accuracy</td><td>0.85065</td></tr><tr><td>val_loss</td><td>0.43449</td></tr></table><br/></div></div>"
            ],
            "text/plain": [
              "<IPython.core.display.HTML object>"
            ]
          },
          "metadata": {},
          "output_type": "display_data"
        },
        {
          "data": {
            "text/html": [
              " View run <strong style=\"color:#cdcd00\">lr-scheduler-adam-bce</strong> at: <a href='https://wandb.ai/nsiete-hrnciar-katkovcin/basic-nn-tensorflow/runs/lr-scheduler-adam-bce' target=\"_blank\">https://wandb.ai/nsiete-hrnciar-katkovcin/basic-nn-tensorflow/runs/lr-scheduler-adam-bce</a><br/>Synced 6 W&B file(s), 0 media file(s), 600 artifact file(s) and 1 other file(s)"
            ],
            "text/plain": [
              "<IPython.core.display.HTML object>"
            ]
          },
          "metadata": {},
          "output_type": "display_data"
        },
        {
          "data": {
            "text/html": [
              "Find logs at: <code>./wandb/run-20230329_001550-lr-scheduler-adam-bce/logs</code>"
            ],
            "text/plain": [
              "<IPython.core.display.HTML object>"
            ]
          },
          "metadata": {},
          "output_type": "display_data"
        }
      ],
      "source": [
        "tf.keras.models.save_model(model, \"models/model_tf.pth\")\n",
        "wandb.save('runs/pima_run_2023-03-28-tf-adam-bce')\n",
        "wandb.finish()"
      ]
    },
    {
      "cell_type": "code",
      "execution_count": null,
      "metadata": {},
      "outputs": [],
      "source": []
    }
  ],
  "metadata": {
    "accelerator": "GPU",
    "colab": {
      "provenance": []
    },
    "gpuClass": "standard",
    "kernelspec": {
      "display_name": "Python 3",
      "name": "python3"
    },
    "language_info": {
      "codemirror_mode": {
        "name": "ipython",
        "version": 3
      },
      "file_extension": ".py",
      "mimetype": "text/x-python",
      "name": "python",
      "nbconvert_exporter": "python",
      "pygments_lexer": "ipython3",
      "version": "3.8.13"
    }
  },
  "nbformat": 4,
  "nbformat_minor": 0
}
