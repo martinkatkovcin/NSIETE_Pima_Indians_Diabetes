{
 "cells": [
  {
   "cell_type": "code",
   "execution_count": null,
   "metadata": {
    "collapsed": true
   },
   "outputs": [],
   "source": [
    "import numpy as np\n",
    "import pandas as pd\n",
    "\n",
    "import plotly.express as px\n",
    "import plotly.graph_objects as go\n",
    "import plotly.figure_factory as ff\n",
    "\n",
    "from sklearn.preprocessing import MinMaxScaler\n",
    "from sklearn.model_selection import train_test_split\n",
    "\n",
    "import wandb\n",
    "import torch\n",
    "from torch import nn\n",
    "from torch.utils.data import DataLoader\n",
    "\n",
    "print(torch.__version__)\n",
    "print(torch.backends.mps.is_available())"
   ]
  },
  {
   "cell_type": "code",
   "execution_count": null,
   "metadata": {
    "collapsed": false
   },
   "outputs": [],
   "source": [
    "df = pd.read_csv('data/pima-indians-diabetes-data.csv')\n",
    "df.info()"
   ]
  },
  {
   "cell_type": "code",
   "execution_count": null,
   "metadata": {},
   "outputs": [],
   "source": [
    "fig = go.Figure()\n",
    "fig.add_bar(y=df.Outcome.value_counts(), x=['Healthy', 'Diabetic'], \n",
    "            marker_color=['lightskyblue', 'indigo'])\n",
    "fig.update_layout(title='Distribution of outcome')"
   ]
  },
  {
   "cell_type": "code",
   "execution_count": null,
   "metadata": {
    "collapsed": false
   },
   "outputs": [],
   "source": [
    "px.box(df)"
   ]
  },
  {
   "cell_type": "code",
   "execution_count": null,
   "metadata": {
    "collapsed": false
   },
   "outputs": [],
   "source": [
    "df[df[['Glucose', 'BloodPressure', 'SkinThickness', 'Insulin', 'BMI', 'DiabetesPedigreeFunction', 'Age']].eq(0).any(axis=1)]"
   ]
  },
  {
   "cell_type": "code",
   "execution_count": null,
   "metadata": {},
   "outputs": [],
   "source": [
    "df[['Glucose', 'BloodPressure', 'SkinThickness', 'Insulin', 'BMI', 'DiabetesPedigreeFunction', 'Age']].agg(lambda x: x.eq(0).sum())"
   ]
  },
  {
   "cell_type": "code",
   "execution_count": null,
   "metadata": {},
   "outputs": [],
   "source": [
    "df_zeroes = df.copy()\n",
    "\n",
    "df[['Glucose', 'BloodPressure', 'SkinThickness', 'Insulin', 'BMI', 'DiabetesPedigreeFunction', 'Age']] = df[['Glucose', 'BloodPressure', 'SkinThickness', 'Insulin', 'BMI', 'DiabetesPedigreeFunction', 'Age']].replace(0, np.nan)\n",
    "df"
   ]
  },
  {
   "attachments": {},
   "cell_type": "markdown",
   "metadata": {},
   "source": [
    "## Imputation of missing values"
   ]
  },
  {
   "cell_type": "code",
   "execution_count": null,
   "metadata": {},
   "outputs": [],
   "source": [
    "def find_median(data, var):\n",
    "    temp = data[data[var].notnull()]\n",
    "    temp = data[[var,'Outcome']].groupby('Outcome')[[var]].median().reset_index()\n",
    "    \n",
    "    return temp\n",
    "\n",
    "def create_distplot(data, var):\n",
    "    hist = [data.loc[(data.Outcome == 0), var], data.loc[(data.Outcome == 1), var]]\n",
    "\n",
    "    fig = ff.create_distplot(hist, ['Healthy', 'Diabetes'], colors=['lightskyblue', 'indigo'], show_hist=True, bin_size=0, curve_type='kde')\n",
    "    fig.update_layout(title=var)\n",
    "\n",
    "    return fig"
   ]
  },
  {
   "attachments": {},
   "cell_type": "markdown",
   "metadata": {},
   "source": [
    "### Glucose"
   ]
  },
  {
   "cell_type": "code",
   "execution_count": null,
   "metadata": {},
   "outputs": [],
   "source": [
    "create_distplot(df_zeroes, 'Glucose').show()\n",
    "\n",
    "find_median(df, 'Glucose')"
   ]
  },
  {
   "cell_type": "code",
   "execution_count": null,
   "metadata": {},
   "outputs": [],
   "source": [
    "df.loc[(df.Outcome == 0) & (df.Glucose.isnull()), 'Glucose'] = 107.0\n",
    "df.loc[(df.Outcome == 1) & (df.Glucose.isnull()), 'Glucose'] = 140.0\n",
    "\n",
    "create_distplot(df, 'Glucose')"
   ]
  },
  {
   "attachments": {},
   "cell_type": "markdown",
   "metadata": {},
   "source": [
    "### BloodPressure"
   ]
  },
  {
   "cell_type": "code",
   "execution_count": null,
   "metadata": {},
   "outputs": [],
   "source": [
    "create_distplot(df_zeroes, 'BloodPressure').show()\n",
    "\n",
    "find_median(df, 'BloodPressure')"
   ]
  },
  {
   "cell_type": "code",
   "execution_count": null,
   "metadata": {},
   "outputs": [],
   "source": [
    "df.loc[(df.Outcome == 0) & (df.BloodPressure.isnull()), 'BloodPressure'] = 70.0\n",
    "df.loc[(df.Outcome == 1) & (df.BloodPressure.isnull()), 'BloodPressure'] = 74.5\n",
    "\n",
    "create_distplot(df, 'BloodPressure')"
   ]
  },
  {
   "attachments": {},
   "cell_type": "markdown",
   "metadata": {},
   "source": [
    "### SkinThickness"
   ]
  },
  {
   "cell_type": "code",
   "execution_count": null,
   "metadata": {},
   "outputs": [],
   "source": [
    "create_distplot(df_zeroes, 'SkinThickness').show()\n",
    "\n",
    "find_median(df, 'SkinThickness')"
   ]
  },
  {
   "cell_type": "code",
   "execution_count": null,
   "metadata": {},
   "outputs": [],
   "source": [
    "df.loc[(df.Outcome == 0) & (df.SkinThickness.isnull()), 'SkinThickness'] = 27.0\n",
    "df.loc[(df.Outcome == 1) & (df.SkinThickness.isnull()), 'SkinThickness'] = 32.0\n",
    "\n",
    "create_distplot(df, 'SkinThickness')"
   ]
  },
  {
   "cell_type": "markdown",
   "metadata": {},
   "source": [
    "### Insulin"
   ]
  },
  {
   "cell_type": "code",
   "execution_count": null,
   "metadata": {},
   "outputs": [],
   "source": [
    "create_distplot(df_zeroes, 'Insulin').show()\n",
    "\n",
    "find_median(df, 'Insulin')"
   ]
  },
  {
   "cell_type": "code",
   "execution_count": null,
   "metadata": {},
   "outputs": [],
   "source": [
    "df.loc[(df.Outcome == 0) & (df.Insulin.isnull()), 'Insulin'] = 102.5\n",
    "df.loc[(df.Outcome == 1) & (df.Insulin.isnull()), 'Insulin'] = 169.5\n",
    "\n",
    "create_distplot(df, 'Insulin')"
   ]
  },
  {
   "attachments": {},
   "cell_type": "markdown",
   "metadata": {},
   "source": [
    "### BMI"
   ]
  },
  {
   "cell_type": "code",
   "execution_count": null,
   "metadata": {},
   "outputs": [],
   "source": [
    "create_distplot(df_zeroes, 'BMI').show()\n",
    "\n",
    "find_median(df, 'BMI')"
   ]
  },
  {
   "cell_type": "code",
   "execution_count": null,
   "metadata": {},
   "outputs": [],
   "source": [
    "df.loc[(df.Outcome == 0) & (df.BMI.isnull()), 'BMI'] = 30.1\n",
    "df.loc[(df.Outcome == 1) & (df.BMI.isnull()), 'BMI'] = 34.3\n",
    "\n",
    "create_distplot(df, 'BMI')"
   ]
  },
  {
   "cell_type": "code",
   "execution_count": null,
   "metadata": {},
   "outputs": [],
   "source": [
    "df[['Glucose', 'BloodPressure', 'SkinThickness', 'Insulin', 'BMI', 'DiabetesPedigreeFunction', 'Age']].agg(lambda x: x.isna().sum())"
   ]
  },
  {
   "cell_type": "code",
   "execution_count": null,
   "metadata": {},
   "outputs": [],
   "source": [
    "px.box(df)"
   ]
  },
  {
   "cell_type": "code",
   "execution_count": null,
   "metadata": {},
   "outputs": [],
   "source": [
    "fig = go.Figure()\n",
    "fig.add_heatmap(z=df.corr().round(4), x=df.columns, y=df.columns,\n",
    "                text=df.corr().round(4),\n",
    "                texttemplate=\"%{text}\",\n",
    "                colorscale=px.colors.diverging.RdBu,\n",
    "                zmin=-1, zmax=1)\n",
    "fig.update_layout(width=1000, height=1000)"
   ]
  },
  {
   "cell_type": "code",
   "execution_count": null,
   "metadata": {},
   "outputs": [],
   "source": [
    "def create_scatter(data, var1, var2):\n",
    "    plot1 = [data.loc[(data.Outcome == 0), var1], data.loc[(data.Outcome == 1), var1]]\n",
    "    plot2 = [data.loc[(data.Outcome == 0), var2], data.loc[(data.Outcome == 1), var2]]\n",
    "\n",
    "    fig = go.Figure()\n",
    "\n",
    "    fig.add_scatter(x=plot1[0], y=plot2[0], mode='markers', marker_color='lightskyblue', name='Healthy')\n",
    "    fig.add_scatter(x=plot1[1], y=plot2[1], mode='markers', marker_color='indigo', name='Diabetic')\n",
    "\n",
    "    fig.update_layout(width=1000, height=600,\n",
    "                      title=f'Scatter of {var1} and {var2}',\n",
    "                      xaxis_title=var1,\n",
    "                      yaxis_title=var2)\n",
    "    \n",
    "    return fig"
   ]
  },
  {
   "cell_type": "code",
   "execution_count": null,
   "metadata": {},
   "outputs": [],
   "source": [
    "create_scatter(df, 'Glucose', 'Insulin')"
   ]
  },
  {
   "cell_type": "code",
   "execution_count": null,
   "metadata": {},
   "outputs": [],
   "source": [
    "create_scatter(df, 'Pregnancies', 'Age')"
   ]
  },
  {
   "cell_type": "code",
   "execution_count": null,
   "metadata": {},
   "outputs": [],
   "source": [
    "create_scatter(df, 'BMI', 'SkinThickness')"
   ]
  },
  {
   "cell_type": "code",
   "execution_count": null,
   "metadata": {},
   "outputs": [],
   "source": [
    "create_scatter(df, 'Glucose', 'Outcome')"
   ]
  },
  {
   "cell_type": "code",
   "execution_count": null,
   "metadata": {},
   "outputs": [],
   "source": [
    "def to_tensor(X_train, X_test, y_train, y_test):\n",
    "    X_train = torch.from_numpy(X_train.values).float()\n",
    "    X_test = torch.from_numpy(X_test.values).float()\n",
    "    y_train = torch.from_numpy(y_train.values).float()\n",
    "    y_test = torch.from_numpy(y_test.values).float()\n",
    "\n",
    "    return X_train, X_test, y_train, y_test\n",
    "\n",
    "\n",
    "X, y = df.copy().drop('Outcome', axis=1), df.Outcome\n",
    "X_train, X_test, y_train, y_test = to_tensor(*train_test_split(X, y, test_size=0.3))\n",
    "print(X_train, y_train)"
   ]
  },
  {
   "cell_type": "code",
   "execution_count": null,
   "metadata": {},
   "outputs": [],
   "source": [
    "class NeuralNetwork(nn.Module):\n",
    "    def __init__(self):\n",
    "        super().__init__()\n",
    "        self.linear_relu_stack = nn.Sequential(\n",
    "            nn.Linear(8, 16),\n",
    "            nn.ReLU(),\n",
    "            nn.Linear(16, 8),\n",
    "            nn.ReLU(),\n",
    "            nn.Linear(8, 4),\n",
    "            nn.ReLU(),\n",
    "            nn.Linear(4, 1),\n",
    "            nn.Sigmoid()\n",
    "        )\n",
    "\n",
    "    def forward(self, x):\n",
    "        logits = self.linear_relu_stack(x)\n",
    "        return logits\n",
    "\n",
    "model = NeuralNetwork().to('mps')\n",
    "print(model)\n",
    "\n",
    "loss_fn = nn.CrossEntropyLoss()\n",
    "optimizer = torch.optim.RMSprop(model.parameters())"
   ]
  },
  {
   "cell_type": "code",
   "execution_count": null,
   "metadata": {},
   "outputs": [],
   "source": [
    "def train(X, y, model, loss_fn, optimizer, i):\n",
    "    model.train()\n",
    "\n",
    "    X, y = X.to('mps'), y.to('mps')\n",
    "\n",
    "    # Compute prediction error\n",
    "    pred = model(X)\n",
    "    loss = loss_fn(pred, y)\n",
    "\n",
    "    # Backpropagation\n",
    "    optimizer.zero_grad()\n",
    "    loss.backward()\n",
    "    optimizer.step()\n",
    "\n",
    "    if i % 100 == 0:\n",
    "        print(f\"loss: {loss.item():>7f}\")\n",
    "\n",
    "\n",
    "def test(X, y, model, loss_fn, i):\n",
    "    model.eval()\n",
    "\n",
    "    test_loss, correct = 0, 0\n",
    "\n",
    "    X, y = X.to('mps'), y.to('mps')\n",
    "    pred = model(X)\n",
    "    test_loss += loss_fn(pred, y).item()\n",
    "    correct += (pred.argmax(1) == y).type(torch.float).sum().item()\n",
    "\n",
    "    correct /= X.shape[0]\n",
    "\n",
    "    if i % 100:\n",
    "        print(f\"Test Error: \\n Accuracy: {(100*correct):>0.1f}%, Avg loss: {test_loss:>8f} \\n\")\n",
    "\n",
    "\n",
    "epochs = 1000\n",
    "for t in range(epochs):\n",
    "    if t % 100:\n",
    "        print(f\"Epoch {t+1}\\n-------------------------------\")\n",
    "\n",
    "    train(X_train, y_train, model, loss_fn, optimizer, t)\n",
    "    test(X_test, y_test, model, loss_fn, t)\n",
    "\n",
    "print(\"Done!\")"
   ]
  },
  {
   "cell_type": "code",
   "execution_count": null,
   "metadata": {},
   "outputs": [],
   "source": []
  }
 ],
 "metadata": {
  "kernelspec": {
   "display_name": "Python 3",
   "language": "python",
   "name": "python3"
  },
  "language_info": {
   "codemirror_mode": {
    "name": "ipython",
    "version": 3
   },
   "file_extension": ".py",
   "mimetype": "text/x-python",
   "name": "python",
   "nbconvert_exporter": "python",
   "pygments_lexer": "ipython3",
   "version": "3.9.13"
  }
 },
 "nbformat": 4,
 "nbformat_minor": 0
}
